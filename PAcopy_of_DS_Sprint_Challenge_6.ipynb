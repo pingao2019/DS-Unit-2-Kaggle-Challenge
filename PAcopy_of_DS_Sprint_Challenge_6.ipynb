{
 "cells": [
  {
   "cell_type": "markdown",
   "metadata": {
    "colab_type": "text",
    "id": "view-in-github"
   },
   "source": [
    "<a href=\"https://colab.research.google.com/github/pingao2019/DS-Unit-2-Kaggle-Challenge/blob/master/PAcopy_of_DS_Sprint_Challenge_6.ipynb\" target=\"_parent\"><img src=\"https://colab.research.google.com/assets/colab-badge.svg\" alt=\"Open In Colab\"/></a>"
   ]
  },
  {
   "cell_type": "markdown",
   "metadata": {
    "colab_type": "text",
    "id": "M3XH_XLsy_Bn"
   },
   "source": [
    "_Lambda School Data Science, Unit 2_\n",
    " \n",
    "# Sprint Challenge: Predict Steph Curry's shots 🏀\n",
    "\n",
    "For your Sprint Challenge, you'll use a dataset with all Steph Curry's NBA field goal attempts. (Regular season and playoff games, from October 28, 2009, through June 5, 2019.) \n",
    "\n",
    "You'll predict whether each shot was made, using information about the shot and the game. This is hard to predict! Try to get above 60% accuracy. The dataset was collected with the [nba_api](https://github.com/swar/nba_api) Python library."
   ]
  },
  {
   "cell_type": "code",
   "execution_count": 0,
   "metadata": {
    "colab": {},
    "colab_type": "code",
    "id": "kxFJuykD9PeY"
   },
   "outputs": [],
   "source": [
    "import numpy as np\n",
    "import pandas as pd\n",
    "\n",
    "import matplotlib as mpl\n",
    "from matplotlib import pyplot as plt\n",
    "from matplotlib import cm\n",
    "from sklearn.linear_model import LinearRegression\n",
    "                                                  \n",
    "import category_encoders as ce\n",
    "from sklearn.impute import SimpleImputer\n",
    "from sklearn.linear_model import LogisticRegressionCV\n",
    "from sklearn.preprocessing import StandardScaler\n",
    "\n",
    "# TODO\n",
    "import category_encoders as ce\n",
    "#encoder = ce.OneHotEncoder(use_cat_names=True)\n",
    "#X_train = encoder.fit_transform(X_train)"
   ]
  },
  {
   "cell_type": "code",
   "execution_count": 0,
   "metadata": {
    "colab": {},
    "colab_type": "code",
    "id": "Nw3CL7TE7tNq"
   },
   "outputs": [],
   "source": [
    "%%capture\n",
    "import sys\n",
    "\n",
    "if 'google.colab' in sys.modules:\n",
    "    # Install packages in Colab\n",
    "    !pip install category_encoders==2.*\n",
    "    !pip install pandas-profiling==2.*"
   ]
  },
  {
   "cell_type": "code",
   "execution_count": 0,
   "metadata": {
    "colab": {},
    "colab_type": "code",
    "id": "-Nm24pCHy_Bo"
   },
   "outputs": [],
   "source": [
    "# Read data\n",
    "import pandas as pd\n",
    "url = 'https://drive.google.com/uc?export=download&id=1fL7KPyxgGYfQDsuJoBWHIWwCAf-HTFpX'\n",
    "df = pd.read_csv(url)\n",
    "\n",
    "# Check data shape\n",
    "assert df.shape == (13958, 20)"
   ]
  },
  {
   "cell_type": "code",
   "execution_count": 0,
   "metadata": {
    "colab": {
     "base_uri": "https://localhost:8080/",
     "height": 309
    },
    "colab_type": "code",
    "id": "K39r1p1Bgg10",
    "outputId": "7abb513c-e5f5-4590-91bd-b8b2adacc8ea"
   },
   "outputs": [
    {
     "data": {
      "text/html": [
       "<div>\n",
       "<style scoped>\n",
       "    .dataframe tbody tr th:only-of-type {\n",
       "        vertical-align: middle;\n",
       "    }\n",
       "\n",
       "    .dataframe tbody tr th {\n",
       "        vertical-align: top;\n",
       "    }\n",
       "\n",
       "    .dataframe thead th {\n",
       "        text-align: right;\n",
       "    }\n",
       "</style>\n",
       "<table border=\"1\" class=\"dataframe\">\n",
       "  <thead>\n",
       "    <tr style=\"text-align: right;\">\n",
       "      <th></th>\n",
       "      <th>game_id</th>\n",
       "      <th>game_event_id</th>\n",
       "      <th>player_name</th>\n",
       "      <th>period</th>\n",
       "      <th>minutes_remaining</th>\n",
       "      <th>seconds_remaining</th>\n",
       "      <th>action_type</th>\n",
       "      <th>shot_type</th>\n",
       "      <th>shot_zone_basic</th>\n",
       "      <th>shot_zone_area</th>\n",
       "      <th>shot_zone_range</th>\n",
       "      <th>shot_distance</th>\n",
       "      <th>loc_x</th>\n",
       "      <th>loc_y</th>\n",
       "      <th>shot_made_flag</th>\n",
       "      <th>game_date</th>\n",
       "      <th>htm</th>\n",
       "      <th>vtm</th>\n",
       "      <th>season_type</th>\n",
       "      <th>scoremargin_before_shot</th>\n",
       "    </tr>\n",
       "  </thead>\n",
       "  <tbody>\n",
       "    <tr>\n",
       "      <th>0</th>\n",
       "      <td>20900015</td>\n",
       "      <td>4</td>\n",
       "      <td>Stephen Curry</td>\n",
       "      <td>1</td>\n",
       "      <td>11</td>\n",
       "      <td>25</td>\n",
       "      <td>Jump Shot</td>\n",
       "      <td>3PT Field Goal</td>\n",
       "      <td>Above the Break 3</td>\n",
       "      <td>Right Side Center(RC)</td>\n",
       "      <td>24+ ft.</td>\n",
       "      <td>26</td>\n",
       "      <td>99</td>\n",
       "      <td>249</td>\n",
       "      <td>0</td>\n",
       "      <td>2009-10-28</td>\n",
       "      <td>GSW</td>\n",
       "      <td>HOU</td>\n",
       "      <td>Regular Season</td>\n",
       "      <td>2.0</td>\n",
       "    </tr>\n",
       "    <tr>\n",
       "      <th>1</th>\n",
       "      <td>20900015</td>\n",
       "      <td>17</td>\n",
       "      <td>Stephen Curry</td>\n",
       "      <td>1</td>\n",
       "      <td>9</td>\n",
       "      <td>31</td>\n",
       "      <td>Step Back Jump shot</td>\n",
       "      <td>2PT Field Goal</td>\n",
       "      <td>Mid-Range</td>\n",
       "      <td>Left Side Center(LC)</td>\n",
       "      <td>16-24 ft.</td>\n",
       "      <td>18</td>\n",
       "      <td>-122</td>\n",
       "      <td>145</td>\n",
       "      <td>1</td>\n",
       "      <td>2009-10-28</td>\n",
       "      <td>GSW</td>\n",
       "      <td>HOU</td>\n",
       "      <td>Regular Season</td>\n",
       "      <td>0.0</td>\n",
       "    </tr>\n",
       "    <tr>\n",
       "      <th>2</th>\n",
       "      <td>20900015</td>\n",
       "      <td>53</td>\n",
       "      <td>Stephen Curry</td>\n",
       "      <td>1</td>\n",
       "      <td>6</td>\n",
       "      <td>2</td>\n",
       "      <td>Jump Shot</td>\n",
       "      <td>2PT Field Goal</td>\n",
       "      <td>In The Paint (Non-RA)</td>\n",
       "      <td>Center(C)</td>\n",
       "      <td>8-16 ft.</td>\n",
       "      <td>14</td>\n",
       "      <td>-60</td>\n",
       "      <td>129</td>\n",
       "      <td>0</td>\n",
       "      <td>2009-10-28</td>\n",
       "      <td>GSW</td>\n",
       "      <td>HOU</td>\n",
       "      <td>Regular Season</td>\n",
       "      <td>-4.0</td>\n",
       "    </tr>\n",
       "    <tr>\n",
       "      <th>3</th>\n",
       "      <td>20900015</td>\n",
       "      <td>141</td>\n",
       "      <td>Stephen Curry</td>\n",
       "      <td>2</td>\n",
       "      <td>9</td>\n",
       "      <td>49</td>\n",
       "      <td>Jump Shot</td>\n",
       "      <td>2PT Field Goal</td>\n",
       "      <td>Mid-Range</td>\n",
       "      <td>Left Side(L)</td>\n",
       "      <td>16-24 ft.</td>\n",
       "      <td>19</td>\n",
       "      <td>-172</td>\n",
       "      <td>82</td>\n",
       "      <td>0</td>\n",
       "      <td>2009-10-28</td>\n",
       "      <td>GSW</td>\n",
       "      <td>HOU</td>\n",
       "      <td>Regular Season</td>\n",
       "      <td>-4.0</td>\n",
       "    </tr>\n",
       "    <tr>\n",
       "      <th>4</th>\n",
       "      <td>20900015</td>\n",
       "      <td>249</td>\n",
       "      <td>Stephen Curry</td>\n",
       "      <td>2</td>\n",
       "      <td>2</td>\n",
       "      <td>19</td>\n",
       "      <td>Jump Shot</td>\n",
       "      <td>2PT Field Goal</td>\n",
       "      <td>Mid-Range</td>\n",
       "      <td>Left Side Center(LC)</td>\n",
       "      <td>16-24 ft.</td>\n",
       "      <td>16</td>\n",
       "      <td>-68</td>\n",
       "      <td>148</td>\n",
       "      <td>0</td>\n",
       "      <td>2009-10-28</td>\n",
       "      <td>GSW</td>\n",
       "      <td>HOU</td>\n",
       "      <td>Regular Season</td>\n",
       "      <td>0.0</td>\n",
       "    </tr>\n",
       "  </tbody>\n",
       "</table>\n",
       "</div>"
      ],
      "text/plain": [
       "    game_id  game_event_id  ...     season_type  scoremargin_before_shot\n",
       "0  20900015              4  ...  Regular Season                      2.0\n",
       "1  20900015             17  ...  Regular Season                      0.0\n",
       "2  20900015             53  ...  Regular Season                     -4.0\n",
       "3  20900015            141  ...  Regular Season                     -4.0\n",
       "4  20900015            249  ...  Regular Season                      0.0\n",
       "\n",
       "[5 rows x 20 columns]"
      ]
     },
     "execution_count": 3,
     "metadata": {
      "tags": []
     },
     "output_type": "execute_result"
    }
   ],
   "source": [
    "df.head()\n"
   ]
  },
  {
   "cell_type": "code",
   "execution_count": 0,
   "metadata": {
    "colab": {
     "base_uri": "https://localhost:8080/",
     "height": 34
    },
    "colab_type": "code",
    "id": "uDr_oaPftn2y",
    "outputId": "3a52cecb-3142-4eb4-f5a2-35144f1e85e0"
   },
   "outputs": [
    {
     "data": {
      "text/plain": [
       "(13958, 21)"
      ]
     },
     "execution_count": 38,
     "metadata": {
      "tags": []
     },
     "output_type": "execute_result"
    }
   ],
   "source": [
    "df.shape"
   ]
  },
  {
   "cell_type": "code",
   "execution_count": 0,
   "metadata": {
    "colab": {
     "base_uri": "https://localhost:8080/",
     "height": 374
    },
    "colab_type": "code",
    "id": "SEtoCTy6lM73",
    "outputId": "a3c442c7-3f25-45df-bbd5-9ec683a7dec6"
   },
   "outputs": [
    {
     "data": {
      "text/plain": [
       "game_id                    0\n",
       "game_event_id              0\n",
       "player_name                0\n",
       "period                     0\n",
       "minutes_remaining          0\n",
       "seconds_remaining          0\n",
       "action_type                0\n",
       "shot_type                  0\n",
       "shot_zone_basic            0\n",
       "shot_zone_area             0\n",
       "shot_zone_range            0\n",
       "shot_distance              0\n",
       "loc_x                      0\n",
       "loc_y                      0\n",
       "shot_made_flag             0\n",
       "game_date                  0\n",
       "htm                        0\n",
       "vtm                        0\n",
       "season_type                0\n",
       "scoremargin_before_shot    0\n",
       "dtype: int64"
      ]
     },
     "execution_count": 6,
     "metadata": {
      "tags": []
     },
     "output_type": "execute_result"
    }
   ],
   "source": [
    "df.isnull().sum()"
   ]
  },
  {
   "cell_type": "code",
   "execution_count": 0,
   "metadata": {
    "colab": {
     "base_uri": "https://localhost:8080/",
     "height": 357
    },
    "colab_type": "code",
    "id": "1MDsBIYVlvdW",
    "outputId": "b1a16ea4-5037-4ce4-c65c-3e0f57b5a426"
   },
   "outputs": [
    {
     "data": {
      "text/plain": [
       "['game_id',\n",
       " 'game_event_id',\n",
       " 'player_name',\n",
       " 'period',\n",
       " 'minutes_remaining',\n",
       " 'seconds_remaining',\n",
       " 'action_type',\n",
       " 'shot_type',\n",
       " 'shot_zone_basic',\n",
       " 'shot_zone_area',\n",
       " 'shot_zone_range',\n",
       " 'shot_distance',\n",
       " 'loc_x',\n",
       " 'loc_y',\n",
       " 'shot_made_flag',\n",
       " 'game_date',\n",
       " 'htm',\n",
       " 'vtm',\n",
       " 'season_type',\n",
       " 'scoremargin_before_shot']"
      ]
     },
     "execution_count": 3,
     "metadata": {
      "tags": []
     },
     "output_type": "execute_result"
    }
   ],
   "source": [
    "df.columns.to_list()"
   ]
  },
  {
   "cell_type": "code",
   "execution_count": 0,
   "metadata": {
    "colab": {},
    "colab_type": "code",
    "id": "CC8kRrGbly70"
   },
   "outputs": [],
   "source": [
    "df=df.drop(['game_event_id',\n",
    " 'player_name', 'shot_zone_range'], axis=1)"
   ]
  },
  {
   "cell_type": "markdown",
   "metadata": {
    "colab_type": "text",
    "id": "B8BvDKLFy_Bq"
   },
   "source": [
    "To demonstrate mastery on your Sprint Challenge, do all the required, numbered instructions in this notebook.\n",
    "\n",
    "To earn a score of \"3\", also do all the stretch goals.\n",
    "\n",
    "You are permitted and encouraged to do as much data exploration as you want.\n",
    "\n",
    "**1. Begin with baselines for classification.** Your target to predict is `shot_made_flag`. What is your baseline accuracy, if you guessed the majority class for every prediction?\n",
    "\n",
    "**2. Hold out your test set.** Use the 2018-19 season to test. NBA seasons begin in October and end in June. You'll know you've split the data correctly when your test set has 1,709 observations.\n",
    "\n",
    "**3. Engineer new feature.** Engineer at least **1** new feature, from this list, or your own idea.\n",
    "- **Homecourt Advantage**: Is the home team (`htm`) the Golden State Warriors (`GSW`) ?\n",
    "- **Opponent**: Who is the other team playing the Golden State Warriors?\n",
    "- **Seconds remaining in the period**: Combine minutes remaining with seconds remaining, to get the total number of seconds remaining in the period.\n",
    "- **Seconds remaining in the game**: Combine period, and seconds remaining in the period, to get the total number of seconds remaining in the game. A basketball game has 4 periods, each 12 minutes long.\n",
    "- **Made previous shot**: Was Steph Curry's previous shot successful?\n",
    "\n",
    "**4. Decide how to validate** your model. Choose one of the following options. Any of these options are good. You are not graded on which you choose.\n",
    "- **Train/validate/test split: train on the 2009-10 season through 2016-17 season, validate with the 2017-18 season.** You'll know you've split the data correctly when your train set has 11,081 observations, and your validation set has 1,168 observations.\n",
    "- **Train/validate/test split: random 80/20%** train/validate split.\n",
    "- **Cross-validation** with independent test set. You may use any scikit-learn cross-validation method.\n",
    "\n",
    "**5.** Use a scikit-learn **pipeline** to **encode categoricals** and fit a **Decision Tree** or **Random Forest** model.\n",
    "\n",
    "**6.** Get your model's **validation accuracy.** (Multiple times if you try multiple iterations.) \n",
    "\n",
    "**7.** Get your model's **test accuracy.** (One time, at the end.)\n",
    "\n",
    "\n",
    "**8.** Given a **confusion matrix** for a hypothetical binary classification model, **calculate accuracy, precision, and recall.**\n",
    "\n",
    "### Stretch Goals\n",
    "- Engineer 4+ new features total, either from the list above, or your own ideas.\n",
    "- Make 2+ visualizations to explore relationships between features and target.\n",
    "- Optimize 3+ hyperparameters by trying 10+ \"candidates\" (possible combinations of hyperparameters). You can use `RandomizedSearchCV` or do it manually.\n",
    "- Get and plot your model's feature importances.\n",
    "\n"
   ]
  },
  {
   "cell_type": "markdown",
   "metadata": {
    "colab_type": "text",
    "id": "aj85C11cn-VF"
   },
   "source": [
    "Target to predict is shot_made_flag. The following  is your baseline accuracy."
   ]
  },
  {
   "cell_type": "markdown",
   "metadata": {
    "colab_type": "text",
    "id": "t6Jt3qjQ-zig"
   },
   "source": [
    "## 1. Begin with baselines for classification. \n",
    "\n",
    ">Your target to predict is `shot_made_flag`. What would your baseline accuracy be, if you guessed the majority class for every prediction?"
   ]
  },
  {
   "cell_type": "code",
   "execution_count": 0,
   "metadata": {
    "colab": {
     "base_uri": "https://localhost:8080/",
     "height": 51
    },
    "colab_type": "code",
    "id": "I0BDeNFG_Kee",
    "outputId": "5f36f3ff-9674-4d0b-950c-fe09dc31b344"
   },
   "outputs": [
    {
     "name": "stdout",
     "output_type": "stream",
     "text": [
      "If we just guessed every shoot for $0.473,\n",
      "we would be off by $0.499 on average.\n"
     ]
    }
   ],
   "source": [
    "baseline= df['shot_made_flag'].mean()\n",
    "errors = baseline- df['shot_made_flag']\n",
    "mean_absolute_error = errors.abs().mean()\n",
    "print(f'If we just guessed every shoot for ${baseline:,.3f},')\n",
    "print(f'we would be off by ${mean_absolute_error:,.3f} on average.')"
   ]
  },
  {
   "cell_type": "markdown",
   "metadata": {
    "colab_type": "text",
    "id": "zH1CAuHfrFWw"
   },
   "source": [
    "###We only get above 50% accuracy with the baseline analysis without model if  guessed the majority class for every predictionfitting."
   ]
  },
  {
   "cell_type": "markdown",
   "metadata": {
    "colab_type": "text",
    "id": "P9Nihzk6y_CF"
   },
   "source": [
    "## 3. Engineer new feature.\n",
    "\n",
    ">Engineer at least **1** new feature, from this list, or your own idea.\n",
    ">\n",
    ">- **Homecourt Advantage**: Is the home team (`htm`) the Golden State Warriors (`GSW`) ?\n",
    ">- **Opponent**: Who is the other team playing the Golden State Warriors?\n",
    ">- **Seconds remaining in the period**: Combine minutes remaining with seconds remaining, to get the total number of seconds remaining in the period.\n",
    ">- **Seconds remaining in the game**: Combine period, and seconds remaining in the period, to get the total number of seconds remaining in the game. A basketball game has 4 periods, each 12 minutes long.\n",
    ">- **Made previous shot**: Was Steph Curry's previous shot successful?\n",
    "\n",
    "    "
   ]
  },
  {
   "cell_type": "code",
   "execution_count": 0,
   "metadata": {
    "colab": {},
    "colab_type": "code",
    "id": "TXx2ONoqmjZ6"
   },
   "outputs": [],
   "source": []
  },
  {
   "cell_type": "code",
   "execution_count": 0,
   "metadata": {
    "colab": {
     "base_uri": "https://localhost:8080/",
     "height": 51
    },
    "colab_type": "code",
    "id": "TTYKHdTtnQH5",
    "outputId": "c57f68ee-6f0e-426e-81a4-20b2c0831841"
   },
   "outputs": [
    {
     "data": {
      "text/plain": [
       "Stephen Curry    13958\n",
       "Name: player_name, dtype: int64"
      ]
     },
     "execution_count": 12,
     "metadata": {
      "tags": []
     },
     "output_type": "execute_result"
    }
   ],
   "source": [
    "#only one player, so discard this column.\n",
    "df['player_name'].value_counts()"
   ]
  },
  {
   "cell_type": "code",
   "execution_count": 0,
   "metadata": {
    "colab": {
     "base_uri": "https://localhost:8080/",
     "height": 36
    },
    "colab_type": "code",
    "id": "iNBidpD2sd8Z",
    "outputId": "7726769c-fd25-496c-8ec8-81908168ec15"
   },
   "outputs": [
    {
     "data": {
      "text/plain": [
       "(13958, 18)"
      ]
     },
     "execution_count": 97,
     "metadata": {
      "tags": []
     },
     "output_type": "execute_result"
    }
   ],
   "source": [
    "# To get new feature: total number of seconds remaining in the game.\n",
    "df['total_secondsremaining_period']= df['minutes_remaining']*60 +df['seconds_remaining']\n",
    "df.shape\n",
    "\n"
   ]
  },
  {
   "cell_type": "code",
   "execution_count": 0,
   "metadata": {
    "colab": {},
    "colab_type": "code",
    "id": "EgSQyX2km2WV"
   },
   "outputs": [],
   "source": [
    "df= df.drop('minutes_remaining', axis= 1)\n"
   ]
  },
  {
   "cell_type": "code",
   "execution_count": 0,
   "metadata": {
    "colab": {},
    "colab_type": "code",
    "id": "G0FlkTt6nwaB"
   },
   "outputs": [],
   "source": [
    "df= df.drop('seconds_remaining', axis= 1)\n"
   ]
  },
  {
   "cell_type": "code",
   "execution_count": 0,
   "metadata": {
    "colab": {
     "base_uri": "https://localhost:8080/",
     "height": 313
    },
    "colab_type": "code",
    "id": "M-eh13AVlUQy",
    "outputId": "f4f322f8-6b36-4c60-ab68-720d3f8f1e18"
   },
   "outputs": [
    {
     "data": {
      "text/html": [
       "<div>\n",
       "<style scoped>\n",
       "    .dataframe tbody tr th:only-of-type {\n",
       "        vertical-align: middle;\n",
       "    }\n",
       "\n",
       "    .dataframe tbody tr th {\n",
       "        vertical-align: top;\n",
       "    }\n",
       "\n",
       "    .dataframe thead th {\n",
       "        text-align: right;\n",
       "    }\n",
       "</style>\n",
       "<table border=\"1\" class=\"dataframe\">\n",
       "  <thead>\n",
       "    <tr style=\"text-align: right;\">\n",
       "      <th></th>\n",
       "      <th>game_id</th>\n",
       "      <th>period</th>\n",
       "      <th>action_type</th>\n",
       "      <th>shot_type</th>\n",
       "      <th>shot_zone_basic</th>\n",
       "      <th>shot_zone_area</th>\n",
       "      <th>shot_distance</th>\n",
       "      <th>loc_x</th>\n",
       "      <th>loc_y</th>\n",
       "      <th>shot_made_flag</th>\n",
       "      <th>game_date</th>\n",
       "      <th>htm</th>\n",
       "      <th>vtm</th>\n",
       "      <th>season_type</th>\n",
       "      <th>scoremargin_before_shot</th>\n",
       "      <th>total_secondsremaining_period</th>\n",
       "    </tr>\n",
       "  </thead>\n",
       "  <tbody>\n",
       "    <tr>\n",
       "      <th>0</th>\n",
       "      <td>20900015</td>\n",
       "      <td>1</td>\n",
       "      <td>Jump Shot</td>\n",
       "      <td>3PT Field Goal</td>\n",
       "      <td>Above the Break 3</td>\n",
       "      <td>Right Side Center(RC)</td>\n",
       "      <td>26</td>\n",
       "      <td>99</td>\n",
       "      <td>249</td>\n",
       "      <td>0</td>\n",
       "      <td>2009-10-28</td>\n",
       "      <td>GSW</td>\n",
       "      <td>HOU</td>\n",
       "      <td>Regular Season</td>\n",
       "      <td>2.0</td>\n",
       "      <td>685</td>\n",
       "    </tr>\n",
       "    <tr>\n",
       "      <th>1</th>\n",
       "      <td>20900015</td>\n",
       "      <td>1</td>\n",
       "      <td>Step Back Jump shot</td>\n",
       "      <td>2PT Field Goal</td>\n",
       "      <td>Mid-Range</td>\n",
       "      <td>Left Side Center(LC)</td>\n",
       "      <td>18</td>\n",
       "      <td>-122</td>\n",
       "      <td>145</td>\n",
       "      <td>1</td>\n",
       "      <td>2009-10-28</td>\n",
       "      <td>GSW</td>\n",
       "      <td>HOU</td>\n",
       "      <td>Regular Season</td>\n",
       "      <td>0.0</td>\n",
       "      <td>571</td>\n",
       "    </tr>\n",
       "    <tr>\n",
       "      <th>2</th>\n",
       "      <td>20900015</td>\n",
       "      <td>1</td>\n",
       "      <td>Jump Shot</td>\n",
       "      <td>2PT Field Goal</td>\n",
       "      <td>In The Paint (Non-RA)</td>\n",
       "      <td>Center(C)</td>\n",
       "      <td>14</td>\n",
       "      <td>-60</td>\n",
       "      <td>129</td>\n",
       "      <td>0</td>\n",
       "      <td>2009-10-28</td>\n",
       "      <td>GSW</td>\n",
       "      <td>HOU</td>\n",
       "      <td>Regular Season</td>\n",
       "      <td>-4.0</td>\n",
       "      <td>362</td>\n",
       "    </tr>\n",
       "    <tr>\n",
       "      <th>3</th>\n",
       "      <td>20900015</td>\n",
       "      <td>2</td>\n",
       "      <td>Jump Shot</td>\n",
       "      <td>2PT Field Goal</td>\n",
       "      <td>Mid-Range</td>\n",
       "      <td>Left Side(L)</td>\n",
       "      <td>19</td>\n",
       "      <td>-172</td>\n",
       "      <td>82</td>\n",
       "      <td>0</td>\n",
       "      <td>2009-10-28</td>\n",
       "      <td>GSW</td>\n",
       "      <td>HOU</td>\n",
       "      <td>Regular Season</td>\n",
       "      <td>-4.0</td>\n",
       "      <td>589</td>\n",
       "    </tr>\n",
       "    <tr>\n",
       "      <th>4</th>\n",
       "      <td>20900015</td>\n",
       "      <td>2</td>\n",
       "      <td>Jump Shot</td>\n",
       "      <td>2PT Field Goal</td>\n",
       "      <td>Mid-Range</td>\n",
       "      <td>Left Side Center(LC)</td>\n",
       "      <td>16</td>\n",
       "      <td>-68</td>\n",
       "      <td>148</td>\n",
       "      <td>0</td>\n",
       "      <td>2009-10-28</td>\n",
       "      <td>GSW</td>\n",
       "      <td>HOU</td>\n",
       "      <td>Regular Season</td>\n",
       "      <td>0.0</td>\n",
       "      <td>139</td>\n",
       "    </tr>\n",
       "  </tbody>\n",
       "</table>\n",
       "</div>"
      ],
      "text/plain": [
       "    game_id  period  ... scoremargin_before_shot total_secondsremaining_period\n",
       "0  20900015       1  ...                     2.0                           685\n",
       "1  20900015       1  ...                     0.0                           571\n",
       "2  20900015       1  ...                    -4.0                           362\n",
       "3  20900015       2  ...                    -4.0                           589\n",
       "4  20900015       2  ...                     0.0                           139\n",
       "\n",
       "[5 rows x 16 columns]"
      ]
     },
     "execution_count": 103,
     "metadata": {
      "tags": []
     },
     "output_type": "execute_result"
    }
   ],
   "source": [
    "df.head()"
   ]
  },
  {
   "cell_type": "code",
   "execution_count": 0,
   "metadata": {
    "colab": {},
    "colab_type": "code",
    "id": "01AfHVRSyV7H"
   },
   "outputs": [],
   "source": []
  },
  {
   "cell_type": "code",
   "execution_count": 0,
   "metadata": {
    "colab": {
     "base_uri": "https://localhost:8080/",
     "height": 317
    },
    "colab_type": "code",
    "id": "NGcaFv83Lih6",
    "outputId": "7c425d6a-9cfd-4f3d-e002-5e6a149e6d5a"
   },
   "outputs": [
    {
     "data": {
      "text/plain": [
       "['game_id',\n",
       " 'period',\n",
       " 'action_type',\n",
       " 'shot_type',\n",
       " 'shot_zone_basic',\n",
       " 'shot_zone_area',\n",
       " 'shot_distance',\n",
       " 'loc_x',\n",
       " 'loc_y',\n",
       " 'shot_made_flag',\n",
       " 'game_date',\n",
       " 'htm',\n",
       " 'vtm',\n",
       " 'season_type',\n",
       " 'scoremargin_before_shot',\n",
       " 'total_secondsremaining_period']"
      ]
     },
     "execution_count": 104,
     "metadata": {
      "tags": []
     },
     "output_type": "execute_result"
    }
   ],
   "source": [
    "df.columns.to_list()\n",
    " "
   ]
  },
  {
   "cell_type": "markdown",
   "metadata": {
    "colab_type": "text",
    "id": "eLs7pt7NFJLF"
   },
   "source": [
    "## **4. Decide how to validate** your model. \n",
    "\n",
    ">Choose one of the following options. Any of these options are good. You are not graded on which you choose.\n",
    ">\n",
    ">- **Train/validate/test split: train on the 2009-10 season through 2016-17 season, validate with the 2017-18 season.** You'll know you've split the data correctly when your train set has 11,081 observations, and your validation set has 1,168 observations.\n",
    ">- **Train/validate/test split: random 80/20%** train/validate split.\n",
    ">- **Cross-validation** with independent test set. You may use any scikit-learn cross-validation method."
   ]
  },
  {
   "cell_type": "code",
   "execution_count": 0,
   "metadata": {
    "colab": {},
    "colab_type": "code",
    "id": "6EK2-gnA1Lv1"
   },
   "outputs": [],
   "source": [
    "from datetime import datetime"
   ]
  },
  {
   "cell_type": "code",
   "execution_count": 0,
   "metadata": {
    "colab": {
     "base_uri": "https://localhost:8080/",
     "height": 34
    },
    "colab_type": "code",
    "id": "nWh0pdup0riS",
    "outputId": "39abe74b-800d-428d-e620-45ed2e21191f"
   },
   "outputs": [
    {
     "data": {
      "text/plain": [
       "pandas.core.series.Series"
      ]
     },
     "execution_count": 70,
     "metadata": {
      "tags": []
     },
     "output_type": "execute_result"
    }
   ],
   "source": [
    "type(df['game_date'])"
   ]
  },
  {
   "cell_type": "code",
   "execution_count": 0,
   "metadata": {
    "colab": {},
    "colab_type": "code",
    "id": "oKx2vVLZ1Q9g"
   },
   "outputs": [],
   "source": [
    " \n",
    "df['game_date'] = pd.to_datetime(df['game_date'])"
   ]
  },
  {
   "cell_type": "code",
   "execution_count": 0,
   "metadata": {
    "colab": {
     "base_uri": "https://localhost:8080/",
     "height": 221
    },
    "colab_type": "code",
    "id": "wwve5aT-1hJv",
    "outputId": "2ea9c99b-e327-4471-c95d-6f153a655a4a"
   },
   "outputs": [
    {
     "data": {
      "text/plain": [
       "0       2009-10-28\n",
       "1       2009-10-28\n",
       "2       2009-10-28\n",
       "3       2009-10-28\n",
       "4       2009-10-28\n",
       "           ...    \n",
       "13953   2019-06-05\n",
       "13954   2019-06-05\n",
       "13955   2019-06-05\n",
       "13956   2019-06-05\n",
       "13957   2019-06-05\n",
       "Name: game_date, Length: 13958, dtype: datetime64[ns]"
      ]
     },
     "execution_count": 72,
     "metadata": {
      "tags": []
     },
     "output_type": "execute_result"
    }
   ],
   "source": [
    "df['game_date']"
   ]
  },
  {
   "cell_type": "markdown",
   "metadata": {
    "colab_type": "text",
    "id": "czUSoDcs1sna"
   },
   "source": [
    "####Train/validate/test split: train on the 2009-10 season through 2016-17 season, validate with the 2017-18 season. You'll know you've split the data correctly when your train set has 11,081 observations, and your validation set has 1,168 observations."
   ]
  },
  {
   "cell_type": "markdown",
   "metadata": {
    "colab_type": "text",
    "id": "hMDAus4z6afh"
   },
   "source": [
    " \n",
    "2017–18 NBA season began on\n",
    "Tuesday, October 17\n",
    "and ended on\n",
    "Sunday, June 17, 2018"
   ]
  },
  {
   "cell_type": "code",
   "execution_count": 0,
   "metadata": {
    "colab": {
     "base_uri": "https://localhost:8080/",
     "height": 34
    },
    "colab_type": "code",
    "id": "LJ58CceDISXR",
    "outputId": "72792a0f-1224-4427-86cf-f6e4966b0126"
   },
   "outputs": [
    {
     "data": {
      "text/plain": [
       "(11081, 21)"
      ]
     },
     "execution_count": 73,
     "metadata": {
      "tags": []
     },
     "output_type": "execute_result"
    }
   ],
   "source": [
    "cutoff = pd.to_datetime('2017-10-01')\n",
    "train = df[((df['game_date'] < cutoff)&\n",
    "           (df['game_date'] >= '2009-10-01'))]\n",
    "           \n",
    "train.shape"
   ]
  },
  {
   "cell_type": "code",
   "execution_count": 0,
   "metadata": {
    "colab": {},
    "colab_type": "code",
    "id": "VBzsj5hq4ZJz"
   },
   "outputs": [],
   "source": [
    "val=df[((df['game_date'] >  cutoff)&\n",
    "           (df['game_date'] < '2018-06-17'))]"
   ]
  },
  {
   "cell_type": "code",
   "execution_count": 0,
   "metadata": {
    "colab": {
     "base_uri": "https://localhost:8080/",
     "height": 34
    },
    "colab_type": "code",
    "id": "m7KkGWRx48Lb",
    "outputId": "2ef507a5-41ca-44bd-f97c-df43efa5a27b"
   },
   "outputs": [
    {
     "data": {
      "text/plain": [
       "(1168, 21)"
      ]
     },
     "execution_count": 74,
     "metadata": {
      "tags": []
     },
     "output_type": "execute_result"
    }
   ],
   "source": [
    "val.shape"
   ]
  },
  {
   "cell_type": "markdown",
   "metadata": {
    "colab_type": "text",
    "id": "jiJRAP_27z0R"
   },
   "source": [
    "###Train/validate/test split: random 80/20% train/validate split."
   ]
  },
  {
   "cell_type": "code",
   "execution_count": 0,
   "metadata": {
    "colab": {},
    "colab_type": "code",
    "id": "QAcsxkjq0Mku"
   },
   "outputs": [],
   "source": [
    "from sklearn.model_selection import train_test_split"
   ]
  },
  {
   "cell_type": "code",
   "execution_count": 0,
   "metadata": {
    "colab": {
     "base_uri": "https://localhost:8080/",
     "height": 34
    },
    "colab_type": "code",
    "id": "eomqPLF30Mgb",
    "outputId": "bbd1b759-8b93-43fc-d528-0de703bb5cf7"
   },
   "outputs": [
    {
     "data": {
      "text/plain": [
       "((8864, 21), (2217, 21))"
      ]
     },
     "execution_count": 76,
     "metadata": {
      "tags": []
     },
     "output_type": "execute_result"
    }
   ],
   "source": [
    "train, test = train_test_split(train, train_size=0.80, test_size=0.20, \n",
    "                              stratify=train['game_date'], random_state=42)\n",
    "\n",
    "train.shape, test.shape "
   ]
  },
  {
   "cell_type": "code",
   "execution_count": 0,
   "metadata": {
    "colab": {},
    "colab_type": "code",
    "id": "pYSOcjWyyiac"
   },
   "outputs": [],
   "source": [
    "#import seaborn as sns\n"
   ]
  },
  {
   "cell_type": "code",
   "execution_count": 0,
   "metadata": {
    "colab": {},
    "colab_type": "code",
    "id": "0I7611-x9oVm"
   },
   "outputs": [],
   "source": [
    "# Arrange data into X features matrix and y target vector\n",
    "features=[\n",
    " \n",
    " 'period',\n",
    " 'action_type',\n",
    " 'shot_type',\n",
    " 'shot_zone_basic',\n",
    " 'shot_zone_area',\n",
    " 'shot_zone_range',\n",
    " 'shot_distance',\n",
    " 'loc_x',\n",
    " 'loc_y',\n",
    " \n",
    " 'htm',\n",
    " 'vtm',\n",
    " 'season_type',\n",
    " 'scoremargin_before_shot',\n",
    " 'total_secondsremaining_period']\n",
    "target = 'shot_made_flag'\n",
    "X_train = train[features]\n",
    "y_train = train[target]\n",
    "X_val = val[features]\n",
    "y_val = val[target]\n",
    "X_test = test[features]\n",
    "y_test =test[target]\n",
    " "
   ]
  },
  {
   "cell_type": "markdown",
   "metadata": {
    "colab_type": "text",
    "id": "oQ2lWlu7JPRt"
   },
   "source": [
    "## 5. Use a scikit-learn pipeline to encode categoricals and fit a Decision Tree or Random Forest model."
   ]
  },
  {
   "cell_type": "code",
   "execution_count": 0,
   "metadata": {
    "colab": {
     "base_uri": "https://localhost:8080/",
     "height": 68
    },
    "colab_type": "code",
    "id": "xvVx-ypX-wz2",
    "outputId": "2eff6017-9d43-4911-8b7a-c11663f8dc88"
   },
   "outputs": [
    {
     "data": {
      "text/plain": [
       "0    4691\n",
       "1    4173\n",
       "Name: shot_made_flag, dtype: int64"
      ]
     },
     "execution_count": 91,
     "metadata": {
      "tags": []
     },
     "output_type": "execute_result"
    }
   ],
   "source": [
    "y_train.value_counts()"
   ]
  },
  {
   "cell_type": "markdown",
   "metadata": {
    "colab_type": "text",
    "id": "oT0IKv1wJqyy"
   },
   "source": [
    "###Method 1 DecisionTreeClassifier:"
   ]
  },
  {
   "cell_type": "code",
   "execution_count": 0,
   "metadata": {
    "colab": {
     "base_uri": "https://localhost:8080/",
     "height": 54
    },
    "colab_type": "code",
    "id": "RHFevUzc_e6C",
    "outputId": "7e300951-fc23-41da-9cdc-4a67f9054a13"
   },
   "outputs": [
    {
     "name": "stdout",
     "output_type": "stream",
     "text": [
      "Decision Tree, Validation Accuracy 0.5419520547945206\n",
      "Train Accuracy 1.0\n"
     ]
    }
   ],
   "source": [
    "from sklearn.tree import DecisionTreeClassifier\n",
    "\n",
    "dt = make_pipeline(\n",
    "    ce.OneHotEncoder(use_cat_names=True), \n",
    "    SimpleImputer(), \n",
    "    DecisionTreeClassifier(random_state=42)\n",
    ")\n",
    "\n",
    "dt.fit(X_train, y_train)\n",
    "score = dt.score(X_val, y_val)\n",
    "print('Decision Tree, Validation Accuracy', score)\n",
    "print('Train Accuracy', pipeline.score(X_train, y_train))"
   ]
  },
  {
   "cell_type": "code",
   "execution_count": 0,
   "metadata": {
    "colab": {},
    "colab_type": "code",
    "id": "5RWazbxxsH8s"
   },
   "outputs": [],
   "source": [
    "y_pred = pipeline.predict(X_test)"
   ]
  },
  {
   "cell_type": "code",
   "execution_count": 0,
   "metadata": {
    "colab": {},
    "colab_type": "code",
    "id": "egUj4EZj1_26"
   },
   "outputs": [],
   "source": [
    "from sklearn.tree import DecisionTreeClassifier\n",
    "%matplotlib inline\n",
    "import matplotlib.pyplot as plt"
   ]
  },
  {
   "cell_type": "code",
   "execution_count": 0,
   "metadata": {
    "colab": {},
    "colab_type": "code",
    "id": "wGVCx9kT3mSJ"
   },
   "outputs": [],
   "source": [
    "model = pipeline.named_steps['decisiontreeclassifier']\n",
    "%matplotlib inline\n",
    "import matplotlib.pyplot as plt\n",
    "encoder = pipeline.named_steps['onehotencoder']\n",
    "encoded_columns = encoder.transform(X_val).columns\n",
    "importances = pd.Series(model.feature_importances_, encoded_columns)\n",
    "plt.figure(figsize=(10,30))\n",
    "importances.sort_values().plot.barh()"
   ]
  },
  {
   "cell_type": "markdown",
   "metadata": {
    "colab_type": "text",
    "id": "J_3-EpGXJ1nD"
   },
   "source": [
    "###Method 2 RandomForestClassifier:"
   ]
  },
  {
   "cell_type": "code",
   "execution_count": 0,
   "metadata": {
    "colab": {
     "base_uri": "https://localhost:8080/",
     "height": 36
    },
    "colab_type": "code",
    "id": "X2S8mUuJy_CB",
    "outputId": "ef201f75-16da-4740-ef43-3eaeb8cb38f6"
   },
   "outputs": [
    {
     "name": "stdout",
     "output_type": "stream",
     "text": [
      "Train Accuracy 1.0\n"
     ]
    }
   ],
   "source": [
    "#import category_encoders as ce\n",
    "from sklearn.ensemble import RandomForestClassifier\n",
    "from sklearn.impute import SimpleImputer\n",
    "from sklearn.pipeline import make_pipeline\n",
    "\n",
    "pipeline = make_pipeline(\n",
    "    ce.OneHotEncoder(use_cat_names=True), \n",
    "    SimpleImputer(strategy='median'), \n",
    "    RandomForestClassifier(random_state=0, n_jobs=-1)\n",
    ")\n",
    "\n",
    "# Fit on train, score on val\n",
    "pipeline.fit(X_train, y_train)\n",
    "print('Train Accuracy', pipeline.score(X_train, y_train))"
   ]
  },
  {
   "cell_type": "markdown",
   "metadata": {
    "colab_type": "text",
    "id": "RiDA1wWmUaWu"
   },
   "source": [
    "#### Method 3 with  RandomizedSearchCV."
   ]
  },
  {
   "cell_type": "code",
   "execution_count": 0,
   "metadata": {
    "colab": {},
    "colab_type": "code",
    "id": "UkcrNUBnTVIu"
   },
   "outputs": [],
   "source": [
    "import category_encoders as ce\n",
    "import numpy as np\n",
    "\n",
    "from sklearn.feature_selection import f_regression, SelectKBest\n",
    "from sklearn.impute import SimpleImputer\n",
    "from sklearn.linear_model import Ridge\n",
    "from sklearn.model_selection import cross_val_score\n",
    "from sklearn.pipeline import make_pipeline\n",
    "from sklearn.preprocessing import StandardScaler\n",
    "from sklearn.ensemble import RandomForestClassifier, RandomForestRegressor\n",
    "from sklearn.model_selection import GridSearchCV, RandomizedSearchCV"
   ]
  },
  {
   "cell_type": "code",
   "execution_count": 0,
   "metadata": {
    "colab": {},
    "colab_type": "code",
    "id": "AIlPmqqPThkx"
   },
   "outputs": [],
   "source": [
    "encoder= ce.OneHotEncoder(use_cat_names=True)\n",
    "x_train_encoded = encoder.fit_transform(X_train)\n"
   ]
  },
  {
   "cell_type": "code",
   "execution_count": 0,
   "metadata": {
    "colab": {
     "base_uri": "https://localhost:8080/",
     "height": 73
    },
    "colab_type": "code",
    "id": "mDE0R_D1YC_5",
    "outputId": "06f0e4ea-86c7-482b-fdad-d2741a088828"
   },
   "outputs": [
    {
     "data": {
      "text/plain": [
       "0    0.529219\n",
       "1    0.470781\n",
       "Name: shot_made_flag, dtype: float64"
      ]
     },
     "execution_count": 182,
     "metadata": {
      "tags": []
     },
     "output_type": "execute_result"
    }
   ],
   "source": [
    "y_train.value_counts(normalize=True)"
   ]
  },
  {
   "cell_type": "code",
   "execution_count": 0,
   "metadata": {
    "colab": {},
    "colab_type": "code",
    "id": "iGsy-IB4T20Y"
   },
   "outputs": [],
   "source": [
    "pipeline = make_pipeline(\n",
    "    StandardScaler(),\n",
    "    \n",
    "    SimpleImputer(), \n",
    "    RandomForestClassifier()\n",
    ")\n",
    "\n",
    "param_distributions = {\n",
    "    'simpleimputer__strategy': ['mean', 'median'], \n",
    "    'randomforestclassifier__max_depth': [10, 20, 30, 40], \n",
    "    'randomforestclassifier__min_samples_leaf': [1,3,5]\n",
    "}\n",
    "\n",
    "\n",
    "search = RandomizedSearchCV(\n",
    "    pipeline, \n",
    "    param_distributions=param_distributions, \n",
    "    n_iter=30, \n",
    "    cv=3, \n",
    "    scoring='neg_mean_absolute_error', \n",
    "    verbose=10, \n",
    "    return_train_score=True, \n",
    "    n_jobs=-1\n",
    ")\n",
    "\n",
    "search.fit(x_train_encoded, y_train );"
   ]
  },
  {
   "cell_type": "markdown",
   "metadata": {
    "colab_type": "text",
    "id": "8kJXxFpty_CH"
   },
   "source": [
    "## 6.Get your model's validation accuracy\n",
    " "
   ]
  },
  {
   "cell_type": "code",
   "execution_count": 0,
   "metadata": {
    "colab": {
     "base_uri": "https://localhost:8080/",
     "height": 36
    },
    "colab_type": "code",
    "id": "7560JKvxy_CJ",
    "outputId": "958cfc61-d7df-4055-e169-6bb86415edee"
   },
   "outputs": [
    {
     "name": "stdout",
     "output_type": "stream",
     "text": [
      "Validation Accuracy 0.586472602739726\n"
     ]
    }
   ],
   "source": [
    "print('Validation Accuracy', pipeline.score(X_val, y_val))"
   ]
  },
  {
   "cell_type": "markdown",
   "metadata": {
    "colab_type": "text",
    "id": "dYgSlWxQptgC"
   },
   "source": [
    "### For randomFrest, Validation Accuracy 0.586472602739726. It is much better than Decision Tree, which Validation Accuracy is 0.5419520547945206."
   ]
  },
  {
   "cell_type": "markdown",
   "metadata": {
    "colab_type": "text",
    "id": "YvyYY9tfy_CL"
   },
   "source": [
    "## 7. Get your model's test accuracy\n",
    "\n",
    "> (One time, at the end.)"
   ]
  },
  {
   "cell_type": "code",
   "execution_count": 0,
   "metadata": {
    "colab": {
     "base_uri": "https://localhost:8080/",
     "height": 36
    },
    "colab_type": "code",
    "id": "wjV2dfl6y_CL",
    "outputId": "a387c165-fdd8-4ec3-9462-155359eb9d5e"
   },
   "outputs": [
    {
     "name": "stdout",
     "output_type": "stream",
     "text": [
      "Test Accuracy 1.0\n"
     ]
    }
   ],
   "source": [
    "pipeline.fit(X_test, y_test)\n",
    "print('Test Accuracy', pipeline.score(X_test, y_test))"
   ]
  },
  {
   "cell_type": "code",
   "execution_count": 0,
   "metadata": {
    "colab": {},
    "colab_type": "code",
    "id": "sv1G53ezaW-A"
   },
   "outputs": [],
   "source": [
    "from sklearn.metrics import plot_confusion_matrix"
   ]
  },
  {
   "cell_type": "code",
   "execution_count": 0,
   "metadata": {
    "colab": {},
    "colab_type": "code",
    "id": "RkdtNyrAaEBf"
   },
   "outputs": [],
   "source": [
    "plot_confusion_matrix(pipeline, X_val, y_val, values_format='.0f', xticks_rotation='vertical');"
   ]
  },
  {
   "cell_type": "markdown",
   "metadata": {
    "colab_type": "text",
    "id": "xGL5stLvJCn1"
   },
   "source": [
    "## 8. Given a confusion matrix, calculate accuracy, precision, and recall.\n",
    "\n",
    "Imagine this is the confusion matrix for a binary classification model. Use the confusion matrix to calculate the model's accuracy, precision, and recall.\n",
    "\n",
    "<table>\n",
    "  <tr>\n",
    "    <td colspan=\"2\" rowspan=\"2\"></td>\n",
    "    <td colspan=\"2\">Predicted</td>\n",
    "  </tr>\n",
    "  <tr>\n",
    "    <td>Negative</td>\n",
    "    <td>Positive</td>\n",
    "  </tr>\n",
    "  <tr>\n",
    "    <td rowspan=\"2\">Actual</td>\n",
    "    <td>Negative</td>\n",
    "    <td style=\"border: solid\">85</td>\n",
    "    <td style=\"border: solid\">58</td>\n",
    "  </tr>\n",
    "  <tr>\n",
    "    <td>Positive</td>\n",
    "    <td style=\"border: solid\">8</td>\n",
    "    <td style=\"border: solid\"> 36</td>\n",
    "  </tr>\n",
    "</table>"
   ]
  },
  {
   "cell_type": "markdown",
   "metadata": {
    "colab_type": "text",
    "id": "nEvt7NkUJNao"
   },
   "source": [
    "### Calculate accuracy "
   ]
  },
  {
   "cell_type": "code",
   "execution_count": 0,
   "metadata": {
    "colab": {
     "base_uri": "https://localhost:8080/",
     "height": 34
    },
    "colab_type": "code",
    "id": "HURH16V9Bhha",
    "outputId": "b0f60dd1-e97a-4bd5-ec4b-1fe8a439005e"
   },
   "outputs": [
    {
     "data": {
      "text/plain": [
       "187"
      ]
     },
     "execution_count": 47,
     "metadata": {
      "tags": []
     },
     "output_type": "execute_result"
    }
   ],
   "source": [
    "total_predictions = 85 + 58 + 8 + 36 \n",
    "total_predictions"
   ]
  },
  {
   "cell_type": "code",
   "execution_count": 0,
   "metadata": {
    "colab": {
     "base_uri": "https://localhost:8080/",
     "height": 34
    },
    "colab_type": "code",
    "id": "FFszS2A5JJmv",
    "outputId": "11ed62e9-38cf-4044-cbbc-bfef3cfd6cb0"
   },
   "outputs": [
    {
     "data": {
      "text/plain": [
       "121"
      ]
     },
     "execution_count": 48,
     "metadata": {
      "tags": []
     },
     "output_type": "execute_result"
    }
   ],
   "source": [
    "#How many correct predictions were made?\n",
    "  \n",
    "correct_predictions=85+36\n",
    "correct_predictions"
   ]
  },
  {
   "cell_type": "code",
   "execution_count": 0,
   "metadata": {
    "colab": {
     "base_uri": "https://localhost:8080/",
     "height": 34
    },
    "colab_type": "code",
    "id": "H0uLQciVA0ay",
    "outputId": "cd60b724-5c09-4f28-dc0e-37ab15f01c05"
   },
   "outputs": [
    {
     "data": {
      "text/plain": [
       "0.6470588235294118"
      ]
     },
     "execution_count": 49,
     "metadata": {
      "tags": []
     },
     "output_type": "execute_result"
    }
   ],
   "source": [
    "correct_predictions / total_predictions"
   ]
  },
  {
   "cell_type": "markdown",
   "metadata": {
    "colab_type": "text",
    "id": "CcN-WZADFKjv"
   },
   "source": [
    "###accuracy =64.7%"
   ]
  },
  {
   "cell_type": "markdown",
   "metadata": {
    "colab_type": "text",
    "id": "XjHTmk8sJO4v"
   },
   "source": [
    "### Calculate precision"
   ]
  },
  {
   "cell_type": "code",
   "execution_count": 0,
   "metadata": {
    "colab": {},
    "colab_type": "code",
    "id": "7qX1gbcMJQS_"
   },
   "outputs": [],
   "source": [
    "from sklearn.metrics import classification_report\n",
    "  "
   ]
  },
  {
   "cell_type": "code",
   "execution_count": 0,
   "metadata": {
    "colab": {},
    "colab_type": "code",
    "id": "0-OuD86wDa_Q"
   },
   "outputs": [],
   "source": [
    "correct_predictions_positive =  36"
   ]
  },
  {
   "cell_type": "code",
   "execution_count": 0,
   "metadata": {
    "colab": {
     "base_uri": "https://localhost:8080/",
     "height": 34
    },
    "colab_type": "code",
    "id": "Vd5gdNyPDiZf",
    "outputId": "067dd453-93ca-49f1-ccab-da60a7b26910"
   },
   "outputs": [
    {
     "data": {
      "text/plain": [
       "94"
      ]
     },
     "execution_count": 58,
     "metadata": {
      "tags": []
     },
     "output_type": "execute_result"
    }
   ],
   "source": [
    "total_predictions_positive =58+36\n",
    "total_predictions_positive"
   ]
  },
  {
   "cell_type": "code",
   "execution_count": 0,
   "metadata": {
    "colab": {
     "base_uri": "https://localhost:8080/",
     "height": 34
    },
    "colab_type": "code",
    "id": "NUfxx567ES8z",
    "outputId": "cc1222e9-b25d-4758-8307-9288f3261b7a"
   },
   "outputs": [
    {
     "data": {
      "text/plain": [
       "0.3829787234042553"
      ]
     },
     "execution_count": 59,
     "metadata": {
      "tags": []
     },
     "output_type": "execute_result"
    }
   ],
   "source": [
    "# precision= correct_predictions_positive / total_predictions_positive\n",
    "precision=36/94\n",
    "precision"
   ]
  },
  {
   "cell_type": "markdown",
   "metadata": {
    "colab_type": "text",
    "id": "juhQc_mMFRnl"
   },
   "source": [
    "### Precision= 38.3%"
   ]
  },
  {
   "cell_type": "markdown",
   "metadata": {
    "colab_type": "text",
    "id": "pFug3ZKaJQ7A"
   },
   "source": [
    "### Calculate recall"
   ]
  },
  {
   "cell_type": "code",
   "execution_count": 0,
   "metadata": {
    "colab": {
     "base_uri": "https://localhost:8080/",
     "height": 34
    },
    "colab_type": "code",
    "id": "L0OKc3JxJR4r",
    "outputId": "e3115f58-1052-45e5-843d-0ba7d9e5e9df"
   },
   "outputs": [
    {
     "data": {
      "text/plain": [
       "44"
      ]
     },
     "execution_count": 60,
     "metadata": {
      "tags": []
     },
     "output_type": "execute_result"
    }
   ],
   "source": [
    "actual_positive = 8+36\n",
    "actual_positive"
   ]
  },
  {
   "cell_type": "code",
   "execution_count": 0,
   "metadata": {
    "colab": {
     "base_uri": "https://localhost:8080/",
     "height": 34
    },
    "colab_type": "code",
    "id": "Ja00_KIeGCJP",
    "outputId": "a380a835-a4fb-45b1-d498-6cf2418e25ef"
   },
   "outputs": [
    {
     "data": {
      "text/plain": [
       "0.8181818181818182"
      ]
     },
     "execution_count": 62,
     "metadata": {
      "tags": []
     },
     "output_type": "execute_result"
    }
   ],
   "source": [
    "#recall_for_positive =correct_predictions_positive / actual_positive\n",
    "recall_for_positive =36/44\n",
    "recall_for_positive"
   ]
  },
  {
   "cell_type": "markdown",
   "metadata": {
    "colab_type": "text",
    "id": "YHq29MHdHJTY"
   },
   "source": [
    "### The recall_for_positive is 81.8%."
   ]
  }
 ],
 "metadata": {
  "colab": {
   "collapsed_sections": [],
   "include_colab_link": true,
   "name": "PAcopy of DS_Sprint_Challenge_6.ipynb",
   "provenance": []
  },
  "kernelspec": {
   "display_name": "Python 3",
   "language": "python",
   "name": "python3"
  },
  "language_info": {
   "codemirror_mode": {
    "name": "ipython",
    "version": 3
   },
   "file_extension": ".py",
   "mimetype": "text/x-python",
   "name": "python",
   "nbconvert_exporter": "python",
   "pygments_lexer": "ipython3",
   "version": "3.7.4"
  }
 },
 "nbformat": 4,
 "nbformat_minor": 1
}
