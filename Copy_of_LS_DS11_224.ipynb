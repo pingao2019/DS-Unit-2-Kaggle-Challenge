{
  "nbformat": 4,
  "nbformat_minor": 0,
  "metadata": {
    "kernelspec": {
      "display_name": "Python 3",
      "language": "python",
      "name": "python3"
    },
    "language_info": {
      "codemirror_mode": {
        "name": "ipython",
        "version": 3
      },
      "file_extension": ".py",
      "mimetype": "text/x-python",
      "name": "python",
      "nbconvert_exporter": "python",
      "pygments_lexer": "ipython3",
      "version": "3.7.6"
    },
    "colab": {
      "name": "Copy of LS_DS11_224.ipynb",
      "provenance": [],
      "include_colab_link": true
    },
    "widgets": {
      "application/vnd.jupyter.widget-state+json": {
        "a601327d9bc3476e97c479474489c479": {
          "model_module": "@jupyter-widgets/controls",
          "model_name": "VBoxModel",
          "state": {
            "_view_name": "VBoxView",
            "_dom_classes": [
              "widget-interact"
            ],
            "_model_name": "VBoxModel",
            "_view_module": "@jupyter-widgets/controls",
            "_model_module_version": "1.5.0",
            "_view_count": null,
            "_view_module_version": "1.5.0",
            "box_style": "",
            "layout": "IPY_MODEL_98369f1767c847f2af019da4c21e2656",
            "_model_module": "@jupyter-widgets/controls",
            "children": [
              "IPY_MODEL_92d3750dfc6c4bb78eabcc0ee52b1dd6",
              "IPY_MODEL_0c5cdd8eb8454018bcd9d0e7a791829c"
            ]
          }
        },
        "98369f1767c847f2af019da4c21e2656": {
          "model_module": "@jupyter-widgets/base",
          "model_name": "LayoutModel",
          "state": {
            "_view_name": "LayoutView",
            "grid_template_rows": null,
            "right": null,
            "justify_content": null,
            "_view_module": "@jupyter-widgets/base",
            "overflow": null,
            "_model_module_version": "1.2.0",
            "_view_count": null,
            "flex_flow": null,
            "width": null,
            "min_width": null,
            "border": null,
            "align_items": null,
            "bottom": null,
            "_model_module": "@jupyter-widgets/base",
            "top": null,
            "grid_column": null,
            "overflow_y": null,
            "overflow_x": null,
            "grid_auto_flow": null,
            "grid_area": null,
            "grid_template_columns": null,
            "flex": null,
            "_model_name": "LayoutModel",
            "justify_items": null,
            "grid_row": null,
            "max_height": null,
            "align_content": null,
            "visibility": null,
            "align_self": null,
            "height": null,
            "min_height": null,
            "padding": null,
            "grid_auto_rows": null,
            "grid_gap": null,
            "max_width": null,
            "order": null,
            "_view_module_version": "1.2.0",
            "grid_template_areas": null,
            "object_position": null,
            "object_fit": null,
            "grid_auto_columns": null,
            "margin": null,
            "display": null,
            "left": null
          }
        },
        "92d3750dfc6c4bb78eabcc0ee52b1dd6": {
          "model_module": "@jupyter-widgets/controls",
          "model_name": "FloatSliderModel",
          "state": {
            "_view_name": "FloatSliderView",
            "style": "IPY_MODEL_03ba01bccb1447f0a5f14435de659342",
            "_dom_classes": [],
            "description": "threshold",
            "step": 0.02,
            "_model_name": "FloatSliderModel",
            "orientation": "horizontal",
            "max": 1,
            "_view_module": "@jupyter-widgets/controls",
            "_model_module_version": "1.5.0",
            "value": 0.68,
            "_view_count": null,
            "disabled": false,
            "_view_module_version": "1.5.0",
            "min": 0,
            "continuous_update": true,
            "readout_format": ".2f",
            "description_tooltip": null,
            "readout": true,
            "_model_module": "@jupyter-widgets/controls",
            "layout": "IPY_MODEL_d5ad8b626e434ccf91221ae5d67a514a"
          }
        },
        "0c5cdd8eb8454018bcd9d0e7a791829c": {
          "model_module": "@jupyter-widgets/output",
          "model_name": "OutputModel",
          "state": {
            "_view_name": "OutputView",
            "msg_id": "",
            "_dom_classes": [],
            "_model_name": "OutputModel",
            "outputs": [
              {
                "output_type": "display_data",
                "metadata": {
                  "tags": []
                },
                "image/png": "iVBORw0KGgoAAAANSUhEUgAAAXgAAAD4CAYAAADmWv3KAAAABHNCSVQICAgIfAhkiAAAAAlwSFlz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\nT1AAAAAASUVORK5CYII=\n",
                "text/plain": "<Figure size 432x288 with 1 Axes>"
              },
              {
                "output_type": "stream",
                "metadata": {
                  "tags": []
                },
                "text": "              precision    recall  f1-score   support\n\n       False       0.75      0.97      0.84      7798\n        True       0.94      0.61      0.74      6560\n\n    accuracy                           0.80     14358\n   macro avg       0.84      0.79      0.79     14358\nweighted avg       0.83      0.80      0.79     14358\n\n",
                "stream": "stdout"
              },
              {
                "output_type": "display_data",
                "metadata": {
                  "tags": []
                },
                "image/png": "iVBORw0KGgoAAAANSUhEUgAAAWYAAAD4CAYAAADfPUyRAAAABHNCSVQICAgIfAhkiAAAAAlwSFlz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\nRK5CYII=\n",
                "text/plain": "<Figure size 432x288 with 2 Axes>"
              }
            ],
            "_view_module": "@jupyter-widgets/output",
            "_model_module_version": "1.0.0",
            "_view_count": null,
            "_view_module_version": "1.0.0",
            "layout": "IPY_MODEL_6d2d2415a98548c8ae877a16db0e22ac",
            "_model_module": "@jupyter-widgets/output"
          }
        },
        "03ba01bccb1447f0a5f14435de659342": {
          "model_module": "@jupyter-widgets/controls",
          "model_name": "SliderStyleModel",
          "state": {
            "_view_name": "StyleView",
            "handle_color": null,
            "_model_name": "SliderStyleModel",
            "description_width": "",
            "_view_module": "@jupyter-widgets/base",
            "_model_module_version": "1.5.0",
            "_view_count": null,
            "_view_module_version": "1.2.0",
            "_model_module": "@jupyter-widgets/controls"
          }
        },
        "d5ad8b626e434ccf91221ae5d67a514a": {
          "model_module": "@jupyter-widgets/base",
          "model_name": "LayoutModel",
          "state": {
            "_view_name": "LayoutView",
            "grid_template_rows": null,
            "right": null,
            "justify_content": null,
            "_view_module": "@jupyter-widgets/base",
            "overflow": null,
            "_model_module_version": "1.2.0",
            "_view_count": null,
            "flex_flow": null,
            "width": null,
            "min_width": null,
            "border": null,
            "align_items": null,
            "bottom": null,
            "_model_module": "@jupyter-widgets/base",
            "top": null,
            "grid_column": null,
            "overflow_y": null,
            "overflow_x": null,
            "grid_auto_flow": null,
            "grid_area": null,
            "grid_template_columns": null,
            "flex": null,
            "_model_name": "LayoutModel",
            "justify_items": null,
            "grid_row": null,
            "max_height": null,
            "align_content": null,
            "visibility": null,
            "align_self": null,
            "height": null,
            "min_height": null,
            "padding": null,
            "grid_auto_rows": null,
            "grid_gap": null,
            "max_width": null,
            "order": null,
            "_view_module_version": "1.2.0",
            "grid_template_areas": null,
            "object_position": null,
            "object_fit": null,
            "grid_auto_columns": null,
            "margin": null,
            "display": null,
            "left": null
          }
        }
      }
    }
  },
  "cells": [
    {
      "cell_type": "markdown",
      "metadata": {
        "id": "view-in-github",
        "colab_type": "text"
      },
      "source": [
        "<a href=\"https://colab.research.google.com/github/pingao2019/DS-Unit-2-Kaggle-Challenge/blob/master/Copy_of_LS_DS11_224.ipynb\" target=\"_parent\"><img src=\"https://colab.research.google.com/assets/colab-badge.svg\" alt=\"Open In Colab\"/></a>"
      ]
    },
    {
      "cell_type": "markdown",
      "metadata": {
        "colab_type": "text",
        "id": "EZyiOteN16cD"
      },
      "source": [
        "Lambda School Data Science\n",
        "\n",
        "*Unit 2, Sprint 2, Module 4*\n",
        "\n",
        "---"
      ]
    },
    {
      "cell_type": "markdown",
      "metadata": {
        "colab_type": "text",
        "id": "KMI2k-oBsS08"
      },
      "source": [
        "# Classification Metrics\n",
        "\n",
        "- get and interpret the **confusion matrix** for classification models\n",
        "- use classification metrics: **precision, recall**\n",
        "- understand the relationships between precision, recall, **thresholds, and predicted probabilities**, to help **make decisions and allocate budgets**\n",
        "- Get **ROC AUC** (Receiver Operating Characteristic, Area Under the Curve)"
      ]
    },
    {
      "cell_type": "markdown",
      "metadata": {
        "colab_type": "text",
        "id": "rU7RuVcjWdcp"
      },
      "source": [
        "### Setup\n",
        "\n",
        "Run the code cell below. You can work locally (follow the [local setup instructions](https://lambdaschool.github.io/ds/unit2/local/)) or on Colab.\n",
        "\n",
        "Libraries\n",
        "\n",
        "- category_encoders\n",
        "- ipywidgets\n",
        "- matplotlib\n",
        "- numpy\n",
        "- pandas\n",
        "- scikit-learn\n",
        "- seaborn"
      ]
    },
    {
      "cell_type": "code",
      "metadata": {
        "colab_type": "code",
        "id": "OpFoag9QoTgA",
        "colab": {}
      },
      "source": [
        "%%capture\n",
        "import sys\n",
        "\n",
        "# If you're on Colab:\n",
        "if 'google.colab' in sys.modules:\n",
        "    DATA_PATH = 'https://raw.githubusercontent.com/LambdaSchool/DS-Unit-2-Kaggle-Challenge/master/data/'\n",
        "    !pip install category_encoders==2.*\n",
        "\n",
        "# If you're working locally:\n",
        "else:\n",
        "    DATA_PATH = '../data/'"
      ],
      "execution_count": 0,
      "outputs": []
    },
    {
      "cell_type": "markdown",
      "metadata": {
        "colab_type": "text",
        "id": "EfhziD2Wn_iO"
      },
      "source": [
        "# Get and interpret the confusion matrix for classification models"
      ]
    },
    {
      "cell_type": "markdown",
      "metadata": {
        "id": "sg1daUtcWAnN",
        "colab_type": "text"
      },
      "source": [
        "## Overview"
      ]
    },
    {
      "cell_type": "markdown",
      "metadata": {
        "colab_type": "text",
        "id": "xZNCHldPn_iL"
      },
      "source": [
        "First, load the Tanzania Waterpumps data and fit a model. (This code isn't new, we've seen it all before.)"
      ]
    },
    {
      "cell_type": "code",
      "metadata": {
        "colab_type": "code",
        "id": "t8Cjxzrwn_iL",
        "outputId": "31982058-dc3b-49f0-f7e1-644be7448f0f",
        "colab": {
          "base_uri": "https://localhost:8080/",
          "height": 36
        }
      },
      "source": [
        "%matplotlib inline\n",
        "import category_encoders as ce\n",
        "import matplotlib.pyplot as plt\n",
        "import numpy as np\n",
        "import pandas as pd\n",
        "import seaborn as sns\n",
        "from sklearn.impute import SimpleImputer\n",
        "from sklearn.metrics import accuracy_score\n",
        "from sklearn.model_selection import train_test_split\n",
        "from sklearn.pipeline import make_pipeline\n",
        "from sklearn.ensemble import RandomForestClassifier\n",
        "\n",
        "def wrangle(X):\n",
        "    \"\"\"Wrangles train, validate, and test sets in the same way\"\"\"\n",
        "    X = X.copy()\n",
        "\n",
        "    # Convert date_recorded to datetime\n",
        "    X['date_recorded'] = pd.to_datetime(X['date_recorded'], infer_datetime_format=True)\n",
        "    \n",
        "    # Extract components from date_recorded, then drop the original column\n",
        "    X['year_recorded'] = X['date_recorded'].dt.year\n",
        "    X['month_recorded'] = X['date_recorded'].dt.month\n",
        "    X['day_recorded'] = X['date_recorded'].dt.day\n",
        "    X = X.drop(columns='date_recorded')\n",
        "    \n",
        "    # Engineer feature: how many years from construction_year to date_recorded\n",
        "    X['years'] = X['year_recorded'] - X['construction_year']    \n",
        "    \n",
        "    # Drop recorded_by (never varies) and id (always varies, random)\n",
        "    unusable_variance = ['recorded_by', 'id']\n",
        "    X = X.drop(columns=unusable_variance)\n",
        "    \n",
        "    # Drop duplicate columns\n",
        "    duplicate_columns = ['quantity_group']\n",
        "    X = X.drop(columns=duplicate_columns)\n",
        "    \n",
        "    # About 3% of the time, latitude has small values near zero,\n",
        "    # outside Tanzania, so we'll treat these like null values\n",
        "    X['latitude'] = X['latitude'].replace(-2e-08, np.nan)\n",
        "    \n",
        "    # When columns have zeros and shouldn't, they are like null values\n",
        "    cols_with_zeros = ['construction_year', 'longitude', 'latitude', 'gps_height', 'population']\n",
        "    for col in cols_with_zeros:\n",
        "        X[col] = X[col].replace(0, np.nan)\n",
        "        \n",
        "    return X\n",
        "\n",
        "\n",
        "# Merge train_features.csv & train_labels.csv\n",
        "train = pd.merge(pd.read_csv(DATA_PATH+'waterpumps/train_features.csv'), \n",
        "                 pd.read_csv(DATA_PATH+'waterpumps/train_labels.csv'))\n",
        "\n",
        "# Read test_features.csv & sample_submission.csv\n",
        "test0 = pd.read_csv(DATA_PATH+'waterpumps/test_features.csv')\n",
        "sample_submission = pd.read_csv(DATA_PATH+'waterpumps/sample_submission.csv')\n",
        "\n",
        "# Split train into train & val. Make val the same size as test.\n",
        "target = 'status_group'\n",
        "train, val = train_test_split(train, test_size=len(test),  \n",
        "                              stratify=train[target], random_state=42)\n",
        " \n",
        "# Wrangle train, validate, and test sets in the same way\n",
        "train = wrangle(train)\n",
        "val = wrangle(val)\n",
        "test = wrangle(test0)\n",
        "\n",
        "# Arrange data into X features matrix and y target vector\n",
        "X_train = train.drop(columns=target)\n",
        "y_train = train[target]\n",
        "X_val = val.drop(columns=target)\n",
        "y_val = val[target]\n",
        "X_test = test\n",
        "\n",
        "# Make pipeline!\n",
        "pipeline = make_pipeline(\n",
        "    ce.OrdinalEncoder(), \n",
        "    SimpleImputer(strategy='mean'), \n",
        "    RandomForestClassifier(n_estimators=100, random_state=42, n_jobs=-1)\n",
        ")\n",
        "\n",
        "# Fit on train, score on val\n",
        "pipeline.fit(X_train, y_train)\n",
        "y_pred = pipeline.predict(X_val)\n",
        "print('Validation Accuracy', accuracy_score(y_val, y_pred))"
      ],
      "execution_count": 0,
      "outputs": [
        {
          "output_type": "stream",
          "text": [
            "Validation Accuracy 0.8140409527789386\n"
          ],
          "name": "stdout"
        }
      ]
    },
    {
      "cell_type": "code",
      "metadata": {
        "id": "AtDSzI0g-B_6",
        "colab_type": "code",
        "colab": {}
      },
      "source": [
        "submission = test0[['id']].copy()\n",
        "submission['status_group'] = y_pred\n",
        "submission.to_csv('waterpumps-submission4.csv', index=False)\n"
      ],
      "execution_count": 0,
      "outputs": []
    },
    {
      "cell_type": "code",
      "metadata": {
        "id": "kKVvwFDDAVhY",
        "colab_type": "code",
        "outputId": "6ced89e9-4f8b-4af5-cd25-e0ea435116dc",
        "colab": {
          "base_uri": "https://localhost:8080/",
          "height": 204
        }
      },
      "source": [
        "!head 'waterpumps-submission4.csv'"
      ],
      "execution_count": 0,
      "outputs": [
        {
          "output_type": "stream",
          "text": [
            "id,status_group\n",
            "50785,non functional\n",
            "51630,non functional\n",
            "17168,functional\n",
            "45559,functional\n",
            "49871,non functional\n",
            "52449,functional\n",
            "24806,functional\n",
            "28965,functional\n",
            "36301,non functional\n"
          ],
          "name": "stdout"
        }
      ]
    },
    {
      "cell_type": "markdown",
      "metadata": {
        "id": "nMbLXEKHWAnU",
        "colab_type": "text"
      },
      "source": [
        "## Follow Along\n",
        "\n",
        "Scikit-learn added a [**`plot_confusion_matrix`**](https://scikit-learn.org/stable/modules/generated/sklearn.metrics.plot_confusion_matrix.html) function in version 0.22!"
      ]
    },
    {
      "cell_type": "code",
      "metadata": {
        "colab_type": "code",
        "id": "2MSWehj9n_iO",
        "outputId": "250e5733-0fb5-4608-d962-cee51fdbcb05",
        "colab": {
          "base_uri": "https://localhost:8080/",
          "height": 36
        }
      },
      "source": [
        "# Check scikit-learn version\n",
        "import sklearn\n",
        "sklearn.__version__"
      ],
      "execution_count": 0,
      "outputs": [
        {
          "output_type": "execute_result",
          "data": {
            "text/plain": [
              "'0.22.1'"
            ]
          },
          "metadata": {
            "tags": []
          },
          "execution_count": 59
        }
      ]
    },
    {
      "cell_type": "code",
      "metadata": {
        "id": "K3jhDMw5X6Px",
        "colab_type": "code",
        "colab": {}
      },
      "source": [
        "from sklearn.metrics import plot_confusion_matrix"
      ],
      "execution_count": 0,
      "outputs": []
    },
    {
      "cell_type": "code",
      "metadata": {
        "id": "8tci-hTQX9XZ",
        "colab_type": "code",
        "outputId": "cafa8306-4aad-4e93-a5d5-77189bd787e9",
        "colab": {
          "base_uri": "https://localhost:8080/",
          "height": 389
        }
      },
      "source": [
        "plot_confusion_matrix(pipeline, X_val, y_val, values_format='.0f', xticks_rotation='vertical');"
      ],
      "execution_count": 0,
      "outputs": [
        {
          "output_type": "display_data",
          "data": {
            "image/png": "[encoded data removed]",
            "text/plain": [
              "<Figure size 432x288 with 2 Axes>"
            ]
          },
          "metadata": {
            "tags": []
          }
        }
      ]
    },
    {
      "cell_type": "markdown",
      "metadata": {
        "colab_type": "text",
        "id": "fP6FGBGUn_iQ"
      },
      "source": [
        "#### How many correct predictions were made?"
      ]
    },
    {
      "cell_type": "code",
      "metadata": {
        "colab_type": "code",
        "id": "wRSaYRPWn_iR",
        "outputId": "0a6401cc-e172-4342-b910-af744bf48dec",
        "colab": {
          "base_uri": "https://localhost:8080/",
          "height": 36
        }
      },
      "source": [
        "correct_predictions = 7005 + 332 + 4351\n",
        "correct_predictions"
      ],
      "execution_count": 0,
      "outputs": [
        {
          "output_type": "execute_result",
          "data": {
            "text/plain": [
              "11688"
            ]
          },
          "metadata": {
            "tags": []
          },
          "execution_count": 62
        }
      ]
    },
    {
      "cell_type": "markdown",
      "metadata": {
        "colab_type": "text",
        "id": "-q-3R7Ean_iT"
      },
      "source": [
        "#### How many total predictions were made?"
      ]
    },
    {
      "cell_type": "code",
      "metadata": {
        "colab_type": "code",
        "id": "vLAQL05fn_iT",
        "outputId": "3c80b635-4f43-47ed-fc93-1e700484d581",
        "colab": {
          "base_uri": "https://localhost:8080/",
          "height": 36
        }
      },
      "source": [
        "total_predictions = 7005 + 171 + 622 + 555 + 332 + 156 + 1098 + 68 + 4351\n",
        "total_predictions"
      ],
      "execution_count": 0,
      "outputs": [
        {
          "output_type": "execute_result",
          "data": {
            "text/plain": [
              "14358"
            ]
          },
          "metadata": {
            "tags": []
          },
          "execution_count": 63
        }
      ]
    },
    {
      "cell_type": "markdown",
      "metadata": {
        "colab_type": "text",
        "id": "K1yQ_jYPn_iV"
      },
      "source": [
        "#### What was the classification accuracy?"
      ]
    },
    {
      "cell_type": "code",
      "metadata": {
        "colab_type": "code",
        "id": "fskAC6SYn_iW",
        "outputId": "96d6a238-ff1e-4124-a2a0-fbeea5cc2212",
        "colab": {
          "base_uri": "https://localhost:8080/",
          "height": 36
        }
      },
      "source": [
        "correct_predictions / total_predictions"
      ],
      "execution_count": 0,
      "outputs": [
        {
          "output_type": "execute_result",
          "data": {
            "text/plain": [
              "0.8140409527789386"
            ]
          },
          "metadata": {
            "tags": []
          },
          "execution_count": 64
        }
      ]
    },
    {
      "cell_type": "code",
      "metadata": {
        "id": "7MX2-0djcBxI",
        "colab_type": "code",
        "outputId": "8815c202-119f-4dd1-e1b1-23b2a77e1415",
        "colab": {
          "base_uri": "https://localhost:8080/",
          "height": 36
        }
      },
      "source": [
        "accuracy_score(y_val, y_pred)"
      ],
      "execution_count": 0,
      "outputs": [
        {
          "output_type": "execute_result",
          "data": {
            "text/plain": [
              "0.8140409527789386"
            ]
          },
          "metadata": {
            "tags": []
          },
          "execution_count": 65
        }
      ]
    },
    {
      "cell_type": "code",
      "metadata": {
        "id": "eFEmUPTXcEeY",
        "colab_type": "code",
        "outputId": "543198c3-c866-4916-ab6a-5597bee73807",
        "colab": {
          "base_uri": "https://localhost:8080/",
          "height": 36
        }
      },
      "source": [
        "sum(y_pred == y_val) / len(y_pred)"
      ],
      "execution_count": 0,
      "outputs": [
        {
          "output_type": "execute_result",
          "data": {
            "text/plain": [
              "0.8140409527789386"
            ]
          },
          "metadata": {
            "tags": []
          },
          "execution_count": 66
        }
      ]
    },
    {
      "cell_type": "markdown",
      "metadata": {
        "colab_type": "text",
        "id": "EqFgEm3tn_iY"
      },
      "source": [
        "# Use classification metrics: precision, recall"
      ]
    },
    {
      "cell_type": "markdown",
      "metadata": {
        "id": "aN9ZsaqKWAni",
        "colab_type": "text"
      },
      "source": [
        "## Overview\n",
        "\n",
        "[Scikit-Learn User Guide — Classification Report](https://scikit-learn.org/stable/modules/model_evaluation.html#classification-report)"
      ]
    },
    {
      "cell_type": "code",
      "metadata": {
        "colab_type": "code",
        "id": "mGv7OLL4n_iY",
        "outputId": "ba24ee12-2f2a-4eac-946b-f66b8acfd01e",
        "colab": {
          "base_uri": "https://localhost:8080/",
          "height": 204
        }
      },
      "source": [
        "from sklearn.metrics import classification_report\n",
        "print(classification_report(y_val, y_pred))"
      ],
      "execution_count": 0,
      "outputs": [
        {
          "output_type": "stream",
          "text": [
            "                         precision    recall  f1-score   support\n",
            "\n",
            "             functional       0.81      0.90      0.85      7798\n",
            "functional needs repair       0.58      0.32      0.41      1043\n",
            "         non functional       0.85      0.79      0.82      5517\n",
            "\n",
            "               accuracy                           0.81     14358\n",
            "              macro avg       0.75      0.67      0.69     14358\n",
            "           weighted avg       0.81      0.81      0.81     14358\n",
            "\n"
          ],
          "name": "stdout"
        }
      ]
    },
    {
      "cell_type": "markdown",
      "metadata": {
        "colab_type": "text",
        "id": "Z1U7HdC6n_ia"
      },
      "source": [
        "#### Wikipedia, [Precision and recall](https://en.wikipedia.org/wiki/Precision_and_recall)\n",
        "\n",
        "> Both precision and recall are based on an understanding and measure of relevance.\n",
        "\n",
        "> Suppose a computer program for recognizing dogs in photographs identifies 8 dogs in a picture containing 12 dogs and some cats. Of the 8 identified as dogs, 5 actually are dogs (true positives), while the rest are cats (false positives). The program's precision is 5/8 while its recall is 5/12.\n",
        "\n",
        "> High precision means that an algorithm returned substantially more relevant results than irrelevant ones, while high recall means that an algorithm returned most of the relevant results.\n",
        "\n",
        "<img src=\"https://upload.wikimedia.org/wikipedia/commons/thumb/2/26/Precisionrecall.svg/700px-Precisionrecall.svg.png\" width=\"400\">"
      ]
    },
    {
      "cell_type": "markdown",
      "metadata": {
        "id": "dF_Oj0kTWAnm",
        "colab_type": "text"
      },
      "source": [
        "## Follow Along"
      ]
    },
    {
      "cell_type": "markdown",
      "metadata": {
        "colab_type": "text",
        "id": "50R-Xhwdn_ie"
      },
      "source": [
        "#### [We can get precision & recall from the confusion matrix](https://en.wikipedia.org/wiki/Precision_and_recall#Definition_(classification_context))"
      ]
    },
    {
      "cell_type": "code",
      "metadata": {
        "colab_type": "code",
        "id": "eIta6Vwsn_if",
        "outputId": "359be682-86d4-47ae-924e-3fd6624025fd",
        "colab": {
          "base_uri": "https://localhost:8080/",
          "height": 389
        }
      },
      "source": [
        "cm = plot_confusion_matrix(pipeline, X_val, y_val, values_format='.0f', xticks_rotation='vertical')\n",
        "cm;"
      ],
      "execution_count": 0,
      "outputs": [
        {
          "output_type": "display_data",
          "data": {
            "image/png": "[encoded data removed]",
            "text/plain": [
              "<Figure size 432x288 with 2 Axes>"
            ]
          },
          "metadata": {
            "tags": []
          }
        }
      ]
    },
    {
      "cell_type": "markdown",
      "metadata": {
        "colab_type": "text",
        "id": "iY2rfzA4n_ih"
      },
      "source": [
        "#### How many correct predictions of \"non functional\"?"
      ]
    },
    {
      "cell_type": "code",
      "metadata": {
        "colab_type": "code",
        "id": "O-anLkCin_ii",
        "colab": {}
      },
      "source": [
        "correct_predictions_nonfunctional = 4351"
      ],
      "execution_count": 0,
      "outputs": []
    },
    {
      "cell_type": "markdown",
      "metadata": {
        "colab_type": "text",
        "id": "pYM6f99cn_ij"
      },
      "source": [
        "#### How many total predictions of \"non functional\"?"
      ]
    },
    {
      "cell_type": "code",
      "metadata": {
        "colab_type": "code",
        "id": "_qCiA8j2n_ik",
        "colab": {}
      },
      "source": [
        "total_predictions_nonfunctional = 4351 + 156 + 622"
      ],
      "execution_count": 0,
      "outputs": []
    },
    {
      "cell_type": "markdown",
      "metadata": {
        "colab_type": "text",
        "id": "mXNuZ_Rnn_il"
      },
      "source": [
        "#### What's the precision for \"non functional\"?"
      ]
    },
    {
      "cell_type": "code",
      "metadata": {
        "colab_type": "code",
        "id": "X1f7VsyXn_im",
        "outputId": "15d357be-f0f8-4d1a-de55-93670fa62d18",
        "colab": {
          "base_uri": "https://localhost:8080/",
          "height": 36
        }
      },
      "source": [
        "correct_predictions_nonfunctional / total_predictions_nonfunctional"
      ],
      "execution_count": 0,
      "outputs": [
        {
          "output_type": "execute_result",
          "data": {
            "text/plain": [
              "0.8483135114057321"
            ]
          },
          "metadata": {
            "tags": []
          },
          "execution_count": 71
        }
      ]
    },
    {
      "cell_type": "code",
      "metadata": {
        "id": "c8XrxddYj9ob",
        "colab_type": "code",
        "outputId": "21030bd2-7ebe-45ce-b161-79a77cafe713",
        "colab": {
          "base_uri": "https://localhost:8080/",
          "height": 204
        }
      },
      "source": [
        "print(classification_report(y_val, y_pred))"
      ],
      "execution_count": 0,
      "outputs": [
        {
          "output_type": "stream",
          "text": [
            "                         precision    recall  f1-score   support\n",
            "\n",
            "             functional       0.81      0.90      0.85      7798\n",
            "functional needs repair       0.58      0.32      0.41      1043\n",
            "         non functional       0.85      0.79      0.82      5517\n",
            "\n",
            "               accuracy                           0.81     14358\n",
            "              macro avg       0.75      0.67      0.69     14358\n",
            "           weighted avg       0.81      0.81      0.81     14358\n",
            "\n"
          ],
          "name": "stdout"
        }
      ]
    },
    {
      "cell_type": "markdown",
      "metadata": {
        "colab_type": "text",
        "id": "ci4QguAkn_in"
      },
      "source": [
        "#### How many actual \"non functional\" waterpumps?"
      ]
    },
    {
      "cell_type": "code",
      "metadata": {
        "colab_type": "code",
        "id": "FlqxNhlYn_io",
        "colab": {}
      },
      "source": [
        "actual_nonfunctional = 1098 + 68 + 4351"
      ],
      "execution_count": 0,
      "outputs": []
    },
    {
      "cell_type": "markdown",
      "metadata": {
        "colab_type": "text",
        "id": "9IY-vC-hn_iq"
      },
      "source": [
        "#### What's the recall for \"non functional\"?"
      ]
    },
    {
      "cell_type": "code",
      "metadata": {
        "colab_type": "code",
        "id": "4U3v8lPP4KbP",
        "outputId": "99b1ea6f-7f91-44bc-af72-b1eceaed9334",
        "colab": {
          "base_uri": "https://localhost:8080/",
          "height": 36
        }
      },
      "source": [
        "correct_predictions_nonfunctional / actual_nonfunctional"
      ],
      "execution_count": 0,
      "outputs": [
        {
          "output_type": "execute_result",
          "data": {
            "text/plain": [
              "0.7886532535798442"
            ]
          },
          "metadata": {
            "tags": []
          },
          "execution_count": 74
        }
      ]
    },
    {
      "cell_type": "markdown",
      "metadata": {
        "colab_type": "text",
        "id": "ObVED_ugn_is"
      },
      "source": [
        "# Understand the relationships between precision, recall, thresholds, and predicted probabilities, to help make decisions and allocate budgets"
      ]
    },
    {
      "cell_type": "markdown",
      "metadata": {
        "id": "QjCddOORWAn5",
        "colab_type": "text"
      },
      "source": [
        "## Overview"
      ]
    },
    {
      "cell_type": "markdown",
      "metadata": {
        "colab_type": "text",
        "id": "kBcQQJ2kn_is"
      },
      "source": [
        "### Imagine this scenario...\n",
        "\n",
        "Suppose there are over 14,000 waterpumps that you _do_ have some information about, but you _don't_ know whether they are currently functional, or functional but need repair, or non-functional."
      ]
    },
    {
      "cell_type": "code",
      "metadata": {
        "colab_type": "code",
        "id": "jEEy86CHn_it",
        "outputId": "edca292a-2526-4ab4-bf8c-7dd3acac4405",
        "colab": {
          "base_uri": "https://localhost:8080/",
          "height": 36
        }
      },
      "source": [
        "len(test)"
      ],
      "execution_count": 0,
      "outputs": [
        {
          "output_type": "execute_result",
          "data": {
            "text/plain": [
              "14358"
            ]
          },
          "metadata": {
            "tags": []
          },
          "execution_count": 75
        }
      ]
    },
    {
      "cell_type": "markdown",
      "metadata": {
        "colab_type": "text",
        "id": "3az2llAAn_iu"
      },
      "source": [
        "**You have the time and resources to go to just 2,000 waterpumps for proactive maintenance.** You want to predict, which 2,000 are most likely non-functional or in need of repair, to help you triage and prioritize your waterpump inspections.\n",
        "\n",
        "You have historical inspection data for over 59,000 other waterpumps, which you'll use to fit your predictive model."
      ]
    },
    {
      "cell_type": "code",
      "metadata": {
        "colab_type": "code",
        "id": "pEWc2zt2n_iv",
        "outputId": "52d81160-e698-44fb-99fb-596aaae63569",
        "colab": {
          "base_uri": "https://localhost:8080/",
          "height": 36
        }
      },
      "source": [
        "len(train) + len(val)"
      ],
      "execution_count": 0,
      "outputs": [
        {
          "output_type": "execute_result",
          "data": {
            "text/plain": [
              "59400"
            ]
          },
          "metadata": {
            "tags": []
          },
          "execution_count": 76
        }
      ]
    },
    {
      "cell_type": "markdown",
      "metadata": {
        "colab_type": "text",
        "id": "L2LiGJLin_ix"
      },
      "source": [
        "Based on this historical data, if you randomly chose waterpumps to inspect, then about 46% of the waterpumps would need repairs, and 54% would not need repairs."
      ]
    },
    {
      "cell_type": "code",
      "metadata": {
        "colab_type": "code",
        "id": "JliDXTp5n_iy",
        "outputId": "55c2ff45-8035-4743-86b4-3a5b0e6e9f75",
        "colab": {
          "base_uri": "https://localhost:8080/",
          "height": 92
        }
      },
      "source": [
        "y_train.value_counts(normalize=True)"
      ],
      "execution_count": 0,
      "outputs": [
        {
          "output_type": "execute_result",
          "data": {
            "text/plain": [
              "functional                 0.543071\n",
              "non functional             0.384241\n",
              "functional needs repair    0.072688\n",
              "Name: status_group, dtype: float64"
            ]
          },
          "metadata": {
            "tags": []
          },
          "execution_count": 77
        }
      ]
    },
    {
      "cell_type": "code",
      "metadata": {
        "colab_type": "code",
        "id": "0dP7fjQJeQEX",
        "outputId": "f408d264-cb8d-4c62-d7c0-7180b549b3d1",
        "colab": {
          "base_uri": "https://localhost:8080/",
          "height": 36
        }
      },
      "source": [
        "2000 * 0.46"
      ],
      "execution_count": 0,
      "outputs": [
        {
          "output_type": "execute_result",
          "data": {
            "text/plain": [
              "920.0"
            ]
          },
          "metadata": {
            "tags": []
          },
          "execution_count": 78
        }
      ]
    },
    {
      "cell_type": "markdown",
      "metadata": {
        "colab_type": "text",
        "id": "dLnJ7Fnan_i1"
      },
      "source": [
        "**Can you do better than random at prioritizing inspections?**"
      ]
    },
    {
      "cell_type": "markdown",
      "metadata": {
        "colab_type": "text",
        "id": "sIh2Xj8fn_i3"
      },
      "source": [
        "In this scenario, we should define our target differently. We want to identify which waterpumps are non-functional _or_ are functional but needs repair:"
      ]
    },
    {
      "cell_type": "code",
      "metadata": {
        "colab_type": "code",
        "id": "7naqusI0n_i4",
        "outputId": "01a7fb3c-c3e2-4f06-822c-5263bebf810a",
        "colab": {
          "base_uri": "https://localhost:8080/",
          "height": 73
        }
      },
      "source": [
        "y_train = y_train != 'functional'\n",
        "y_val = y_val != 'functional'\n",
        "y_train.value_counts(normalize=True)"
      ],
      "execution_count": 0,
      "outputs": [
        {
          "output_type": "execute_result",
          "data": {
            "text/plain": [
              "False    0.543071\n",
              "True     0.456929\n",
              "Name: status_group, dtype: float64"
            ]
          },
          "metadata": {
            "tags": []
          },
          "execution_count": 79
        }
      ]
    },
    {
      "cell_type": "markdown",
      "metadata": {
        "colab_type": "text",
        "id": "P1UR1t8Zn_i6"
      },
      "source": [
        "We already made our validation set the same size as our test set."
      ]
    },
    {
      "cell_type": "code",
      "metadata": {
        "colab_type": "code",
        "id": "CHHIplB7n_i8",
        "outputId": "1428c361-c185-4b2f-ce0c-543f1c467355",
        "colab": {
          "base_uri": "https://localhost:8080/",
          "height": 36
        }
      },
      "source": [
        "len(val) == len(test)"
      ],
      "execution_count": 0,
      "outputs": [
        {
          "output_type": "execute_result",
          "data": {
            "text/plain": [
              "True"
            ]
          },
          "metadata": {
            "tags": []
          },
          "execution_count": 80
        }
      ]
    },
    {
      "cell_type": "markdown",
      "metadata": {
        "colab_type": "text",
        "id": "g41DA70rn_i9"
      },
      "source": [
        "We can refit our model, using the redefined target.\n",
        "\n",
        "Then make predictions for the validation set."
      ]
    },
    {
      "cell_type": "code",
      "metadata": {
        "colab_type": "code",
        "id": "VXL0LaXQn_i-",
        "colab": {}
      },
      "source": [
        "pipeline.fit(X_train, y_train)\n",
        "y_pred = pipeline.predict(X_val)"
      ],
      "execution_count": 0,
      "outputs": []
    },
    {
      "cell_type": "markdown",
      "metadata": {
        "id": "ZBFoVpVFWAoN",
        "colab_type": "text"
      },
      "source": [
        "## Follow Along"
      ]
    },
    {
      "cell_type": "markdown",
      "metadata": {
        "colab_type": "text",
        "id": "qISPzM43n_jA"
      },
      "source": [
        "#### Look at the confusion matrix:"
      ]
    },
    {
      "cell_type": "code",
      "metadata": {
        "colab_type": "code",
        "id": "y72fakpmn_jB",
        "outputId": "7548ccb5-7f2c-4b35-b807-af61d71553c8",
        "colab": {
          "base_uri": "https://localhost:8080/",
          "height": 295
        }
      },
      "source": [
        "plot_confusion_matrix(pipeline, X_val, y_val, values_format='.0f', xticks_rotation='vertical');"
      ],
      "execution_count": 0,
      "outputs": [
        {
          "output_type": "display_data",
          "data": {
            "image/png": "[encoded data removed]",
            "text/plain": [
              "<Figure size 432x288 with 2 Axes>"
            ]
          },
          "metadata": {
            "tags": []
          }
        }
      ]
    },
    {
      "cell_type": "markdown",
      "metadata": {
        "colab_type": "text",
        "id": "M30BXR6Rn_jC"
      },
      "source": [
        "#### How many total predictions of \"True\" (\"non functional\" or \"functional needs repair\") ?"
      ]
    },
    {
      "cell_type": "code",
      "metadata": {
        "colab_type": "code",
        "id": "4IeTJFo8n_jD",
        "outputId": "83d297a6-4231-451d-fff1-d2a656750990",
        "colab": {
          "base_uri": "https://localhost:8080/",
          "height": 36
        }
      },
      "source": [
        "5032 + 977"
      ],
      "execution_count": 0,
      "outputs": [
        {
          "output_type": "execute_result",
          "data": {
            "text/plain": [
              "6009"
            ]
          },
          "metadata": {
            "tags": []
          },
          "execution_count": 83
        }
      ]
    },
    {
      "cell_type": "markdown",
      "metadata": {
        "colab_type": "text",
        "id": "1aZSdskSn_jF"
      },
      "source": [
        "### We don't have \"budget\" to take action on all these predictions\n",
        "\n",
        "- But we can get predicted probabilities, to rank the predictions. \n",
        "- Then change the threshold, to change the number of positive predictions, based on our budget."
      ]
    },
    {
      "cell_type": "markdown",
      "metadata": {
        "colab_type": "text",
        "id": "rXkfXDDZn_jF"
      },
      "source": [
        "### Get predicted probabilities and plot the distribution"
      ]
    },
    {
      "cell_type": "code",
      "metadata": {
        "colab_type": "code",
        "id": "jwfe7j7W_jTp",
        "outputId": "ef59b625-51be-491d-f678-a36de57271cb",
        "colab": {
          "base_uri": "https://localhost:8080/",
          "height": 36
        }
      },
      "source": [
        "# Discrete predictions look like this...\n",
        "pipeline.predict(X_val)"
      ],
      "execution_count": 0,
      "outputs": [
        {
          "output_type": "execute_result",
          "data": {
            "text/plain": [
              "array([ True,  True, False, ..., False,  True, False])"
            ]
          },
          "metadata": {
            "tags": []
          },
          "execution_count": 84
        }
      ]
    },
    {
      "cell_type": "code",
      "metadata": {
        "id": "D9nblZTlq5hk",
        "colab_type": "code",
        "outputId": "bc58ec62-4bc9-4d0f-a9a0-b17bddc1f95e",
        "colab": {
          "base_uri": "https://localhost:8080/",
          "height": 148
        }
      },
      "source": [
        "# Predicted probabilities look like this...\n",
        "pipeline.predict_proba(X_val)"
      ],
      "execution_count": 0,
      "outputs": [
        {
          "output_type": "execute_result",
          "data": {
            "text/plain": [
              "array([[0.  , 1.  ],\n",
              "       [0.26, 0.74],\n",
              "       [0.9 , 0.1 ],\n",
              "       ...,\n",
              "       [0.91, 0.09],\n",
              "       [0.41, 0.59],\n",
              "       [0.98, 0.02]])"
            ]
          },
          "metadata": {
            "tags": []
          },
          "execution_count": 85
        }
      ]
    },
    {
      "cell_type": "code",
      "metadata": {
        "id": "l8GwYmqPrq9W",
        "colab_type": "code",
        "outputId": "a5d154ec-e456-4e19-d092-2631b76e70e4",
        "colab": {
          "base_uri": "https://localhost:8080/",
          "height": 36
        }
      },
      "source": [
        "# Predicted probabilities *for the positive class* ...\n",
        "pipeline.predict_proba(X_val)[:, 1]"
      ],
      "execution_count": 0,
      "outputs": [
        {
          "output_type": "execute_result",
          "data": {
            "text/plain": [
              "array([1.  , 0.74, 0.1 , ..., 0.09, 0.59, 0.02])"
            ]
          },
          "metadata": {
            "tags": []
          },
          "execution_count": 86
        }
      ]
    },
    {
      "cell_type": "code",
      "metadata": {
        "id": "_-ibudaysEYW",
        "colab_type": "code",
        "outputId": "26786f5d-ac10-4016-a171-b4258e59019f",
        "colab": {
          "base_uri": "https://localhost:8080/",
          "height": 36
        }
      },
      "source": [
        "# Make predicted probabilities into discrete predictions, \n",
        "# using a \"threshold\"\n",
        "threshold = 0.50\n",
        "pipeline.predict_proba(X_val)[:, 1] > threshold"
      ],
      "execution_count": 0,
      "outputs": [
        {
          "output_type": "execute_result",
          "data": {
            "text/plain": [
              "array([ True,  True, False, ..., False,  True, False])"
            ]
          },
          "metadata": {
            "tags": []
          },
          "execution_count": 87
        }
      ]
    },
    {
      "cell_type": "code",
      "metadata": {
        "id": "KMqMOIkasdre",
        "colab_type": "code",
        "outputId": "f6a09bb5-7df8-4d38-ae49-5b63231551aa",
        "colab": {
          "base_uri": "https://localhost:8080/",
          "height": 265
        }
      },
      "source": [
        "import seaborn as sns\n",
        "\n",
        "y_pred_proba = pipeline.predict_proba(X_val)[:, 1]\n",
        "sns.distplot(y_pred_proba);"
      ],
      "execution_count": 0,
      "outputs": [
        {
          "output_type": "display_data",
          "data": {
            "image/png": "[encoded data removed]",
            "text/plain": [
              "<Figure size 432x288 with 1 Axes>"
            ]
          },
          "metadata": {
            "tags": []
          }
        }
      ]
    },
    {
      "cell_type": "markdown",
      "metadata": {
        "colab_type": "text",
        "id": "eD6pRFKOn_jH"
      },
      "source": [
        "### Change the threshold"
      ]
    },
    {
      "cell_type": "code",
      "metadata": {
        "id": "3UKX9vygtf0Q",
        "colab_type": "code",
        "colab": {}
      },
      "source": [
        "y_pred_proba = pipeline.predict_proba(X_val)[:, 1]"
      ],
      "execution_count": 0,
      "outputs": []
    },
    {
      "cell_type": "code",
      "metadata": {
        "colab_type": "code",
        "id": "SjOhH0BMB55A",
        "outputId": "9ae96eb8-de2b-48b0-89e2-673f1ade6d63",
        "colab": {
          "base_uri": "https://localhost:8080/",
          "height": 321
        }
      },
      "source": [
        "threshold = 0.92\n",
        "\n",
        "y_pred = y_pred_proba > threshold\n",
        "\n",
        "ax = sns.distplot(y_pred_proba)\n",
        "ax.axvline(threshold, color='red')\n",
        "\n",
        "pd.Series(y_pred).value_counts()"
      ],
      "execution_count": 0,
      "outputs": [
        {
          "output_type": "execute_result",
          "data": {
            "text/plain": [
              "False    12325\n",
              "True      2033\n",
              "dtype: int64"
            ]
          },
          "metadata": {
            "tags": []
          },
          "execution_count": 90
        },
        {
          "output_type": "display_data",
          "data": {
            "image/png": "[encoded data removed]",
            "text/plain": [
              "<Figure size 432x288 with 1 Axes>"
            ]
          },
          "metadata": {
            "tags": []
          }
        }
      ]
    },
    {
      "cell_type": "code",
      "metadata": {
        "id": "N_q8Ywustw1l",
        "colab_type": "code",
        "outputId": "1932ec99-5d0a-4c57-ce07-bb5f39f7e017",
        "colab": {
          "base_uri": "https://localhost:8080/",
          "height": 714,
          "referenced_widgets": [
            "a601327d9bc3476e97c479474489c479",
            "98369f1767c847f2af019da4c21e2656",
            "92d3750dfc6c4bb78eabcc0ee52b1dd6",
            "0c5cdd8eb8454018bcd9d0e7a791829c",
            "03ba01bccb1447f0a5f14435de659342",
            "d5ad8b626e434ccf91221ae5d67a514a"
          ]
        }
      },
      "source": [
        "from ipywidgets import interact, fixed\n",
        "import seaborn as sns\n",
        "from sklearn.metrics import confusion_matrix\n",
        "from sklearn.utils.multiclass import unique_labels\n",
        "\n",
        "def my_confusion_matrix(y_true, y_pred):\n",
        "    labels = unique_labels(y_true)\n",
        "    columns = [f'Predicted {label}' for label in labels]\n",
        "    index = [f'Actual {label}' for label in labels]\n",
        "    table = pd.DataFrame(confusion_matrix(y_true, y_pred), \n",
        "                         columns=columns, index=index)\n",
        "    return sns.heatmap(table, annot=True, fmt='d', cmap='viridis')\n",
        "\n",
        "def set_threshold(y_true, y_pred_proba, threshold=0.5):\n",
        "    y_pred = y_pred_proba > threshold\n",
        "    ax = sns.distplot(y_pred_proba)\n",
        "    ax.axvline(threshold, color='red')\n",
        "    plt.show()\n",
        "    print(classification_report(y_true, y_pred))\n",
        "    my_confusion_matrix(y_true, y_pred)\n",
        "\n",
        "interact(set_threshold, \n",
        "         y_true=fixed(y_val), \n",
        "         y_pred_proba=fixed(y_pred_proba), \n",
        "         threshold=(0, 1, 0.02));"
      ],
      "execution_count": 0,
      "outputs": [
        {
          "output_type": "display_data",
          "data": {
            "application/vnd.jupyter.widget-view+json": {
              "model_id": "a601327d9bc3476e97c479474489c479",
              "version_minor": 0,
              "version_major": 2
            },
            "text/plain": [
              "interactive(children=(FloatSlider(value=0.5, description='threshold', max=1.0, step=0.02), Output()), _dom_cla…"
            ]
          },
          "metadata": {
            "tags": []
          }
        }
      ]
    },
    {
      "cell_type": "markdown",
      "metadata": {
        "id": "lDGCJz3cWAoZ",
        "colab_type": "text"
      },
      "source": [
        "### Or, get exactly 2,000 positive predictions"
      ]
    },
    {
      "cell_type": "markdown",
      "metadata": {
        "id": "DXZ9hEhTWAoa",
        "colab_type": "text"
      },
      "source": [
        "Identify the 2,000 waterpumps in the validation set with highest predicted probabilities."
      ]
    },
    {
      "cell_type": "code",
      "metadata": {
        "id": "IZ0YgYTjWAob",
        "colab_type": "code",
        "outputId": "9bf89d8b-3828-48ca-b21a-88604e1182b2",
        "colab": {
          "base_uri": "https://localhost:8080/",
          "height": 424
        }
      },
      "source": [
        "results = pd.DataFrame({'y_val': y_val, 'y_pred_proba': y_pred_proba})\n",
        "results"
      ],
      "execution_count": 0,
      "outputs": [
        {
          "output_type": "execute_result",
          "data": {
            "text/html": [
              "<div>\n",
              "<style scoped>\n",
              "    .dataframe tbody tr th:only-of-type {\n",
              "        vertical-align: middle;\n",
              "    }\n",
              "\n",
              "    .dataframe tbody tr th {\n",
              "        vertical-align: top;\n",
              "    }\n",
              "\n",
              "    .dataframe thead th {\n",
              "        text-align: right;\n",
              "    }\n",
              "</style>\n",
              "<table border=\"1\" class=\"dataframe\">\n",
              "  <thead>\n",
              "    <tr style=\"text-align: right;\">\n",
              "      <th></th>\n",
              "      <th>y_val</th>\n",
              "      <th>y_pred_proba</th>\n",
              "    </tr>\n",
              "  </thead>\n",
              "  <tbody>\n",
              "    <tr>\n",
              "      <th>58046</th>\n",
              "      <td>True</td>\n",
              "      <td>1.00</td>\n",
              "    </tr>\n",
              "    <tr>\n",
              "      <th>41184</th>\n",
              "      <td>True</td>\n",
              "      <td>0.74</td>\n",
              "    </tr>\n",
              "    <tr>\n",
              "      <th>27587</th>\n",
              "      <td>False</td>\n",
              "      <td>0.10</td>\n",
              "    </tr>\n",
              "    <tr>\n",
              "      <th>53109</th>\n",
              "      <td>False</td>\n",
              "      <td>0.05</td>\n",
              "    </tr>\n",
              "    <tr>\n",
              "      <th>7245</th>\n",
              "      <td>True</td>\n",
              "      <td>0.55</td>\n",
              "    </tr>\n",
              "    <tr>\n",
              "      <th>...</th>\n",
              "      <td>...</td>\n",
              "      <td>...</td>\n",
              "    </tr>\n",
              "    <tr>\n",
              "      <th>18760</th>\n",
              "      <td>False</td>\n",
              "      <td>0.68</td>\n",
              "    </tr>\n",
              "    <tr>\n",
              "      <th>36059</th>\n",
              "      <td>True</td>\n",
              "      <td>0.88</td>\n",
              "    </tr>\n",
              "    <tr>\n",
              "      <th>4759</th>\n",
              "      <td>False</td>\n",
              "      <td>0.09</td>\n",
              "    </tr>\n",
              "    <tr>\n",
              "      <th>43621</th>\n",
              "      <td>False</td>\n",
              "      <td>0.59</td>\n",
              "    </tr>\n",
              "    <tr>\n",
              "      <th>45295</th>\n",
              "      <td>False</td>\n",
              "      <td>0.02</td>\n",
              "    </tr>\n",
              "  </tbody>\n",
              "</table>\n",
              "<p>14358 rows × 2 columns</p>\n",
              "</div>"
            ],
            "text/plain": [
              "       y_val  y_pred_proba\n",
              "58046   True          1.00\n",
              "41184   True          0.74\n",
              "27587  False          0.10\n",
              "53109  False          0.05\n",
              "7245    True          0.55\n",
              "...      ...           ...\n",
              "18760  False          0.68\n",
              "36059   True          0.88\n",
              "4759   False          0.09\n",
              "43621  False          0.59\n",
              "45295  False          0.02\n",
              "\n",
              "[14358 rows x 2 columns]"
            ]
          },
          "metadata": {
            "tags": []
          },
          "execution_count": 92
        }
      ]
    },
    {
      "cell_type": "code",
      "metadata": {
        "id": "DTbOVIGxvPh1",
        "colab_type": "code",
        "colab": {}
      },
      "source": [
        "top2000 = results.sort_values(by='y_pred_proba', ascending=False)[:2000]"
      ],
      "execution_count": 0,
      "outputs": []
    },
    {
      "cell_type": "markdown",
      "metadata": {
        "id": "mkyCf4_5WAod",
        "colab_type": "text"
      },
      "source": [
        "Most of these top 2,000 waterpumps will be relevant recommendations, meaning `y_val==True`, meaning the waterpump is non-functional or needs repairs.\n",
        "\n",
        "Some of these top 2,000 waterpumps will be irrelevant recommendations, meaning `y_val==False`, meaning the waterpump is functional and does not need repairs.\n",
        "\n",
        "Let's look at a random sample of 50 out of these top 2,000:"
      ]
    },
    {
      "cell_type": "code",
      "metadata": {
        "id": "SC3pAOcsWAod",
        "colab_type": "code",
        "outputId": "020c1309-a8b3-4a15-a52f-5566479352af",
        "colab": {
          "base_uri": "https://localhost:8080/",
          "height": 1000
        }
      },
      "source": [
        "top2000.sample(n=50)"
      ],
      "execution_count": 0,
      "outputs": [
        {
          "output_type": "execute_result",
          "data": {
            "text/html": [
              "<div>\n",
              "<style scoped>\n",
              "    .dataframe tbody tr th:only-of-type {\n",
              "        vertical-align: middle;\n",
              "    }\n",
              "\n",
              "    .dataframe tbody tr th {\n",
              "        vertical-align: top;\n",
              "    }\n",
              "\n",
              "    .dataframe thead th {\n",
              "        text-align: right;\n",
              "    }\n",
              "</style>\n",
              "<table border=\"1\" class=\"dataframe\">\n",
              "  <thead>\n",
              "    <tr style=\"text-align: right;\">\n",
              "      <th></th>\n",
              "      <th>y_val</th>\n",
              "      <th>y_pred_proba</th>\n",
              "    </tr>\n",
              "  </thead>\n",
              "  <tbody>\n",
              "    <tr>\n",
              "      <th>22562</th>\n",
              "      <td>True</td>\n",
              "      <td>0.99</td>\n",
              "    </tr>\n",
              "    <tr>\n",
              "      <th>51948</th>\n",
              "      <td>True</td>\n",
              "      <td>0.94</td>\n",
              "    </tr>\n",
              "    <tr>\n",
              "      <th>1069</th>\n",
              "      <td>True</td>\n",
              "      <td>0.99</td>\n",
              "    </tr>\n",
              "    <tr>\n",
              "      <th>21449</th>\n",
              "      <td>True</td>\n",
              "      <td>0.96</td>\n",
              "    </tr>\n",
              "    <tr>\n",
              "      <th>31610</th>\n",
              "      <td>True</td>\n",
              "      <td>1.00</td>\n",
              "    </tr>\n",
              "    <tr>\n",
              "      <th>41385</th>\n",
              "      <td>True</td>\n",
              "      <td>0.94</td>\n",
              "    </tr>\n",
              "    <tr>\n",
              "      <th>57754</th>\n",
              "      <td>True</td>\n",
              "      <td>0.96</td>\n",
              "    </tr>\n",
              "    <tr>\n",
              "      <th>25387</th>\n",
              "      <td>True</td>\n",
              "      <td>0.97</td>\n",
              "    </tr>\n",
              "    <tr>\n",
              "      <th>43989</th>\n",
              "      <td>True</td>\n",
              "      <td>0.98</td>\n",
              "    </tr>\n",
              "    <tr>\n",
              "      <th>57503</th>\n",
              "      <td>True</td>\n",
              "      <td>0.95</td>\n",
              "    </tr>\n",
              "    <tr>\n",
              "      <th>46895</th>\n",
              "      <td>True</td>\n",
              "      <td>0.96</td>\n",
              "    </tr>\n",
              "    <tr>\n",
              "      <th>10055</th>\n",
              "      <td>True</td>\n",
              "      <td>0.99</td>\n",
              "    </tr>\n",
              "    <tr>\n",
              "      <th>32499</th>\n",
              "      <td>True</td>\n",
              "      <td>1.00</td>\n",
              "    </tr>\n",
              "    <tr>\n",
              "      <th>5812</th>\n",
              "      <td>True</td>\n",
              "      <td>0.94</td>\n",
              "    </tr>\n",
              "    <tr>\n",
              "      <th>12247</th>\n",
              "      <td>True</td>\n",
              "      <td>0.97</td>\n",
              "    </tr>\n",
              "    <tr>\n",
              "      <th>31919</th>\n",
              "      <td>True</td>\n",
              "      <td>1.00</td>\n",
              "    </tr>\n",
              "    <tr>\n",
              "      <th>47758</th>\n",
              "      <td>True</td>\n",
              "      <td>0.98</td>\n",
              "    </tr>\n",
              "    <tr>\n",
              "      <th>2769</th>\n",
              "      <td>True</td>\n",
              "      <td>0.95</td>\n",
              "    </tr>\n",
              "    <tr>\n",
              "      <th>19063</th>\n",
              "      <td>True</td>\n",
              "      <td>0.96</td>\n",
              "    </tr>\n",
              "    <tr>\n",
              "      <th>21091</th>\n",
              "      <td>True</td>\n",
              "      <td>1.00</td>\n",
              "    </tr>\n",
              "    <tr>\n",
              "      <th>10923</th>\n",
              "      <td>True</td>\n",
              "      <td>0.94</td>\n",
              "    </tr>\n",
              "    <tr>\n",
              "      <th>14402</th>\n",
              "      <td>True</td>\n",
              "      <td>0.98</td>\n",
              "    </tr>\n",
              "    <tr>\n",
              "      <th>36213</th>\n",
              "      <td>True</td>\n",
              "      <td>0.94</td>\n",
              "    </tr>\n",
              "    <tr>\n",
              "      <th>34261</th>\n",
              "      <td>True</td>\n",
              "      <td>1.00</td>\n",
              "    </tr>\n",
              "    <tr>\n",
              "      <th>17202</th>\n",
              "      <td>True</td>\n",
              "      <td>0.93</td>\n",
              "    </tr>\n",
              "    <tr>\n",
              "      <th>23748</th>\n",
              "      <td>True</td>\n",
              "      <td>0.97</td>\n",
              "    </tr>\n",
              "    <tr>\n",
              "      <th>20068</th>\n",
              "      <td>True</td>\n",
              "      <td>0.98</td>\n",
              "    </tr>\n",
              "    <tr>\n",
              "      <th>37756</th>\n",
              "      <td>True</td>\n",
              "      <td>0.98</td>\n",
              "    </tr>\n",
              "    <tr>\n",
              "      <th>43784</th>\n",
              "      <td>True</td>\n",
              "      <td>0.95</td>\n",
              "    </tr>\n",
              "    <tr>\n",
              "      <th>330</th>\n",
              "      <td>True</td>\n",
              "      <td>0.96</td>\n",
              "    </tr>\n",
              "    <tr>\n",
              "      <th>27321</th>\n",
              "      <td>True</td>\n",
              "      <td>1.00</td>\n",
              "    </tr>\n",
              "    <tr>\n",
              "      <th>26506</th>\n",
              "      <td>True</td>\n",
              "      <td>0.93</td>\n",
              "    </tr>\n",
              "    <tr>\n",
              "      <th>40402</th>\n",
              "      <td>True</td>\n",
              "      <td>0.95</td>\n",
              "    </tr>\n",
              "    <tr>\n",
              "      <th>50564</th>\n",
              "      <td>True</td>\n",
              "      <td>0.98</td>\n",
              "    </tr>\n",
              "    <tr>\n",
              "      <th>56883</th>\n",
              "      <td>True</td>\n",
              "      <td>0.98</td>\n",
              "    </tr>\n",
              "    <tr>\n",
              "      <th>8554</th>\n",
              "      <td>True</td>\n",
              "      <td>0.93</td>\n",
              "    </tr>\n",
              "    <tr>\n",
              "      <th>43298</th>\n",
              "      <td>True</td>\n",
              "      <td>0.97</td>\n",
              "    </tr>\n",
              "    <tr>\n",
              "      <th>49626</th>\n",
              "      <td>True</td>\n",
              "      <td>1.00</td>\n",
              "    </tr>\n",
              "    <tr>\n",
              "      <th>48759</th>\n",
              "      <td>True</td>\n",
              "      <td>1.00</td>\n",
              "    </tr>\n",
              "    <tr>\n",
              "      <th>28243</th>\n",
              "      <td>True</td>\n",
              "      <td>0.98</td>\n",
              "    </tr>\n",
              "    <tr>\n",
              "      <th>54608</th>\n",
              "      <td>True</td>\n",
              "      <td>0.93</td>\n",
              "    </tr>\n",
              "    <tr>\n",
              "      <th>5719</th>\n",
              "      <td>True</td>\n",
              "      <td>0.94</td>\n",
              "    </tr>\n",
              "    <tr>\n",
              "      <th>57813</th>\n",
              "      <td>True</td>\n",
              "      <td>0.95</td>\n",
              "    </tr>\n",
              "    <tr>\n",
              "      <th>51986</th>\n",
              "      <td>True</td>\n",
              "      <td>0.98</td>\n",
              "    </tr>\n",
              "    <tr>\n",
              "      <th>34835</th>\n",
              "      <td>True</td>\n",
              "      <td>1.00</td>\n",
              "    </tr>\n",
              "    <tr>\n",
              "      <th>54537</th>\n",
              "      <td>True</td>\n",
              "      <td>1.00</td>\n",
              "    </tr>\n",
              "    <tr>\n",
              "      <th>10284</th>\n",
              "      <td>True</td>\n",
              "      <td>0.94</td>\n",
              "    </tr>\n",
              "    <tr>\n",
              "      <th>32844</th>\n",
              "      <td>True</td>\n",
              "      <td>0.95</td>\n",
              "    </tr>\n",
              "    <tr>\n",
              "      <th>54970</th>\n",
              "      <td>True</td>\n",
              "      <td>0.96</td>\n",
              "    </tr>\n",
              "    <tr>\n",
              "      <th>28951</th>\n",
              "      <td>True</td>\n",
              "      <td>0.95</td>\n",
              "    </tr>\n",
              "  </tbody>\n",
              "</table>\n",
              "</div>"
            ],
            "text/plain": [
              "       y_val  y_pred_proba\n",
              "22562   True          0.99\n",
              "51948   True          0.94\n",
              "1069    True          0.99\n",
              "21449   True          0.96\n",
              "31610   True          1.00\n",
              "41385   True          0.94\n",
              "57754   True          0.96\n",
              "25387   True          0.97\n",
              "43989   True          0.98\n",
              "57503   True          0.95\n",
              "46895   True          0.96\n",
              "10055   True          0.99\n",
              "32499   True          1.00\n",
              "5812    True          0.94\n",
              "12247   True          0.97\n",
              "31919   True          1.00\n",
              "47758   True          0.98\n",
              "2769    True          0.95\n",
              "19063   True          0.96\n",
              "21091   True          1.00\n",
              "10923   True          0.94\n",
              "14402   True          0.98\n",
              "36213   True          0.94\n",
              "34261   True          1.00\n",
              "17202   True          0.93\n",
              "23748   True          0.97\n",
              "20068   True          0.98\n",
              "37756   True          0.98\n",
              "43784   True          0.95\n",
              "330     True          0.96\n",
              "27321   True          1.00\n",
              "26506   True          0.93\n",
              "40402   True          0.95\n",
              "50564   True          0.98\n",
              "56883   True          0.98\n",
              "8554    True          0.93\n",
              "43298   True          0.97\n",
              "49626   True          1.00\n",
              "48759   True          1.00\n",
              "28243   True          0.98\n",
              "54608   True          0.93\n",
              "5719    True          0.94\n",
              "57813   True          0.95\n",
              "51986   True          0.98\n",
              "34835   True          1.00\n",
              "54537   True          1.00\n",
              "10284   True          0.94\n",
              "32844   True          0.95\n",
              "54970   True          0.96\n",
              "28951   True          0.95"
            ]
          },
          "metadata": {
            "tags": []
          },
          "execution_count": 102
        }
      ]
    },
    {
      "cell_type": "markdown",
      "metadata": {
        "id": "RwnOsDcOWAoh",
        "colab_type": "text"
      },
      "source": [
        "So how many of our recommendations were relevant? ..."
      ]
    },
    {
      "cell_type": "code",
      "metadata": {
        "id": "fjZIaSg7WAoh",
        "colab_type": "code",
        "outputId": "38ed1b23-bf03-4803-d12b-4ce4ea63f43d",
        "colab": {
          "base_uri": "https://localhost:8080/",
          "height": 54
        }
      },
      "source": [
        "trips = 2000\n",
        "print(f'Basseline: {trips * 0.46} waterpump repairs in {trips} trips')\n",
        "\n",
        "relevant_recommendations = top2000['y_val'].sum()\n",
        "print(f'With model: Predict {relevant_recommendations} waterpump repairs in {trips} trips')"
      ],
      "execution_count": 0,
      "outputs": [
        {
          "output_type": "stream",
          "text": [
            "Basseline: 920.0 waterpump repairs in 2000 trips\n",
            "With model: Predict 1972 waterpump repairs in 2000 trips\n"
          ],
          "name": "stdout"
        }
      ]
    },
    {
      "cell_type": "markdown",
      "metadata": {
        "id": "jhOpDn7bWAoj",
        "colab_type": "text"
      },
      "source": [
        "What's the precision for this subset of 2,000 predictions?"
      ]
    },
    {
      "cell_type": "code",
      "metadata": {
        "id": "L30Z8-9YWAok",
        "colab_type": "code",
        "outputId": "5e9915dd-44d2-455e-e6c1-ca7310f78090",
        "colab": {
          "base_uri": "https://localhost:8080/",
          "height": 36
        }
      },
      "source": [
        "precision_at_k_2000 = relevant_recommendations / trips\n",
        "print('Precision @ k=2000', precision_at_k_2000)"
      ],
      "execution_count": 0,
      "outputs": [
        {
          "output_type": "stream",
          "text": [
            "Precision @ k=2000 0.986\n"
          ],
          "name": "stdout"
        }
      ]
    },
    {
      "cell_type": "markdown",
      "metadata": {
        "colab_type": "text",
        "id": "top80m_Gn_jI"
      },
      "source": [
        "### In this scenario ... \n",
        "\n",
        "Accuracy _isn't_ the best metric!\n",
        "\n",
        "Instead, change the threshold, to change the number of positive predictions, based on the budget. (You have the time and resources to go to just 2,000 waterpumps for proactive maintenance.)\n",
        "\n",
        "Then, evaluate with the precision for \"non functional\"/\"functional needs repair\".\n",
        "\n",
        "This is conceptually like **Precision@K**, where k=2,000.\n",
        "\n",
        "Read more here: [Recall and Precision at k for Recommender Systems: Detailed Explanation with examples](https://medium.com/@m_n_malaeb/recall-and-precision-at-k-for-recommender-systems-618483226c54)\n",
        "\n",
        "> Precision at k is the proportion of recommended items in the top-k set that are relevant\n",
        "\n",
        "> Mathematically precision@k is defined as: `Precision@k = (# of recommended items @k that are relevant) / (# of recommended items @k)`\n",
        "\n",
        "> In the context of recommendation systems we are most likely interested in recommending top-N items to the user. So it makes more sense to compute precision and recall metrics in the first N items instead of all the items. Thus the notion of precision and recall at k where k is a user definable integer that is set by the user to match the top-N recommendations objective.\n",
        "\n",
        "We asked, can you do better than random at prioritizing inspections?\n",
        "\n",
        "If we had randomly chosen waterpumps to inspect, we estimate that only 920 waterpumps would be repaired after 2,000 maintenance visits. (46%)\n",
        "\n",
        "But using our predictive model, in the validation set, we succesfully identified over 1,900 waterpumps in need of repair!\n",
        "\n",
        "So we will use this predictive model with the dataset of over 14,000 waterpumps that we _do_ have some information about, but we _don't_ know whether they are currently functional, or functional but need repair, or non-functional.\n",
        "\n",
        "We will predict which 2,000 are most likely non-functional or in need of repair.\n",
        "\n",
        "We estimate that approximately 1,900 waterpumps will be repaired after these 2,000 maintenance visits.\n",
        "\n",
        "So we're confident that our predictive model will help triage and prioritize waterpump inspections."
      ]
    },
    {
      "cell_type": "markdown",
      "metadata": {
        "id": "jxKAvCAtWAon",
        "colab_type": "text"
      },
      "source": [
        "### But ...\n",
        "\n",
        "This metric (~1,900 waterpumps repaired after 2,000 maintenance visits) is specific for _one_ classification problem and _one_ possible trade-off.\n",
        "\n",
        "Can we get an evaluation metric that is generic for _all_ classification problems and _all_ possible trade-offs?\n",
        "\n",
        "Yes — the most common such metric is **ROC AUC.**"
      ]
    },
    {
      "cell_type": "markdown",
      "metadata": {
        "id": "TQ8SNJ1aWAon",
        "colab_type": "text"
      },
      "source": [
        "## Get ROC AUC (Receiver Operating Characteristic, Area Under the Curve)\n",
        "\n",
        "[Wikipedia explains,](https://en.wikipedia.org/wiki/Receiver_operating_characteristic) \"A receiver operating characteristic curve, or ROC curve, is a graphical plot that illustrates the diagnostic ability of a binary classifier system as its discrimination threshold is varied. **The ROC curve is created by plotting the true positive rate (TPR) against the false positive rate (FPR) at various threshold settings.**\"\n",
        "\n",
        "ROC AUC is the area under the ROC curve. [It can be interpreted](https://stats.stackexchange.com/questions/132777/what-does-auc-stand-for-and-what-is-it) as \"the expectation that a uniformly drawn random positive is ranked before a uniformly drawn random negative.\" \n",
        "\n",
        "ROC AUC measures **how well a classifier ranks predicted probabilities.** So, when you get your classifier’s ROC AUC score, you need to **use predicted probabilities, not discrete predictions.**\n",
        "\n",
        "ROC AUC ranges **from 0 to 1.** Higher is better. A naive majority class **baseline** will have an ROC AUC score of **0.5.** \n",
        "\n",
        "#### Scikit-Learn docs\n",
        "- [User Guide: Receiver operating characteristic (ROC)](https://scikit-learn.org/stable/modules/model_evaluation.html#receiver-operating-characteristic-roc)\n",
        "- [sklearn.metrics.roc_curve](https://scikit-learn.org/stable/modules/generated/sklearn.metrics.roc_curve.html)\n",
        "- [sklearn.metrics.roc_auc_score](https://scikit-learn.org/stable/modules/generated/sklearn.metrics.roc_auc_score.html)\n",
        "\n",
        "#### More links\n",
        "- [ROC curves and Area Under the Curve explained](https://www.dataschool.io/roc-curves-and-auc-explained/)\n",
        "- [The philosophical argument for using ROC curves](https://lukeoakdenrayner.wordpress.com/2018/01/07/the-philosophical-argument-for-using-roc-curves/)"
      ]
    },
    {
      "cell_type": "code",
      "metadata": {
        "id": "bRS-JTHNWAoo",
        "colab_type": "code",
        "colab": {}
      },
      "source": [
        "# \"The ROC curve is created by plotting the true positive rate (TPR) \n",
        "# against the false positive rate (FPR) \n",
        "# at various threshold settings.\"\n",
        "\n",
        "# Use scikit-learn to calculate TPR & FPR at various thresholds\n",
        "from sklearn.metrics import roc_curve\n",
        "fpr, tpr, thresholds = roc_curve(y_val, y_pred_proba)"
      ],
      "execution_count": 0,
      "outputs": []
    },
    {
      "cell_type": "code",
      "metadata": {
        "id": "vDZysu2xWAos",
        "colab_type": "code",
        "outputId": "01ff6f65-f9b3-4ee1-d523-820ddfc39fd4",
        "colab": {
          "base_uri": "https://localhost:8080/",
          "height": 424
        }
      },
      "source": [
        "# See the results in a table\n",
        "pd.DataFrame({\n",
        "    'False Positive Rate': fpr, \n",
        "    'True Positive Rate': tpr, \n",
        "    'Threshold': thresholds\n",
        "})"
      ],
      "execution_count": 0,
      "outputs": [
        {
          "output_type": "execute_result",
          "data": {
            "text/html": [
              "<div>\n",
              "<style scoped>\n",
              "    .dataframe tbody tr th:only-of-type {\n",
              "        vertical-align: middle;\n",
              "    }\n",
              "\n",
              "    .dataframe tbody tr th {\n",
              "        vertical-align: top;\n",
              "    }\n",
              "\n",
              "    .dataframe thead th {\n",
              "        text-align: right;\n",
              "    }\n",
              "</style>\n",
              "<table border=\"1\" class=\"dataframe\">\n",
              "  <thead>\n",
              "    <tr style=\"text-align: right;\">\n",
              "      <th></th>\n",
              "      <th>False Positive Rate</th>\n",
              "      <th>True Positive Rate</th>\n",
              "      <th>Threshold</th>\n",
              "    </tr>\n",
              "  </thead>\n",
              "  <tbody>\n",
              "    <tr>\n",
              "      <th>0</th>\n",
              "      <td>0.000000</td>\n",
              "      <td>0.000000</td>\n",
              "      <td>2.00</td>\n",
              "    </tr>\n",
              "    <tr>\n",
              "      <th>1</th>\n",
              "      <td>0.000385</td>\n",
              "      <td>0.062652</td>\n",
              "      <td>1.00</td>\n",
              "    </tr>\n",
              "    <tr>\n",
              "      <th>2</th>\n",
              "      <td>0.000641</td>\n",
              "      <td>0.114787</td>\n",
              "      <td>0.99</td>\n",
              "    </tr>\n",
              "    <tr>\n",
              "      <th>3</th>\n",
              "      <td>0.000769</td>\n",
              "      <td>0.155793</td>\n",
              "      <td>0.98</td>\n",
              "    </tr>\n",
              "    <tr>\n",
              "      <th>4</th>\n",
              "      <td>0.001282</td>\n",
              "      <td>0.196037</td>\n",
              "      <td>0.97</td>\n",
              "    </tr>\n",
              "    <tr>\n",
              "      <th>...</th>\n",
              "      <td>...</td>\n",
              "      <td>...</td>\n",
              "      <td>...</td>\n",
              "    </tr>\n",
              "    <tr>\n",
              "      <th>102</th>\n",
              "      <td>0.882662</td>\n",
              "      <td>0.996341</td>\n",
              "      <td>0.04</td>\n",
              "    </tr>\n",
              "    <tr>\n",
              "      <th>103</th>\n",
              "      <td>0.904976</td>\n",
              "      <td>0.997104</td>\n",
              "      <td>0.03</td>\n",
              "    </tr>\n",
              "    <tr>\n",
              "      <th>104</th>\n",
              "      <td>0.930239</td>\n",
              "      <td>0.998171</td>\n",
              "      <td>0.02</td>\n",
              "    </tr>\n",
              "    <tr>\n",
              "      <th>105</th>\n",
              "      <td>0.954604</td>\n",
              "      <td>0.998933</td>\n",
              "      <td>0.01</td>\n",
              "    </tr>\n",
              "    <tr>\n",
              "      <th>106</th>\n",
              "      <td>1.000000</td>\n",
              "      <td>1.000000</td>\n",
              "      <td>0.00</td>\n",
              "    </tr>\n",
              "  </tbody>\n",
              "</table>\n",
              "<p>107 rows × 3 columns</p>\n",
              "</div>"
            ],
            "text/plain": [
              "     False Positive Rate  True Positive Rate  Threshold\n",
              "0               0.000000            0.000000       2.00\n",
              "1               0.000385            0.062652       1.00\n",
              "2               0.000641            0.114787       0.99\n",
              "3               0.000769            0.155793       0.98\n",
              "4               0.001282            0.196037       0.97\n",
              "..                   ...                 ...        ...\n",
              "102             0.882662            0.996341       0.04\n",
              "103             0.904976            0.997104       0.03\n",
              "104             0.930239            0.998171       0.02\n",
              "105             0.954604            0.998933       0.01\n",
              "106             1.000000            1.000000       0.00\n",
              "\n",
              "[107 rows x 3 columns]"
            ]
          },
          "metadata": {
            "tags": []
          },
          "execution_count": 98
        }
      ]
    },
    {
      "cell_type": "code",
      "metadata": {
        "id": "fBxgkKKXWAov",
        "colab_type": "code",
        "outputId": "e2e0ba6e-0046-43c4-af34-31458b4bfe9f",
        "colab": {
          "base_uri": "https://localhost:8080/",
          "height": 295
        }
      },
      "source": [
        "# See the results on a plot. \n",
        "# This is the \"Receiver Operating Characteristic\" curve\n",
        "plt.scatter(fpr, tpr)\n",
        "plt.title('ROC curve')\n",
        "plt.xlabel('False Positive Rate')\n",
        "plt.ylabel('True Positive Rate');"
      ],
      "execution_count": 0,
      "outputs": [
        {
          "output_type": "display_data",
          "data": {
            "image/png": "[encoded data removed]",
            "text/plain": [
              "<Figure size 432x288 with 1 Axes>"
            ]
          },
          "metadata": {
            "tags": []
          }
        }
      ]
    },
    {
      "cell_type": "code",
      "metadata": {
        "id": "MpRRVxZNWAox",
        "colab_type": "code",
        "outputId": "ce95340b-7f6f-495b-8a57-294189775c77",
        "colab": {
          "base_uri": "https://localhost:8080/",
          "height": 36
        }
      },
      "source": [
        "# Use scikit-learn to calculate the area under the curve.\n",
        "from sklearn.metrics import roc_auc_score\n",
        "roc_auc_score(y_val, y_pred_proba)"
      ],
      "execution_count": 0,
      "outputs": [
        {
          "output_type": "execute_result",
          "data": {
            "text/plain": [
              "0.9024268359147749"
            ]
          },
          "metadata": {
            "tags": []
          },
          "execution_count": 103
        }
      ]
    },
    {
      "cell_type": "markdown",
      "metadata": {
        "id": "8Qr_hoKHWAo0",
        "colab_type": "text"
      },
      "source": [
        "**Recap:** ROC AUC measures how well a classifier ranks predicted probabilities. So, when you get your classifier’s ROC AUC score, you need to use predicted probabilities, not discrete predictions. \n",
        "\n",
        "Your code may look something like this:\n",
        "\n",
        "```python\n",
        "from sklearn.metrics import roc_auc_score\n",
        "y_pred_proba = model.predict_proba(X_test_transformed)[:, -1] # Probability for last class\n",
        "print('Test ROC AUC:', roc_auc_score(y_test, y_pred_proba))\n",
        "```\n",
        "\n",
        "ROC AUC ranges from 0 to 1. Higher is better. A naive majority class baseline will have an ROC AUC score of 0.5."
      ]
    },
    {
      "cell_type": "code",
      "metadata": {
        "id": "aiMAAQ9XoCy_",
        "colab_type": "code",
        "outputId": "55503042-eb04-49ba-97e4-d0fd30cf58e0",
        "colab": {
          "base_uri": "https://localhost:8080/",
          "height": 213
        }
      },
      "source": [
        "C"
      ],
      "execution_count": 0,
      "outputs": [
        {
          "output_type": "error",
          "ename": "NameError",
          "evalue": "ignored",
          "traceback": [
            "\u001b[0;31m---------------------------------------------------------------------------\u001b[0m",
            "\u001b[0;31mNameError\u001b[0m                                 Traceback (most recent call last)",
            "\u001b[0;32m<ipython-input-104-e09782a0788d>\u001b[0m in \u001b[0;36m<module>\u001b[0;34m()\u001b[0m\n\u001b[1;32m      1\u001b[0m \u001b[0;32mfrom\u001b[0m \u001b[0msklearn\u001b[0m\u001b[0;34m.\u001b[0m\u001b[0mmetrics\u001b[0m \u001b[0;32mimport\u001b[0m \u001b[0mroc_auc_score\u001b[0m\u001b[0;34m\u001b[0m\u001b[0;34m\u001b[0m\u001b[0m\n\u001b[0;32m----> 2\u001b[0;31m \u001b[0my_pred_proba\u001b[0m \u001b[0;34m=\u001b[0m \u001b[0mmodel\u001b[0m\u001b[0;34m.\u001b[0m\u001b[0mpredict_proba\u001b[0m\u001b[0;34m(\u001b[0m\u001b[0mX_test_transformed\u001b[0m\u001b[0;34m)\u001b[0m\u001b[0;34m[\u001b[0m\u001b[0;34m:\u001b[0m\u001b[0;34m,\u001b[0m \u001b[0;34m-\u001b[0m\u001b[0;36m1\u001b[0m\u001b[0;34m]\u001b[0m \u001b[0;31m# Probability for last class\u001b[0m\u001b[0;34m\u001b[0m\u001b[0;34m\u001b[0m\u001b[0m\n\u001b[0m\u001b[1;32m      3\u001b[0m \u001b[0mprint\u001b[0m\u001b[0;34m(\u001b[0m\u001b[0;34m'Test ROC AUC:'\u001b[0m\u001b[0;34m,\u001b[0m \u001b[0mroc_auc_score\u001b[0m\u001b[0;34m(\u001b[0m\u001b[0my_test\u001b[0m\u001b[0;34m,\u001b[0m \u001b[0my_pred_proba\u001b[0m\u001b[0;34m)\u001b[0m\u001b[0;34m)\u001b[0m\u001b[0;34m\u001b[0m\u001b[0;34m\u001b[0m\u001b[0m\n",
            "\u001b[0;31mNameError\u001b[0m: name 'model' is not defined"
          ]
        }
      ]
    }
  ]
}