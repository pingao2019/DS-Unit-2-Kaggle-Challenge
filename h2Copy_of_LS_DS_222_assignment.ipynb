{
  "nbformat": 4,
  "nbformat_minor": 0,
  "metadata": {
    "kernelspec": {
      "display_name": "Python 3",
      "language": "python",
      "name": "python3"
    },
    "language_info": {
      "codemirror_mode": {
        "name": "ipython",
        "version": 3
      },
      "file_extension": ".py",
      "mimetype": "text/x-python",
      "name": "python",
      "nbconvert_exporter": "python",
      "pygments_lexer": "ipython3",
      "version": "3.7.3"
    },
    "colab": {
      "name": "h2Copy of LS_DS_222_assignment.ipynb",
      "provenance": [],
      "collapsed_sections": [],
      "include_colab_link": true
    },
    "widgets": {
      "application/vnd.jupyter.widget-state+json": {
        "02412eb495f444778408f6f625d2323e": {
          "model_module": "@jupyter-widgets/controls",
          "model_name": "VBoxModel",
          "state": {
            "_view_name": "VBoxView",
            "_dom_classes": [
              "widget-interact"
            ],
            "_model_name": "VBoxModel",
            "_view_module": "@jupyter-widgets/controls",
            "_model_module_version": "1.5.0",
            "_view_count": null,
            "_view_module_version": "1.5.0",
            "box_style": "",
            "layout": "IPY_MODEL_9380f8116e694150857229a893d9c8b7",
            "_model_module": "@jupyter-widgets/controls",
            "children": [
              "IPY_MODEL_78a618241af54ceeace34f1595f23bf1",
              "IPY_MODEL_169ced4e479d476c9987b482bfe1b9ee",
              "IPY_MODEL_18bd3fca22864d459a29567e5c409ba9"
            ]
          }
        },
        "9380f8116e694150857229a893d9c8b7": {
          "model_module": "@jupyter-widgets/base",
          "model_name": "LayoutModel",
          "state": {
            "_view_name": "LayoutView",
            "grid_template_rows": null,
            "right": null,
            "justify_content": null,
            "_view_module": "@jupyter-widgets/base",
            "overflow": null,
            "_model_module_version": "1.2.0",
            "_view_count": null,
            "flex_flow": null,
            "width": null,
            "min_width": null,
            "border": null,
            "align_items": null,
            "bottom": null,
            "_model_module": "@jupyter-widgets/base",
            "top": null,
            "grid_column": null,
            "overflow_y": null,
            "overflow_x": null,
            "grid_auto_flow": null,
            "grid_area": null,
            "grid_template_columns": null,
            "flex": null,
            "_model_name": "LayoutModel",
            "justify_items": null,
            "grid_row": null,
            "max_height": null,
            "align_content": null,
            "visibility": null,
            "align_self": null,
            "height": null,
            "min_height": null,
            "padding": null,
            "grid_auto_rows": null,
            "grid_gap": null,
            "max_width": null,
            "order": null,
            "_view_module_version": "1.2.0",
            "grid_template_areas": null,
            "object_position": null,
            "object_fit": null,
            "grid_auto_columns": null,
            "margin": null,
            "display": null,
            "left": null
          }
        },
        "78a618241af54ceeace34f1595f23bf1": {
          "model_module": "@jupyter-widgets/controls",
          "model_name": "IntSliderModel",
          "state": {
            "_view_name": "IntSliderView",
            "style": "IPY_MODEL_70ecc56b854745eba15ccaaf48a26cbe",
            "_dom_classes": [],
            "description": "max_depth",
            "step": 1,
            "_model_name": "IntSliderModel",
            "orientation": "horizontal",
            "max": 6,
            "_view_module": "@jupyter-widgets/controls",
            "_model_module_version": "1.5.0",
            "value": 1,
            "_view_count": null,
            "disabled": false,
            "_view_module_version": "1.5.0",
            "min": 1,
            "continuous_update": true,
            "readout_format": "d",
            "description_tooltip": null,
            "readout": true,
            "_model_module": "@jupyter-widgets/controls",
            "layout": "IPY_MODEL_d84e690e493449f29825d592e80de627"
          }
        },
        "169ced4e479d476c9987b482bfe1b9ee": {
          "model_module": "@jupyter-widgets/controls",
          "model_name": "IntSliderModel",
          "state": {
            "_view_name": "IntSliderView",
            "style": "IPY_MODEL_6225b3a08c964f3caad30f95f91fffc3",
            "_dom_classes": [],
            "description": "n_estimators",
            "step": 10,
            "_model_name": "IntSliderModel",
            "orientation": "horizontal",
            "max": 40,
            "_view_module": "@jupyter-widgets/controls",
            "_model_module_version": "1.5.0",
            "value": 10,
            "_view_count": null,
            "disabled": false,
            "_view_module_version": "1.5.0",
            "min": 10,
            "continuous_update": true,
            "readout_format": "d",
            "description_tooltip": null,
            "readout": true,
            "_model_module": "@jupyter-widgets/controls",
            "layout": "IPY_MODEL_99e67338ae6a41d5910497fb226d7179"
          }
        },
        "18bd3fca22864d459a29567e5c409ba9": {
          "model_module": "@jupyter-widgets/output",
          "model_name": "OutputModel",
          "state": {
            "_view_name": "OutputView",
            "msg_id": "",
            "_dom_classes": [],
            "_model_name": "OutputModel",
            "outputs": [
              {
                "output_type": "display_data",
                "metadata": {
                  "tags": []
                },
                "image/png": "iVBORw0KGgoAAAANSUhEUgAAAVoAAAEFCAYAAACiiS9UAAAABHNCSVQICAgIfAhkiAAAAAlwSFlz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\nrkJggg==\n",
                "text/plain": "<Figure size 432x288 with 2 Axes>"
              },
              {
                "output_type": "display_data",
                "metadata": {
                  "tags": []
                },
                "image/png": "iVBORw0KGgoAAAANSUhEUgAAAVoAAAEFCAYAAACiiS9UAAAABHNCSVQICAgIfAhkiAAAAAlwSFlz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\n",
                "text/plain": "<Figure size 432x288 with 2 Axes>"
              },
              {
                "output_type": "display_data",
                "metadata": {
                  "tags": []
                },
                "image/png": "iVBORw0KGgoAAAANSUhEUgAAAVoAAAEFCAYAAACiiS9UAAAABHNCSVQICAgIfAhkiAAAAAlwSFlz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\nAAAAAElFTkSuQmCC\n",
                "text/plain": "<Figure size 432x288 with 2 Axes>"
              }
            ],
            "_view_module": "@jupyter-widgets/output",
            "_model_module_version": "1.0.0",
            "_view_count": null,
            "_view_module_version": "1.0.0",
            "layout": "IPY_MODEL_f5c5e282d3c242ba87af0b83280e4463",
            "_model_module": "@jupyter-widgets/output"
          }
        },
        "70ecc56b854745eba15ccaaf48a26cbe": {
          "model_module": "@jupyter-widgets/controls",
          "model_name": "SliderStyleModel",
          "state": {
            "_view_name": "StyleView",
            "handle_color": null,
            "_model_name": "SliderStyleModel",
            "description_width": "",
            "_view_module": "@jupyter-widgets/base",
            "_model_module_version": "1.5.0",
            "_view_count": null,
            "_view_module_version": "1.2.0",
            "_model_module": "@jupyter-widgets/controls"
          }
        },
        "d84e690e493449f29825d592e80de627": {
          "model_module": "@jupyter-widgets/base",
          "model_name": "LayoutModel",
          "state": {
            "_view_name": "LayoutView",
            "grid_template_rows": null,
            "right": null,
            "justify_content": null,
            "_view_module": "@jupyter-widgets/base",
            "overflow": null,
            "_model_module_version": "1.2.0",
            "_view_count": null,
            "flex_flow": null,
            "width": null,
            "min_width": null,
            "border": null,
            "align_items": null,
            "bottom": null,
            "_model_module": "@jupyter-widgets/base",
            "top": null,
            "grid_column": null,
            "overflow_y": null,
            "overflow_x": null,
            "grid_auto_flow": null,
            "grid_area": null,
            "grid_template_columns": null,
            "flex": null,
            "_model_name": "LayoutModel",
            "justify_items": null,
            "grid_row": null,
            "max_height": null,
            "align_content": null,
            "visibility": null,
            "align_self": null,
            "height": null,
            "min_height": null,
            "padding": null,
            "grid_auto_rows": null,
            "grid_gap": null,
            "max_width": null,
            "order": null,
            "_view_module_version": "1.2.0",
            "grid_template_areas": null,
            "object_position": null,
            "object_fit": null,
            "grid_auto_columns": null,
            "margin": null,
            "display": null,
            "left": null
          }
        },
        "6225b3a08c964f3caad30f95f91fffc3": {
          "model_module": "@jupyter-widgets/controls",
          "model_name": "SliderStyleModel",
          "state": {
            "_view_name": "StyleView",
            "handle_color": null,
            "_model_name": "SliderStyleModel",
            "description_width": "",
            "_view_module": "@jupyter-widgets/base",
            "_model_module_version": "1.5.0",
            "_view_count": null,
            "_view_module_version": "1.2.0",
            "_model_module": "@jupyter-widgets/controls"
          }
        },
        "99e67338ae6a41d5910497fb226d7179": {
          "model_module": "@jupyter-widgets/base",
          "model_name": "LayoutModel",
          "state": {
            "_view_name": "LayoutView",
            "grid_template_rows": null,
            "right": null,
            "justify_content": null,
            "_view_module": "@jupyter-widgets/base",
            "overflow": null,
            "_model_module_version": "1.2.0",
            "_view_count": null,
            "flex_flow": null,
            "width": null,
            "min_width": null,
            "border": null,
            "align_items": null,
            "bottom": null,
            "_model_module": "@jupyter-widgets/base",
            "top": null,
            "grid_column": null,
            "overflow_y": null,
            "overflow_x": null,
            "grid_auto_flow": null,
            "grid_area": null,
            "grid_template_columns": null,
            "flex": null,
            "_model_name": "LayoutModel",
            "justify_items": null,
            "grid_row": null,
            "max_height": null,
            "align_content": null,
            "visibility": null,
            "align_self": null,
            "height": null,
            "min_height": null,
            "padding": null,
            "grid_auto_rows": null,
            "grid_gap": null,
            "max_width": null,
            "order": null,
            "_view_module_version": "1.2.0",
            "grid_template_areas": null,
            "object_position": null,
            "object_fit": null,
            "grid_auto_columns": null,
            "margin": null,
            "display": null,
            "left": null
          }
        },
        "c75f63f49419451485fe2067d9fa0c96": {
          "model_module": "@jupyter-widgets/controls",
          "model_name": "VBoxModel",
          "state": {
            "_view_name": "VBoxView",
            "_dom_classes": [
              "widget-interact"
            ],
            "_model_name": "VBoxModel",
            "_view_module": "@jupyter-widgets/controls",
            "_model_module_version": "1.5.0",
            "_view_count": null,
            "_view_module_version": "1.5.0",
            "box_style": "",
            "layout": "IPY_MODEL_19ecedaaef484629bdb40a9c4ec18b00",
            "_model_module": "@jupyter-widgets/controls",
            "children": [
              "IPY_MODEL_5d74998b16354dbbb6da4702e982880b",
              "IPY_MODEL_ca7606c0c38146b8b2024feeb02234b9",
              "IPY_MODEL_c0c379f9b5d34f5ba307f3fe0d92d3cc"
            ]
          }
        },
        "19ecedaaef484629bdb40a9c4ec18b00": {
          "model_module": "@jupyter-widgets/base",
          "model_name": "LayoutModel",
          "state": {
            "_view_name": "LayoutView",
            "grid_template_rows": null,
            "right": null,
            "justify_content": null,
            "_view_module": "@jupyter-widgets/base",
            "overflow": null,
            "_model_module_version": "1.2.0",
            "_view_count": null,
            "flex_flow": null,
            "width": null,
            "min_width": null,
            "border": null,
            "align_items": null,
            "bottom": null,
            "_model_module": "@jupyter-widgets/base",
            "top": null,
            "grid_column": null,
            "overflow_y": null,
            "overflow_x": null,
            "grid_auto_flow": null,
            "grid_area": null,
            "grid_template_columns": null,
            "flex": null,
            "_model_name": "LayoutModel",
            "justify_items": null,
            "grid_row": null,
            "max_height": null,
            "align_content": null,
            "visibility": null,
            "align_self": null,
            "height": null,
            "min_height": null,
            "padding": null,
            "grid_auto_rows": null,
            "grid_gap": null,
            "max_width": null,
            "order": null,
            "_view_module_version": "1.2.0",
            "grid_template_areas": null,
            "object_position": null,
            "object_fit": null,
            "grid_auto_columns": null,
            "margin": null,
            "display": null,
            "left": null
          }
        },
        "5d74998b16354dbbb6da4702e982880b": {
          "model_module": "@jupyter-widgets/controls",
          "model_name": "IntSliderModel",
          "state": {
            "_view_name": "IntSliderView",
            "style": "IPY_MODEL_2f15f86a76164fbcae004b13a10646b5",
            "_dom_classes": [],
            "description": "max_depth",
            "step": 1,
            "_model_name": "IntSliderModel",
            "orientation": "horizontal",
            "max": 6,
            "_view_module": "@jupyter-widgets/controls",
            "_model_module_version": "1.5.0",
            "value": 2,
            "_view_count": null,
            "disabled": false,
            "_view_module_version": "1.5.0",
            "min": 1,
            "continuous_update": true,
            "readout_format": "d",
            "description_tooltip": null,
            "readout": true,
            "_model_module": "@jupyter-widgets/controls",
            "layout": "IPY_MODEL_e51323afa4dc4ca99a235614def1c39f"
          }
        },
        "ca7606c0c38146b8b2024feeb02234b9": {
          "model_module": "@jupyter-widgets/controls",
          "model_name": "IntSliderModel",
          "state": {
            "_view_name": "IntSliderView",
            "style": "IPY_MODEL_87087bf1718e4d6db35d9d229c4c19ad",
            "_dom_classes": [],
            "description": "n_estimators",
            "step": 1,
            "_model_name": "IntSliderModel",
            "orientation": "horizontal",
            "max": 5,
            "_view_module": "@jupyter-widgets/controls",
            "_model_module_version": "1.5.0",
            "value": 2,
            "_view_count": null,
            "disabled": false,
            "_view_module_version": "1.5.0",
            "min": 2,
            "continuous_update": true,
            "readout_format": "d",
            "description_tooltip": null,
            "readout": true,
            "_model_module": "@jupyter-widgets/controls",
            "layout": "IPY_MODEL_5de64fc7445f41548b8df5e17ff76568"
          }
        },
        "c0c379f9b5d34f5ba307f3fe0d92d3cc": {
          "model_module": "@jupyter-widgets/output",
          "model_name": "OutputModel",
          "state": {
            "_view_name": "OutputView",
            "msg_id": "",
            "_dom_classes": [],
            "_model_name": "OutputModel",
            "outputs": [
              {
                "output_type": "display_data",
                "metadata": {
                  "tags": []
                },
                "image/png": "iVBORw0KGgoAAAANSUhEUgAAAVoAAAEFCAYAAACiiS9UAAAABHNCSVQICAgIfAhkiAAAAAlwSFlz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\nJDVmopWkxv4f1ImMRQsgRQEAAAAASUVORK5CYII=\n",
                "text/plain": "<Figure size 432x288 with 2 Axes>"
              },
              {
                "output_type": "display_data",
                "metadata": {
                  "tags": []
                },
                "image/png": "iVBORw0KGgoAAAANSUhEUgAAAVoAAAEFCAYAAACiiS9UAAAABHNCSVQICAgIfAhkiAAAAAlwSFlz\nAAALEgAACxIB0t1+/AAAADh0RVh0U29mdHdhcmUAbWF0cGxvdGxpYiB2ZXJzaW9uMy4xLjMsIGh0\ndHA6Ly9tYXRwbG90bGliLm9yZy+AADFEAAASO0lEQVR4nO3dfbBdVXnH8e8vUYo1aK2otQQVEV+i\n0koRrbZqR7QBK2h9A+tYHTWtSsfxrUVrrVLbam11himjxBbfRkHF2l4lSlvfaFUkUZRKLBoDQqIV\n8QXBN8i9T/84J3K45t5zDjkr5+zL98Osydlrr7v2OjPMM888e+19UlVIktpZNe0FSNJKZ6CVpMYM\ntJLUmIFWkhoz0EpSYwZaSWrMQCtJjRlotawk1w60hSQ/Hjj+g8bX3j/JGUkuT3JNks8n+d2W15Ra\nuMW0F6DZVlVrdn9Ochnw7Kr6z6XGJ7lFVe2a0OX3Ay4Dfhu4AngscHaSdVV1xYSuITVnRqu9kuQ1\nSd6T5Mwk1wBPS7IqycuTfC3JVUnOSnK7gb95aJLzk3w/yReSPGxPc1fVD6rqlKr6elUtVNW/0Qu4\nR+yjrydNhIFWk/B44N3AbYH3AC8EHgM8DFgLXAucCpDkYGAO+Evgl4GTgX9JcvthF0lyZ+BQYOvk\nv4LUjoFWk/DfVfXBftb5Y+CPgZdX1c6q+gnwauBJSVYBTwfmqurc/viPAF8E1i93gST70Qvm/1RV\nX237daTJskarSVhcL70L8MEkC4v67wjcFTgxyeMH+m8JfGSpyZOsBt5FLzN+wd4vV9q3DLSahMWv\ngNsBPLWqPrt4YJIrgLdW1XNHmbifBb8VuB3wmAneaJP2GUsHauHNwN8kuQtAkjsmOa5/7p3A45M8\nKsnq/hau30nyq4snSRLgdHp12eOr6qf76gtIk2SgVQtvoFcK+Gh/J8KngQcCVNVl9G6e/QXwbeBy\n4MXs+f/FuwPPprfL4FsD+3ef0vwbSBMUX/wtSW2Z0UpSYwZaSRrQf+z7yiRfWuJ8kpyaZFuSi5IM\nfYDGQCtJN/Y2lt/XfQxwWL9tAN40bEIDrSQNqKrzgO8uM+R44B3Vcz7wS/2nFpfUZB/tp+/8BO+w\nddi9jrxq2ktYMb61dc3wQTdz6752TvZ2juuv2j5yzNnvDof+Eb1MdLeNVbVxjMsdxI0f0tnR7/vm\nUn/gAwuSblb6QXWcwLrXDLSSum9hfl9ebSdw8MDx2n7fkqzRSuq++V2jt703Bzy9v/vgwcDVVbVk\n2QDMaCWtAFWL31900yU5E3gEcGCSHfRe6XnL3nXqzcAm4FhgG/Aj4JnD5jTQSuq+hckF2qo6ccj5\nAp4/zpwGWkndN8GMtgUDraTu27c3w8ZmoJXUfWa0ktRWTWY3QTMGWkndN8GbYS0YaCV1n6UDSWrM\nm2GS1JgZrSQ15s0wSWrMm2GS1FaVNVpJassarSQ1ZulAkhozo5Wkxuavn/YKlmWgldR9lg4kqTFL\nB5LUmBmtJDVmoJWktsqbYZLUmDVaSWrM0oEkNWZGK0mNmdFKUmNmtJLU2C5f/C1JbZnRSlJj1mgl\nqTEzWklqzIxWkhozo5Wkxtx1IEmNVU17Bcsy0ErqPmu0ktTYjAfaVdNegCTttVoYvQ2RZH2SS5Js\nS3LyHs7fJcnHk1yY5KIkxw6b04xWUvfNz09kmiSrgdOARwE7gM1J5qpq68CwVwDvrao3JVkHbALu\ntty8BlpJ3Te50sFRwLaq2g6Q5CzgeGAw0BZwm/7n2wLfGDapgVZS940RaJNsADYMdG2sqo39zwcB\nVwyc2wE8aNEUrwL+PcmfALcGjh52TQOtpO4b44GFflDdOHTg0k4E3lZV/5DkN4F3Jrlf1dKLMNBK\n6rxamNg+2p3AwQPHa/t9g54FrAeoqs8k2R84ELhyqUnddSCp+xYWRm/L2wwcluSQJPsBJwBzi8Zc\nDjwSIMl9gP2Bby83qRmtpO6b0K6DqtqV5CTgXGA1cEZVXZzkFGBLVc0BLwbekuSF9G6MPaNq+UfT\nDLSSum+CDyxU1SZ6W7YG+1458Hkr8NBx5jTQSuq+GX8yzEArqft8qYwkNWZGK0mNTW57VxMGWknd\nN6FdB60YaCV1Xlk6kKTGLB1IUmP+OKMkNWZGK0mN7fJmmCS1ZelAkhqzdCBJbbm9S5JaM6OVpMYM\ntJLUmI/gSlJbE/zNsCYMtJK6z0ArSY2560CSGjOjlaTGDLSS1FbNWzqQpLbMaCWpLbd3SVJrBlpJ\namy2S7QGWkndV7tmO9IaaCV132zHWQOtpO7zZpgktWZGK0ltmdFKUmszntGumvYCNHsu2XLgtJew\nYtxp3bXTXsLNQu0avU2DGa1+zr2OvGraS1gxvrV1zbSXcLMw4782bkYraQVYGKMNkWR9kkuSbEty\n8hJjnpxka5KLk7x72JxmtJI6b1IZbZLVwGnAo4AdwOYkc1W1dWDMYcDLgIdW1feS3HHYvGa0kjqv\nFkZvQxwFbKuq7VV1HXAWcPyiMc8BTquq7wFU1ZXDJjXQSuq8ms/ILcmGJFsG2oaBqQ4Crhg43tHv\nG3RP4J5JPpXk/CTrh63P0oGkzhundFBVG4GNe3G5WwCHAY8A1gLnJbl/VX1/uT+QpE6rhUxqqp3A\nwQPHa/t9g3YAn62q64FLk3yFXuDdvNSklg4kdd4Ea7SbgcOSHJJkP+AEYG7RmH+ll82S5EB6pYTt\ny01qRiup86omk9FW1a4kJwHnAquBM6rq4iSnAFuqaq5/7tFJtgLzwEur6jvLzWugldR5k3xgoao2\nAZsW9b1y4HMBL+q3kYxUOkhyzyQfTfKl/vHhSV4x6kUkqaWF+YzcpmHUGu1b6G3QvR6gqi6iV7uQ\npKmrhYzcpmHU0sEvVtUFyY0WOaXXM0jSjU0rgI5q1EB7VZJDgQJI8kTgm81WJUljqNl+He3Igfb5\n9Db43jvJTuBS4GnNViVJY1gRGW1VbQeOTnJrYFVVXdN2WZI0uklt72pl2UCbZI/bF3bXaqvqDQ3W\nJEljmZ/SboJRDctoD+j/ey/ggdzwhMRjgQtaLUqSxtHpjLaqXg2Q5DzgiN0lgySvAs5pvjpJGsGK\nqNECdwKuGzi+rt8nSVO3UnYdvAO4IMkH+sePA97eZkmSNJ4VkdFW1V8n+TDw2/2uZ1bVhe2WJUmj\nm1+Y7RcRjhRok9wFuAr4wGBfVV3eamGSNKqVUjo4h/5TYcCtgEOAS4D7tliUJI1jocu7DnarqvsP\nHic5AnhekxVJ0pg6vb1rKVX1+SQPmvRiJOmmWBGlg0VPiK0CjgC+0WRFkjSmFVE64IYnxKD3esRz\ngPdPfjmSNL4VsesA2FpV7xvsSPIk4H1LjJekfWbGKwcj/8LCy0bsk6R9bqEycpuGYW/vOgY4Fjgo\nyakDp26Dv7AgaUZ0fdfBN4AtwHHA5wb6rwFe2GpRkjSOCf4IbhPD3t71ReCLSd5VVWawkmZS0eGM\nNsl7q+rJwIVJfq7eXFWHN1uZJI1oV8dLBy/o//t7rRciSTfVrGe0y+46qKrdv3T7vKr6+mDDR3Al\nzYiFMdo0jLq961F76DtmkguRpJuqyMhtGobVaJ9LL3O9e5KLBk4dAHyq5cIkaVSd3nUAvBv4MPC3\nwMkD/ddU1XebrUqSxjA/4zXaYdu7rgauBk4ESHJHYH9gTZI1vvhb0iyY8V+yGa1Gm+SxSb4KXAp8\nEriMXqYrSVO3QEZu0zDqzbDXAA8GvlJVhwCPBM5vtipJGkON0aZh1EB7fVV9B1iVZFVVfRw4suG6\nJGlks769a9TXJH4/yRrgPOBdSa4EfthuWZI0uoXMdpF21Iz2eODH9F4k8xHga8BjWy1KksYxP0ab\nhpECbVX9sKrmq2pXVb29qk7tlxIkaeoWMnobJsn6JJck2Zbk5GXGPSFJJRlaRh32wMI17Ll+HKCq\n6jZDVy1JjU1qN0GS1cBp9J6G3QFsTjJXVVsXjTuA3rtgPjvKvMPedXBAVd1mD+0Ag6ykWTHBXQdH\nAduqantVXQecRa90uthfAa8DfjLK+mb7F80kaQTjlA6SbEiyZaBtGJjqIOCKgeMd/b6fSXIEcHBV\nnTPq+kbddSBJM2ucbVtVtRHYeFOuk2QV8AbgGeP8nYFWUufNT253107g4IHjtf2+3Q4A7gd8Ir0t\nZb8CzCU5rqq2LDWpgVZS503wQYTNwGFJDqEXYE8Anrr7ZP/9LwfuPk7yCeAlywVZsEYraQWY1JNh\n/d9GPAk4F/gy8N6qujjJKUmOu6nrM6OV1HmT/MmwqtoEbFrU98olxj5ilDkNtJI6r+sv/pakmTet\nR2tHZaCV1Hmz/uJvA62kzrN0IEmNGWglqbFp/XLCqAy0kjrPGq0kNeauA0lqbGHGiwcGWqmhd8/f\ndtpLmHmvmcAc3gyTpMZmO5810EpaAcxoJamxXZntnNZAK6nzZjvMGmglrQCWDiSpMbd3SVJjsx1m\nDbSSVgBLB5LU2PyM57QGWkmdZ0YrSY2VGa0ktWVGK0mNub1Lkhqb7TBroJW0Auya8VBroJXUed4M\nk6TGvBkmSY2Z0UpSY2a0ktTYfJnRSlJT7qOVpMas0UpSY9ZoJamxWS8drJr2AiRpb9UY/w2TZH2S\nS5JsS3LyHs6/KMnWJBcl+WiSuw6b00ArqfPmq0Zuy0myGjgNOAZYB5yYZN2iYRcCR1bV4cDZwN8N\nW5+BVlLnLVAjtyGOArZV1faqug44Czh+cEBVfbyqftQ/PB9YO2xSA62kzlsYoyXZkGTLQNswMNVB\nwBUDxzv6fUt5FvDhYevzZpikzhtne1dVbQQ27u01kzwNOBJ4+LCxBlpJnTfBXQc7gYMHjtf2+24k\nydHAnwMPr6qfDpvUQCup82pyj+BuBg5Lcgi9AHsC8NTBAUkeAJwOrK+qK0eZ1EArqfMm9XPjVbUr\nyUnAucBq4IyqujjJKcCWqpoDXg+sAd6XBODyqjpuuXkNtJI6b5IPLFTVJmDTor5XDnw+etw5DbSS\nOm+CpYMmDLSSOm/WH8E10ErqPN/eJUmN+eJvSWrM0oEkNWaglaTG3HUgSY2Z0UpSY+46kKTG5mu2\nfzXMQCup86zRSlJj1mglqTFrtJLU2IKlA0lqy4xWkhpz14EkNWbpQJIas3QgSY2Z0UpSY2a0ktTY\nfM1PewnLMtBK6jwfwZWkxnwEV5IaM6OVpMbcdSBJjbnrQJIa8xFcSWrMGq0kNWaNVpIaM6OVpMbc\nRytJjZnRSlJj7jqQpMa8GSZJjc166WDVtBcgSXurxvhvmCTrk1ySZFuSk/dw/heSvKd//rNJ7jZs\nTgOtpM6rqpHbcpKsBk4DjgHWAScmWbdo2LOA71XVPYA3Aq8btj4DraTOW6gauQ1xFLCtqrZX1XXA\nWcDxi8YcD7y9//ls4JFJstykTWq0D/nm+5e9qHRz8ZppL+BmYtd1O0eOOUk2ABsGujZW1cb+54OA\nKwbO7QAetGiKn42pql1JrgZuD1y11DW9GSbpZqUfVDcOHThBlg4k6QY7gYMHjtf2+/Y4JsktgNsC\n31luUgOtJN1gM3BYkkOS7AecAMwtGjMH/GH/8xOBj9WQu2yWDiSpr19zPQk4F1gNnFFVFyc5BdhS\nVXPAPwPvTLIN+C69YLyszPpGX+1bSa6tqjUTnvM4YF1VvTbJ44CvVNXWMef4BPCSqtoyybVJ+4Kl\nAzVXVXNV9dr+4ePo7U+UbjYMtNqj9Lw+yZeS/E+Sp/T7H5HkE0nOTvK/Sd61ew9hkmP7fZ9LcmqS\nD/X7n5HkH5M8BDgOeH2SLyQ5tD/Xkf1xBya5rP/5VknOSvLlJB8AbjWwtkcn+UySzyd5X5KJZuDS\npFmj1VJ+H/h14NeAA4HNSc7rn3sAcF/gG8CngIcm2QKcDjysqi5NcubiCavq00nmgA9V1dkAy+zz\nfi7wo6q6T5LDgc/3xx8IvAI4uqp+mOTPgBcBp0ziS0stGGi1lN8CzqyqeeBbST4JPBD4AXBBVe0A\nSPIF4G7AtcD2qrq0//dncuNN4eN6GHAqQFVdlOSifv+D6ZUePtUP0vsBn9mL60jNGWh1U/x04PM8\ne/f/0S5uKGHtP8L4AP9RVSfuxTWlfcoarZbyX8BTkqxOcgd6GeYFy4y/BLj7wJuMnrLEuGuAAwaO\nLwN+o//5iQP95wFPBUhyP+Dwfv/59EoV9+ifu3WSe47wfaSpMdBqKR8ALgK+CHwM+NOq+r+lBlfV\nj4HnAR9J8jl6AfXqPQw9C3hpkguTHAr8PfDcJBfSqwXv9iZgTZIv06u/fq5/nW8DzwDO7JcTPgPc\ne2++qNSa+2g1MUnWVNW1/V0IpwFfrao3Tntd0rSZ0WqSntO/OXYxvee/T5/yeqSZYEYrSY2Z0UpS\nYwZaSWrMQCtJjRloJakxA60kNfb/j16wZOALUVcAAAAASUVORK5CYII=\n",
                "text/plain": "<Figure size 432x288 with 2 Axes>"
              },
              {
                "output_type": "display_data",
                "metadata": {
                  "tags": []
                },
                "image/png": "iVBORw0KGgoAAAANSUhEUgAAAVoAAAEFCAYAAACiiS9UAAAABHNCSVQICAgIfAhkiAAAAAlwSFlz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\nmTnQmpll5kBrZpbZ/wO3TP5Wis6HowAAAABJRU5ErkJggg==\n",
                "text/plain": "<Figure size 432x288 with 2 Axes>"
              }
            ],
            "_view_module": "@jupyter-widgets/output",
            "_model_module_version": "1.0.0",
            "_view_count": null,
            "_view_module_version": "1.0.0",
            "layout": "IPY_MODEL_f3476a9a44894b06997a44c203aaa335",
            "_model_module": "@jupyter-widgets/output"
          }
        },
        "2f15f86a76164fbcae004b13a10646b5": {
          "model_module": "@jupyter-widgets/controls",
          "model_name": "SliderStyleModel",
          "state": {
            "_view_name": "StyleView",
            "handle_color": null,
            "_model_name": "SliderStyleModel",
            "description_width": "",
            "_view_module": "@jupyter-widgets/base",
            "_model_module_version": "1.5.0",
            "_view_count": null,
            "_view_module_version": "1.2.0",
            "_model_module": "@jupyter-widgets/controls"
          }
        },
        "e51323afa4dc4ca99a235614def1c39f": {
          "model_module": "@jupyter-widgets/base",
          "model_name": "LayoutModel",
          "state": {
            "_view_name": "LayoutView",
            "grid_template_rows": null,
            "right": null,
            "justify_content": null,
            "_view_module": "@jupyter-widgets/base",
            "overflow": null,
            "_model_module_version": "1.2.0",
            "_view_count": null,
            "flex_flow": null,
            "width": null,
            "min_width": null,
            "border": null,
            "align_items": null,
            "bottom": null,
            "_model_module": "@jupyter-widgets/base",
            "top": null,
            "grid_column": null,
            "overflow_y": null,
            "overflow_x": null,
            "grid_auto_flow": null,
            "grid_area": null,
            "grid_template_columns": null,
            "flex": null,
            "_model_name": "LayoutModel",
            "justify_items": null,
            "grid_row": null,
            "max_height": null,
            "align_content": null,
            "visibility": null,
            "align_self": null,
            "height": null,
            "min_height": null,
            "padding": null,
            "grid_auto_rows": null,
            "grid_gap": null,
            "max_width": null,
            "order": null,
            "_view_module_version": "1.2.0",
            "grid_template_areas": null,
            "object_position": null,
            "object_fit": null,
            "grid_auto_columns": null,
            "margin": null,
            "display": null,
            "left": null
          }
        },
        "87087bf1718e4d6db35d9d229c4c19ad": {
          "model_module": "@jupyter-widgets/controls",
          "model_name": "SliderStyleModel",
          "state": {
            "_view_name": "StyleView",
            "handle_color": null,
            "_model_name": "SliderStyleModel",
            "description_width": "",
            "_view_module": "@jupyter-widgets/base",
            "_model_module_version": "1.5.0",
            "_view_count": null,
            "_view_module_version": "1.2.0",
            "_model_module": "@jupyter-widgets/controls"
          }
        },
        "5de64fc7445f41548b8df5e17ff76568": {
          "model_module": "@jupyter-widgets/base",
          "model_name": "LayoutModel",
          "state": {
            "_view_name": "LayoutView",
            "grid_template_rows": null,
            "right": null,
            "justify_content": null,
            "_view_module": "@jupyter-widgets/base",
            "overflow": null,
            "_model_module_version": "1.2.0",
            "_view_count": null,
            "flex_flow": null,
            "width": null,
            "min_width": null,
            "border": null,
            "align_items": null,
            "bottom": null,
            "_model_module": "@jupyter-widgets/base",
            "top": null,
            "grid_column": null,
            "overflow_y": null,
            "overflow_x": null,
            "grid_auto_flow": null,
            "grid_area": null,
            "grid_template_columns": null,
            "flex": null,
            "_model_name": "LayoutModel",
            "justify_items": null,
            "grid_row": null,
            "max_height": null,
            "align_content": null,
            "visibility": null,
            "align_self": null,
            "height": null,
            "min_height": null,
            "padding": null,
            "grid_auto_rows": null,
            "grid_gap": null,
            "max_width": null,
            "order": null,
            "_view_module_version": "1.2.0",
            "grid_template_areas": null,
            "object_position": null,
            "object_fit": null,
            "grid_auto_columns": null,
            "margin": null,
            "display": null,
            "left": null
          }
        }
      }
    }
  },
  "cells": [
    {
      "cell_type": "markdown",
      "metadata": {
        "id": "view-in-github",
        "colab_type": "text"
      },
      "source": [
        "<a href=\"https://colab.research.google.com/github/pingao2019/DS-Unit-2-Kaggle-Challenge/blob/master/h2Copy_of_LS_DS_222_assignment.ipynb\" target=\"_parent\"><img src=\"https://colab.research.google.com/assets/colab-badge.svg\" alt=\"Open In Colab\"/></a>"
      ]
    },
    {
      "cell_type": "markdown",
      "metadata": {
        "id": "C5A4ZIvqUhMO",
        "colab_type": "text"
      },
      "source": [
        "Lambda School Data Science\n",
        "\n",
        "*Unit 2, Sprint 2, Module 2*\n",
        "\n",
        "---"
      ]
    },
    {
      "cell_type": "markdown",
      "metadata": {
        "colab_type": "text",
        "id": "7IXUfiQ2UKj6"
      },
      "source": [
        "# Random Forests\n",
        "\n",
        "## Assignment\n",
        "- [ ] Read [“Adopting a Hypothesis-Driven Workflow”](https://outline.com/5S5tsB), a blog post by a Lambda DS student about the Tanzania Waterpumps challenge.\n",
        "- [ ] Continue to participate in our Kaggle challenge.\n",
        "- [ ] Define a function to wrangle train, validate, and test sets in the same way. Clean outliers and engineer features.\n",
        "- [ ] Try Ordinal Encoding.\n",
        "- [ ] Try a Random Forest Classifier.\n",
        "- [ ] Submit your predictions to our Kaggle competition. (Go to our Kaggle InClass competition webpage. Use the blue **Submit Predictions** button to upload your CSV file. Or you can use the Kaggle API to submit your predictions.)\n",
        "- [ ] Commit your notebook to your fork of the GitHub repo.\n",
        "\n",
        "## Stretch Goals\n",
        "\n",
        "### Doing\n",
        "- [ ] Add your own stretch goal(s) !\n",
        "- [ ] Do more exploratory data analysis, data cleaning, feature engineering, and feature selection.\n",
        "- [ ] Try other [categorical encodings](https://contrib.scikit-learn.org/categorical-encoding/).\n",
        "- [ ] Get and plot your feature importances.\n",
        "- [ ] Make visualizations and share on Slack.\n",
        "\n",
        "### Reading\n",
        "\n",
        "Top recommendations in _**bold italic:**_\n",
        "\n",
        "#### Decision Trees\n",
        "- A Visual Introduction to Machine Learning, [Part 1: A Decision Tree](http://www.r2d3.us/visual-intro-to-machine-learning-part-1/),  and _**[Part 2: Bias and Variance](http://www.r2d3.us/visual-intro-to-machine-learning-part-2/)**_\n",
        "- [Decision Trees: Advantages & Disadvantages](https://christophm.github.io/interpretable-ml-book/tree.html#advantages-2)\n",
        "- [How a Russian mathematician constructed a decision tree — by hand — to solve a medical problem](http://fastml.com/how-a-russian-mathematician-constructed-a-decision-tree-by-hand-to-solve-a-medical-problem/)\n",
        "- [How decision trees work](https://brohrer.github.io/how_decision_trees_work.html)\n",
        "- [Let’s Write a Decision Tree Classifier from Scratch](https://www.youtube.com/watch?v=LDRbO9a6XPU)\n",
        "\n",
        "#### Random Forests\n",
        "- [_An Introduction to Statistical Learning_](http://www-bcf.usc.edu/~gareth/ISL/), Chapter 8: Tree-Based Methods\n",
        "- [Coloring with Random Forests](http://structuringtheunstructured.blogspot.com/2017/11/coloring-with-random-forests.html)\n",
        "- _**[Random Forests for Complete Beginners: The definitive guide to Random Forests and Decision Trees](https://victorzhou.com/blog/intro-to-random-forests/)**_\n",
        "\n",
        "#### Categorical encoding for trees\n",
        "- [Are categorical variables getting lost in your random forests?](https://roamanalytics.com/2016/10/28/are-categorical-variables-getting-lost-in-your-random-forests/)\n",
        "- [Beyond One-Hot: An Exploration of Categorical Variables](http://www.willmcginnis.com/2015/11/29/beyond-one-hot-an-exploration-of-categorical-variables/)\n",
        "- _**[Categorical Features and Encoding in Decision Trees](https://medium.com/data-design/visiting-categorical-features-and-encoding-in-decision-trees-53400fa65931)**_\n",
        "- _**[Coursera — How to Win a Data Science Competition: Learn from Top Kagglers — Concept of mean encoding](https://www.coursera.org/lecture/competitive-data-science/concept-of-mean-encoding-b5Gxv)**_\n",
        "- [Mean (likelihood) encodings: a comprehensive study](https://www.kaggle.com/vprokopev/mean-likelihood-encodings-a-comprehensive-study)\n",
        "- [The Mechanics of Machine Learning, Chapter 6: Categorically Speaking](https://mlbook.explained.ai/catvars.html)\n",
        "\n",
        "#### Imposter Syndrome\n",
        "- [Effort Shock and Reward Shock (How The Karate Kid Ruined The Modern World)](http://www.tempobook.com/2014/07/09/effort-shock-and-reward-shock/)\n",
        "- [How to manage impostor syndrome in data science](https://towardsdatascience.com/how-to-manage-impostor-syndrome-in-data-science-ad814809f068)\n",
        "- [\"I am not a real data scientist\"](https://brohrer.github.io/imposter_syndrome.html)\n",
        "- _**[Imposter Syndrome in Data Science](https://caitlinhudon.com/2018/01/19/imposter-syndrome-in-data-science/)**_\n",
        "\n",
        "\n",
        "### More Categorical Encodings\n",
        "\n",
        "**1.** The article **[Categorical Features and Encoding in Decision Trees](https://medium.com/data-design/visiting-categorical-features-and-encoding-in-decision-trees-53400fa65931)** mentions 4 encodings:\n",
        "\n",
        "- **\"Categorical Encoding\":** This means using the raw categorical values as-is, not encoded. Scikit-learn doesn't support this, but some tree algorithm implementations do. For example, [Catboost](https://catboost.ai/), or R's [rpart](https://cran.r-project.org/web/packages/rpart/index.html) package.\n",
        "- **Numeric Encoding:** Synonymous with Label Encoding, or \"Ordinal\" Encoding with random order. We can use [category_encoders.OrdinalEncoder](https://contrib.scikit-learn.org/categorical-encoding/ordinal.html).\n",
        "- **One-Hot Encoding:** We can use [category_encoders.OneHotEncoder](http://contrib.scikit-learn.org/categorical-encoding/onehot.html).\n",
        "- **Binary Encoding:** We can use [category_encoders.BinaryEncoder](http://contrib.scikit-learn.org/categorical-encoding/binary.html).\n",
        "\n",
        "\n",
        "**2.** The short video \n",
        "**[Coursera — How to Win a Data Science Competition: Learn from Top Kagglers — Concept of mean encoding](https://www.coursera.org/lecture/competitive-data-science/concept-of-mean-encoding-b5Gxv)** introduces an interesting idea: use both X _and_ y to encode categoricals.\n",
        "\n",
        "Category Encoders has multiple implementations of this general concept:\n",
        "\n",
        "- [CatBoost Encoder](http://contrib.scikit-learn.org/categorical-encoding/catboost.html)\n",
        "- [James-Stein Encoder](http://contrib.scikit-learn.org/categorical-encoding/jamesstein.html)\n",
        "- [Leave One Out](http://contrib.scikit-learn.org/categorical-encoding/leaveoneout.html)\n",
        "- [M-estimate](http://contrib.scikit-learn.org/categorical-encoding/mestimate.html)\n",
        "- [Target Encoder](http://contrib.scikit-learn.org/categorical-encoding/targetencoder.html)\n",
        "- [Weight of Evidence](http://contrib.scikit-learn.org/categorical-encoding/woe.html)\n",
        "\n",
        "Category Encoder's mean encoding implementations work for regression problems or binary classification problems. \n",
        "\n",
        "For multi-class classification problems, you will need to temporarily reformulate it as binary classification. For example:\n",
        "\n",
        "```python\n",
        "encoder = ce.TargetEncoder(min_samples_leaf=..., smoothing=...) # Both parameters > 1 to avoid overfitting\n",
        "X_train_encoded = encoder.fit_transform(X_train, y_train=='functional')\n",
        "X_val_encoded = encoder.transform(X_train, y_val=='functional')\n",
        "```\n",
        "\n",
        "For this reason, mean encoding won't work well within pipelines for multi-class classification problems.\n",
        "\n",
        "**3.** The **[dirty_cat](https://dirty-cat.github.io/stable/)** library has a Target Encoder implementation that works with multi-class classification.\n",
        "\n",
        "```python\n",
        " dirty_cat.TargetEncoder(clf_type='multiclass-clf')\n",
        "```\n",
        "It also implements an interesting idea called [\"Similarity Encoder\" for dirty categories](https://www.slideshare.net/GaelVaroquaux/machine-learning-on-non-curated-data-154905090).\n",
        "\n",
        "However, it seems like dirty_cat doesn't handle missing values or unknown categories as well as category_encoders does. And you may need to use it with one column at a time, instead of with your whole dataframe.\n",
        "\n",
        "**4. [Embeddings](https://www.kaggle.com/learn/embeddings)** can work well with sparse / high cardinality categoricals.\n",
        "\n",
        "_**I hope it’s not too frustrating or confusing that there’s not one “canonical” way to encode categoricals. It’s an active area of research and experimentation! Maybe you can make your own contributions!**_"
      ]
    },
    {
      "cell_type": "markdown",
      "metadata": {
        "id": "sLXoDqNaUhMn",
        "colab_type": "text"
      },
      "source": [
        "### Setup\n",
        "\n",
        "You can work locally (follow the [local setup instructions](https://lambdaschool.github.io/ds/unit2/local/)) or on Colab (run the code cell below)."
      ]
    },
    {
      "cell_type": "code",
      "metadata": {
        "colab_type": "code",
        "id": "o9eSnDYhUGD7",
        "colab": {}
      },
      "source": [
        "%%capture\n",
        "import sys\n",
        "\n",
        "# If you're on Colab:\n",
        "if 'google.colab' in sys.modules:\n",
        "    DATA_PATH = 'https://raw.githubusercontent.com/LambdaSchool/DS-Unit-2-Kaggle-Challenge/master/data/'\n",
        "    !pip install category_encoders==2.*\n",
        "\n",
        "# If you're working locally:\n",
        "else:\n",
        "    DATA_PATH = '../data/'"
      ],
      "execution_count": 0,
      "outputs": []
    },
    {
      "cell_type": "code",
      "metadata": {
        "colab_type": "code",
        "id": "QJBD4ruICm1m",
        "outputId": "ae3c89f9-1a55-4e24-a1ab-9055cba8fc2b",
        "colab": {
          "base_uri": "https://localhost:8080/",
          "height": 36
        }
      },
      "source": [
        "import pandas as pd\n",
        "from sklearn.model_selection import train_test_split\n",
        "\n",
        "train = pd.merge(pd.read_csv(DATA_PATH+'waterpumps/train_features.csv'), \n",
        "                 pd.read_csv(DATA_PATH+'waterpumps/train_labels.csv'))\n",
        "test0 = pd.read_csv(DATA_PATH+'waterpumps/test_features.csv')\n",
        "sample_submission = pd.read_csv(DATA_PATH+'waterpumps/sample_submission.csv')\n",
        "\n",
        "train.shape, test0.shape"
      ],
      "execution_count": 2,
      "outputs": [
        {
          "output_type": "execute_result",
          "data": {
            "text/plain": [
              "((59400, 41), (14358, 40))"
            ]
          },
          "metadata": {
            "tags": []
          },
          "execution_count": 2
        }
      ]
    },
    {
      "cell_type": "code",
      "metadata": {
        "id": "KqZmmh7dXM3I",
        "colab_type": "code",
        "outputId": "f8f89e15-3bd6-45fe-9a52-89661bf66c90",
        "colab": {
          "base_uri": "https://localhost:8080/",
          "height": 36
        }
      },
      "source": [
        "# Split train into train & val\n",
        "train, val = train_test_split(train, train_size=0.80, test_size=0.20, \n",
        "                              stratify=train['status_group'], random_state=42)\n",
        "\n",
        "train.shape, val.shape"
      ],
      "execution_count": 3,
      "outputs": [
        {
          "output_type": "execute_result",
          "data": {
            "text/plain": [
              "((47520, 41), (11880, 41))"
            ]
          },
          "metadata": {
            "tags": []
          },
          "execution_count": 3
        }
      ]
    },
    {
      "cell_type": "markdown",
      "metadata": {
        "id": "BQ-Fb85lW8Ui",
        "colab_type": "text"
      },
      "source": [
        "Define a function to wrangle train, validate, and test sets in the same way. Clean outliers and engineer features.\n",
        "Try Ordinal Encoding.\n",
        "Try a Random Forest Classifier."
      ]
    },
    {
      "cell_type": "code",
      "metadata": {
        "id": "Yyqi8IT-UhN2",
        "colab_type": "code",
        "colab": {}
      },
      "source": [
        "import numpy as np\n",
        "def wrangle(X):\n",
        "    \"\"\"Wrangle train, validate, and test sets in the same way\"\"\"\n",
        "    \n",
        "    # Prevent SettingWithCopyWarning\n",
        "    X = X.copy()\n",
        "    \n",
        "    # About 3% of the time, latitude has small values near zero,\n",
        "    # outside Tanzania, so we'll treat these values like zero.\n",
        "    X['latitude'] = X['latitude'].replace(-2e-08, 0)\n",
        "    \n",
        "    # When columns have zeros and shouldn't, they are like null values.\n",
        "    # So we will replace the zeros with nulls, and impute missing values later.\n",
        "    # Also create a \"missing indicator\" column, because the fact that\n",
        "    # values are missing may be a predictive signal.\n",
        "    cols_with_zeros = ['longitude', 'latitude', 'construction_year', \n",
        "                       'gps_height', 'population']\n",
        "    for col in cols_with_zeros:\n",
        "        X[col] = X[col].replace(0, np.nan)\n",
        "        X[col+'_MISSING'] = X[col].isnull()\n",
        "            \n",
        "    # Drop duplicate columns\n",
        "    duplicates = ['quantity_group', 'payment_type']\n",
        "    X = X.drop(columns=duplicates)\n",
        "    \n",
        "    # Drop recorded_by (never varies) and id (always varies, random)\n",
        "    unusable_variance = ['recorded_by', 'id']\n",
        "    X = X.drop(columns=unusable_variance)\n",
        "    \n",
        "    # Convert date_recorded to datetime\n",
        "    X['date_recorded'] = pd.to_datetime(X['date_recorded'], infer_datetime_format=True)\n",
        "    \n",
        "    # Extract components from date_recorded, then drop the original column\n",
        "    X['year_recorded'] = X['date_recorded'].dt.year\n",
        "    X['month_recorded'] = X['date_recorded'].dt.month\n",
        "    X['day_recorded'] = X['date_recorded'].dt.day\n",
        "    X = X.drop(columns='date_recorded')\n",
        "    \n",
        "    # Engineer feature: how many years from construction_year to date_recorded\n",
        "    X['years'] = X['year_recorded'] - X['construction_year']\n",
        "    X['years_MISSING'] = X['years'].isnull()\n",
        "    \n",
        "    # return the wrangled dataframe\n",
        "    return X\n",
        "\n",
        "train = wrangle(train)\n",
        "val = wrangle(val)\n",
        "test = wrangle(test0)"
      ],
      "execution_count": 0,
      "outputs": []
    },
    {
      "cell_type": "code",
      "metadata": {
        "id": "_Aghz6UEYLRp",
        "colab_type": "code",
        "colab": {}
      },
      "source": [
        "# The status_group column is the target\n",
        "target = 'status_group'\n",
        "\n",
        "# Get a dataframe with all train columns except the target\n",
        "train_features = train.drop(columns=[target])\n",
        "\n",
        "# Get a list of the numeric features\n",
        "numeric_features = train_features.select_dtypes(include='number').columns.tolist()\n",
        "\n",
        "# Get a series with the cardinality of the nonnumeric features\n",
        "cardinality = train_features.select_dtypes(exclude='number').nunique()\n",
        "\n",
        "# Get a list of all categorical features with cardinality <= 50\n",
        "categorical_features = cardinality[cardinality <= 50].index.tolist()\n",
        "\n",
        "# Combine the lists \n",
        "features = numeric_features + categorical_features"
      ],
      "execution_count": 0,
      "outputs": []
    },
    {
      "cell_type": "code",
      "metadata": {
        "id": "4FaU1p76YRZO",
        "colab_type": "code",
        "colab": {}
      },
      "source": [
        "# Arrange data into X features matrix and y target vector \n",
        "X_train = train[features]\n",
        "y_train = train[target]\n",
        "X_val = val[features]\n",
        "y_val = val[target]\n",
        "X_test = test[features]"
      ],
      "execution_count": 0,
      "outputs": []
    },
    {
      "cell_type": "code",
      "metadata": {
        "id": "jCfX6f2sYXlm",
        "colab_type": "code",
        "outputId": "acd3545f-4c46-4768-dbfc-d6c2ee6a264d",
        "colab": {
          "base_uri": "https://localhost:8080/",
          "height": 36
        }
      },
      "source": [
        "train.describe(exclude='number').T.unique.sum()"
      ],
      "execution_count": 7,
      "outputs": [
        {
          "output_type": "execute_result",
          "data": {
            "text/plain": [
              "56481"
            ]
          },
          "metadata": {
            "tags": []
          },
          "execution_count": 7
        }
      ]
    },
    {
      "cell_type": "code",
      "metadata": {
        "id": "_ZNc7MFIY4MS",
        "colab_type": "code",
        "colab": {}
      },
      "source": [
        "import category_encoders as ce\n",
        "from sklearn.ensemble import RandomForestClassifier\n",
        "from sklearn.impute import SimpleImputer\n",
        "from sklearn.preprocessing import StandardScaler\n",
        "from sklearn.pipeline import make_pipeline"
      ],
      "execution_count": 0,
      "outputs": []
    },
    {
      "cell_type": "code",
      "metadata": {
        "id": "7IraghQjZGPE",
        "colab_type": "code",
        "outputId": "e253ddf0-e71b-49ae-b9a2-227decea9eb0",
        "colab": {
          "base_uri": "https://localhost:8080/",
          "height": 73
        }
      },
      "source": [
        "%%time\n",
        "\n",
        "# This pipeline is ideentical to the example cell above, \n",
        "# except we're replacing one-hot encoder with \"ordinal\" encoder\n",
        "\n",
        "pipeline = make_pipeline(\n",
        "    ce.OrdinalEncoder(), \n",
        "    SimpleImputer(strategy='median'), \n",
        "    RandomForestClassifier(random_state=0, n_jobs=-1)\n",
        ")\n",
        "\n",
        "# Fit on train, score on val\n",
        "pipeline.fit(X_train, y_train)\n",
        "print('Validation Accuracy', pipeline.score(X_val, y_val))"
      ],
      "execution_count": 29,
      "outputs": [
        {
          "output_type": "stream",
          "text": [
            "Validation Accuracy 0.8102693602693603\n",
            "CPU times: user 15.7 s, sys: 187 ms, total: 15.9 s\n",
            "Wall time: 8.68 s\n"
          ],
          "name": "stdout"
        }
      ]
    },
    {
      "cell_type": "code",
      "metadata": {
        "id": "kt1umSgNaclM",
        "colab_type": "code",
        "colab": {}
      },
      "source": [
        "# Predict on test\n",
        "y_pred = pipeline.predict(X_test)"
      ],
      "execution_count": 0,
      "outputs": []
    },
    {
      "cell_type": "code",
      "metadata": {
        "id": "S5e_XvuTZirT",
        "colab_type": "code",
        "colab": {}
      },
      "source": [
        "submission = test0[['id']].copy()\n",
        "submission['status_group'] = y_pred"
      ],
      "execution_count": 0,
      "outputs": []
    },
    {
      "cell_type": "code",
      "metadata": {
        "id": "wnhc0N9tZu0Q",
        "colab_type": "code",
        "colab": {}
      },
      "source": [
        "submission.to_csv('waterpumps-submission2.csv', index=False)"
      ],
      "execution_count": 0,
      "outputs": []
    },
    {
      "cell_type": "code",
      "metadata": {
        "id": "MSRjWx4RZyp-",
        "colab_type": "code",
        "outputId": "a1de1cbe-0906-484b-f468-f8a1ad0ba7c6",
        "colab": {
          "base_uri": "https://localhost:8080/",
          "height": 204
        }
      },
      "source": [
        "!head 'waterpumps-submission.csv'"
      ],
      "execution_count": 13,
      "outputs": [
        {
          "output_type": "stream",
          "text": [
            "id,status_group\n",
            "50785,functional\n",
            "51630,functional\n",
            "17168,functional\n",
            "45559,non functional\n",
            "49871,functional\n",
            "52449,functional\n",
            "24806,functional\n",
            "28965,non functional\n",
            "36301,non functional\n"
          ],
          "name": "stdout"
        }
      ]
    },
    {
      "cell_type": "markdown",
      "metadata": {
        "id": "S7Ie9j6PZy_5",
        "colab_type": "text"
      },
      "source": [
        " Do more exploratory data analysis, data cleaning, feature engineering, and feature selection.\n",
        "Try other categorical encodings.\n",
        "Get and plot your feature importances.\n",
        "Make visualizations and share on Slack."
      ]
    },
    {
      "cell_type": "markdown",
      "metadata": {
        "id": "gcnQGp1nZ8YH",
        "colab_type": "text"
      },
      "source": [
        "comparing ordinal encoding on logistic regression ,decision tree, and random forest classifier abalysis comparuson."
      ]
    },
    {
      "cell_type": "code",
      "metadata": {
        "id": "8goUmXISmsdl",
        "colab_type": "code",
        "colab": {
          "base_uri": "https://localhost:8080/",
          "height": 729
        },
        "outputId": "a2dfbc47-4f7a-47ed-f310-4c565848b7af"
      },
      "source": [
        "X_train.columns.to_list()"
      ],
      "execution_count": 41,
      "outputs": [
        {
          "output_type": "execute_result",
          "data": {
            "text/plain": [
              "['amount_tsh',\n",
              " 'gps_height',\n",
              " 'longitude',\n",
              " 'latitude',\n",
              " 'num_private',\n",
              " 'region_code',\n",
              " 'district_code',\n",
              " 'population',\n",
              " 'construction_year',\n",
              " 'year_recorded',\n",
              " 'month_recorded',\n",
              " 'day_recorded',\n",
              " 'years',\n",
              " 'basin',\n",
              " 'region',\n",
              " 'public_meeting',\n",
              " 'scheme_management',\n",
              " 'permit',\n",
              " 'extraction_type',\n",
              " 'extraction_type_group',\n",
              " 'extraction_type_class',\n",
              " 'management',\n",
              " 'management_group',\n",
              " 'payment',\n",
              " 'water_quality',\n",
              " 'quality_group',\n",
              " 'quantity',\n",
              " 'source',\n",
              " 'source_type',\n",
              " 'source_class',\n",
              " 'waterpoint_type',\n",
              " 'waterpoint_type_group',\n",
              " 'longitude_MISSING',\n",
              " 'latitude_MISSING',\n",
              " 'construction_year_MISSING',\n",
              " 'gps_height_MISSING',\n",
              " 'population_MISSING',\n",
              " 'years_MISSING']"
            ]
          },
          "metadata": {
            "tags": []
          },
          "execution_count": 41
        }
      ]
    },
    {
      "cell_type": "code",
      "metadata": {
        "id": "kI6Wth44mpkw",
        "colab_type": "code",
        "colab": {
          "base_uri": "https://localhost:8080/",
          "height": 242
        },
        "outputId": "8e702114-6c19-4d94-d6a0-3a366b92e278"
      },
      "source": [
        "feature = 'gps_height'\n",
        "X_train[feature].value_counts()"
      ],
      "execution_count": 43,
      "outputs": [
        {
          "output_type": "execute_result",
          "data": {
            "text/plain": [
              "-15.0      48\n",
              " 1290.0    45\n",
              "-20.0      43\n",
              "-14.0      43\n",
              "-16.0      42\n",
              "           ..\n",
              " 2313.0     1\n",
              " 585.0      1\n",
              " 1959.0     1\n",
              " 653.0      1\n",
              " 643.0      1\n",
              "Name: gps_height, Length: 2400, dtype: int64"
            ]
          },
          "metadata": {
            "tags": []
          },
          "execution_count": 43
        }
      ]
    },
    {
      "cell_type": "code",
      "metadata": {
        "id": "yHZmJXEObYDa",
        "colab_type": "code",
        "colab": {
          "base_uri": "https://localhost:8080/",
          "height": 36
        },
        "outputId": "f19b24db-d555-43c1-f0e7-7bbeadc2c1d3"
      },
      "source": [
        "from sklearn.linear_model import LogisticRegressionCV \n",
        "lr = make_pipeline(\n",
        "    ce.OrdinalEncoder(), \n",
        "    SimpleImputer(), \n",
        "    StandardScaler(), \n",
        "    LogisticRegressionCV(multi_class='auto', solver='lbfgs', cv=5, n_jobs=-1)\n",
        ")\n",
        "\n",
        "lr.fit(X_train[[feature]], y_train)\n",
        "score = lr.score(X_val[[feature]], y_val)\n",
        "print('Logistic Regression, Validation Accuracy', score)"
      ],
      "execution_count": 46,
      "outputs": [
        {
          "output_type": "stream",
          "text": [
            "Logistic Regression, Validation Accuracy 0.5373737373737374\n"
          ],
          "name": "stdout"
        }
      ]
    },
    {
      "cell_type": "code",
      "metadata": {
        "id": "qVtDRIi3ikx-",
        "colab_type": "code",
        "colab": {
          "base_uri": "https://localhost:8080/",
          "height": 36
        },
        "outputId": "3485b1eb-3df4-4ecd-b48a-a9c3581a32dc"
      },
      "source": [
        "from sklearn.ensemble import RandomForestClassifier \n",
        "from sklearn.tree import DecisionTreeClassifier\n",
        "dt = make_pipeline(\n",
        "    ce.OrdinalEncoder(), \n",
        "    SimpleImputer(), \n",
        "    DecisionTreeClassifier(random_state=42)\n",
        ")\n",
        "\n",
        "dt.fit(X_train[[feature]], y_train)\n",
        "score = dt.score(X_val[[feature]], y_val)\n",
        "print('Decision Tree, Validation Accuracy', score)"
      ],
      "execution_count": 47,
      "outputs": [
        {
          "output_type": "stream",
          "text": [
            "Decision Tree, Validation Accuracy 0.5351851851851852\n"
          ],
          "name": "stdout"
        }
      ]
    },
    {
      "cell_type": "code",
      "metadata": {
        "id": "UFpiy2MypZ9S",
        "colab_type": "code",
        "colab": {
          "base_uri": "https://localhost:8080/",
          "height": 931
        },
        "outputId": "5b9f8e7a-28c8-4044-d8af-249e188080d3"
      },
      "source": [
        "import graphviz\n",
        "from sklearn.tree import export_graphviz\n",
        "\n",
        "model = dt.named_steps['decisiontreeclassifier']\n",
        "encoder = dt.named_steps['ordinalencoder']\n",
        "encoded_columns = encoder.transform(X_val[[feature]]).columns\n",
        "\n",
        "dot_data = export_graphviz(model, \n",
        "                           out_file=None, \n",
        "                           max_depth=5, \n",
        "                           feature_names=encoded_columns,\n",
        "                           class_names=model.classes_, \n",
        "                           impurity=False, \n",
        "                           filled=True, \n",
        "                           proportion=True, \n",
        "                           rounded=True)   \n",
        "display(graphviz.Source(dot_data))"
      ],
      "execution_count": 51,
      "outputs": [
        {
          "output_type": "display_data",
          "data": {
            "text/plain": [
              "<graphviz.files.Source at 0x7fa3f9a70ac8>"
            ],
            "image/svg+xml": "<?xml version=\"1.0\" encoding=\"UTF-8\" standalone=\"no\"?>\n<!DOCTYPE svg PUBLIC \"-//W3C//DTD SVG 1.1//EN\"\n \"http://www.w3.org/Graphics/SVG/1.1/DTD/svg11.dtd\">\n<!-- Generated by graphviz version 2.40.1 (20161225.0304)\n -->\n<!-- Title: Tree Pages: 1 -->\n<svg width=\"6014pt\" height=\"668pt\"\n viewBox=\"0.00 0.00 6013.50 668.00\" xmlns=\"http://www.w3.org/2000/svg\" xmlns:xlink=\"http://www.w3.org/1999/xlink\">\n<g id=\"graph0\" class=\"graph\" transform=\"scale(1 1) rotate(0) translate(4 664)\">\n<title>Tree</title>\n<polygon fill=\"#ffffff\" stroke=\"transparent\" points=\"-4,4 -4,-664 6009.5,-664 6009.5,4 -4,4\"/>\n<!-- 0 -->\n<g id=\"node1\" class=\"node\">\n<title>0</title>\n<path fill=\"#f8decc\" stroke=\"#000000\" d=\"M3633,-660C3633,-660 3457,-660 3457,-660 3451,-660 3445,-654 3445,-648 3445,-648 3445,-604 3445,-604 3445,-598 3451,-592 3457,-592 3457,-592 3633,-592 3633,-592 3639,-592 3645,-598 3645,-604 3645,-604 3645,-648 3645,-648 3645,-654 3639,-660 3633,-660\"/>\n<text text-anchor=\"middle\" x=\"3545\" y=\"-644.8\" font-family=\"Helvetica,sans-Serif\" font-size=\"14.00\" fill=\"#000000\">gps_height &lt;= 1359.5</text>\n<text text-anchor=\"middle\" x=\"3545\" y=\"-629.8\" font-family=\"Helvetica,sans-Serif\" font-size=\"14.00\" fill=\"#000000\">samples = 100.0%</text>\n<text text-anchor=\"middle\" x=\"3545\" y=\"-614.8\" font-family=\"Helvetica,sans-Serif\" font-size=\"14.00\" fill=\"#000000\">value = [0.543, 0.073, 0.384]</text>\n<text text-anchor=\"middle\" x=\"3545\" y=\"-599.8\" font-family=\"Helvetica,sans-Serif\" font-size=\"14.00\" fill=\"#000000\">class = functional</text>\n</g>\n<!-- 1 -->\n<g id=\"node2\" class=\"node\">\n<title>1</title>\n<path fill=\"#fbeadf\" stroke=\"#000000\" d=\"M2664,-556C2664,-556 2488,-556 2488,-556 2482,-556 2476,-550 2476,-544 2476,-544 2476,-500 2476,-500 2476,-494 2482,-488 2488,-488 2488,-488 2664,-488 2664,-488 2670,-488 2676,-494 2676,-500 2676,-500 2676,-544 2676,-544 2676,-550 2670,-556 2664,-556\"/>\n<text text-anchor=\"middle\" x=\"2576\" y=\"-540.8\" font-family=\"Helvetica,sans-Serif\" font-size=\"14.00\" fill=\"#000000\">gps_height &lt;= 605.5</text>\n<text text-anchor=\"middle\" x=\"2576\" y=\"-525.8\" font-family=\"Helvetica,sans-Serif\" font-size=\"14.00\" fill=\"#000000\">samples = 77.2%</text>\n<text text-anchor=\"middle\" x=\"2576\" y=\"-510.8\" font-family=\"Helvetica,sans-Serif\" font-size=\"14.00\" fill=\"#000000\">value = [0.509, 0.078, 0.413]</text>\n<text text-anchor=\"middle\" x=\"2576\" y=\"-495.8\" font-family=\"Helvetica,sans-Serif\" font-size=\"14.00\" fill=\"#000000\">class = functional</text>\n</g>\n<!-- 0&#45;&gt;1 -->\n<g id=\"edge1\" class=\"edge\">\n<title>0&#45;&gt;1</title>\n<path fill=\"none\" stroke=\"#000000\" d=\"M3444.9497,-615.2619C3262.2927,-595.6578 2876.1748,-554.2169 2686.2357,-533.8313\"/>\n<polygon fill=\"#000000\" stroke=\"#000000\" points=\"2686.5473,-530.3447 2676.2308,-532.7575 2685.8002,-537.3047 2686.5473,-530.3447\"/>\n<text text-anchor=\"middle\" x=\"2691.9211\" y=\"-548.5207\" font-family=\"Helvetica,sans-Serif\" font-size=\"14.00\" fill=\"#000000\">True</text>\n</g>\n<!-- 2820 -->\n<g id=\"node63\" class=\"node\">\n<title>2820</title>\n<path fill=\"#f1bd98\" stroke=\"#000000\" d=\"M4181,-556C4181,-556 4005,-556 4005,-556 3999,-556 3993,-550 3993,-544 3993,-544 3993,-500 3993,-500 3993,-494 3999,-488 4005,-488 4005,-488 4181,-488 4181,-488 4187,-488 4193,-494 4193,-500 4193,-500 4193,-544 4193,-544 4193,-550 4187,-556 4181,-556\"/>\n<text text-anchor=\"middle\" x=\"4093\" y=\"-540.8\" font-family=\"Helvetica,sans-Serif\" font-size=\"14.00\" fill=\"#000000\">gps_height &lt;= 1958.5</text>\n<text text-anchor=\"middle\" x=\"4093\" y=\"-525.8\" font-family=\"Helvetica,sans-Serif\" font-size=\"14.00\" fill=\"#000000\">samples = 22.8%</text>\n<text text-anchor=\"middle\" x=\"4093\" y=\"-510.8\" font-family=\"Helvetica,sans-Serif\" font-size=\"14.00\" fill=\"#000000\">value = [0.659, 0.055, 0.286]</text>\n<text text-anchor=\"middle\" x=\"4093\" y=\"-495.8\" font-family=\"Helvetica,sans-Serif\" font-size=\"14.00\" fill=\"#000000\">class = functional</text>\n</g>\n<!-- 0&#45;&gt;2820 -->\n<g id=\"edge62\" class=\"edge\">\n<title>0&#45;&gt;2820</title>\n<path fill=\"none\" stroke=\"#000000\" d=\"M3645.1929,-606.9853C3740.595,-588.8798 3883.875,-561.6879 3982.5391,-542.9634\"/>\n<polygon fill=\"#000000\" stroke=\"#000000\" points=\"3983.3708,-546.3681 3992.5429,-541.0649 3982.0656,-539.4908 3983.3708,-546.3681\"/>\n<text text-anchor=\"middle\" x=\"3978.4712\" y=\"-558.0286\" font-family=\"Helvetica,sans-Serif\" font-size=\"14.00\" fill=\"#000000\">False</text>\n</g>\n<!-- 2 -->\n<g id=\"node3\" class=\"node\">\n<title>2</title>\n<path fill=\"#fefcfb\" stroke=\"#000000\" d=\"M1375,-452C1375,-452 1207,-452 1207,-452 1201,-452 1195,-446 1195,-440 1195,-440 1195,-396 1195,-396 1195,-390 1201,-384 1207,-384 1207,-384 1375,-384 1375,-384 1381,-384 1387,-390 1387,-396 1387,-396 1387,-440 1387,-440 1387,-446 1381,-452 1375,-452\"/>\n<text text-anchor=\"middle\" x=\"1291\" y=\"-436.8\" font-family=\"Helvetica,sans-Serif\" font-size=\"14.00\" fill=\"#000000\">gps_height &lt;= 307.5</text>\n<text text-anchor=\"middle\" x=\"1291\" y=\"-421.8\" font-family=\"Helvetica,sans-Serif\" font-size=\"14.00\" fill=\"#000000\">samples = 20.3%</text>\n<text text-anchor=\"middle\" x=\"1291\" y=\"-406.8\" font-family=\"Helvetica,sans-Serif\" font-size=\"14.00\" fill=\"#000000\">value = [0.482, 0.049, 0.47]</text>\n<text text-anchor=\"middle\" x=\"1291\" y=\"-391.8\" font-family=\"Helvetica,sans-Serif\" font-size=\"14.00\" fill=\"#000000\">class = functional</text>\n</g>\n<!-- 1&#45;&gt;2 -->\n<g id=\"edge2\" class=\"edge\">\n<title>1&#45;&gt;2</title>\n<path fill=\"none\" stroke=\"#000000\" d=\"M2475.9706,-513.9042C2238.2979,-494.6685 1641.4078,-446.3599 1397.4282,-426.6136\"/>\n<polygon fill=\"#000000\" stroke=\"#000000\" points=\"1397.3853,-423.0988 1387.1355,-425.7806 1396.8205,-430.076 1397.3853,-423.0988\"/>\n</g>\n<!-- 1319 -->\n<g id=\"node32\" class=\"node\">\n<title>1319</title>\n<path fill=\"#fae5d6\" stroke=\"#000000\" d=\"M2664,-452C2664,-452 2488,-452 2488,-452 2482,-452 2476,-446 2476,-440 2476,-440 2476,-396 2476,-396 2476,-390 2482,-384 2488,-384 2488,-384 2664,-384 2664,-384 2670,-384 2676,-390 2676,-396 2676,-396 2676,-440 2676,-440 2676,-446 2670,-452 2664,-452\"/>\n<text text-anchor=\"middle\" x=\"2576\" y=\"-436.8\" font-family=\"Helvetica,sans-Serif\" font-size=\"14.00\" fill=\"#000000\">gps_height &lt;= 747.5</text>\n<text text-anchor=\"middle\" x=\"2576\" y=\"-421.8\" font-family=\"Helvetica,sans-Serif\" font-size=\"14.00\" fill=\"#000000\">samples = 56.9%</text>\n<text text-anchor=\"middle\" x=\"2576\" y=\"-406.8\" font-family=\"Helvetica,sans-Serif\" font-size=\"14.00\" fill=\"#000000\">value = [0.519, 0.088, 0.393]</text>\n<text text-anchor=\"middle\" x=\"2576\" y=\"-391.8\" font-family=\"Helvetica,sans-Serif\" font-size=\"14.00\" fill=\"#000000\">class = functional</text>\n</g>\n<!-- 1&#45;&gt;1319 -->\n<g id=\"edge31\" class=\"edge\">\n<title>1&#45;&gt;1319</title>\n<path fill=\"none\" stroke=\"#000000\" d=\"M2576,-487.9465C2576,-479.776 2576,-470.9318 2576,-462.3697\"/>\n<polygon fill=\"#000000\" stroke=\"#000000\" points=\"2579.5001,-462.13 2576,-452.13 2572.5001,-462.13 2579.5001,-462.13\"/>\n</g>\n<!-- 3 -->\n<g id=\"node4\" class=\"node\">\n<title>3</title>\n<path fill=\"#fcf1e9\" stroke=\"#000000\" d=\"M731,-348C731,-348 555,-348 555,-348 549,-348 543,-342 543,-336 543,-336 543,-292 543,-292 543,-286 549,-280 555,-280 555,-280 731,-280 731,-280 737,-280 743,-286 743,-292 743,-292 743,-336 743,-336 743,-342 737,-348 731,-348\"/>\n<text text-anchor=\"middle\" x=\"643\" y=\"-332.8\" font-family=\"Helvetica,sans-Serif\" font-size=\"14.00\" fill=\"#000000\">gps_height &lt;= 249.5</text>\n<text text-anchor=\"middle\" x=\"643\" y=\"-317.8\" font-family=\"Helvetica,sans-Serif\" font-size=\"14.00\" fill=\"#000000\">samples = 12.6%</text>\n<text text-anchor=\"middle\" x=\"643\" y=\"-302.8\" font-family=\"Helvetica,sans-Serif\" font-size=\"14.00\" fill=\"#000000\">value = [0.512, 0.037, 0.451]</text>\n<text text-anchor=\"middle\" x=\"643\" y=\"-287.8\" font-family=\"Helvetica,sans-Serif\" font-size=\"14.00\" fill=\"#000000\">class = functional</text>\n</g>\n<!-- 2&#45;&gt;3 -->\n<g id=\"edge3\" class=\"edge\">\n<title>2&#45;&gt;3</title>\n<path fill=\"none\" stroke=\"#000000\" d=\"M1194.6876,-402.5424C1076.6034,-383.5907 876.9303,-351.5444 752.9437,-331.6453\"/>\n<polygon fill=\"#000000\" stroke=\"#000000\" points=\"753.4685,-328.1848 743.0402,-330.0558 752.3592,-335.0964 753.4685,-328.1848\"/>\n</g>\n<!-- 728 -->\n<g id=\"node19\" class=\"node\">\n<title>728</title>\n<path fill=\"#f0e7fc\" stroke=\"#000000\" d=\"M1371,-348C1371,-348 1211,-348 1211,-348 1205,-348 1199,-342 1199,-336 1199,-336 1199,-292 1199,-292 1199,-286 1205,-280 1211,-280 1211,-280 1371,-280 1371,-280 1377,-280 1383,-286 1383,-292 1383,-292 1383,-336 1383,-336 1383,-342 1377,-348 1371,-348\"/>\n<text text-anchor=\"middle\" x=\"1291\" y=\"-332.8\" font-family=\"Helvetica,sans-Serif\" font-size=\"14.00\" fill=\"#000000\">gps_height &lt;= 324.5</text>\n<text text-anchor=\"middle\" x=\"1291\" y=\"-317.8\" font-family=\"Helvetica,sans-Serif\" font-size=\"14.00\" fill=\"#000000\">samples = 7.6%</text>\n<text text-anchor=\"middle\" x=\"1291\" y=\"-302.8\" font-family=\"Helvetica,sans-Serif\" font-size=\"14.00\" fill=\"#000000\">value = [0.432, 0.068, 0.5]</text>\n<text text-anchor=\"middle\" x=\"1291\" y=\"-287.8\" font-family=\"Helvetica,sans-Serif\" font-size=\"14.00\" fill=\"#000000\">class = non functional</text>\n</g>\n<!-- 2&#45;&gt;728 -->\n<g id=\"edge18\" class=\"edge\">\n<title>2&#45;&gt;728</title>\n<path fill=\"none\" stroke=\"#000000\" d=\"M1291,-383.9465C1291,-375.776 1291,-366.9318 1291,-358.3697\"/>\n<polygon fill=\"#000000\" stroke=\"#000000\" points=\"1294.5001,-358.13 1291,-348.13 1287.5001,-358.13 1294.5001,-358.13\"/>\n</g>\n<!-- 4 -->\n<g id=\"node5\" class=\"node\">\n<title>4</title>\n<path fill=\"#fdf5ef\" stroke=\"#000000\" d=\"M406,-244C406,-244 230,-244 230,-244 224,-244 218,-238 218,-232 218,-232 218,-188 218,-188 218,-182 224,-176 230,-176 230,-176 406,-176 406,-176 412,-176 418,-182 418,-188 418,-188 418,-232 418,-232 418,-238 412,-244 406,-244\"/>\n<text text-anchor=\"middle\" x=\"318\" y=\"-228.8\" font-family=\"Helvetica,sans-Serif\" font-size=\"14.00\" fill=\"#000000\">gps_height &lt;= 79.5</text>\n<text text-anchor=\"middle\" x=\"318\" y=\"-213.8\" font-family=\"Helvetica,sans-Serif\" font-size=\"14.00\" fill=\"#000000\">samples = 9.8%</text>\n<text text-anchor=\"middle\" x=\"318\" y=\"-198.8\" font-family=\"Helvetica,sans-Serif\" font-size=\"14.00\" fill=\"#000000\">value = [0.509, 0.026, 0.465]</text>\n<text text-anchor=\"middle\" x=\"318\" y=\"-183.8\" font-family=\"Helvetica,sans-Serif\" font-size=\"14.00\" fill=\"#000000\">class = functional</text>\n</g>\n<!-- 3&#45;&gt;4 -->\n<g id=\"edge4\" class=\"edge\">\n<title>3&#45;&gt;4</title>\n<path fill=\"none\" stroke=\"#000000\" d=\"M542.8374,-281.948C506.4553,-270.3057 465.1595,-257.091 427.9751,-245.192\"/>\n<polygon fill=\"#000000\" stroke=\"#000000\" points=\"428.7025,-241.75 418.1115,-242.0357 426.569,-248.417 428.7025,-241.75\"/>\n</g>\n<!-- 613 -->\n<g id=\"node12\" class=\"node\">\n<title>613</title>\n<path fill=\"#fae6d7\" stroke=\"#000000\" d=\"M731,-244C731,-244 555,-244 555,-244 549,-244 543,-238 543,-232 543,-232 543,-188 543,-188 543,-182 549,-176 555,-176 555,-176 731,-176 731,-176 737,-176 743,-182 743,-188 743,-188 743,-232 743,-232 743,-238 737,-244 731,-244\"/>\n<text text-anchor=\"middle\" x=\"643\" y=\"-228.8\" font-family=\"Helvetica,sans-Serif\" font-size=\"14.00\" fill=\"#000000\">gps_height &lt;= 273.5</text>\n<text text-anchor=\"middle\" x=\"643\" y=\"-213.8\" font-family=\"Helvetica,sans-Serif\" font-size=\"14.00\" fill=\"#000000\">samples = 2.8%</text>\n<text text-anchor=\"middle\" x=\"643\" y=\"-198.8\" font-family=\"Helvetica,sans-Serif\" font-size=\"14.00\" fill=\"#000000\">value = [0.522, 0.076, 0.402]</text>\n<text text-anchor=\"middle\" x=\"643\" y=\"-183.8\" font-family=\"Helvetica,sans-Serif\" font-size=\"14.00\" fill=\"#000000\">class = functional</text>\n</g>\n<!-- 3&#45;&gt;613 -->\n<g id=\"edge11\" class=\"edge\">\n<title>3&#45;&gt;613</title>\n<path fill=\"none\" stroke=\"#000000\" d=\"M643,-279.9465C643,-271.776 643,-262.9318 643,-254.3697\"/>\n<polygon fill=\"#000000\" stroke=\"#000000\" points=\"646.5001,-254.13 643,-244.13 639.5001,-254.13 646.5001,-254.13\"/>\n</g>\n<!-- 5 -->\n<g id=\"node6\" class=\"node\">\n<title>5</title>\n<path fill=\"#fbede3\" stroke=\"#000000\" d=\"M188,-140C188,-140 12,-140 12,-140 6,-140 0,-134 0,-128 0,-128 0,-84 0,-84 0,-78 6,-72 12,-72 12,-72 188,-72 188,-72 194,-72 200,-78 200,-84 200,-84 200,-128 200,-128 200,-134 194,-140 188,-140\"/>\n<text text-anchor=\"middle\" x=\"100\" y=\"-124.8\" font-family=\"Helvetica,sans-Serif\" font-size=\"14.00\" fill=\"#000000\">gps_height &lt;= 72.5</text>\n<text text-anchor=\"middle\" x=\"100\" y=\"-109.8\" font-family=\"Helvetica,sans-Serif\" font-size=\"14.00\" fill=\"#000000\">samples = 5.8%</text>\n<text text-anchor=\"middle\" x=\"100\" y=\"-94.8\" font-family=\"Helvetica,sans-Serif\" font-size=\"14.00\" fill=\"#000000\">value = [0.527, 0.023, 0.449]</text>\n<text text-anchor=\"middle\" x=\"100\" y=\"-79.8\" font-family=\"Helvetica,sans-Serif\" font-size=\"14.00\" fill=\"#000000\">class = functional</text>\n</g>\n<!-- 4&#45;&gt;5 -->\n<g id=\"edge5\" class=\"edge\">\n<title>4&#45;&gt;5</title>\n<path fill=\"none\" stroke=\"#000000\" d=\"M246.6186,-175.9465C225.5398,-165.8906 202.3216,-154.814 180.6997,-144.4989\"/>\n<polygon fill=\"#000000\" stroke=\"#000000\" points=\"182.0743,-141.2769 171.5417,-140.13 179.0602,-147.5948 182.0743,-141.2769\"/>\n</g>\n<!-- 274 -->\n<g id=\"node9\" class=\"node\">\n<title>274</title>\n<path fill=\"#fdfcff\" stroke=\"#000000\" d=\"M406,-140C406,-140 230,-140 230,-140 224,-140 218,-134 218,-128 218,-128 218,-84 218,-84 218,-78 224,-72 230,-72 230,-72 406,-72 406,-72 412,-72 418,-78 418,-84 418,-84 418,-128 418,-128 418,-134 412,-140 406,-140\"/>\n<text text-anchor=\"middle\" x=\"318\" y=\"-124.8\" font-family=\"Helvetica,sans-Serif\" font-size=\"14.00\" fill=\"#000000\">gps_height &lt;= 80.5</text>\n<text text-anchor=\"middle\" x=\"318\" y=\"-109.8\" font-family=\"Helvetica,sans-Serif\" font-size=\"14.00\" fill=\"#000000\">samples = 3.9%</text>\n<text text-anchor=\"middle\" x=\"318\" y=\"-94.8\" font-family=\"Helvetica,sans-Serif\" font-size=\"14.00\" fill=\"#000000\">value = [0.481, 0.029, 0.489]</text>\n<text text-anchor=\"middle\" x=\"318\" y=\"-79.8\" font-family=\"Helvetica,sans-Serif\" font-size=\"14.00\" fill=\"#000000\">class = non functional</text>\n</g>\n<!-- 4&#45;&gt;274 -->\n<g id=\"edge8\" class=\"edge\">\n<title>4&#45;&gt;274</title>\n<path fill=\"none\" stroke=\"#000000\" d=\"M318,-175.9465C318,-167.776 318,-158.9318 318,-150.3697\"/>\n<polygon fill=\"#000000\" stroke=\"#000000\" points=\"321.5001,-150.13 318,-140.13 314.5001,-150.13 321.5001,-150.13\"/>\n</g>\n<!-- 6 -->\n<g id=\"node7\" class=\"node\">\n<title>6</title>\n<path fill=\"#c0c0c0\" stroke=\"#000000\" d=\"M79,-36C79,-36 49,-36 49,-36 43,-36 37,-30 37,-24 37,-24 37,-12 37,-12 37,-6 43,0 49,0 49,0 79,0 79,0 85,0 91,-6 91,-12 91,-12 91,-24 91,-24 91,-30 85,-36 79,-36\"/>\n<text text-anchor=\"middle\" x=\"64\" y=\"-14.3\" font-family=\"Helvetica,sans-Serif\" font-size=\"14.00\" fill=\"#000000\">(...)</text>\n</g>\n<!-- 5&#45;&gt;6 -->\n<g id=\"edge6\" class=\"edge\">\n<title>5&#45;&gt;6</title>\n<path fill=\"none\" stroke=\"#000000\" d=\"M86.0815,-71.9769C82.4977,-63.2167 78.6862,-53.8995 75.2564,-45.5157\"/>\n<polygon fill=\"#000000\" stroke=\"#000000\" points=\"78.468,-44.1222 71.4422,-36.192 71.9891,-46.7727 78.468,-44.1222\"/>\n</g>\n<!-- 261 -->\n<g id=\"node8\" class=\"node\">\n<title>261</title>\n<path fill=\"#c0c0c0\" stroke=\"#000000\" d=\"M151,-36C151,-36 121,-36 121,-36 115,-36 109,-30 109,-24 109,-24 109,-12 109,-12 109,-6 115,0 121,0 121,0 151,0 151,0 157,0 163,-6 163,-12 163,-12 163,-24 163,-24 163,-30 157,-36 151,-36\"/>\n<text text-anchor=\"middle\" x=\"136\" y=\"-14.3\" font-family=\"Helvetica,sans-Serif\" font-size=\"14.00\" fill=\"#000000\">(...)</text>\n</g>\n<!-- 5&#45;&gt;261 -->\n<g id=\"edge7\" class=\"edge\">\n<title>5&#45;&gt;261</title>\n<path fill=\"none\" stroke=\"#000000\" d=\"M113.9185,-71.9769C117.5023,-63.2167 121.3138,-53.8995 124.7436,-45.5157\"/>\n<polygon fill=\"#000000\" stroke=\"#000000\" points=\"128.0109,-46.7727 128.5578,-36.192 121.532,-44.1222 128.0109,-46.7727\"/>\n</g>\n<!-- 275 -->\n<g id=\"node10\" class=\"node\">\n<title>275</title>\n<path fill=\"#c0c0c0\" stroke=\"#000000\" d=\"M297,-36C297,-36 267,-36 267,-36 261,-36 255,-30 255,-24 255,-24 255,-12 255,-12 255,-6 261,0 267,0 267,0 297,0 297,0 303,0 309,-6 309,-12 309,-12 309,-24 309,-24 309,-30 303,-36 297,-36\"/>\n<text text-anchor=\"middle\" x=\"282\" y=\"-14.3\" font-family=\"Helvetica,sans-Serif\" font-size=\"14.00\" fill=\"#000000\">(...)</text>\n</g>\n<!-- 274&#45;&gt;275 -->\n<g id=\"edge9\" class=\"edge\">\n<title>274&#45;&gt;275</title>\n<path fill=\"none\" stroke=\"#000000\" d=\"M304.0815,-71.9769C300.4977,-63.2167 296.6862,-53.8995 293.2564,-45.5157\"/>\n<polygon fill=\"#000000\" stroke=\"#000000\" points=\"296.468,-44.1222 289.4422,-36.192 289.9891,-46.7727 296.468,-44.1222\"/>\n</g>\n<!-- 276 -->\n<g id=\"node11\" class=\"node\">\n<title>276</title>\n<path fill=\"#c0c0c0\" stroke=\"#000000\" d=\"M369,-36C369,-36 339,-36 339,-36 333,-36 327,-30 327,-24 327,-24 327,-12 327,-12 327,-6 333,0 339,0 339,0 369,0 369,0 375,0 381,-6 381,-12 381,-12 381,-24 381,-24 381,-30 375,-36 369,-36\"/>\n<text text-anchor=\"middle\" x=\"354\" y=\"-14.3\" font-family=\"Helvetica,sans-Serif\" font-size=\"14.00\" fill=\"#000000\">(...)</text>\n</g>\n<!-- 274&#45;&gt;276 -->\n<g id=\"edge10\" class=\"edge\">\n<title>274&#45;&gt;276</title>\n<path fill=\"none\" stroke=\"#000000\" d=\"M331.9185,-71.9769C335.5023,-63.2167 339.3138,-53.8995 342.7436,-45.5157\"/>\n<polygon fill=\"#000000\" stroke=\"#000000\" points=\"346.0109,-46.7727 346.5578,-36.192 339.532,-44.1222 346.0109,-46.7727\"/>\n</g>\n<!-- 614 -->\n<g id=\"node13\" class=\"node\">\n<title>614</title>\n<path fill=\"#f9e3d2\" stroke=\"#000000\" d=\"M624,-140C624,-140 448,-140 448,-140 442,-140 436,-134 436,-128 436,-128 436,-84 436,-84 436,-78 442,-72 448,-72 448,-72 624,-72 624,-72 630,-72 636,-78 636,-84 636,-84 636,-128 636,-128 636,-134 630,-140 624,-140\"/>\n<text text-anchor=\"middle\" x=\"536\" y=\"-124.8\" font-family=\"Helvetica,sans-Serif\" font-size=\"14.00\" fill=\"#000000\">gps_height &lt;= 263.5</text>\n<text text-anchor=\"middle\" x=\"536\" y=\"-109.8\" font-family=\"Helvetica,sans-Serif\" font-size=\"14.00\" fill=\"#000000\">samples = 1.1%</text>\n<text text-anchor=\"middle\" x=\"536\" y=\"-94.8\" font-family=\"Helvetica,sans-Serif\" font-size=\"14.00\" fill=\"#000000\">value = [0.509, 0.126, 0.365]</text>\n<text text-anchor=\"middle\" x=\"536\" y=\"-79.8\" font-family=\"Helvetica,sans-Serif\" font-size=\"14.00\" fill=\"#000000\">class = functional</text>\n</g>\n<!-- 613&#45;&gt;614 -->\n<g id=\"edge12\" class=\"edge\">\n<title>613&#45;&gt;614</title>\n<path fill=\"none\" stroke=\"#000000\" d=\"M607.9642,-175.9465C598.5419,-166.7884 588.2487,-156.7838 578.4696,-147.2788\"/>\n<polygon fill=\"#000000\" stroke=\"#000000\" points=\"580.7249,-144.59 571.1145,-140.13 575.846,-149.6097 580.7249,-144.59\"/>\n</g>\n<!-- 661 -->\n<g id=\"node16\" class=\"node\">\n<title>661</title>\n<path fill=\"#fae8db\" stroke=\"#000000\" d=\"M834,-140C834,-140 666,-140 666,-140 660,-140 654,-134 654,-128 654,-128 654,-84 654,-84 654,-78 660,-72 666,-72 666,-72 834,-72 834,-72 840,-72 846,-78 846,-84 846,-84 846,-128 846,-128 846,-134 840,-140 834,-140\"/>\n<text text-anchor=\"middle\" x=\"750\" y=\"-124.8\" font-family=\"Helvetica,sans-Serif\" font-size=\"14.00\" fill=\"#000000\">gps_height &lt;= 274.5</text>\n<text text-anchor=\"middle\" x=\"750\" y=\"-109.8\" font-family=\"Helvetica,sans-Serif\" font-size=\"14.00\" fill=\"#000000\">samples = 1.8%</text>\n<text text-anchor=\"middle\" x=\"750\" y=\"-94.8\" font-family=\"Helvetica,sans-Serif\" font-size=\"14.00\" fill=\"#000000\">value = [0.53, 0.046, 0.424]</text>\n<text text-anchor=\"middle\" x=\"750\" y=\"-79.8\" font-family=\"Helvetica,sans-Serif\" font-size=\"14.00\" fill=\"#000000\">class = functional</text>\n</g>\n<!-- 613&#45;&gt;661 -->\n<g id=\"edge15\" class=\"edge\">\n<title>613&#45;&gt;661</title>\n<path fill=\"none\" stroke=\"#000000\" d=\"M678.0358,-175.9465C687.4581,-166.7884 697.7513,-156.7838 707.5304,-147.2788\"/>\n<polygon fill=\"#000000\" stroke=\"#000000\" points=\"710.154,-149.6097 714.8855,-140.13 705.2751,-144.59 710.154,-149.6097\"/>\n</g>\n<!-- 615 -->\n<g id=\"node14\" class=\"node\">\n<title>615</title>\n<path fill=\"#c0c0c0\" stroke=\"#000000\" d=\"M532,-36C532,-36 502,-36 502,-36 496,-36 490,-30 490,-24 490,-24 490,-12 490,-12 490,-6 496,0 502,0 502,0 532,0 532,0 538,0 544,-6 544,-12 544,-12 544,-24 544,-24 544,-30 538,-36 532,-36\"/>\n<text text-anchor=\"middle\" x=\"517\" y=\"-14.3\" font-family=\"Helvetica,sans-Serif\" font-size=\"14.00\" fill=\"#000000\">(...)</text>\n</g>\n<!-- 614&#45;&gt;615 -->\n<g id=\"edge13\" class=\"edge\">\n<title>614&#45;&gt;615</title>\n<path fill=\"none\" stroke=\"#000000\" d=\"M528.6541,-71.9769C526.8038,-63.4071 524.8384,-54.3043 523.0592,-46.0638\"/>\n<polygon fill=\"#000000\" stroke=\"#000000\" points=\"526.4595,-45.228 520.9278,-36.192 519.6172,-46.7054 526.4595,-45.228\"/>\n</g>\n<!-- 642 -->\n<g id=\"node15\" class=\"node\">\n<title>642</title>\n<path fill=\"#c0c0c0\" stroke=\"#000000\" d=\"M604,-36C604,-36 574,-36 574,-36 568,-36 562,-30 562,-24 562,-24 562,-12 562,-12 562,-6 568,0 574,0 574,0 604,0 604,0 610,0 616,-6 616,-12 616,-12 616,-24 616,-24 616,-30 610,-36 604,-36\"/>\n<text text-anchor=\"middle\" x=\"589\" y=\"-14.3\" font-family=\"Helvetica,sans-Serif\" font-size=\"14.00\" fill=\"#000000\">(...)</text>\n</g>\n<!-- 614&#45;&gt;642 -->\n<g id=\"edge14\" class=\"edge\">\n<title>614&#45;&gt;642</title>\n<path fill=\"none\" stroke=\"#000000\" d=\"M556.4912,-71.9769C561.8819,-63.0262 567.6228,-53.4941 572.7565,-44.9703\"/>\n<polygon fill=\"#000000\" stroke=\"#000000\" points=\"575.8824,-46.5641 578.0435,-36.192 569.886,-42.9525 575.8824,-46.5641\"/>\n</g>\n<!-- 662 -->\n<g id=\"node17\" class=\"node\">\n<title>662</title>\n<path fill=\"#c0c0c0\" stroke=\"#000000\" d=\"M711,-36C711,-36 681,-36 681,-36 675,-36 669,-30 669,-24 669,-24 669,-12 669,-12 669,-6 675,0 681,0 681,0 711,0 711,0 717,0 723,-6 723,-12 723,-12 723,-24 723,-24 723,-30 717,-36 711,-36\"/>\n<text text-anchor=\"middle\" x=\"696\" y=\"-14.3\" font-family=\"Helvetica,sans-Serif\" font-size=\"14.00\" fill=\"#000000\">(...)</text>\n</g>\n<!-- 661&#45;&gt;662 -->\n<g id=\"edge16\" class=\"edge\">\n<title>661&#45;&gt;662</title>\n<path fill=\"none\" stroke=\"#000000\" d=\"M729.1222,-71.9769C723.6297,-63.0262 717.7805,-53.4941 712.5499,-44.9703\"/>\n<polygon fill=\"#000000\" stroke=\"#000000\" points=\"715.3766,-42.8846 707.1632,-36.192 709.4103,-46.5458 715.3766,-42.8846\"/>\n</g>\n<!-- 663 -->\n<g id=\"node18\" class=\"node\">\n<title>663</title>\n<path fill=\"#c0c0c0\" stroke=\"#000000\" d=\"M783,-36C783,-36 753,-36 753,-36 747,-36 741,-30 741,-24 741,-24 741,-12 741,-12 741,-6 747,0 753,0 753,0 783,0 783,0 789,0 795,-6 795,-12 795,-12 795,-24 795,-24 795,-30 789,-36 783,-36\"/>\n<text text-anchor=\"middle\" x=\"768\" y=\"-14.3\" font-family=\"Helvetica,sans-Serif\" font-size=\"14.00\" fill=\"#000000\">(...)</text>\n</g>\n<!-- 661&#45;&gt;663 -->\n<g id=\"edge17\" class=\"edge\">\n<title>661&#45;&gt;663</title>\n<path fill=\"none\" stroke=\"#000000\" d=\"M756.9593,-71.9769C758.7122,-63.4071 760.5741,-54.3043 762.2597,-46.0638\"/>\n<polygon fill=\"#000000\" stroke=\"#000000\" points=\"765.7039,-46.6905 764.2789,-36.192 758.8459,-45.2877 765.7039,-46.6905\"/>\n</g>\n<!-- 729 -->\n<g id=\"node20\" class=\"node\">\n<title>729</title>\n<path fill=\"#ddcaf8\" stroke=\"#000000\" d=\"M1266,-244C1266,-244 1098,-244 1098,-244 1092,-244 1086,-238 1086,-232 1086,-232 1086,-188 1086,-188 1086,-182 1092,-176 1098,-176 1098,-176 1266,-176 1266,-176 1272,-176 1278,-182 1278,-188 1278,-188 1278,-232 1278,-232 1278,-238 1272,-244 1266,-244\"/>\n<text text-anchor=\"middle\" x=\"1182\" y=\"-228.8\" font-family=\"Helvetica,sans-Serif\" font-size=\"14.00\" fill=\"#000000\">gps_height &lt;= 308.5</text>\n<text text-anchor=\"middle\" x=\"1182\" y=\"-213.8\" font-family=\"Helvetica,sans-Serif\" font-size=\"14.00\" fill=\"#000000\">samples = 1.0%</text>\n<text text-anchor=\"middle\" x=\"1182\" y=\"-198.8\" font-family=\"Helvetica,sans-Serif\" font-size=\"14.00\" fill=\"#000000\">value = [0.394, 0.05, 0.556]</text>\n<text text-anchor=\"middle\" x=\"1182\" y=\"-183.8\" font-family=\"Helvetica,sans-Serif\" font-size=\"14.00\" fill=\"#000000\">class = non functional</text>\n</g>\n<!-- 728&#45;&gt;729 -->\n<g id=\"edge19\" class=\"edge\">\n<title>728&#45;&gt;729</title>\n<path fill=\"none\" stroke=\"#000000\" d=\"M1255.3093,-279.9465C1245.7109,-270.7884 1235.2253,-260.7838 1225.2634,-251.2788\"/>\n<polygon fill=\"#000000\" stroke=\"#000000\" points=\"1227.4221,-248.5009 1217.7709,-244.13 1222.5898,-253.5655 1227.4221,-248.5009\"/>\n</g>\n<!-- 762 -->\n<g id=\"node25\" class=\"node\">\n<title>762</title>\n<path fill=\"#f3ecfc\" stroke=\"#000000\" d=\"M1488,-244C1488,-244 1312,-244 1312,-244 1306,-244 1300,-238 1300,-232 1300,-232 1300,-188 1300,-188 1300,-182 1306,-176 1312,-176 1312,-176 1488,-176 1488,-176 1494,-176 1500,-182 1500,-188 1500,-188 1500,-232 1500,-232 1500,-238 1494,-244 1488,-244\"/>\n<text text-anchor=\"middle\" x=\"1400\" y=\"-228.8\" font-family=\"Helvetica,sans-Serif\" font-size=\"14.00\" fill=\"#000000\">gps_height &lt;= 351.5</text>\n<text text-anchor=\"middle\" x=\"1400\" y=\"-213.8\" font-family=\"Helvetica,sans-Serif\" font-size=\"14.00\" fill=\"#000000\">samples = 6.7%</text>\n<text text-anchor=\"middle\" x=\"1400\" y=\"-198.8\" font-family=\"Helvetica,sans-Serif\" font-size=\"14.00\" fill=\"#000000\">value = [0.438, 0.071, 0.492]</text>\n<text text-anchor=\"middle\" x=\"1400\" y=\"-183.8\" font-family=\"Helvetica,sans-Serif\" font-size=\"14.00\" fill=\"#000000\">class = non functional</text>\n</g>\n<!-- 728&#45;&gt;762 -->\n<g id=\"edge24\" class=\"edge\">\n<title>728&#45;&gt;762</title>\n<path fill=\"none\" stroke=\"#000000\" d=\"M1326.6907,-279.9465C1336.2891,-270.7884 1346.7747,-260.7838 1356.7366,-251.2788\"/>\n<polygon fill=\"#000000\" stroke=\"#000000\" points=\"1359.4102,-253.5655 1364.2291,-244.13 1354.5779,-248.5009 1359.4102,-253.5655\"/>\n</g>\n<!-- 730 -->\n<g id=\"node21\" class=\"node\">\n<title>730</title>\n<path fill=\"#b88ff0\" stroke=\"#000000\" d=\"M1052,-132.5C1052,-132.5 876,-132.5 876,-132.5 870,-132.5 864,-126.5 864,-120.5 864,-120.5 864,-91.5 864,-91.5 864,-85.5 870,-79.5 876,-79.5 876,-79.5 1052,-79.5 1052,-79.5 1058,-79.5 1064,-85.5 1064,-91.5 1064,-91.5 1064,-120.5 1064,-120.5 1064,-126.5 1058,-132.5 1052,-132.5\"/>\n<text text-anchor=\"middle\" x=\"964\" y=\"-117.3\" font-family=\"Helvetica,sans-Serif\" font-size=\"14.00\" fill=\"#000000\">samples = 0.1%</text>\n<text text-anchor=\"middle\" x=\"964\" y=\"-102.3\" font-family=\"Helvetica,sans-Serif\" font-size=\"14.00\" fill=\"#000000\">value = [0.207, 0.138, 0.655]</text>\n<text text-anchor=\"middle\" x=\"964\" y=\"-87.3\" font-family=\"Helvetica,sans-Serif\" font-size=\"14.00\" fill=\"#000000\">class = non functional</text>\n</g>\n<!-- 729&#45;&gt;730 -->\n<g id=\"edge20\" class=\"edge\">\n<title>729&#45;&gt;730</title>\n<path fill=\"none\" stroke=\"#000000\" d=\"M1110.6186,-175.9465C1084.2973,-163.3895 1054.64,-149.2411 1028.9205,-136.9712\"/>\n<polygon fill=\"#000000\" stroke=\"#000000\" points=\"1030.169,-133.689 1019.6365,-132.5422 1027.155,-140.0069 1030.169,-133.689\"/>\n</g>\n<!-- 731 -->\n<g id=\"node22\" class=\"node\">\n<title>731</title>\n<path fill=\"#e1cff9\" stroke=\"#000000\" d=\"M1270,-140C1270,-140 1094,-140 1094,-140 1088,-140 1082,-134 1082,-128 1082,-128 1082,-84 1082,-84 1082,-78 1088,-72 1094,-72 1094,-72 1270,-72 1270,-72 1276,-72 1282,-78 1282,-84 1282,-84 1282,-128 1282,-128 1282,-134 1276,-140 1270,-140\"/>\n<text text-anchor=\"middle\" x=\"1182\" y=\"-124.8\" font-family=\"Helvetica,sans-Serif\" font-size=\"14.00\" fill=\"#000000\">gps_height &lt;= 312.5</text>\n<text text-anchor=\"middle\" x=\"1182\" y=\"-109.8\" font-family=\"Helvetica,sans-Serif\" font-size=\"14.00\" fill=\"#000000\">samples = 0.9%</text>\n<text text-anchor=\"middle\" x=\"1182\" y=\"-94.8\" font-family=\"Helvetica,sans-Serif\" font-size=\"14.00\" fill=\"#000000\">value = [0.407, 0.044, 0.549]</text>\n<text text-anchor=\"middle\" x=\"1182\" y=\"-79.8\" font-family=\"Helvetica,sans-Serif\" font-size=\"14.00\" fill=\"#000000\">class = non functional</text>\n</g>\n<!-- 729&#45;&gt;731 -->\n<g id=\"edge21\" class=\"edge\">\n<title>729&#45;&gt;731</title>\n<path fill=\"none\" stroke=\"#000000\" d=\"M1182,-175.9465C1182,-167.776 1182,-158.9318 1182,-150.3697\"/>\n<polygon fill=\"#000000\" stroke=\"#000000\" points=\"1185.5001,-150.13 1182,-140.13 1178.5001,-150.13 1185.5001,-150.13\"/>\n</g>\n<!-- 732 -->\n<g id=\"node23\" class=\"node\">\n<title>732</title>\n<path fill=\"#c0c0c0\" stroke=\"#000000\" d=\"M1161,-36C1161,-36 1131,-36 1131,-36 1125,-36 1119,-30 1119,-24 1119,-24 1119,-12 1119,-12 1119,-6 1125,0 1131,0 1131,0 1161,0 1161,0 1167,0 1173,-6 1173,-12 1173,-12 1173,-24 1173,-24 1173,-30 1167,-36 1161,-36\"/>\n<text text-anchor=\"middle\" x=\"1146\" y=\"-14.3\" font-family=\"Helvetica,sans-Serif\" font-size=\"14.00\" fill=\"#000000\">(...)</text>\n</g>\n<!-- 731&#45;&gt;732 -->\n<g id=\"edge22\" class=\"edge\">\n<title>731&#45;&gt;732</title>\n<path fill=\"none\" stroke=\"#000000\" d=\"M1168.0815,-71.9769C1164.4977,-63.2167 1160.6862,-53.8995 1157.2564,-45.5157\"/>\n<polygon fill=\"#000000\" stroke=\"#000000\" points=\"1160.468,-44.1222 1153.4422,-36.192 1153.9891,-46.7727 1160.468,-44.1222\"/>\n</g>\n<!-- 739 -->\n<g id=\"node24\" class=\"node\">\n<title>739</title>\n<path fill=\"#c0c0c0\" stroke=\"#000000\" d=\"M1233,-36C1233,-36 1203,-36 1203,-36 1197,-36 1191,-30 1191,-24 1191,-24 1191,-12 1191,-12 1191,-6 1197,0 1203,0 1203,0 1233,0 1233,0 1239,0 1245,-6 1245,-12 1245,-12 1245,-24 1245,-24 1245,-30 1239,-36 1233,-36\"/>\n<text text-anchor=\"middle\" x=\"1218\" y=\"-14.3\" font-family=\"Helvetica,sans-Serif\" font-size=\"14.00\" fill=\"#000000\">(...)</text>\n</g>\n<!-- 731&#45;&gt;739 -->\n<g id=\"edge23\" class=\"edge\">\n<title>731&#45;&gt;739</title>\n<path fill=\"none\" stroke=\"#000000\" d=\"M1195.9185,-71.9769C1199.5023,-63.2167 1203.3138,-53.8995 1206.7436,-45.5157\"/>\n<polygon fill=\"#000000\" stroke=\"#000000\" points=\"1210.0109,-46.7727 1210.5578,-36.192 1203.532,-44.1222 1210.0109,-46.7727\"/>\n</g>\n<!-- 763 -->\n<g id=\"node26\" class=\"node\">\n<title>763</title>\n<path fill=\"#fdf6f1\" stroke=\"#000000\" d=\"M1488,-140C1488,-140 1312,-140 1312,-140 1306,-140 1300,-134 1300,-128 1300,-128 1300,-84 1300,-84 1300,-78 1306,-72 1312,-72 1312,-72 1488,-72 1488,-72 1494,-72 1500,-78 1500,-84 1500,-84 1500,-128 1500,-128 1500,-134 1494,-140 1488,-140\"/>\n<text text-anchor=\"middle\" x=\"1400\" y=\"-124.8\" font-family=\"Helvetica,sans-Serif\" font-size=\"14.00\" fill=\"#000000\">gps_height &lt;= 346.5</text>\n<text text-anchor=\"middle\" x=\"1400\" y=\"-109.8\" font-family=\"Helvetica,sans-Serif\" font-size=\"14.00\" fill=\"#000000\">samples = 1.3%</text>\n<text text-anchor=\"middle\" x=\"1400\" y=\"-94.8\" font-family=\"Helvetica,sans-Serif\" font-size=\"14.00\" fill=\"#000000\">value = [0.493, 0.052, 0.455]</text>\n<text text-anchor=\"middle\" x=\"1400\" y=\"-79.8\" font-family=\"Helvetica,sans-Serif\" font-size=\"14.00\" fill=\"#000000\">class = functional</text>\n</g>\n<!-- 762&#45;&gt;763 -->\n<g id=\"edge25\" class=\"edge\">\n<title>762&#45;&gt;763</title>\n<path fill=\"none\" stroke=\"#000000\" d=\"M1400,-175.9465C1400,-167.776 1400,-158.9318 1400,-150.3697\"/>\n<polygon fill=\"#000000\" stroke=\"#000000\" points=\"1403.5001,-150.13 1400,-140.13 1396.5001,-150.13 1403.5001,-150.13\"/>\n</g>\n<!-- 816 -->\n<g id=\"node29\" class=\"node\">\n<title>816</title>\n<path fill=\"#eee5fc\" stroke=\"#000000\" d=\"M1706,-140C1706,-140 1530,-140 1530,-140 1524,-140 1518,-134 1518,-128 1518,-128 1518,-84 1518,-84 1518,-78 1524,-72 1530,-72 1530,-72 1706,-72 1706,-72 1712,-72 1718,-78 1718,-84 1718,-84 1718,-128 1718,-128 1718,-134 1712,-140 1706,-140\"/>\n<text text-anchor=\"middle\" x=\"1618\" y=\"-124.8\" font-family=\"Helvetica,sans-Serif\" font-size=\"14.00\" fill=\"#000000\">gps_height &lt;= 427.5</text>\n<text text-anchor=\"middle\" x=\"1618\" y=\"-109.8\" font-family=\"Helvetica,sans-Serif\" font-size=\"14.00\" fill=\"#000000\">samples = 5.4%</text>\n<text text-anchor=\"middle\" x=\"1618\" y=\"-94.8\" font-family=\"Helvetica,sans-Serif\" font-size=\"14.00\" fill=\"#000000\">value = [0.424, 0.075, 0.501]</text>\n<text text-anchor=\"middle\" x=\"1618\" y=\"-79.8\" font-family=\"Helvetica,sans-Serif\" font-size=\"14.00\" fill=\"#000000\">class = non functional</text>\n</g>\n<!-- 762&#45;&gt;816 -->\n<g id=\"edge28\" class=\"edge\">\n<title>762&#45;&gt;816</title>\n<path fill=\"none\" stroke=\"#000000\" d=\"M1471.3814,-175.9465C1492.4602,-165.8906 1515.6784,-154.814 1537.3003,-144.4989\"/>\n<polygon fill=\"#000000\" stroke=\"#000000\" points=\"1538.9398,-147.5948 1546.4583,-140.13 1535.9257,-141.2769 1538.9398,-147.5948\"/>\n</g>\n<!-- 764 -->\n<g id=\"node27\" class=\"node\">\n<title>764</title>\n<path fill=\"#c0c0c0\" stroke=\"#000000\" d=\"M1379,-36C1379,-36 1349,-36 1349,-36 1343,-36 1337,-30 1337,-24 1337,-24 1337,-12 1337,-12 1337,-6 1343,0 1349,0 1349,0 1379,0 1379,0 1385,0 1391,-6 1391,-12 1391,-12 1391,-24 1391,-24 1391,-30 1385,-36 1379,-36\"/>\n<text text-anchor=\"middle\" x=\"1364\" y=\"-14.3\" font-family=\"Helvetica,sans-Serif\" font-size=\"14.00\" fill=\"#000000\">(...)</text>\n</g>\n<!-- 763&#45;&gt;764 -->\n<g id=\"edge26\" class=\"edge\">\n<title>763&#45;&gt;764</title>\n<path fill=\"none\" stroke=\"#000000\" d=\"M1386.0815,-71.9769C1382.4977,-63.2167 1378.6862,-53.8995 1375.2564,-45.5157\"/>\n<polygon fill=\"#000000\" stroke=\"#000000\" points=\"1378.468,-44.1222 1371.4422,-36.192 1371.9891,-46.7727 1378.468,-44.1222\"/>\n</g>\n<!-- 807 -->\n<g id=\"node28\" class=\"node\">\n<title>807</title>\n<path fill=\"#c0c0c0\" stroke=\"#000000\" d=\"M1451,-36C1451,-36 1421,-36 1421,-36 1415,-36 1409,-30 1409,-24 1409,-24 1409,-12 1409,-12 1409,-6 1415,0 1421,0 1421,0 1451,0 1451,0 1457,0 1463,-6 1463,-12 1463,-12 1463,-24 1463,-24 1463,-30 1457,-36 1451,-36\"/>\n<text text-anchor=\"middle\" x=\"1436\" y=\"-14.3\" font-family=\"Helvetica,sans-Serif\" font-size=\"14.00\" fill=\"#000000\">(...)</text>\n</g>\n<!-- 763&#45;&gt;807 -->\n<g id=\"edge27\" class=\"edge\">\n<title>763&#45;&gt;807</title>\n<path fill=\"none\" stroke=\"#000000\" d=\"M1413.9185,-71.9769C1417.5023,-63.2167 1421.3138,-53.8995 1424.7436,-45.5157\"/>\n<polygon fill=\"#000000\" stroke=\"#000000\" points=\"1428.0109,-46.7727 1428.5578,-36.192 1421.532,-44.1222 1428.0109,-46.7727\"/>\n</g>\n<!-- 817 -->\n<g id=\"node30\" class=\"node\">\n<title>817</title>\n<path fill=\"#c0c0c0\" stroke=\"#000000\" d=\"M1597,-36C1597,-36 1567,-36 1567,-36 1561,-36 1555,-30 1555,-24 1555,-24 1555,-12 1555,-12 1555,-6 1561,0 1567,0 1567,0 1597,0 1597,0 1603,0 1609,-6 1609,-12 1609,-12 1609,-24 1609,-24 1609,-30 1603,-36 1597,-36\"/>\n<text text-anchor=\"middle\" x=\"1582\" y=\"-14.3\" font-family=\"Helvetica,sans-Serif\" font-size=\"14.00\" fill=\"#000000\">(...)</text>\n</g>\n<!-- 816&#45;&gt;817 -->\n<g id=\"edge29\" class=\"edge\">\n<title>816&#45;&gt;817</title>\n<path fill=\"none\" stroke=\"#000000\" d=\"M1604.0815,-71.9769C1600.4977,-63.2167 1596.6862,-53.8995 1593.2564,-45.5157\"/>\n<polygon fill=\"#000000\" stroke=\"#000000\" points=\"1596.468,-44.1222 1589.4422,-36.192 1589.9891,-46.7727 1596.468,-44.1222\"/>\n</g>\n<!-- 968 -->\n<g id=\"node31\" class=\"node\">\n<title>968</title>\n<path fill=\"#c0c0c0\" stroke=\"#000000\" d=\"M1669,-36C1669,-36 1639,-36 1639,-36 1633,-36 1627,-30 1627,-24 1627,-24 1627,-12 1627,-12 1627,-6 1633,0 1639,0 1639,0 1669,0 1669,0 1675,0 1681,-6 1681,-12 1681,-12 1681,-24 1681,-24 1681,-30 1675,-36 1669,-36\"/>\n<text text-anchor=\"middle\" x=\"1654\" y=\"-14.3\" font-family=\"Helvetica,sans-Serif\" font-size=\"14.00\" fill=\"#000000\">(...)</text>\n</g>\n<!-- 816&#45;&gt;968 -->\n<g id=\"edge30\" class=\"edge\">\n<title>816&#45;&gt;968</title>\n<path fill=\"none\" stroke=\"#000000\" d=\"M1631.9185,-71.9769C1635.5023,-63.2167 1639.3138,-53.8995 1642.7436,-45.5157\"/>\n<polygon fill=\"#000000\" stroke=\"#000000\" points=\"1646.0109,-46.7727 1646.5578,-36.192 1639.532,-44.1222 1646.0109,-46.7727\"/>\n</g>\n<!-- 1320 -->\n<g id=\"node33\" class=\"node\">\n<title>1320</title>\n<path fill=\"#f4cbae\" stroke=\"#000000\" d=\"M2453,-348C2453,-348 2277,-348 2277,-348 2271,-348 2265,-342 2265,-336 2265,-336 2265,-292 2265,-292 2265,-286 2271,-280 2277,-280 2277,-280 2453,-280 2453,-280 2459,-280 2465,-286 2465,-292 2465,-292 2465,-336 2465,-336 2465,-342 2459,-348 2453,-348\"/>\n<text text-anchor=\"middle\" x=\"2365\" y=\"-332.8\" font-family=\"Helvetica,sans-Serif\" font-size=\"14.00\" fill=\"#000000\">gps_height &lt;= 693.5</text>\n<text text-anchor=\"middle\" x=\"2365\" y=\"-317.8\" font-family=\"Helvetica,sans-Serif\" font-size=\"14.00\" fill=\"#000000\">samples = 1.8%</text>\n<text text-anchor=\"middle\" x=\"2365\" y=\"-302.8\" font-family=\"Helvetica,sans-Serif\" font-size=\"14.00\" fill=\"#000000\">value = [0.601, 0.075, 0.324]</text>\n<text text-anchor=\"middle\" x=\"2365\" y=\"-287.8\" font-family=\"Helvetica,sans-Serif\" font-size=\"14.00\" fill=\"#000000\">class = functional</text>\n</g>\n<!-- 1319&#45;&gt;1320 -->\n<g id=\"edge32\" class=\"edge\">\n<title>1319&#45;&gt;1320</title>\n<path fill=\"none\" stroke=\"#000000\" d=\"M2506.9107,-383.9465C2486.5998,-373.9354 2464.2367,-362.9129 2443.3888,-352.6371\"/>\n<polygon fill=\"#000000\" stroke=\"#000000\" points=\"2444.7615,-349.4117 2434.2445,-348.13 2441.6668,-355.6905 2444.7615,-349.4117\"/>\n</g>\n<!-- 1595 -->\n<g id=\"node48\" class=\"node\">\n<title>1595</title>\n<path fill=\"#fae6d8\" stroke=\"#000000\" d=\"M2875,-348C2875,-348 2699,-348 2699,-348 2693,-348 2687,-342 2687,-336 2687,-336 2687,-292 2687,-292 2687,-286 2693,-280 2699,-280 2699,-280 2875,-280 2875,-280 2881,-280 2887,-286 2887,-292 2887,-292 2887,-336 2887,-336 2887,-342 2881,-348 2875,-348\"/>\n<text text-anchor=\"middle\" x=\"2787\" y=\"-332.8\" font-family=\"Helvetica,sans-Serif\" font-size=\"14.00\" fill=\"#000000\">gps_height &lt;= 783.5</text>\n<text text-anchor=\"middle\" x=\"2787\" y=\"-317.8\" font-family=\"Helvetica,sans-Serif\" font-size=\"14.00\" fill=\"#000000\">samples = 55.1%</text>\n<text text-anchor=\"middle\" x=\"2787\" y=\"-302.8\" font-family=\"Helvetica,sans-Serif\" font-size=\"14.00\" fill=\"#000000\">value = [0.516, 0.089, 0.395]</text>\n<text text-anchor=\"middle\" x=\"2787\" y=\"-287.8\" font-family=\"Helvetica,sans-Serif\" font-size=\"14.00\" fill=\"#000000\">class = functional</text>\n</g>\n<!-- 1319&#45;&gt;1595 -->\n<g id=\"edge47\" class=\"edge\">\n<title>1319&#45;&gt;1595</title>\n<path fill=\"none\" stroke=\"#000000\" d=\"M2645.0893,-383.9465C2665.4002,-373.9354 2687.7633,-362.9129 2708.6112,-352.6371\"/>\n<polygon fill=\"#000000\" stroke=\"#000000\" points=\"2710.3332,-355.6905 2717.7555,-348.13 2707.2385,-349.4117 2710.3332,-355.6905\"/>\n</g>\n<!-- 1321 -->\n<g id=\"node34\" class=\"node\">\n<title>1321</title>\n<path fill=\"#f7d8c2\" stroke=\"#000000\" d=\"M2134,-244C2134,-244 1958,-244 1958,-244 1952,-244 1946,-238 1946,-232 1946,-232 1946,-188 1946,-188 1946,-182 1952,-176 1958,-176 1958,-176 2134,-176 2134,-176 2140,-176 2146,-182 2146,-188 2146,-188 2146,-232 2146,-232 2146,-238 2140,-244 2134,-244\"/>\n<text text-anchor=\"middle\" x=\"2046\" y=\"-228.8\" font-family=\"Helvetica,sans-Serif\" font-size=\"14.00\" fill=\"#000000\">gps_height &lt;= 691.5</text>\n<text text-anchor=\"middle\" x=\"2046\" y=\"-213.8\" font-family=\"Helvetica,sans-Serif\" font-size=\"14.00\" fill=\"#000000\">samples = 0.9%</text>\n<text text-anchor=\"middle\" x=\"2046\" y=\"-198.8\" font-family=\"Helvetica,sans-Serif\" font-size=\"14.00\" fill=\"#000000\">value = [0.556, 0.088, 0.356]</text>\n<text text-anchor=\"middle\" x=\"2046\" y=\"-183.8\" font-family=\"Helvetica,sans-Serif\" font-size=\"14.00\" fill=\"#000000\">class = functional</text>\n</g>\n<!-- 1320&#45;&gt;1321 -->\n<g id=\"edge33\" class=\"edge\">\n<title>1320&#45;&gt;1321</title>\n<path fill=\"none\" stroke=\"#000000\" d=\"M2264.9416,-281.3791C2230.3692,-270.1078 2191.4487,-257.419 2156.1154,-245.8997\"/>\n<polygon fill=\"#000000\" stroke=\"#000000\" points=\"2156.8437,-242.4559 2146.2514,-242.6838 2154.674,-249.1111 2156.8437,-242.4559\"/>\n</g>\n<!-- 1490 -->\n<g id=\"node41\" class=\"node\">\n<title>1490</title>\n<path fill=\"#f2c09c\" stroke=\"#000000\" d=\"M2453,-244C2453,-244 2277,-244 2277,-244 2271,-244 2265,-238 2265,-232 2265,-232 2265,-188 2265,-188 2265,-182 2271,-176 2277,-176 2277,-176 2453,-176 2453,-176 2459,-176 2465,-182 2465,-188 2465,-188 2465,-232 2465,-232 2465,-238 2459,-244 2453,-244\"/>\n<text text-anchor=\"middle\" x=\"2365\" y=\"-228.8\" font-family=\"Helvetica,sans-Serif\" font-size=\"14.00\" fill=\"#000000\">gps_height &lt;= 734.5</text>\n<text text-anchor=\"middle\" x=\"2365\" y=\"-213.8\" font-family=\"Helvetica,sans-Serif\" font-size=\"14.00\" fill=\"#000000\">samples = 0.9%</text>\n<text text-anchor=\"middle\" x=\"2365\" y=\"-198.8\" font-family=\"Helvetica,sans-Serif\" font-size=\"14.00\" fill=\"#000000\">value = [0.647, 0.062, 0.291]</text>\n<text text-anchor=\"middle\" x=\"2365\" y=\"-183.8\" font-family=\"Helvetica,sans-Serif\" font-size=\"14.00\" fill=\"#000000\">class = functional</text>\n</g>\n<!-- 1320&#45;&gt;1490 -->\n<g id=\"edge40\" class=\"edge\">\n<title>1320&#45;&gt;1490</title>\n<path fill=\"none\" stroke=\"#000000\" d=\"M2365,-279.9465C2365,-271.776 2365,-262.9318 2365,-254.3697\"/>\n<polygon fill=\"#000000\" stroke=\"#000000\" points=\"2368.5001,-254.13 2365,-244.13 2361.5001,-254.13 2368.5001,-254.13\"/>\n</g>\n<!-- 1322 -->\n<g id=\"node35\" class=\"node\">\n<title>1322</title>\n<path fill=\"#f6d5bd\" stroke=\"#000000\" d=\"M1924,-140C1924,-140 1748,-140 1748,-140 1742,-140 1736,-134 1736,-128 1736,-128 1736,-84 1736,-84 1736,-78 1742,-72 1748,-72 1748,-72 1924,-72 1924,-72 1930,-72 1936,-78 1936,-84 1936,-84 1936,-128 1936,-128 1936,-134 1930,-140 1924,-140\"/>\n<text text-anchor=\"middle\" x=\"1836\" y=\"-124.8\" font-family=\"Helvetica,sans-Serif\" font-size=\"14.00\" fill=\"#000000\">gps_height &lt;= 674.5</text>\n<text text-anchor=\"middle\" x=\"1836\" y=\"-109.8\" font-family=\"Helvetica,sans-Serif\" font-size=\"14.00\" fill=\"#000000\">samples = 0.9%</text>\n<text text-anchor=\"middle\" x=\"1836\" y=\"-94.8\" font-family=\"Helvetica,sans-Serif\" font-size=\"14.00\" fill=\"#000000\">value = [0.562, 0.091, 0.346]</text>\n<text text-anchor=\"middle\" x=\"1836\" y=\"-79.8\" font-family=\"Helvetica,sans-Serif\" font-size=\"14.00\" fill=\"#000000\">class = functional</text>\n</g>\n<!-- 1321&#45;&gt;1322 -->\n<g id=\"edge34\" class=\"edge\">\n<title>1321&#45;&gt;1322</title>\n<path fill=\"none\" stroke=\"#000000\" d=\"M1977.2381,-175.9465C1957.0235,-165.9354 1934.7664,-154.9129 1914.0172,-144.6371\"/>\n<polygon fill=\"#000000\" stroke=\"#000000\" points=\"1915.4309,-141.4316 1904.9163,-140.13 1912.3243,-147.7045 1915.4309,-141.4316\"/>\n</g>\n<!-- 1487 -->\n<g id=\"node38\" class=\"node\">\n<title>1487</title>\n<path fill=\"#cdb0f5\" stroke=\"#000000\" d=\"M2126,-140C2126,-140 1966,-140 1966,-140 1960,-140 1954,-134 1954,-128 1954,-128 1954,-84 1954,-84 1954,-78 1960,-72 1966,-72 1966,-72 2126,-72 2126,-72 2132,-72 2138,-78 2138,-84 2138,-84 2138,-128 2138,-128 2138,-134 2132,-140 2126,-140\"/>\n<text text-anchor=\"middle\" x=\"2046\" y=\"-124.8\" font-family=\"Helvetica,sans-Serif\" font-size=\"14.00\" fill=\"#000000\">gps_height &lt;= 692.5</text>\n<text text-anchor=\"middle\" x=\"2046\" y=\"-109.8\" font-family=\"Helvetica,sans-Serif\" font-size=\"14.00\" fill=\"#000000\">samples = 0.0%</text>\n<text text-anchor=\"middle\" x=\"2046\" y=\"-94.8\" font-family=\"Helvetica,sans-Serif\" font-size=\"14.00\" fill=\"#000000\">value = [0.375, 0.0, 0.625]</text>\n<text text-anchor=\"middle\" x=\"2046\" y=\"-79.8\" font-family=\"Helvetica,sans-Serif\" font-size=\"14.00\" fill=\"#000000\">class = non functional</text>\n</g>\n<!-- 1321&#45;&gt;1487 -->\n<g id=\"edge37\" class=\"edge\">\n<title>1321&#45;&gt;1487</title>\n<path fill=\"none\" stroke=\"#000000\" d=\"M2046,-175.9465C2046,-167.776 2046,-158.9318 2046,-150.3697\"/>\n<polygon fill=\"#000000\" stroke=\"#000000\" points=\"2049.5001,-150.13 2046,-140.13 2042.5001,-150.13 2049.5001,-150.13\"/>\n</g>\n<!-- 1323 -->\n<g id=\"node36\" class=\"node\">\n<title>1323</title>\n<path fill=\"#c0c0c0\" stroke=\"#000000\" d=\"M1815,-36C1815,-36 1785,-36 1785,-36 1779,-36 1773,-30 1773,-24 1773,-24 1773,-12 1773,-12 1773,-6 1779,0 1785,0 1785,0 1815,0 1815,0 1821,0 1827,-6 1827,-12 1827,-12 1827,-24 1827,-24 1827,-30 1821,-36 1815,-36\"/>\n<text text-anchor=\"middle\" x=\"1800\" y=\"-14.3\" font-family=\"Helvetica,sans-Serif\" font-size=\"14.00\" fill=\"#000000\">(...)</text>\n</g>\n<!-- 1322&#45;&gt;1323 -->\n<g id=\"edge35\" class=\"edge\">\n<title>1322&#45;&gt;1323</title>\n<path fill=\"none\" stroke=\"#000000\" d=\"M1822.0815,-71.9769C1818.4977,-63.2167 1814.6862,-53.8995 1811.2564,-45.5157\"/>\n<polygon fill=\"#000000\" stroke=\"#000000\" points=\"1814.468,-44.1222 1807.4422,-36.192 1807.9891,-46.7727 1814.468,-44.1222\"/>\n</g>\n<!-- 1456 -->\n<g id=\"node37\" class=\"node\">\n<title>1456</title>\n<path fill=\"#c0c0c0\" stroke=\"#000000\" d=\"M1887,-36C1887,-36 1857,-36 1857,-36 1851,-36 1845,-30 1845,-24 1845,-24 1845,-12 1845,-12 1845,-6 1851,0 1857,0 1857,0 1887,0 1887,0 1893,0 1899,-6 1899,-12 1899,-12 1899,-24 1899,-24 1899,-30 1893,-36 1887,-36\"/>\n<text text-anchor=\"middle\" x=\"1872\" y=\"-14.3\" font-family=\"Helvetica,sans-Serif\" font-size=\"14.00\" fill=\"#000000\">(...)</text>\n</g>\n<!-- 1322&#45;&gt;1456 -->\n<g id=\"edge36\" class=\"edge\">\n<title>1322&#45;&gt;1456</title>\n<path fill=\"none\" stroke=\"#000000\" d=\"M1849.9185,-71.9769C1853.5023,-63.2167 1857.3138,-53.8995 1860.7436,-45.5157\"/>\n<polygon fill=\"#000000\" stroke=\"#000000\" points=\"1864.0109,-46.7727 1864.5578,-36.192 1857.532,-44.1222 1864.0109,-46.7727\"/>\n</g>\n<!-- 1488 -->\n<g id=\"node39\" class=\"node\">\n<title>1488</title>\n<path fill=\"#c0c0c0\" stroke=\"#000000\" d=\"M2040,-36C2040,-36 2010,-36 2010,-36 2004,-36 1998,-30 1998,-24 1998,-24 1998,-12 1998,-12 1998,-6 2004,0 2010,0 2010,0 2040,0 2040,0 2046,0 2052,-6 2052,-12 2052,-12 2052,-24 2052,-24 2052,-30 2046,-36 2040,-36\"/>\n<text text-anchor=\"middle\" x=\"2025\" y=\"-14.3\" font-family=\"Helvetica,sans-Serif\" font-size=\"14.00\" fill=\"#000000\">(...)</text>\n</g>\n<!-- 1487&#45;&gt;1488 -->\n<g id=\"edge38\" class=\"edge\">\n<title>1487&#45;&gt;1488</title>\n<path fill=\"none\" stroke=\"#000000\" d=\"M2037.8809,-71.9769C2035.8358,-63.4071 2033.6635,-54.3043 2031.697,-46.0638\"/>\n<polygon fill=\"#000000\" stroke=\"#000000\" points=\"2035.0669,-45.1064 2029.3413,-36.192 2028.2581,-46.7313 2035.0669,-45.1064\"/>\n</g>\n<!-- 1489 -->\n<g id=\"node40\" class=\"node\">\n<title>1489</title>\n<path fill=\"#c0c0c0\" stroke=\"#000000\" d=\"M2112,-36C2112,-36 2082,-36 2082,-36 2076,-36 2070,-30 2070,-24 2070,-24 2070,-12 2070,-12 2070,-6 2076,0 2082,0 2082,0 2112,0 2112,0 2118,0 2124,-6 2124,-12 2124,-12 2124,-24 2124,-24 2124,-30 2118,-36 2112,-36\"/>\n<text text-anchor=\"middle\" x=\"2097\" y=\"-14.3\" font-family=\"Helvetica,sans-Serif\" font-size=\"14.00\" fill=\"#000000\">(...)</text>\n</g>\n<!-- 1487&#45;&gt;1489 -->\n<g id=\"edge39\" class=\"edge\">\n<title>1487&#45;&gt;1489</title>\n<path fill=\"none\" stroke=\"#000000\" d=\"M2065.7179,-71.9769C2070.9052,-63.0262 2076.4295,-53.4941 2081.3695,-44.9703\"/>\n<polygon fill=\"#000000\" stroke=\"#000000\" points=\"2084.4709,-46.599 2086.4569,-36.192 2078.4144,-43.089 2084.4709,-46.599\"/>\n</g>\n<!-- 1491 -->\n<g id=\"node42\" class=\"node\">\n<title>1491</title>\n<path fill=\"#f3c4a3\" stroke=\"#000000\" d=\"M2336,-140C2336,-140 2168,-140 2168,-140 2162,-140 2156,-134 2156,-128 2156,-128 2156,-84 2156,-84 2156,-78 2162,-72 2168,-72 2168,-72 2336,-72 2336,-72 2342,-72 2348,-78 2348,-84 2348,-84 2348,-128 2348,-128 2348,-134 2342,-140 2336,-140\"/>\n<text text-anchor=\"middle\" x=\"2252\" y=\"-124.8\" font-family=\"Helvetica,sans-Serif\" font-size=\"14.00\" fill=\"#000000\">gps_height &lt;= 728.5</text>\n<text text-anchor=\"middle\" x=\"2252\" y=\"-109.8\" font-family=\"Helvetica,sans-Serif\" font-size=\"14.00\" fill=\"#000000\">samples = 0.7%</text>\n<text text-anchor=\"middle\" x=\"2252\" y=\"-94.8\" font-family=\"Helvetica,sans-Serif\" font-size=\"14.00\" fill=\"#000000\">value = [0.632, 0.058, 0.31]</text>\n<text text-anchor=\"middle\" x=\"2252\" y=\"-79.8\" font-family=\"Helvetica,sans-Serif\" font-size=\"14.00\" fill=\"#000000\">class = functional</text>\n</g>\n<!-- 1490&#45;&gt;1491 -->\n<g id=\"edge41\" class=\"edge\">\n<title>1490&#45;&gt;1491</title>\n<path fill=\"none\" stroke=\"#000000\" d=\"M2327.9996,-175.9465C2317.9514,-166.6986 2306.9653,-156.5876 2296.5474,-146.9994\"/>\n<polygon fill=\"#000000\" stroke=\"#000000\" points=\"2298.8118,-144.3267 2289.0836,-140.13 2294.0714,-149.4773 2298.8118,-144.3267\"/>\n</g>\n<!-- 1572 -->\n<g id=\"node45\" class=\"node\">\n<title>1572</title>\n<path fill=\"#eeaf81\" stroke=\"#000000\" d=\"M2554,-140C2554,-140 2378,-140 2378,-140 2372,-140 2366,-134 2366,-128 2366,-128 2366,-84 2366,-84 2366,-78 2372,-72 2378,-72 2378,-72 2554,-72 2554,-72 2560,-72 2566,-78 2566,-84 2566,-84 2566,-128 2566,-128 2566,-134 2560,-140 2554,-140\"/>\n<text text-anchor=\"middle\" x=\"2466\" y=\"-124.8\" font-family=\"Helvetica,sans-Serif\" font-size=\"14.00\" fill=\"#000000\">gps_height &lt;= 741.5</text>\n<text text-anchor=\"middle\" x=\"2466\" y=\"-109.8\" font-family=\"Helvetica,sans-Serif\" font-size=\"14.00\" fill=\"#000000\">samples = 0.2%</text>\n<text text-anchor=\"middle\" x=\"2466\" y=\"-94.8\" font-family=\"Helvetica,sans-Serif\" font-size=\"14.00\" fill=\"#000000\">value = [0.712, 0.075, 0.212]</text>\n<text text-anchor=\"middle\" x=\"2466\" y=\"-79.8\" font-family=\"Helvetica,sans-Serif\" font-size=\"14.00\" fill=\"#000000\">class = functional</text>\n</g>\n<!-- 1490&#45;&gt;1572 -->\n<g id=\"edge44\" class=\"edge\">\n<title>1490&#45;&gt;1572</title>\n<path fill=\"none\" stroke=\"#000000\" d=\"M2398.0712,-175.9465C2406.8779,-166.8782 2416.4907,-156.9799 2425.6403,-147.5585\"/>\n<polygon fill=\"#000000\" stroke=\"#000000\" points=\"2428.3985,-149.7422 2432.8545,-140.13 2423.3768,-144.8654 2428.3985,-149.7422\"/>\n</g>\n<!-- 1492 -->\n<g id=\"node43\" class=\"node\">\n<title>1492</title>\n<path fill=\"#c0c0c0\" stroke=\"#000000\" d=\"M2215,-36C2215,-36 2185,-36 2185,-36 2179,-36 2173,-30 2173,-24 2173,-24 2173,-12 2173,-12 2173,-6 2179,0 2185,0 2185,0 2215,0 2215,0 2221,0 2227,-6 2227,-12 2227,-12 2227,-24 2227,-24 2227,-30 2221,-36 2215,-36\"/>\n<text text-anchor=\"middle\" x=\"2200\" y=\"-14.3\" font-family=\"Helvetica,sans-Serif\" font-size=\"14.00\" fill=\"#000000\">(...)</text>\n</g>\n<!-- 1491&#45;&gt;1492 -->\n<g id=\"edge42\" class=\"edge\">\n<title>1491&#45;&gt;1492</title>\n<path fill=\"none\" stroke=\"#000000\" d=\"M2231.8954,-71.9769C2226.6064,-63.0262 2220.9738,-53.4941 2215.937,-44.9703\"/>\n<polygon fill=\"#000000\" stroke=\"#000000\" points=\"2218.8504,-43.0207 2210.7498,-36.192 2212.8239,-46.5818 2218.8504,-43.0207\"/>\n</g>\n<!-- 1561 -->\n<g id=\"node44\" class=\"node\">\n<title>1561</title>\n<path fill=\"#c0c0c0\" stroke=\"#000000\" d=\"M2287,-36C2287,-36 2257,-36 2257,-36 2251,-36 2245,-30 2245,-24 2245,-24 2245,-12 2245,-12 2245,-6 2251,0 2257,0 2257,0 2287,0 2287,0 2293,0 2299,-6 2299,-12 2299,-12 2299,-24 2299,-24 2299,-30 2293,-36 2287,-36\"/>\n<text text-anchor=\"middle\" x=\"2272\" y=\"-14.3\" font-family=\"Helvetica,sans-Serif\" font-size=\"14.00\" fill=\"#000000\">(...)</text>\n</g>\n<!-- 1491&#45;&gt;1561 -->\n<g id=\"edge43\" class=\"edge\">\n<title>1491&#45;&gt;1561</title>\n<path fill=\"none\" stroke=\"#000000\" d=\"M2259.7325,-71.9769C2261.6802,-63.4071 2263.749,-54.3043 2265.6219,-46.0638\"/>\n<polygon fill=\"#000000\" stroke=\"#000000\" points=\"2269.0621,-46.719 2267.8655,-36.192 2262.2362,-45.1676 2269.0621,-46.719\"/>\n</g>\n<!-- 1573 -->\n<g id=\"node46\" class=\"node\">\n<title>1573</title>\n<path fill=\"#c0c0c0\" stroke=\"#000000\" d=\"M2462,-36C2462,-36 2432,-36 2432,-36 2426,-36 2420,-30 2420,-24 2420,-24 2420,-12 2420,-12 2420,-6 2426,0 2432,0 2432,0 2462,0 2462,0 2468,0 2474,-6 2474,-12 2474,-12 2474,-24 2474,-24 2474,-30 2468,-36 2462,-36\"/>\n<text text-anchor=\"middle\" x=\"2447\" y=\"-14.3\" font-family=\"Helvetica,sans-Serif\" font-size=\"14.00\" fill=\"#000000\">(...)</text>\n</g>\n<!-- 1572&#45;&gt;1573 -->\n<g id=\"edge45\" class=\"edge\">\n<title>1572&#45;&gt;1573</title>\n<path fill=\"none\" stroke=\"#000000\" d=\"M2458.6541,-71.9769C2456.8038,-63.4071 2454.8384,-54.3043 2453.0592,-46.0638\"/>\n<polygon fill=\"#000000\" stroke=\"#000000\" points=\"2456.4595,-45.228 2450.9278,-36.192 2449.6172,-46.7054 2456.4595,-45.228\"/>\n</g>\n<!-- 1584 -->\n<g id=\"node47\" class=\"node\">\n<title>1584</title>\n<path fill=\"#c0c0c0\" stroke=\"#000000\" d=\"M2534,-36C2534,-36 2504,-36 2504,-36 2498,-36 2492,-30 2492,-24 2492,-24 2492,-12 2492,-12 2492,-6 2498,0 2504,0 2504,0 2534,0 2534,0 2540,0 2546,-6 2546,-12 2546,-12 2546,-24 2546,-24 2546,-30 2540,-36 2534,-36\"/>\n<text text-anchor=\"middle\" x=\"2519\" y=\"-14.3\" font-family=\"Helvetica,sans-Serif\" font-size=\"14.00\" fill=\"#000000\">(...)</text>\n</g>\n<!-- 1572&#45;&gt;1584 -->\n<g id=\"edge46\" class=\"edge\">\n<title>1572&#45;&gt;1584</title>\n<path fill=\"none\" stroke=\"#000000\" d=\"M2486.4912,-71.9769C2491.8819,-63.0262 2497.6228,-53.4941 2502.7565,-44.9703\"/>\n<polygon fill=\"#000000\" stroke=\"#000000\" points=\"2505.8824,-46.5641 2508.0435,-36.192 2499.886,-42.9525 2505.8824,-46.5641\"/>\n</g>\n<!-- 1596 -->\n<g id=\"node49\" class=\"node\">\n<title>1596</title>\n<path fill=\"#e4d4f9\" stroke=\"#000000\" d=\"M2875,-244C2875,-244 2699,-244 2699,-244 2693,-244 2687,-238 2687,-232 2687,-232 2687,-188 2687,-188 2687,-182 2693,-176 2699,-176 2699,-176 2875,-176 2875,-176 2881,-176 2887,-182 2887,-188 2887,-188 2887,-232 2887,-232 2887,-238 2881,-244 2875,-244\"/>\n<text text-anchor=\"middle\" x=\"2787\" y=\"-228.8\" font-family=\"Helvetica,sans-Serif\" font-size=\"14.00\" fill=\"#000000\">gps_height &lt;= 776.5</text>\n<text text-anchor=\"middle\" x=\"2787\" y=\"-213.8\" font-family=\"Helvetica,sans-Serif\" font-size=\"14.00\" fill=\"#000000\">samples = 0.7%</text>\n<text text-anchor=\"middle\" x=\"2787\" y=\"-198.8\" font-family=\"Helvetica,sans-Serif\" font-size=\"14.00\" fill=\"#000000\">value = [0.404, 0.062, 0.534]</text>\n<text text-anchor=\"middle\" x=\"2787\" y=\"-183.8\" font-family=\"Helvetica,sans-Serif\" font-size=\"14.00\" fill=\"#000000\">class = non functional</text>\n</g>\n<!-- 1595&#45;&gt;1596 -->\n<g id=\"edge48\" class=\"edge\">\n<title>1595&#45;&gt;1596</title>\n<path fill=\"none\" stroke=\"#000000\" d=\"M2787,-279.9465C2787,-271.776 2787,-262.9318 2787,-254.3697\"/>\n<polygon fill=\"#000000\" stroke=\"#000000\" points=\"2790.5001,-254.13 2787,-244.13 2783.5001,-254.13 2790.5001,-254.13\"/>\n</g>\n<!-- 1667 -->\n<g id=\"node56\" class=\"node\">\n<title>1667</title>\n<path fill=\"#fae5d7\" stroke=\"#000000\" d=\"M3200,-244C3200,-244 3024,-244 3024,-244 3018,-244 3012,-238 3012,-232 3012,-232 3012,-188 3012,-188 3012,-182 3018,-176 3024,-176 3024,-176 3200,-176 3200,-176 3206,-176 3212,-182 3212,-188 3212,-188 3212,-232 3212,-232 3212,-238 3206,-244 3200,-244\"/>\n<text text-anchor=\"middle\" x=\"3112\" y=\"-228.8\" font-family=\"Helvetica,sans-Serif\" font-size=\"14.00\" fill=\"#000000\">gps_height &lt;= 1019.156</text>\n<text text-anchor=\"middle\" x=\"3112\" y=\"-213.8\" font-family=\"Helvetica,sans-Serif\" font-size=\"14.00\" fill=\"#000000\">samples = 54.4%</text>\n<text text-anchor=\"middle\" x=\"3112\" y=\"-198.8\" font-family=\"Helvetica,sans-Serif\" font-size=\"14.00\" fill=\"#000000\">value = [0.517, 0.089, 0.393]</text>\n<text text-anchor=\"middle\" x=\"3112\" y=\"-183.8\" font-family=\"Helvetica,sans-Serif\" font-size=\"14.00\" fill=\"#000000\">class = functional</text>\n</g>\n<!-- 1595&#45;&gt;1667 -->\n<g id=\"edge55\" class=\"edge\">\n<title>1595&#45;&gt;1667</title>\n<path fill=\"none\" stroke=\"#000000\" d=\"M2887.1626,-281.948C2923.5447,-270.3057 2964.8405,-257.091 3002.0249,-245.192\"/>\n<polygon fill=\"#000000\" stroke=\"#000000\" points=\"3003.431,-248.417 3011.8885,-242.0357 3001.2975,-241.75 3003.431,-248.417\"/>\n</g>\n<!-- 1597 -->\n<g id=\"node50\" class=\"node\">\n<title>1597</title>\n<path fill=\"#deccf8\" stroke=\"#000000\" d=\"M2764,-140C2764,-140 2596,-140 2596,-140 2590,-140 2584,-134 2584,-128 2584,-128 2584,-84 2584,-84 2584,-78 2590,-72 2596,-72 2596,-72 2764,-72 2764,-72 2770,-72 2776,-78 2776,-84 2776,-84 2776,-128 2776,-128 2776,-134 2770,-140 2764,-140\"/>\n<text text-anchor=\"middle\" x=\"2680\" y=\"-124.8\" font-family=\"Helvetica,sans-Serif\" font-size=\"14.00\" fill=\"#000000\">gps_height &lt;= 759.5</text>\n<text text-anchor=\"middle\" x=\"2680\" y=\"-109.8\" font-family=\"Helvetica,sans-Serif\" font-size=\"14.00\" fill=\"#000000\">samples = 0.6%</text>\n<text text-anchor=\"middle\" x=\"2680\" y=\"-94.8\" font-family=\"Helvetica,sans-Serif\" font-size=\"14.00\" fill=\"#000000\">value = [0.397, 0.05, 0.553]</text>\n<text text-anchor=\"middle\" x=\"2680\" y=\"-79.8\" font-family=\"Helvetica,sans-Serif\" font-size=\"14.00\" fill=\"#000000\">class = non functional</text>\n</g>\n<!-- 1596&#45;&gt;1597 -->\n<g id=\"edge49\" class=\"edge\">\n<title>1596&#45;&gt;1597</title>\n<path fill=\"none\" stroke=\"#000000\" d=\"M2751.9642,-175.9465C2742.5419,-166.7884 2732.2487,-156.7838 2722.4696,-147.2788\"/>\n<polygon fill=\"#000000\" stroke=\"#000000\" points=\"2724.7249,-144.59 2715.1145,-140.13 2719.846,-149.6097 2724.7249,-144.59\"/>\n</g>\n<!-- 1654 -->\n<g id=\"node53\" class=\"node\">\n<title>1654</title>\n<path fill=\"#f9f5fe\" stroke=\"#000000\" d=\"M2982,-140C2982,-140 2806,-140 2806,-140 2800,-140 2794,-134 2794,-128 2794,-128 2794,-84 2794,-84 2794,-78 2800,-72 2806,-72 2806,-72 2982,-72 2982,-72 2988,-72 2994,-78 2994,-84 2994,-84 2994,-128 2994,-128 2994,-134 2988,-140 2982,-140\"/>\n<text text-anchor=\"middle\" x=\"2894\" y=\"-124.8\" font-family=\"Helvetica,sans-Serif\" font-size=\"14.00\" fill=\"#000000\">gps_height &lt;= 779.5</text>\n<text text-anchor=\"middle\" x=\"2894\" y=\"-109.8\" font-family=\"Helvetica,sans-Serif\" font-size=\"14.00\" fill=\"#000000\">samples = 0.2%</text>\n<text text-anchor=\"middle\" x=\"2894\" y=\"-94.8\" font-family=\"Helvetica,sans-Serif\" font-size=\"14.00\" fill=\"#000000\">value = [0.431, 0.111, 0.458]</text>\n<text text-anchor=\"middle\" x=\"2894\" y=\"-79.8\" font-family=\"Helvetica,sans-Serif\" font-size=\"14.00\" fill=\"#000000\">class = non functional</text>\n</g>\n<!-- 1596&#45;&gt;1654 -->\n<g id=\"edge52\" class=\"edge\">\n<title>1596&#45;&gt;1654</title>\n<path fill=\"none\" stroke=\"#000000\" d=\"M2822.0358,-175.9465C2831.4581,-166.7884 2841.7513,-156.7838 2851.5304,-147.2788\"/>\n<polygon fill=\"#000000\" stroke=\"#000000\" points=\"2854.154,-149.6097 2858.8855,-140.13 2849.2751,-144.59 2854.154,-149.6097\"/>\n</g>\n<!-- 1598 -->\n<g id=\"node51\" class=\"node\">\n<title>1598</title>\n<path fill=\"#c0c0c0\" stroke=\"#000000\" d=\"M2641,-36C2641,-36 2611,-36 2611,-36 2605,-36 2599,-30 2599,-24 2599,-24 2599,-12 2599,-12 2599,-6 2605,0 2611,0 2611,0 2641,0 2641,0 2647,0 2653,-6 2653,-12 2653,-12 2653,-24 2653,-24 2653,-30 2647,-36 2641,-36\"/>\n<text text-anchor=\"middle\" x=\"2626\" y=\"-14.3\" font-family=\"Helvetica,sans-Serif\" font-size=\"14.00\" fill=\"#000000\">(...)</text>\n</g>\n<!-- 1597&#45;&gt;1598 -->\n<g id=\"edge50\" class=\"edge\">\n<title>1597&#45;&gt;1598</title>\n<path fill=\"none\" stroke=\"#000000\" d=\"M2659.1222,-71.9769C2653.6297,-63.0262 2647.7805,-53.4941 2642.5499,-44.9703\"/>\n<polygon fill=\"#000000\" stroke=\"#000000\" points=\"2645.3766,-42.8846 2637.1632,-36.192 2639.4103,-46.5458 2645.3766,-42.8846\"/>\n</g>\n<!-- 1621 -->\n<g id=\"node52\" class=\"node\">\n<title>1621</title>\n<path fill=\"#c0c0c0\" stroke=\"#000000\" d=\"M2713,-36C2713,-36 2683,-36 2683,-36 2677,-36 2671,-30 2671,-24 2671,-24 2671,-12 2671,-12 2671,-6 2677,0 2683,0 2683,0 2713,0 2713,0 2719,0 2725,-6 2725,-12 2725,-12 2725,-24 2725,-24 2725,-30 2719,-36 2713,-36\"/>\n<text text-anchor=\"middle\" x=\"2698\" y=\"-14.3\" font-family=\"Helvetica,sans-Serif\" font-size=\"14.00\" fill=\"#000000\">(...)</text>\n</g>\n<!-- 1597&#45;&gt;1621 -->\n<g id=\"edge51\" class=\"edge\">\n<title>1597&#45;&gt;1621</title>\n<path fill=\"none\" stroke=\"#000000\" d=\"M2686.9593,-71.9769C2688.7122,-63.4071 2690.5741,-54.3043 2692.2597,-46.0638\"/>\n<polygon fill=\"#000000\" stroke=\"#000000\" points=\"2695.7039,-46.6905 2694.2789,-36.192 2688.8459,-45.2877 2695.7039,-46.6905\"/>\n</g>\n<!-- 1655 -->\n<g id=\"node54\" class=\"node\">\n<title>1655</title>\n<path fill=\"#c0c0c0\" stroke=\"#000000\" d=\"M2873,-36C2873,-36 2843,-36 2843,-36 2837,-36 2831,-30 2831,-24 2831,-24 2831,-12 2831,-12 2831,-6 2837,0 2843,0 2843,0 2873,0 2873,0 2879,0 2885,-6 2885,-12 2885,-12 2885,-24 2885,-24 2885,-30 2879,-36 2873,-36\"/>\n<text text-anchor=\"middle\" x=\"2858\" y=\"-14.3\" font-family=\"Helvetica,sans-Serif\" font-size=\"14.00\" fill=\"#000000\">(...)</text>\n</g>\n<!-- 1654&#45;&gt;1655 -->\n<g id=\"edge53\" class=\"edge\">\n<title>1654&#45;&gt;1655</title>\n<path fill=\"none\" stroke=\"#000000\" d=\"M2880.0815,-71.9769C2876.4977,-63.2167 2872.6862,-53.8995 2869.2564,-45.5157\"/>\n<polygon fill=\"#000000\" stroke=\"#000000\" points=\"2872.468,-44.1222 2865.4422,-36.192 2865.9891,-46.7727 2872.468,-44.1222\"/>\n</g>\n<!-- 1660 -->\n<g id=\"node55\" class=\"node\">\n<title>1660</title>\n<path fill=\"#c0c0c0\" stroke=\"#000000\" d=\"M2945,-36C2945,-36 2915,-36 2915,-36 2909,-36 2903,-30 2903,-24 2903,-24 2903,-12 2903,-12 2903,-6 2909,0 2915,0 2915,0 2945,0 2945,0 2951,0 2957,-6 2957,-12 2957,-12 2957,-24 2957,-24 2957,-30 2951,-36 2945,-36\"/>\n<text text-anchor=\"middle\" x=\"2930\" y=\"-14.3\" font-family=\"Helvetica,sans-Serif\" font-size=\"14.00\" fill=\"#000000\">(...)</text>\n</g>\n<!-- 1654&#45;&gt;1660 -->\n<g id=\"edge54\" class=\"edge\">\n<title>1654&#45;&gt;1660</title>\n<path fill=\"none\" stroke=\"#000000\" d=\"M2907.9185,-71.9769C2911.5023,-63.2167 2915.3138,-53.8995 2918.7436,-45.5157\"/>\n<polygon fill=\"#000000\" stroke=\"#000000\" points=\"2922.0109,-46.7727 2922.5578,-36.192 2915.532,-44.1222 2922.0109,-46.7727\"/>\n</g>\n<!-- 1668 -->\n<g id=\"node57\" class=\"node\">\n<title>1668</title>\n<path fill=\"#f8ddc9\" stroke=\"#000000\" d=\"M3200,-140C3200,-140 3024,-140 3024,-140 3018,-140 3012,-134 3012,-128 3012,-128 3012,-84 3012,-84 3012,-78 3018,-72 3024,-72 3024,-72 3200,-72 3200,-72 3206,-72 3212,-78 3212,-84 3212,-84 3212,-128 3212,-128 3212,-134 3206,-140 3200,-140\"/>\n<text text-anchor=\"middle\" x=\"3112\" y=\"-124.8\" font-family=\"Helvetica,sans-Serif\" font-size=\"14.00\" fill=\"#000000\">gps_height &lt;= 923.5</text>\n<text text-anchor=\"middle\" x=\"3112\" y=\"-109.8\" font-family=\"Helvetica,sans-Serif\" font-size=\"14.00\" fill=\"#000000\">samples = 5.6%</text>\n<text text-anchor=\"middle\" x=\"3112\" y=\"-94.8\" font-family=\"Helvetica,sans-Serif\" font-size=\"14.00\" fill=\"#000000\">value = [0.532, 0.109, 0.359]</text>\n<text text-anchor=\"middle\" x=\"3112\" y=\"-79.8\" font-family=\"Helvetica,sans-Serif\" font-size=\"14.00\" fill=\"#000000\">class = functional</text>\n</g>\n<!-- 1667&#45;&gt;1668 -->\n<g id=\"edge56\" class=\"edge\">\n<title>1667&#45;&gt;1668</title>\n<path fill=\"none\" stroke=\"#000000\" d=\"M3112,-175.9465C3112,-167.776 3112,-158.9318 3112,-150.3697\"/>\n<polygon fill=\"#000000\" stroke=\"#000000\" points=\"3115.5001,-150.13 3112,-140.13 3108.5001,-150.13 3115.5001,-150.13\"/>\n</g>\n<!-- 2139 -->\n<g id=\"node60\" class=\"node\">\n<title>2139</title>\n<path fill=\"#fae6d8\" stroke=\"#000000\" d=\"M3418,-140C3418,-140 3242,-140 3242,-140 3236,-140 3230,-134 3230,-128 3230,-128 3230,-84 3230,-84 3230,-78 3236,-72 3242,-72 3242,-72 3418,-72 3418,-72 3424,-72 3430,-78 3430,-84 3430,-84 3430,-128 3430,-128 3430,-134 3424,-140 3418,-140\"/>\n<text text-anchor=\"middle\" x=\"3330\" y=\"-124.8\" font-family=\"Helvetica,sans-Serif\" font-size=\"14.00\" fill=\"#000000\">gps_height &lt;= 1328.5</text>\n<text text-anchor=\"middle\" x=\"3330\" y=\"-109.8\" font-family=\"Helvetica,sans-Serif\" font-size=\"14.00\" fill=\"#000000\">samples = 48.8%</text>\n<text text-anchor=\"middle\" x=\"3330\" y=\"-94.8\" font-family=\"Helvetica,sans-Serif\" font-size=\"14.00\" fill=\"#000000\">value = [0.516, 0.087, 0.397]</text>\n<text text-anchor=\"middle\" x=\"3330\" y=\"-79.8\" font-family=\"Helvetica,sans-Serif\" font-size=\"14.00\" fill=\"#000000\">class = functional</text>\n</g>\n<!-- 1667&#45;&gt;2139 -->\n<g id=\"edge59\" class=\"edge\">\n<title>1667&#45;&gt;2139</title>\n<path fill=\"none\" stroke=\"#000000\" d=\"M3183.3814,-175.9465C3204.4602,-165.8906 3227.6784,-154.814 3249.3003,-144.4989\"/>\n<polygon fill=\"#000000\" stroke=\"#000000\" points=\"3250.9398,-147.5948 3258.4583,-140.13 3247.9257,-141.2769 3250.9398,-147.5948\"/>\n</g>\n<!-- 1669 -->\n<g id=\"node58\" class=\"node\">\n<title>1669</title>\n<path fill=\"#c0c0c0\" stroke=\"#000000\" d=\"M3091,-36C3091,-36 3061,-36 3061,-36 3055,-36 3049,-30 3049,-24 3049,-24 3049,-12 3049,-12 3049,-6 3055,0 3061,0 3061,0 3091,0 3091,0 3097,0 3103,-6 3103,-12 3103,-12 3103,-24 3103,-24 3103,-30 3097,-36 3091,-36\"/>\n<text text-anchor=\"middle\" x=\"3076\" y=\"-14.3\" font-family=\"Helvetica,sans-Serif\" font-size=\"14.00\" fill=\"#000000\">(...)</text>\n</g>\n<!-- 1668&#45;&gt;1669 -->\n<g id=\"edge57\" class=\"edge\">\n<title>1668&#45;&gt;1669</title>\n<path fill=\"none\" stroke=\"#000000\" d=\"M3098.0815,-71.9769C3094.4977,-63.2167 3090.6862,-53.8995 3087.2564,-45.5157\"/>\n<polygon fill=\"#000000\" stroke=\"#000000\" points=\"3090.468,-44.1222 3083.4422,-36.192 3083.9891,-46.7727 3090.468,-44.1222\"/>\n</g>\n<!-- 1948 -->\n<g id=\"node59\" class=\"node\">\n<title>1948</title>\n<path fill=\"#c0c0c0\" stroke=\"#000000\" d=\"M3163,-36C3163,-36 3133,-36 3133,-36 3127,-36 3121,-30 3121,-24 3121,-24 3121,-12 3121,-12 3121,-6 3127,0 3133,0 3133,0 3163,0 3163,0 3169,0 3175,-6 3175,-12 3175,-12 3175,-24 3175,-24 3175,-30 3169,-36 3163,-36\"/>\n<text text-anchor=\"middle\" x=\"3148\" y=\"-14.3\" font-family=\"Helvetica,sans-Serif\" font-size=\"14.00\" fill=\"#000000\">(...)</text>\n</g>\n<!-- 1668&#45;&gt;1948 -->\n<g id=\"edge58\" class=\"edge\">\n<title>1668&#45;&gt;1948</title>\n<path fill=\"none\" stroke=\"#000000\" d=\"M3125.9185,-71.9769C3129.5023,-63.2167 3133.3138,-53.8995 3136.7436,-45.5157\"/>\n<polygon fill=\"#000000\" stroke=\"#000000\" points=\"3140.0109,-46.7727 3140.5578,-36.192 3133.532,-44.1222 3140.0109,-46.7727\"/>\n</g>\n<!-- 2140 -->\n<g id=\"node61\" class=\"node\">\n<title>2140</title>\n<path fill=\"#c0c0c0\" stroke=\"#000000\" d=\"M3309,-36C3309,-36 3279,-36 3279,-36 3273,-36 3267,-30 3267,-24 3267,-24 3267,-12 3267,-12 3267,-6 3273,0 3279,0 3279,0 3309,0 3309,0 3315,0 3321,-6 3321,-12 3321,-12 3321,-24 3321,-24 3321,-30 3315,-36 3309,-36\"/>\n<text text-anchor=\"middle\" x=\"3294\" y=\"-14.3\" font-family=\"Helvetica,sans-Serif\" font-size=\"14.00\" fill=\"#000000\">(...)</text>\n</g>\n<!-- 2139&#45;&gt;2140 -->\n<g id=\"edge60\" class=\"edge\">\n<title>2139&#45;&gt;2140</title>\n<path fill=\"none\" stroke=\"#000000\" d=\"M3316.0815,-71.9769C3312.4977,-63.2167 3308.6862,-53.8995 3305.2564,-45.5157\"/>\n<polygon fill=\"#000000\" stroke=\"#000000\" points=\"3308.468,-44.1222 3301.4422,-36.192 3301.9891,-46.7727 3308.468,-44.1222\"/>\n</g>\n<!-- 2759 -->\n<g id=\"node62\" class=\"node\">\n<title>2759</title>\n<path fill=\"#c0c0c0\" stroke=\"#000000\" d=\"M3381,-36C3381,-36 3351,-36 3351,-36 3345,-36 3339,-30 3339,-24 3339,-24 3339,-12 3339,-12 3339,-6 3345,0 3351,0 3351,0 3381,0 3381,0 3387,0 3393,-6 3393,-12 3393,-12 3393,-24 3393,-24 3393,-30 3387,-36 3381,-36\"/>\n<text text-anchor=\"middle\" x=\"3366\" y=\"-14.3\" font-family=\"Helvetica,sans-Serif\" font-size=\"14.00\" fill=\"#000000\">(...)</text>\n</g>\n<!-- 2139&#45;&gt;2759 -->\n<g id=\"edge61\" class=\"edge\">\n<title>2139&#45;&gt;2759</title>\n<path fill=\"none\" stroke=\"#000000\" d=\"M3343.9185,-71.9769C3347.5023,-63.2167 3351.3138,-53.8995 3354.7436,-45.5157\"/>\n<polygon fill=\"#000000\" stroke=\"#000000\" points=\"3358.0109,-46.7727 3358.5578,-36.192 3351.532,-44.1222 3358.0109,-46.7727\"/>\n</g>\n<!-- 2821 -->\n<g id=\"node64\" class=\"node\">\n<title>2821</title>\n<path fill=\"#f3c3a1\" stroke=\"#000000\" d=\"M4181,-452C4181,-452 4005,-452 4005,-452 3999,-452 3993,-446 3993,-440 3993,-440 3993,-396 3993,-396 3993,-390 3999,-384 4005,-384 4005,-384 4181,-384 4181,-384 4187,-384 4193,-390 4193,-396 4193,-396 4193,-440 4193,-440 4193,-446 4187,-452 4181,-452\"/>\n<text text-anchor=\"middle\" x=\"4093\" y=\"-436.8\" font-family=\"Helvetica,sans-Serif\" font-size=\"14.00\" fill=\"#000000\">gps_height &lt;= 1586.5</text>\n<text text-anchor=\"middle\" x=\"4093\" y=\"-421.8\" font-family=\"Helvetica,sans-Serif\" font-size=\"14.00\" fill=\"#000000\">samples = 20.2%</text>\n<text text-anchor=\"middle\" x=\"4093\" y=\"-406.8\" font-family=\"Helvetica,sans-Serif\" font-size=\"14.00\" fill=\"#000000\">value = [0.636, 0.059, 0.305]</text>\n<text text-anchor=\"middle\" x=\"4093\" y=\"-391.8\" font-family=\"Helvetica,sans-Serif\" font-size=\"14.00\" fill=\"#000000\">class = functional</text>\n</g>\n<!-- 2820&#45;&gt;2821 -->\n<g id=\"edge63\" class=\"edge\">\n<title>2820&#45;&gt;2821</title>\n<path fill=\"none\" stroke=\"#000000\" d=\"M4093,-487.9465C4093,-479.776 4093,-470.9318 4093,-462.3697\"/>\n<polygon fill=\"#000000\" stroke=\"#000000\" points=\"4096.5001,-462.13 4093,-452.13 4089.5001,-462.13 4096.5001,-462.13\"/>\n</g>\n<!-- 4010 -->\n<g id=\"node89\" class=\"node\">\n<title>4010</title>\n<path fill=\"#ea995e\" stroke=\"#000000\" d=\"M5253,-452C5253,-452 5093,-452 5093,-452 5087,-452 5081,-446 5081,-440 5081,-440 5081,-396 5081,-396 5081,-390 5087,-384 5093,-384 5093,-384 5253,-384 5253,-384 5259,-384 5265,-390 5265,-396 5265,-396 5265,-440 5265,-440 5265,-446 5259,-452 5253,-452\"/>\n<text text-anchor=\"middle\" x=\"5173\" y=\"-436.8\" font-family=\"Helvetica,sans-Serif\" font-size=\"14.00\" fill=\"#000000\">gps_height &lt;= 2262.5</text>\n<text text-anchor=\"middle\" x=\"5173\" y=\"-421.8\" font-family=\"Helvetica,sans-Serif\" font-size=\"14.00\" fill=\"#000000\">samples = 2.6%</text>\n<text text-anchor=\"middle\" x=\"5173\" y=\"-406.8\" font-family=\"Helvetica,sans-Serif\" font-size=\"14.00\" fill=\"#000000\">value = [0.839, 0.02, 0.14]</text>\n<text text-anchor=\"middle\" x=\"5173\" y=\"-391.8\" font-family=\"Helvetica,sans-Serif\" font-size=\"14.00\" fill=\"#000000\">class = functional</text>\n</g>\n<!-- 2820&#45;&gt;4010 -->\n<g id=\"edge88\" class=\"edge\">\n<title>2820&#45;&gt;4010</title>\n<path fill=\"none\" stroke=\"#000000\" d=\"M4193.1505,-512.3559C4398.205,-492.6099 4863.9168,-447.7636 5070.7428,-427.847\"/>\n<polygon fill=\"#000000\" stroke=\"#000000\" points=\"5071.3754,-431.3024 5080.9938,-426.8599 5070.7043,-424.3346 5071.3754,-431.3024\"/>\n</g>\n<!-- 2822 -->\n<g id=\"node65\" class=\"node\">\n<title>2822</title>\n<path fill=\"#f5ccaf\" stroke=\"#000000\" d=\"M4072,-348C4072,-348 3896,-348 3896,-348 3890,-348 3884,-342 3884,-336 3884,-336 3884,-292 3884,-292 3884,-286 3890,-280 3896,-280 3896,-280 4072,-280 4072,-280 4078,-280 4084,-286 4084,-292 4084,-292 4084,-336 4084,-336 4084,-342 4078,-348 4072,-348\"/>\n<text text-anchor=\"middle\" x=\"3984\" y=\"-332.8\" font-family=\"Helvetica,sans-Serif\" font-size=\"14.00\" fill=\"#000000\">gps_height &lt;= 1585.5</text>\n<text text-anchor=\"middle\" x=\"3984\" y=\"-317.8\" font-family=\"Helvetica,sans-Serif\" font-size=\"14.00\" fill=\"#000000\">samples = 10.5%</text>\n<text text-anchor=\"middle\" x=\"3984\" y=\"-302.8\" font-family=\"Helvetica,sans-Serif\" font-size=\"14.00\" fill=\"#000000\">value = [0.601, 0.068, 0.331]</text>\n<text text-anchor=\"middle\" x=\"3984\" y=\"-287.8\" font-family=\"Helvetica,sans-Serif\" font-size=\"14.00\" fill=\"#000000\">class = functional</text>\n</g>\n<!-- 2821&#45;&gt;2822 -->\n<g id=\"edge64\" class=\"edge\">\n<title>2821&#45;&gt;2822</title>\n<path fill=\"none\" stroke=\"#000000\" d=\"M4057.3093,-383.9465C4047.7109,-374.7884 4037.2253,-364.7838 4027.2634,-355.2788\"/>\n<polygon fill=\"#000000\" stroke=\"#000000\" points=\"4029.4221,-352.5009 4019.7709,-348.13 4024.5898,-357.5655 4029.4221,-352.5009\"/>\n</g>\n<!-- 3275 -->\n<g id=\"node74\" class=\"node\">\n<title>3275</title>\n<path fill=\"#f1ba93\" stroke=\"#000000\" d=\"M4286,-348C4286,-348 4118,-348 4118,-348 4112,-348 4106,-342 4106,-336 4106,-336 4106,-292 4106,-292 4106,-286 4112,-280 4118,-280 4118,-280 4286,-280 4286,-280 4292,-280 4298,-286 4298,-292 4298,-292 4298,-336 4298,-336 4298,-342 4292,-348 4286,-348\"/>\n<text text-anchor=\"middle\" x=\"4202\" y=\"-332.8\" font-family=\"Helvetica,sans-Serif\" font-size=\"14.00\" fill=\"#000000\">gps_height &lt;= 1678.5</text>\n<text text-anchor=\"middle\" x=\"4202\" y=\"-317.8\" font-family=\"Helvetica,sans-Serif\" font-size=\"14.00\" fill=\"#000000\">samples = 9.7%</text>\n<text text-anchor=\"middle\" x=\"4202\" y=\"-302.8\" font-family=\"Helvetica,sans-Serif\" font-size=\"14.00\" fill=\"#000000\">value = [0.673, 0.05, 0.277]</text>\n<text text-anchor=\"middle\" x=\"4202\" y=\"-287.8\" font-family=\"Helvetica,sans-Serif\" font-size=\"14.00\" fill=\"#000000\">class = functional</text>\n</g>\n<!-- 2821&#45;&gt;3275 -->\n<g id=\"edge73\" class=\"edge\">\n<title>2821&#45;&gt;3275</title>\n<path fill=\"none\" stroke=\"#000000\" d=\"M4128.6907,-383.9465C4138.2891,-374.7884 4148.7747,-364.7838 4158.7366,-355.2788\"/>\n<polygon fill=\"#000000\" stroke=\"#000000\" points=\"4161.4102,-357.5655 4166.2291,-348.13 4156.5779,-352.5009 4161.4102,-357.5655\"/>\n</g>\n<!-- 2823 -->\n<g id=\"node66\" class=\"node\">\n<title>2823</title>\n<path fill=\"#f4ccae\" stroke=\"#000000\" d=\"M3854,-244C3854,-244 3678,-244 3678,-244 3672,-244 3666,-238 3666,-232 3666,-232 3666,-188 3666,-188 3666,-182 3672,-176 3678,-176 3678,-176 3854,-176 3854,-176 3860,-176 3866,-182 3866,-188 3866,-188 3866,-232 3866,-232 3866,-238 3860,-244 3854,-244\"/>\n<text text-anchor=\"middle\" x=\"3766\" y=\"-228.8\" font-family=\"Helvetica,sans-Serif\" font-size=\"14.00\" fill=\"#000000\">gps_height &lt;= 1530.5</text>\n<text text-anchor=\"middle\" x=\"3766\" y=\"-213.8\" font-family=\"Helvetica,sans-Serif\" font-size=\"14.00\" fill=\"#000000\">samples = 10.5%</text>\n<text text-anchor=\"middle\" x=\"3766\" y=\"-198.8\" font-family=\"Helvetica,sans-Serif\" font-size=\"14.00\" fill=\"#000000\">value = [0.603, 0.068, 0.329]</text>\n<text text-anchor=\"middle\" x=\"3766\" y=\"-183.8\" font-family=\"Helvetica,sans-Serif\" font-size=\"14.00\" fill=\"#000000\">class = functional</text>\n</g>\n<!-- 2822&#45;&gt;2823 -->\n<g id=\"edge65\" class=\"edge\">\n<title>2822&#45;&gt;2823</title>\n<path fill=\"none\" stroke=\"#000000\" d=\"M3912.6186,-279.9465C3891.5398,-269.8906 3868.3216,-258.814 3846.6997,-248.4989\"/>\n<polygon fill=\"#000000\" stroke=\"#000000\" points=\"3848.0743,-245.2769 3837.5417,-244.13 3845.0602,-251.5948 3848.0743,-245.2769\"/>\n</g>\n<!-- 3274 -->\n<g id=\"node73\" class=\"node\">\n<title>3274</title>\n<path fill=\"#a36eec\" stroke=\"#000000\" d=\"M4072,-236.5C4072,-236.5 3896,-236.5 3896,-236.5 3890,-236.5 3884,-230.5 3884,-224.5 3884,-224.5 3884,-195.5 3884,-195.5 3884,-189.5 3890,-183.5 3896,-183.5 3896,-183.5 4072,-183.5 4072,-183.5 4078,-183.5 4084,-189.5 4084,-195.5 4084,-195.5 4084,-224.5 4084,-224.5 4084,-230.5 4078,-236.5 4072,-236.5\"/>\n<text text-anchor=\"middle\" x=\"3984\" y=\"-221.3\" font-family=\"Helvetica,sans-Serif\" font-size=\"14.00\" fill=\"#000000\">samples = 0.0%</text>\n<text text-anchor=\"middle\" x=\"3984\" y=\"-206.3\" font-family=\"Helvetica,sans-Serif\" font-size=\"14.00\" fill=\"#000000\">value = [0.167, 0.056, 0.778]</text>\n<text text-anchor=\"middle\" x=\"3984\" y=\"-191.3\" font-family=\"Helvetica,sans-Serif\" font-size=\"14.00\" fill=\"#000000\">class = non functional</text>\n</g>\n<!-- 2822&#45;&gt;3274 -->\n<g id=\"edge72\" class=\"edge\">\n<title>2822&#45;&gt;3274</title>\n<path fill=\"none\" stroke=\"#000000\" d=\"M3984,-279.9465C3984,-269.2621 3984,-257.4254 3984,-246.5742\"/>\n<polygon fill=\"#000000\" stroke=\"#000000\" points=\"3987.5001,-246.5421 3984,-236.5422 3980.5001,-246.5422 3987.5001,-246.5421\"/>\n</g>\n<!-- 2824 -->\n<g id=\"node67\" class=\"node\">\n<title>2824</title>\n<path fill=\"#f4c9aa\" stroke=\"#000000\" d=\"M3636,-140C3636,-140 3460,-140 3460,-140 3454,-140 3448,-134 3448,-128 3448,-128 3448,-84 3448,-84 3448,-78 3454,-72 3460,-72 3460,-72 3636,-72 3636,-72 3642,-72 3648,-78 3648,-84 3648,-84 3648,-128 3648,-128 3648,-134 3642,-140 3636,-140\"/>\n<text text-anchor=\"middle\" x=\"3548\" y=\"-124.8\" font-family=\"Helvetica,sans-Serif\" font-size=\"14.00\" fill=\"#000000\">gps_height &lt;= 1529.5</text>\n<text text-anchor=\"middle\" x=\"3548\" y=\"-109.8\" font-family=\"Helvetica,sans-Serif\" font-size=\"14.00\" fill=\"#000000\">samples = 7.9%</text>\n<text text-anchor=\"middle\" x=\"3548\" y=\"-94.8\" font-family=\"Helvetica,sans-Serif\" font-size=\"14.00\" fill=\"#000000\">value = [0.613, 0.064, 0.323]</text>\n<text text-anchor=\"middle\" x=\"3548\" y=\"-79.8\" font-family=\"Helvetica,sans-Serif\" font-size=\"14.00\" fill=\"#000000\">class = functional</text>\n</g>\n<!-- 2823&#45;&gt;2824 -->\n<g id=\"edge66\" class=\"edge\">\n<title>2823&#45;&gt;2824</title>\n<path fill=\"none\" stroke=\"#000000\" d=\"M3694.6186,-175.9465C3673.5398,-165.8906 3650.3216,-154.814 3628.6997,-144.4989\"/>\n<polygon fill=\"#000000\" stroke=\"#000000\" points=\"3630.0743,-141.2769 3619.5417,-140.13 3627.0602,-147.5948 3630.0743,-141.2769\"/>\n</g>\n<!-- 3165 -->\n<g id=\"node70\" class=\"node\">\n<title>3165</title>\n<path fill=\"#f6d4bb\" stroke=\"#000000\" d=\"M3854,-140C3854,-140 3678,-140 3678,-140 3672,-140 3666,-134 3666,-128 3666,-128 3666,-84 3666,-84 3666,-78 3672,-72 3678,-72 3678,-72 3854,-72 3854,-72 3860,-72 3866,-78 3866,-84 3866,-84 3866,-128 3866,-128 3866,-134 3860,-140 3854,-140\"/>\n<text text-anchor=\"middle\" x=\"3766\" y=\"-124.8\" font-family=\"Helvetica,sans-Serif\" font-size=\"14.00\" fill=\"#000000\">gps_height &lt;= 1562.5</text>\n<text text-anchor=\"middle\" x=\"3766\" y=\"-109.8\" font-family=\"Helvetica,sans-Serif\" font-size=\"14.00\" fill=\"#000000\">samples = 2.6%</text>\n<text text-anchor=\"middle\" x=\"3766\" y=\"-94.8\" font-family=\"Helvetica,sans-Serif\" font-size=\"14.00\" fill=\"#000000\">value = [0.572, 0.081, 0.347]</text>\n<text text-anchor=\"middle\" x=\"3766\" y=\"-79.8\" font-family=\"Helvetica,sans-Serif\" font-size=\"14.00\" fill=\"#000000\">class = functional</text>\n</g>\n<!-- 2823&#45;&gt;3165 -->\n<g id=\"edge69\" class=\"edge\">\n<title>2823&#45;&gt;3165</title>\n<path fill=\"none\" stroke=\"#000000\" d=\"M3766,-175.9465C3766,-167.776 3766,-158.9318 3766,-150.3697\"/>\n<polygon fill=\"#000000\" stroke=\"#000000\" points=\"3769.5001,-150.13 3766,-140.13 3762.5001,-150.13 3769.5001,-150.13\"/>\n</g>\n<!-- 2825 -->\n<g id=\"node68\" class=\"node\">\n<title>2825</title>\n<path fill=\"#c0c0c0\" stroke=\"#000000\" d=\"M3527,-36C3527,-36 3497,-36 3497,-36 3491,-36 3485,-30 3485,-24 3485,-24 3485,-12 3485,-12 3485,-6 3491,0 3497,0 3497,0 3527,0 3527,0 3533,0 3539,-6 3539,-12 3539,-12 3539,-24 3539,-24 3539,-30 3533,-36 3527,-36\"/>\n<text text-anchor=\"middle\" x=\"3512\" y=\"-14.3\" font-family=\"Helvetica,sans-Serif\" font-size=\"14.00\" fill=\"#000000\">(...)</text>\n</g>\n<!-- 2824&#45;&gt;2825 -->\n<g id=\"edge67\" class=\"edge\">\n<title>2824&#45;&gt;2825</title>\n<path fill=\"none\" stroke=\"#000000\" d=\"M3534.0815,-71.9769C3530.4977,-63.2167 3526.6862,-53.8995 3523.2564,-45.5157\"/>\n<polygon fill=\"#000000\" stroke=\"#000000\" points=\"3526.468,-44.1222 3519.4422,-36.192 3519.9891,-46.7727 3526.468,-44.1222\"/>\n</g>\n<!-- 3164 -->\n<g id=\"node69\" class=\"node\">\n<title>3164</title>\n<path fill=\"#c0c0c0\" stroke=\"#000000\" d=\"M3599,-36C3599,-36 3569,-36 3569,-36 3563,-36 3557,-30 3557,-24 3557,-24 3557,-12 3557,-12 3557,-6 3563,0 3569,0 3569,0 3599,0 3599,0 3605,0 3611,-6 3611,-12 3611,-12 3611,-24 3611,-24 3611,-30 3605,-36 3599,-36\"/>\n<text text-anchor=\"middle\" x=\"3584\" y=\"-14.3\" font-family=\"Helvetica,sans-Serif\" font-size=\"14.00\" fill=\"#000000\">(...)</text>\n</g>\n<!-- 2824&#45;&gt;3164 -->\n<g id=\"edge68\" class=\"edge\">\n<title>2824&#45;&gt;3164</title>\n<path fill=\"none\" stroke=\"#000000\" d=\"M3561.9185,-71.9769C3565.5023,-63.2167 3569.3138,-53.8995 3572.7436,-45.5157\"/>\n<polygon fill=\"#000000\" stroke=\"#000000\" points=\"3576.0109,-46.7727 3576.5578,-36.192 3569.532,-44.1222 3576.0109,-46.7727\"/>\n</g>\n<!-- 3166 -->\n<g id=\"node71\" class=\"node\">\n<title>3166</title>\n<path fill=\"#c0c0c0\" stroke=\"#000000\" d=\"M3745,-36C3745,-36 3715,-36 3715,-36 3709,-36 3703,-30 3703,-24 3703,-24 3703,-12 3703,-12 3703,-6 3709,0 3715,0 3715,0 3745,0 3745,0 3751,0 3757,-6 3757,-12 3757,-12 3757,-24 3757,-24 3757,-30 3751,-36 3745,-36\"/>\n<text text-anchor=\"middle\" x=\"3730\" y=\"-14.3\" font-family=\"Helvetica,sans-Serif\" font-size=\"14.00\" fill=\"#000000\">(...)</text>\n</g>\n<!-- 3165&#45;&gt;3166 -->\n<g id=\"edge70\" class=\"edge\">\n<title>3165&#45;&gt;3166</title>\n<path fill=\"none\" stroke=\"#000000\" d=\"M3752.0815,-71.9769C3748.4977,-63.2167 3744.6862,-53.8995 3741.2564,-45.5157\"/>\n<polygon fill=\"#000000\" stroke=\"#000000\" points=\"3744.468,-44.1222 3737.4422,-36.192 3737.9891,-46.7727 3744.468,-44.1222\"/>\n</g>\n<!-- 3229 -->\n<g id=\"node72\" class=\"node\">\n<title>3229</title>\n<path fill=\"#c0c0c0\" stroke=\"#000000\" d=\"M3817,-36C3817,-36 3787,-36 3787,-36 3781,-36 3775,-30 3775,-24 3775,-24 3775,-12 3775,-12 3775,-6 3781,0 3787,0 3787,0 3817,0 3817,0 3823,0 3829,-6 3829,-12 3829,-12 3829,-24 3829,-24 3829,-30 3823,-36 3817,-36\"/>\n<text text-anchor=\"middle\" x=\"3802\" y=\"-14.3\" font-family=\"Helvetica,sans-Serif\" font-size=\"14.00\" fill=\"#000000\">(...)</text>\n</g>\n<!-- 3165&#45;&gt;3229 -->\n<g id=\"edge71\" class=\"edge\">\n<title>3165&#45;&gt;3229</title>\n<path fill=\"none\" stroke=\"#000000\" d=\"M3779.9185,-71.9769C3783.5023,-63.2167 3787.3138,-53.8995 3790.7436,-45.5157\"/>\n<polygon fill=\"#000000\" stroke=\"#000000\" points=\"3794.0109,-46.7727 3794.5578,-36.192 3787.532,-44.1222 3794.0109,-46.7727\"/>\n</g>\n<!-- 3276 -->\n<g id=\"node75\" class=\"node\">\n<title>3276</title>\n<path fill=\"#f2be99\" stroke=\"#000000\" d=\"M4290,-244C4290,-244 4114,-244 4114,-244 4108,-244 4102,-238 4102,-232 4102,-232 4102,-188 4102,-188 4102,-182 4108,-176 4114,-176 4114,-176 4290,-176 4290,-176 4296,-176 4302,-182 4302,-188 4302,-188 4302,-232 4302,-232 4302,-238 4296,-244 4290,-244\"/>\n<text text-anchor=\"middle\" x=\"4202\" y=\"-228.8\" font-family=\"Helvetica,sans-Serif\" font-size=\"14.00\" fill=\"#000000\">gps_height &lt;= 1674.5</text>\n<text text-anchor=\"middle\" x=\"4202\" y=\"-213.8\" font-family=\"Helvetica,sans-Serif\" font-size=\"14.00\" fill=\"#000000\">samples = 3.8%</text>\n<text text-anchor=\"middle\" x=\"4202\" y=\"-198.8\" font-family=\"Helvetica,sans-Serif\" font-size=\"14.00\" fill=\"#000000\">value = [0.653, 0.063, 0.284]</text>\n<text text-anchor=\"middle\" x=\"4202\" y=\"-183.8\" font-family=\"Helvetica,sans-Serif\" font-size=\"14.00\" fill=\"#000000\">class = functional</text>\n</g>\n<!-- 3275&#45;&gt;3276 -->\n<g id=\"edge74\" class=\"edge\">\n<title>3275&#45;&gt;3276</title>\n<path fill=\"none\" stroke=\"#000000\" d=\"M4202,-279.9465C4202,-271.776 4202,-262.9318 4202,-254.3697\"/>\n<polygon fill=\"#000000\" stroke=\"#000000\" points=\"4205.5001,-254.13 4202,-244.13 4198.5001,-254.13 4205.5001,-254.13\"/>\n</g>\n<!-- 3459 -->\n<g id=\"node82\" class=\"node\">\n<title>3459</title>\n<path fill=\"#f0b78f\" stroke=\"#000000\" d=\"M4508,-244C4508,-244 4332,-244 4332,-244 4326,-244 4320,-238 4320,-232 4320,-232 4320,-188 4320,-188 4320,-182 4326,-176 4332,-176 4332,-176 4508,-176 4508,-176 4514,-176 4520,-182 4520,-188 4520,-188 4520,-232 4520,-232 4520,-238 4514,-244 4508,-244\"/>\n<text text-anchor=\"middle\" x=\"4420\" y=\"-228.8\" font-family=\"Helvetica,sans-Serif\" font-size=\"14.00\" fill=\"#000000\">gps_height &lt;= 1778.5</text>\n<text text-anchor=\"middle\" x=\"4420\" y=\"-213.8\" font-family=\"Helvetica,sans-Serif\" font-size=\"14.00\" fill=\"#000000\">samples = 5.9%</text>\n<text text-anchor=\"middle\" x=\"4420\" y=\"-198.8\" font-family=\"Helvetica,sans-Serif\" font-size=\"14.00\" fill=\"#000000\">value = [0.686, 0.041, 0.273]</text>\n<text text-anchor=\"middle\" x=\"4420\" y=\"-183.8\" font-family=\"Helvetica,sans-Serif\" font-size=\"14.00\" fill=\"#000000\">class = functional</text>\n</g>\n<!-- 3275&#45;&gt;3459 -->\n<g id=\"edge81\" class=\"edge\">\n<title>3275&#45;&gt;3459</title>\n<path fill=\"none\" stroke=\"#000000\" d=\"M4273.3814,-279.9465C4294.4602,-269.8906 4317.6784,-258.814 4339.3003,-248.4989\"/>\n<polygon fill=\"#000000\" stroke=\"#000000\" points=\"4340.9398,-251.5948 4348.4583,-244.13 4337.9257,-245.2769 4340.9398,-251.5948\"/>\n</g>\n<!-- 3277 -->\n<g id=\"node76\" class=\"node\">\n<title>3277</title>\n<path fill=\"#f1bd97\" stroke=\"#000000\" d=\"M4072,-140C4072,-140 3896,-140 3896,-140 3890,-140 3884,-134 3884,-128 3884,-128 3884,-84 3884,-84 3884,-78 3890,-72 3896,-72 3896,-72 4072,-72 4072,-72 4078,-72 4084,-78 4084,-84 4084,-84 4084,-128 4084,-128 4084,-134 4078,-140 4072,-140\"/>\n<text text-anchor=\"middle\" x=\"3984\" y=\"-124.8\" font-family=\"Helvetica,sans-Serif\" font-size=\"14.00\" fill=\"#000000\">gps_height &lt;= 1589.5</text>\n<text text-anchor=\"middle\" x=\"3984\" y=\"-109.8\" font-family=\"Helvetica,sans-Serif\" font-size=\"14.00\" fill=\"#000000\">samples = 3.7%</text>\n<text text-anchor=\"middle\" x=\"3984\" y=\"-94.8\" font-family=\"Helvetica,sans-Serif\" font-size=\"14.00\" fill=\"#000000\">value = [0.658, 0.063, 0.279]</text>\n<text text-anchor=\"middle\" x=\"3984\" y=\"-79.8\" font-family=\"Helvetica,sans-Serif\" font-size=\"14.00\" fill=\"#000000\">class = functional</text>\n</g>\n<!-- 3276&#45;&gt;3277 -->\n<g id=\"edge75\" class=\"edge\">\n<title>3276&#45;&gt;3277</title>\n<path fill=\"none\" stroke=\"#000000\" d=\"M4130.6186,-175.9465C4109.5398,-165.8906 4086.3216,-154.814 4064.6997,-144.4989\"/>\n<polygon fill=\"#000000\" stroke=\"#000000\" points=\"4066.0743,-141.2769 4055.5417,-140.13 4063.0602,-147.5948 4066.0743,-141.2769\"/>\n</g>\n<!-- 3452 -->\n<g id=\"node79\" class=\"node\">\n<title>3452</title>\n<path fill=\"#fae7d9\" stroke=\"#000000\" d=\"M4290,-140C4290,-140 4114,-140 4114,-140 4108,-140 4102,-134 4102,-128 4102,-128 4102,-84 4102,-84 4102,-78 4108,-72 4114,-72 4114,-72 4290,-72 4290,-72 4296,-72 4302,-78 4302,-84 4302,-84 4302,-128 4302,-128 4302,-134 4296,-140 4290,-140\"/>\n<text text-anchor=\"middle\" x=\"4202\" y=\"-124.8\" font-family=\"Helvetica,sans-Serif\" font-size=\"14.00\" fill=\"#000000\">gps_height &lt;= 1676.5</text>\n<text text-anchor=\"middle\" x=\"4202\" y=\"-109.8\" font-family=\"Helvetica,sans-Serif\" font-size=\"14.00\" fill=\"#000000\">samples = 0.2%</text>\n<text text-anchor=\"middle\" x=\"4202\" y=\"-94.8\" font-family=\"Helvetica,sans-Serif\" font-size=\"14.00\" fill=\"#000000\">value = [0.528, 0.056, 0.417]</text>\n<text text-anchor=\"middle\" x=\"4202\" y=\"-79.8\" font-family=\"Helvetica,sans-Serif\" font-size=\"14.00\" fill=\"#000000\">class = functional</text>\n</g>\n<!-- 3276&#45;&gt;3452 -->\n<g id=\"edge78\" class=\"edge\">\n<title>3276&#45;&gt;3452</title>\n<path fill=\"none\" stroke=\"#000000\" d=\"M4202,-175.9465C4202,-167.776 4202,-158.9318 4202,-150.3697\"/>\n<polygon fill=\"#000000\" stroke=\"#000000\" points=\"4205.5001,-150.13 4202,-140.13 4198.5001,-150.13 4205.5001,-150.13\"/>\n</g>\n<!-- 3278 -->\n<g id=\"node77\" class=\"node\">\n<title>3278</title>\n<path fill=\"#c0c0c0\" stroke=\"#000000\" d=\"M3963,-36C3963,-36 3933,-36 3933,-36 3927,-36 3921,-30 3921,-24 3921,-24 3921,-12 3921,-12 3921,-6 3927,0 3933,0 3933,0 3963,0 3963,0 3969,0 3975,-6 3975,-12 3975,-12 3975,-24 3975,-24 3975,-30 3969,-36 3963,-36\"/>\n<text text-anchor=\"middle\" x=\"3948\" y=\"-14.3\" font-family=\"Helvetica,sans-Serif\" font-size=\"14.00\" fill=\"#000000\">(...)</text>\n</g>\n<!-- 3277&#45;&gt;3278 -->\n<g id=\"edge76\" class=\"edge\">\n<title>3277&#45;&gt;3278</title>\n<path fill=\"none\" stroke=\"#000000\" d=\"M3970.0815,-71.9769C3966.4977,-63.2167 3962.6862,-53.8995 3959.2564,-45.5157\"/>\n<polygon fill=\"#000000\" stroke=\"#000000\" points=\"3962.468,-44.1222 3955.4422,-36.192 3955.9891,-46.7727 3962.468,-44.1222\"/>\n</g>\n<!-- 3283 -->\n<g id=\"node78\" class=\"node\">\n<title>3283</title>\n<path fill=\"#c0c0c0\" stroke=\"#000000\" d=\"M4035,-36C4035,-36 4005,-36 4005,-36 3999,-36 3993,-30 3993,-24 3993,-24 3993,-12 3993,-12 3993,-6 3999,0 4005,0 4005,0 4035,0 4035,0 4041,0 4047,-6 4047,-12 4047,-12 4047,-24 4047,-24 4047,-30 4041,-36 4035,-36\"/>\n<text text-anchor=\"middle\" x=\"4020\" y=\"-14.3\" font-family=\"Helvetica,sans-Serif\" font-size=\"14.00\" fill=\"#000000\">(...)</text>\n</g>\n<!-- 3277&#45;&gt;3283 -->\n<g id=\"edge77\" class=\"edge\">\n<title>3277&#45;&gt;3283</title>\n<path fill=\"none\" stroke=\"#000000\" d=\"M3997.9185,-71.9769C4001.5023,-63.2167 4005.3138,-53.8995 4008.7436,-45.5157\"/>\n<polygon fill=\"#000000\" stroke=\"#000000\" points=\"4012.0109,-46.7727 4012.5578,-36.192 4005.532,-44.1222 4012.0109,-46.7727\"/>\n</g>\n<!-- 3453 -->\n<g id=\"node80\" class=\"node\">\n<title>3453</title>\n<path fill=\"#c0c0c0\" stroke=\"#000000\" d=\"M4181,-36C4181,-36 4151,-36 4151,-36 4145,-36 4139,-30 4139,-24 4139,-24 4139,-12 4139,-12 4139,-6 4145,0 4151,0 4151,0 4181,0 4181,0 4187,0 4193,-6 4193,-12 4193,-12 4193,-24 4193,-24 4193,-30 4187,-36 4181,-36\"/>\n<text text-anchor=\"middle\" x=\"4166\" y=\"-14.3\" font-family=\"Helvetica,sans-Serif\" font-size=\"14.00\" fill=\"#000000\">(...)</text>\n</g>\n<!-- 3452&#45;&gt;3453 -->\n<g id=\"edge79\" class=\"edge\">\n<title>3452&#45;&gt;3453</title>\n<path fill=\"none\" stroke=\"#000000\" d=\"M4188.0815,-71.9769C4184.4977,-63.2167 4180.6862,-53.8995 4177.2564,-45.5157\"/>\n<polygon fill=\"#000000\" stroke=\"#000000\" points=\"4180.468,-44.1222 4173.4422,-36.192 4173.9891,-46.7727 4180.468,-44.1222\"/>\n</g>\n<!-- 3456 -->\n<g id=\"node81\" class=\"node\">\n<title>3456</title>\n<path fill=\"#c0c0c0\" stroke=\"#000000\" d=\"M4253,-36C4253,-36 4223,-36 4223,-36 4217,-36 4211,-30 4211,-24 4211,-24 4211,-12 4211,-12 4211,-6 4217,0 4223,0 4223,0 4253,0 4253,0 4259,0 4265,-6 4265,-12 4265,-12 4265,-24 4265,-24 4265,-30 4259,-36 4253,-36\"/>\n<text text-anchor=\"middle\" x=\"4238\" y=\"-14.3\" font-family=\"Helvetica,sans-Serif\" font-size=\"14.00\" fill=\"#000000\">(...)</text>\n</g>\n<!-- 3452&#45;&gt;3456 -->\n<g id=\"edge80\" class=\"edge\">\n<title>3452&#45;&gt;3456</title>\n<path fill=\"none\" stroke=\"#000000\" d=\"M4215.9185,-71.9769C4219.5023,-63.2167 4223.3138,-53.8995 4226.7436,-45.5157\"/>\n<polygon fill=\"#000000\" stroke=\"#000000\" points=\"4230.0109,-46.7727 4230.5578,-36.192 4223.532,-44.1222 4230.0109,-46.7727\"/>\n</g>\n<!-- 3460 -->\n<g id=\"node83\" class=\"node\">\n<title>3460</title>\n<path fill=\"#f0b58a\" stroke=\"#000000\" d=\"M4508,-140C4508,-140 4332,-140 4332,-140 4326,-140 4320,-134 4320,-128 4320,-128 4320,-84 4320,-84 4320,-78 4326,-72 4332,-72 4332,-72 4508,-72 4508,-72 4514,-72 4520,-78 4520,-84 4520,-84 4520,-128 4520,-128 4520,-134 4514,-140 4508,-140\"/>\n<text text-anchor=\"middle\" x=\"4420\" y=\"-124.8\" font-family=\"Helvetica,sans-Serif\" font-size=\"14.00\" fill=\"#000000\">gps_height &lt;= 1757.5</text>\n<text text-anchor=\"middle\" x=\"4420\" y=\"-109.8\" font-family=\"Helvetica,sans-Serif\" font-size=\"14.00\" fill=\"#000000\">samples = 3.0%</text>\n<text text-anchor=\"middle\" x=\"4420\" y=\"-94.8\" font-family=\"Helvetica,sans-Serif\" font-size=\"14.00\" fill=\"#000000\">value = [0.695, 0.047, 0.259]</text>\n<text text-anchor=\"middle\" x=\"4420\" y=\"-79.8\" font-family=\"Helvetica,sans-Serif\" font-size=\"14.00\" fill=\"#000000\">class = functional</text>\n</g>\n<!-- 3459&#45;&gt;3460 -->\n<g id=\"edge82\" class=\"edge\">\n<title>3459&#45;&gt;3460</title>\n<path fill=\"none\" stroke=\"#000000\" d=\"M4420,-175.9465C4420,-167.776 4420,-158.9318 4420,-150.3697\"/>\n<polygon fill=\"#000000\" stroke=\"#000000\" points=\"4423.5001,-150.13 4420,-140.13 4416.5001,-150.13 4423.5001,-150.13\"/>\n</g>\n<!-- 3659 -->\n<g id=\"node86\" class=\"node\">\n<title>3659</title>\n<path fill=\"#f1ba93\" stroke=\"#000000\" d=\"M4726,-140C4726,-140 4550,-140 4550,-140 4544,-140 4538,-134 4538,-128 4538,-128 4538,-84 4538,-84 4538,-78 4544,-72 4550,-72 4550,-72 4726,-72 4726,-72 4732,-72 4738,-78 4738,-84 4738,-84 4738,-128 4738,-128 4738,-134 4732,-140 4726,-140\"/>\n<text text-anchor=\"middle\" x=\"4638\" y=\"-124.8\" font-family=\"Helvetica,sans-Serif\" font-size=\"14.00\" fill=\"#000000\">gps_height &lt;= 1927.5</text>\n<text text-anchor=\"middle\" x=\"4638\" y=\"-109.8\" font-family=\"Helvetica,sans-Serif\" font-size=\"14.00\" fill=\"#000000\">samples = 2.8%</text>\n<text text-anchor=\"middle\" x=\"4638\" y=\"-94.8\" font-family=\"Helvetica,sans-Serif\" font-size=\"14.00\" fill=\"#000000\">value = [0.677, 0.035, 0.289]</text>\n<text text-anchor=\"middle\" x=\"4638\" y=\"-79.8\" font-family=\"Helvetica,sans-Serif\" font-size=\"14.00\" fill=\"#000000\">class = functional</text>\n</g>\n<!-- 3459&#45;&gt;3659 -->\n<g id=\"edge85\" class=\"edge\">\n<title>3459&#45;&gt;3659</title>\n<path fill=\"none\" stroke=\"#000000\" d=\"M4491.3814,-175.9465C4512.4602,-165.8906 4535.6784,-154.814 4557.3003,-144.4989\"/>\n<polygon fill=\"#000000\" stroke=\"#000000\" points=\"4558.9398,-147.5948 4566.4583,-140.13 4555.9257,-141.2769 4558.9398,-147.5948\"/>\n</g>\n<!-- 3461 -->\n<g id=\"node84\" class=\"node\">\n<title>3461</title>\n<path fill=\"#c0c0c0\" stroke=\"#000000\" d=\"M4399,-36C4399,-36 4369,-36 4369,-36 4363,-36 4357,-30 4357,-24 4357,-24 4357,-12 4357,-12 4357,-6 4363,0 4369,0 4369,0 4399,0 4399,0 4405,0 4411,-6 4411,-12 4411,-12 4411,-24 4411,-24 4411,-30 4405,-36 4399,-36\"/>\n<text text-anchor=\"middle\" x=\"4384\" y=\"-14.3\" font-family=\"Helvetica,sans-Serif\" font-size=\"14.00\" fill=\"#000000\">(...)</text>\n</g>\n<!-- 3460&#45;&gt;3461 -->\n<g id=\"edge83\" class=\"edge\">\n<title>3460&#45;&gt;3461</title>\n<path fill=\"none\" stroke=\"#000000\" d=\"M4406.0815,-71.9769C4402.4977,-63.2167 4398.6862,-53.8995 4395.2564,-45.5157\"/>\n<polygon fill=\"#000000\" stroke=\"#000000\" points=\"4398.468,-44.1222 4391.4422,-36.192 4391.9891,-46.7727 4398.468,-44.1222\"/>\n</g>\n<!-- 3618 -->\n<g id=\"node85\" class=\"node\">\n<title>3618</title>\n<path fill=\"#c0c0c0\" stroke=\"#000000\" d=\"M4471,-36C4471,-36 4441,-36 4441,-36 4435,-36 4429,-30 4429,-24 4429,-24 4429,-12 4429,-12 4429,-6 4435,0 4441,0 4441,0 4471,0 4471,0 4477,0 4483,-6 4483,-12 4483,-12 4483,-24 4483,-24 4483,-30 4477,-36 4471,-36\"/>\n<text text-anchor=\"middle\" x=\"4456\" y=\"-14.3\" font-family=\"Helvetica,sans-Serif\" font-size=\"14.00\" fill=\"#000000\">(...)</text>\n</g>\n<!-- 3460&#45;&gt;3618 -->\n<g id=\"edge84\" class=\"edge\">\n<title>3460&#45;&gt;3618</title>\n<path fill=\"none\" stroke=\"#000000\" d=\"M4433.9185,-71.9769C4437.5023,-63.2167 4441.3138,-53.8995 4444.7436,-45.5157\"/>\n<polygon fill=\"#000000\" stroke=\"#000000\" points=\"4448.0109,-46.7727 4448.5578,-36.192 4441.532,-44.1222 4448.0109,-46.7727\"/>\n</g>\n<!-- 3660 -->\n<g id=\"node87\" class=\"node\">\n<title>3660</title>\n<path fill=\"#c0c0c0\" stroke=\"#000000\" d=\"M4617,-36C4617,-36 4587,-36 4587,-36 4581,-36 4575,-30 4575,-24 4575,-24 4575,-12 4575,-12 4575,-6 4581,0 4587,0 4587,0 4617,0 4617,0 4623,0 4629,-6 4629,-12 4629,-12 4629,-24 4629,-24 4629,-30 4623,-36 4617,-36\"/>\n<text text-anchor=\"middle\" x=\"4602\" y=\"-14.3\" font-family=\"Helvetica,sans-Serif\" font-size=\"14.00\" fill=\"#000000\">(...)</text>\n</g>\n<!-- 3659&#45;&gt;3660 -->\n<g id=\"edge86\" class=\"edge\">\n<title>3659&#45;&gt;3660</title>\n<path fill=\"none\" stroke=\"#000000\" d=\"M4624.0815,-71.9769C4620.4977,-63.2167 4616.6862,-53.8995 4613.2564,-45.5157\"/>\n<polygon fill=\"#000000\" stroke=\"#000000\" points=\"4616.468,-44.1222 4609.4422,-36.192 4609.9891,-46.7727 4616.468,-44.1222\"/>\n</g>\n<!-- 3949 -->\n<g id=\"node88\" class=\"node\">\n<title>3949</title>\n<path fill=\"#c0c0c0\" stroke=\"#000000\" d=\"M4689,-36C4689,-36 4659,-36 4659,-36 4653,-36 4647,-30 4647,-24 4647,-24 4647,-12 4647,-12 4647,-6 4653,0 4659,0 4659,0 4689,0 4689,0 4695,0 4701,-6 4701,-12 4701,-12 4701,-24 4701,-24 4701,-30 4695,-36 4689,-36\"/>\n<text text-anchor=\"middle\" x=\"4674\" y=\"-14.3\" font-family=\"Helvetica,sans-Serif\" font-size=\"14.00\" fill=\"#000000\">(...)</text>\n</g>\n<!-- 3659&#45;&gt;3949 -->\n<g id=\"edge87\" class=\"edge\">\n<title>3659&#45;&gt;3949</title>\n<path fill=\"none\" stroke=\"#000000\" d=\"M4651.9185,-71.9769C4655.5023,-63.2167 4659.3138,-53.8995 4662.7436,-45.5157\"/>\n<polygon fill=\"#000000\" stroke=\"#000000\" points=\"4666.0109,-46.7727 4666.5578,-36.192 4659.532,-44.1222 4666.0109,-46.7727\"/>\n</g>\n<!-- 4011 -->\n<g id=\"node90\" class=\"node\">\n<title>4011</title>\n<path fill=\"#ea9b61\" stroke=\"#000000\" d=\"M5261,-348C5261,-348 5085,-348 5085,-348 5079,-348 5073,-342 5073,-336 5073,-336 5073,-292 5073,-292 5073,-286 5079,-280 5085,-280 5085,-280 5261,-280 5261,-280 5267,-280 5273,-286 5273,-292 5273,-292 5273,-336 5273,-336 5273,-342 5267,-348 5261,-348\"/>\n<text text-anchor=\"middle\" x=\"5173\" y=\"-332.8\" font-family=\"Helvetica,sans-Serif\" font-size=\"14.00\" fill=\"#000000\">gps_height &lt;= 2058.0</text>\n<text text-anchor=\"middle\" x=\"5173\" y=\"-317.8\" font-family=\"Helvetica,sans-Serif\" font-size=\"14.00\" fill=\"#000000\">samples = 2.3%</text>\n<text text-anchor=\"middle\" x=\"5173\" y=\"-302.8\" font-family=\"Helvetica,sans-Serif\" font-size=\"14.00\" fill=\"#000000\">value = [0.828, 0.018, 0.154]</text>\n<text text-anchor=\"middle\" x=\"5173\" y=\"-287.8\" font-family=\"Helvetica,sans-Serif\" font-size=\"14.00\" fill=\"#000000\">class = functional</text>\n</g>\n<!-- 4010&#45;&gt;4011 -->\n<g id=\"edge89\" class=\"edge\">\n<title>4010&#45;&gt;4011</title>\n<path fill=\"none\" stroke=\"#000000\" d=\"M5173,-383.9465C5173,-375.776 5173,-366.9318 5173,-358.3697\"/>\n<polygon fill=\"#000000\" stroke=\"#000000\" points=\"5176.5001,-358.13 5173,-348.13 5169.5001,-358.13 5176.5001,-358.13\"/>\n</g>\n<!-- 4416 -->\n<g id=\"node103\" class=\"node\">\n<title>4416</title>\n<path fill=\"#e78c4b\" stroke=\"#000000\" d=\"M5766,-348C5766,-348 5590,-348 5590,-348 5584,-348 5578,-342 5578,-336 5578,-336 5578,-292 5578,-292 5578,-286 5584,-280 5590,-280 5590,-280 5766,-280 5766,-280 5772,-280 5778,-286 5778,-292 5778,-292 5778,-336 5778,-336 5778,-342 5772,-348 5766,-348\"/>\n<text text-anchor=\"middle\" x=\"5678\" y=\"-332.8\" font-family=\"Helvetica,sans-Serif\" font-size=\"14.00\" fill=\"#000000\">gps_height &lt;= 2699.0</text>\n<text text-anchor=\"middle\" x=\"5678\" y=\"-317.8\" font-family=\"Helvetica,sans-Serif\" font-size=\"14.00\" fill=\"#000000\">samples = 0.3%</text>\n<text text-anchor=\"middle\" x=\"5678\" y=\"-302.8\" font-family=\"Helvetica,sans-Serif\" font-size=\"14.00\" fill=\"#000000\">value = [0.914, 0.037, 0.049]</text>\n<text text-anchor=\"middle\" x=\"5678\" y=\"-287.8\" font-family=\"Helvetica,sans-Serif\" font-size=\"14.00\" fill=\"#000000\">class = functional</text>\n</g>\n<!-- 4010&#45;&gt;4416 -->\n<g id=\"edge102\" class=\"edge\">\n<title>4010&#45;&gt;4416</title>\n<path fill=\"none\" stroke=\"#000000\" d=\"M5265.0376,-399.0457C5350.3173,-381.4832 5477.2941,-355.3335 5567.9107,-336.6719\"/>\n<polygon fill=\"#000000\" stroke=\"#000000\" points=\"5568.8557,-340.0508 5577.9442,-334.6056 5567.4437,-333.1946 5568.8557,-340.0508\"/>\n</g>\n<!-- 4012 -->\n<g id=\"node91\" class=\"node\">\n<title>4012</title>\n<path fill=\"#e9965a\" stroke=\"#000000\" d=\"M5152,-244C5152,-244 4976,-244 4976,-244 4970,-244 4964,-238 4964,-232 4964,-232 4964,-188 4964,-188 4964,-182 4970,-176 4976,-176 4976,-176 5152,-176 5152,-176 5158,-176 5164,-182 5164,-188 5164,-188 5164,-232 5164,-232 5164,-238 5158,-244 5152,-244\"/>\n<text text-anchor=\"middle\" x=\"5064\" y=\"-228.8\" font-family=\"Helvetica,sans-Serif\" font-size=\"14.00\" fill=\"#000000\">gps_height &lt;= 2006.5</text>\n<text text-anchor=\"middle\" x=\"5064\" y=\"-213.8\" font-family=\"Helvetica,sans-Serif\" font-size=\"14.00\" fill=\"#000000\">samples = 0.9%</text>\n<text text-anchor=\"middle\" x=\"5064\" y=\"-198.8\" font-family=\"Helvetica,sans-Serif\" font-size=\"14.00\" fill=\"#000000\">value = [0.856, 0.013, 0.131]</text>\n<text text-anchor=\"middle\" x=\"5064\" y=\"-183.8\" font-family=\"Helvetica,sans-Serif\" font-size=\"14.00\" fill=\"#000000\">class = functional</text>\n</g>\n<!-- 4011&#45;&gt;4012 -->\n<g id=\"edge90\" class=\"edge\">\n<title>4011&#45;&gt;4012</title>\n<path fill=\"none\" stroke=\"#000000\" d=\"M5137.3093,-279.9465C5127.7109,-270.7884 5117.2253,-260.7838 5107.2634,-251.2788\"/>\n<polygon fill=\"#000000\" stroke=\"#000000\" points=\"5109.4221,-248.5009 5099.7709,-244.13 5104.5898,-253.5655 5109.4221,-248.5009\"/>\n</g>\n<!-- 4149 -->\n<g id=\"node98\" class=\"node\">\n<title>4149</title>\n<path fill=\"#eb9e67\" stroke=\"#000000\" d=\"M5370,-244C5370,-244 5194,-244 5194,-244 5188,-244 5182,-238 5182,-232 5182,-232 5182,-188 5182,-188 5182,-182 5188,-176 5194,-176 5194,-176 5370,-176 5370,-176 5376,-176 5382,-182 5382,-188 5382,-188 5382,-232 5382,-232 5382,-238 5376,-244 5370,-244\"/>\n<text text-anchor=\"middle\" x=\"5282\" y=\"-228.8\" font-family=\"Helvetica,sans-Serif\" font-size=\"14.00\" fill=\"#000000\">gps_height &lt;= 2059.5</text>\n<text text-anchor=\"middle\" x=\"5282\" y=\"-213.8\" font-family=\"Helvetica,sans-Serif\" font-size=\"14.00\" fill=\"#000000\">samples = 1.3%</text>\n<text text-anchor=\"middle\" x=\"5282\" y=\"-198.8\" font-family=\"Helvetica,sans-Serif\" font-size=\"14.00\" fill=\"#000000\">value = [0.809, 0.021, 0.171]</text>\n<text text-anchor=\"middle\" x=\"5282\" y=\"-183.8\" font-family=\"Helvetica,sans-Serif\" font-size=\"14.00\" fill=\"#000000\">class = functional</text>\n</g>\n<!-- 4011&#45;&gt;4149 -->\n<g id=\"edge97\" class=\"edge\">\n<title>4011&#45;&gt;4149</title>\n<path fill=\"none\" stroke=\"#000000\" d=\"M5208.6907,-279.9465C5218.2891,-270.7884 5228.7747,-260.7838 5238.7366,-251.2788\"/>\n<polygon fill=\"#000000\" stroke=\"#000000\" points=\"5241.4102,-253.5655 5246.2291,-244.13 5236.5779,-248.5009 5241.4102,-253.5655\"/>\n</g>\n<!-- 4013 -->\n<g id=\"node92\" class=\"node\">\n<title>4013</title>\n<path fill=\"#ea9b62\" stroke=\"#000000\" d=\"M4944,-140C4944,-140 4768,-140 4768,-140 4762,-140 4756,-134 4756,-128 4756,-128 4756,-84 4756,-84 4756,-78 4762,-72 4768,-72 4768,-72 4944,-72 4944,-72 4950,-72 4956,-78 4956,-84 4956,-84 4956,-128 4956,-128 4956,-134 4950,-140 4944,-140\"/>\n<text text-anchor=\"middle\" x=\"4856\" y=\"-124.8\" font-family=\"Helvetica,sans-Serif\" font-size=\"14.00\" fill=\"#000000\">gps_height &lt;= 1998.5</text>\n<text text-anchor=\"middle\" x=\"4856\" y=\"-109.8\" font-family=\"Helvetica,sans-Serif\" font-size=\"14.00\" fill=\"#000000\">samples = 0.6%</text>\n<text text-anchor=\"middle\" x=\"4856\" y=\"-94.8\" font-family=\"Helvetica,sans-Serif\" font-size=\"14.00\" fill=\"#000000\">value = [0.826, 0.014, 0.159]</text>\n<text text-anchor=\"middle\" x=\"4856\" y=\"-79.8\" font-family=\"Helvetica,sans-Serif\" font-size=\"14.00\" fill=\"#000000\">class = functional</text>\n</g>\n<!-- 4012&#45;&gt;4013 -->\n<g id=\"edge91\" class=\"edge\">\n<title>4012&#45;&gt;4013</title>\n<path fill=\"none\" stroke=\"#000000\" d=\"M4995.893,-175.9465C4975.8709,-165.9354 4953.8257,-154.9129 4933.2742,-144.6371\"/>\n<polygon fill=\"#000000\" stroke=\"#000000\" points=\"4934.7695,-141.4717 4924.26,-140.13 4931.639,-147.7327 4934.7695,-141.4717\"/>\n</g>\n<!-- 4100 -->\n<g id=\"node95\" class=\"node\">\n<title>4100</title>\n<path fill=\"#e88e4e\" stroke=\"#000000\" d=\"M5162,-140C5162,-140 4986,-140 4986,-140 4980,-140 4974,-134 4974,-128 4974,-128 4974,-84 4974,-84 4974,-78 4980,-72 4986,-72 4986,-72 5162,-72 5162,-72 5168,-72 5174,-78 5174,-84 5174,-84 5174,-128 5174,-128 5174,-134 5168,-140 5162,-140\"/>\n<text text-anchor=\"middle\" x=\"5074\" y=\"-124.8\" font-family=\"Helvetica,sans-Serif\" font-size=\"14.00\" fill=\"#000000\">gps_height &lt;= 2012.5</text>\n<text text-anchor=\"middle\" x=\"5074\" y=\"-109.8\" font-family=\"Helvetica,sans-Serif\" font-size=\"14.00\" fill=\"#000000\">samples = 0.4%</text>\n<text text-anchor=\"middle\" x=\"5074\" y=\"-94.8\" font-family=\"Helvetica,sans-Serif\" font-size=\"14.00\" fill=\"#000000\">value = [0.902, 0.011, 0.086]</text>\n<text text-anchor=\"middle\" x=\"5074\" y=\"-79.8\" font-family=\"Helvetica,sans-Serif\" font-size=\"14.00\" fill=\"#000000\">class = functional</text>\n</g>\n<!-- 4012&#45;&gt;4100 -->\n<g id=\"edge94\" class=\"edge\">\n<title>4012&#45;&gt;4100</title>\n<path fill=\"none\" stroke=\"#000000\" d=\"M5067.2744,-175.9465C5068.0686,-167.6863 5068.9291,-158.7374 5069.7608,-150.0875\"/>\n<polygon fill=\"#000000\" stroke=\"#000000\" points=\"5073.245,-150.4191 5070.7183,-140.13 5066.2771,-149.7491 5073.245,-150.4191\"/>\n</g>\n<!-- 4014 -->\n<g id=\"node93\" class=\"node\">\n<title>4014</title>\n<path fill=\"#c0c0c0\" stroke=\"#000000\" d=\"M4835,-36C4835,-36 4805,-36 4805,-36 4799,-36 4793,-30 4793,-24 4793,-24 4793,-12 4793,-12 4793,-6 4799,0 4805,0 4805,0 4835,0 4835,0 4841,0 4847,-6 4847,-12 4847,-12 4847,-24 4847,-24 4847,-30 4841,-36 4835,-36\"/>\n<text text-anchor=\"middle\" x=\"4820\" y=\"-14.3\" font-family=\"Helvetica,sans-Serif\" font-size=\"14.00\" fill=\"#000000\">(...)</text>\n</g>\n<!-- 4013&#45;&gt;4014 -->\n<g id=\"edge92\" class=\"edge\">\n<title>4013&#45;&gt;4014</title>\n<path fill=\"none\" stroke=\"#000000\" d=\"M4842.0815,-71.9769C4838.4977,-63.2167 4834.6862,-53.8995 4831.2564,-45.5157\"/>\n<polygon fill=\"#000000\" stroke=\"#000000\" points=\"4834.468,-44.1222 4827.4422,-36.192 4827.9891,-46.7727 4834.468,-44.1222\"/>\n</g>\n<!-- 4085 -->\n<g id=\"node94\" class=\"node\">\n<title>4085</title>\n<path fill=\"#c0c0c0\" stroke=\"#000000\" d=\"M4907,-36C4907,-36 4877,-36 4877,-36 4871,-36 4865,-30 4865,-24 4865,-24 4865,-12 4865,-12 4865,-6 4871,0 4877,0 4877,0 4907,0 4907,0 4913,0 4919,-6 4919,-12 4919,-12 4919,-24 4919,-24 4919,-30 4913,-36 4907,-36\"/>\n<text text-anchor=\"middle\" x=\"4892\" y=\"-14.3\" font-family=\"Helvetica,sans-Serif\" font-size=\"14.00\" fill=\"#000000\">(...)</text>\n</g>\n<!-- 4013&#45;&gt;4085 -->\n<g id=\"edge93\" class=\"edge\">\n<title>4013&#45;&gt;4085</title>\n<path fill=\"none\" stroke=\"#000000\" d=\"M4869.9185,-71.9769C4873.5023,-63.2167 4877.3138,-53.8995 4880.7436,-45.5157\"/>\n<polygon fill=\"#000000\" stroke=\"#000000\" points=\"4884.0109,-46.7727 4884.5578,-36.192 4877.532,-44.1222 4884.0109,-46.7727\"/>\n</g>\n<!-- 4101 -->\n<g id=\"node96\" class=\"node\">\n<title>4101</title>\n<path fill=\"#c0c0c0\" stroke=\"#000000\" d=\"M5053,-36C5053,-36 5023,-36 5023,-36 5017,-36 5011,-30 5011,-24 5011,-24 5011,-12 5011,-12 5011,-6 5017,0 5023,0 5023,0 5053,0 5053,0 5059,0 5065,-6 5065,-12 5065,-12 5065,-24 5065,-24 5065,-30 5059,-36 5053,-36\"/>\n<text text-anchor=\"middle\" x=\"5038\" y=\"-14.3\" font-family=\"Helvetica,sans-Serif\" font-size=\"14.00\" fill=\"#000000\">(...)</text>\n</g>\n<!-- 4100&#45;&gt;4101 -->\n<g id=\"edge95\" class=\"edge\">\n<title>4100&#45;&gt;4101</title>\n<path fill=\"none\" stroke=\"#000000\" d=\"M5060.0815,-71.9769C5056.4977,-63.2167 5052.6862,-53.8995 5049.2564,-45.5157\"/>\n<polygon fill=\"#000000\" stroke=\"#000000\" points=\"5052.468,-44.1222 5045.4422,-36.192 5045.9891,-46.7727 5052.468,-44.1222\"/>\n</g>\n<!-- 4102 -->\n<g id=\"node97\" class=\"node\">\n<title>4102</title>\n<path fill=\"#c0c0c0\" stroke=\"#000000\" d=\"M5125,-36C5125,-36 5095,-36 5095,-36 5089,-36 5083,-30 5083,-24 5083,-24 5083,-12 5083,-12 5083,-6 5089,0 5095,0 5095,0 5125,0 5125,0 5131,0 5137,-6 5137,-12 5137,-12 5137,-24 5137,-24 5137,-30 5131,-36 5125,-36\"/>\n<text text-anchor=\"middle\" x=\"5110\" y=\"-14.3\" font-family=\"Helvetica,sans-Serif\" font-size=\"14.00\" fill=\"#000000\">(...)</text>\n</g>\n<!-- 4100&#45;&gt;4102 -->\n<g id=\"edge96\" class=\"edge\">\n<title>4100&#45;&gt;4102</title>\n<path fill=\"none\" stroke=\"#000000\" d=\"M5087.9185,-71.9769C5091.5023,-63.2167 5095.3138,-53.8995 5098.7436,-45.5157\"/>\n<polygon fill=\"#000000\" stroke=\"#000000\" points=\"5102.0109,-46.7727 5102.5578,-36.192 5095.532,-44.1222 5102.0109,-46.7727\"/>\n</g>\n<!-- 4150 -->\n<g id=\"node99\" class=\"node\">\n<title>4150</title>\n<path fill=\"#8139e5\" stroke=\"#000000\" d=\"M5337.5,-132.5C5337.5,-132.5 5204.5,-132.5 5204.5,-132.5 5198.5,-132.5 5192.5,-126.5 5192.5,-120.5 5192.5,-120.5 5192.5,-91.5 5192.5,-91.5 5192.5,-85.5 5198.5,-79.5 5204.5,-79.5 5204.5,-79.5 5337.5,-79.5 5337.5,-79.5 5343.5,-79.5 5349.5,-85.5 5349.5,-91.5 5349.5,-91.5 5349.5,-120.5 5349.5,-120.5 5349.5,-126.5 5343.5,-132.5 5337.5,-132.5\"/>\n<text text-anchor=\"middle\" x=\"5271\" y=\"-117.3\" font-family=\"Helvetica,sans-Serif\" font-size=\"14.00\" fill=\"#000000\">samples = 0.0%</text>\n<text text-anchor=\"middle\" x=\"5271\" y=\"-102.3\" font-family=\"Helvetica,sans-Serif\" font-size=\"14.00\" fill=\"#000000\">value = [0.0, 0.0, 1.0]</text>\n<text text-anchor=\"middle\" x=\"5271\" y=\"-87.3\" font-family=\"Helvetica,sans-Serif\" font-size=\"14.00\" fill=\"#000000\">class = non functional</text>\n</g>\n<!-- 4149&#45;&gt;4150 -->\n<g id=\"edge98\" class=\"edge\">\n<title>4149&#45;&gt;4150</title>\n<path fill=\"none\" stroke=\"#000000\" d=\"M5278.3982,-175.9465C5277.2681,-165.2621 5276.0162,-153.4254 5274.8684,-142.5742\"/>\n<polygon fill=\"#000000\" stroke=\"#000000\" points=\"5278.3398,-142.1185 5273.8073,-132.5422 5271.3787,-142.8549 5278.3398,-142.1185\"/>\n</g>\n<!-- 4151 -->\n<g id=\"node100\" class=\"node\">\n<title>4151</title>\n<path fill=\"#eb9e66\" stroke=\"#000000\" d=\"M5548,-140C5548,-140 5380,-140 5380,-140 5374,-140 5368,-134 5368,-128 5368,-128 5368,-84 5368,-84 5368,-78 5374,-72 5380,-72 5380,-72 5548,-72 5548,-72 5554,-72 5560,-78 5560,-84 5560,-84 5560,-128 5560,-128 5560,-134 5554,-140 5548,-140\"/>\n<text text-anchor=\"middle\" x=\"5464\" y=\"-124.8\" font-family=\"Helvetica,sans-Serif\" font-size=\"14.00\" fill=\"#000000\">gps_height &lt;= 2169.5</text>\n<text text-anchor=\"middle\" x=\"5464\" y=\"-109.8\" font-family=\"Helvetica,sans-Serif\" font-size=\"14.00\" fill=\"#000000\">samples = 1.3%</text>\n<text text-anchor=\"middle\" x=\"5464\" y=\"-94.8\" font-family=\"Helvetica,sans-Serif\" font-size=\"14.00\" fill=\"#000000\">value = [0.81, 0.021, 0.169]</text>\n<text text-anchor=\"middle\" x=\"5464\" y=\"-79.8\" font-family=\"Helvetica,sans-Serif\" font-size=\"14.00\" fill=\"#000000\">class = functional</text>\n</g>\n<!-- 4149&#45;&gt;4151 -->\n<g id=\"edge99\" class=\"edge\">\n<title>4149&#45;&gt;4151</title>\n<path fill=\"none\" stroke=\"#000000\" d=\"M5341.5936,-175.9465C5358.7202,-166.1599 5377.5384,-155.4066 5395.1735,-145.3294\"/>\n<polygon fill=\"#000000\" stroke=\"#000000\" points=\"5397.3266,-148.1303 5404.2725,-140.13 5393.8536,-142.0526 5397.3266,-148.1303\"/>\n</g>\n<!-- 4152 -->\n<g id=\"node101\" class=\"node\">\n<title>4152</title>\n<path fill=\"#c0c0c0\" stroke=\"#000000\" d=\"M5460,-36C5460,-36 5430,-36 5430,-36 5424,-36 5418,-30 5418,-24 5418,-24 5418,-12 5418,-12 5418,-6 5424,0 5430,0 5430,0 5460,0 5460,0 5466,0 5472,-6 5472,-12 5472,-12 5472,-24 5472,-24 5472,-30 5466,-36 5460,-36\"/>\n<text text-anchor=\"middle\" x=\"5445\" y=\"-14.3\" font-family=\"Helvetica,sans-Serif\" font-size=\"14.00\" fill=\"#000000\">(...)</text>\n</g>\n<!-- 4151&#45;&gt;4152 -->\n<g id=\"edge100\" class=\"edge\">\n<title>4151&#45;&gt;4152</title>\n<path fill=\"none\" stroke=\"#000000\" d=\"M5456.6541,-71.9769C5454.8038,-63.4071 5452.8384,-54.3043 5451.0592,-46.0638\"/>\n<polygon fill=\"#000000\" stroke=\"#000000\" points=\"5454.4595,-45.228 5448.9278,-36.192 5447.6172,-46.7054 5454.4595,-45.228\"/>\n</g>\n<!-- 4333 -->\n<g id=\"node102\" class=\"node\">\n<title>4333</title>\n<path fill=\"#c0c0c0\" stroke=\"#000000\" d=\"M5532,-36C5532,-36 5502,-36 5502,-36 5496,-36 5490,-30 5490,-24 5490,-24 5490,-12 5490,-12 5490,-6 5496,0 5502,0 5502,0 5532,0 5532,0 5538,0 5544,-6 5544,-12 5544,-12 5544,-24 5544,-24 5544,-30 5538,-36 5532,-36\"/>\n<text text-anchor=\"middle\" x=\"5517\" y=\"-14.3\" font-family=\"Helvetica,sans-Serif\" font-size=\"14.00\" fill=\"#000000\">(...)</text>\n</g>\n<!-- 4151&#45;&gt;4333 -->\n<g id=\"edge101\" class=\"edge\">\n<title>4151&#45;&gt;4333</title>\n<path fill=\"none\" stroke=\"#000000\" d=\"M5484.4912,-71.9769C5489.8819,-63.0262 5495.6228,-53.4941 5500.7565,-44.9703\"/>\n<polygon fill=\"#000000\" stroke=\"#000000\" points=\"5503.8824,-46.5641 5506.0435,-36.192 5497.886,-42.9525 5503.8824,-46.5641\"/>\n</g>\n<!-- 4417 -->\n<g id=\"node104\" class=\"node\">\n<title>4417</title>\n<path fill=\"#e78c4a\" stroke=\"#000000\" d=\"M5762,-244C5762,-244 5594,-244 5594,-244 5588,-244 5582,-238 5582,-232 5582,-232 5582,-188 5582,-188 5582,-182 5588,-176 5594,-176 5594,-176 5762,-176 5762,-176 5768,-176 5774,-182 5774,-188 5774,-188 5774,-232 5774,-232 5774,-238 5768,-244 5762,-244\"/>\n<text text-anchor=\"middle\" x=\"5678\" y=\"-228.8\" font-family=\"Helvetica,sans-Serif\" font-size=\"14.00\" fill=\"#000000\">gps_height &lt;= 2334.5</text>\n<text text-anchor=\"middle\" x=\"5678\" y=\"-213.8\" font-family=\"Helvetica,sans-Serif\" font-size=\"14.00\" fill=\"#000000\">samples = 0.3%</text>\n<text text-anchor=\"middle\" x=\"5678\" y=\"-198.8\" font-family=\"Helvetica,sans-Serif\" font-size=\"14.00\" fill=\"#000000\">value = [0.919, 0.031, 0.05]</text>\n<text text-anchor=\"middle\" x=\"5678\" y=\"-183.8\" font-family=\"Helvetica,sans-Serif\" font-size=\"14.00\" fill=\"#000000\">class = functional</text>\n</g>\n<!-- 4416&#45;&gt;4417 -->\n<g id=\"edge103\" class=\"edge\">\n<title>4416&#45;&gt;4417</title>\n<path fill=\"none\" stroke=\"#000000\" d=\"M5678,-279.9465C5678,-271.776 5678,-262.9318 5678,-254.3697\"/>\n<polygon fill=\"#000000\" stroke=\"#000000\" points=\"5681.5001,-254.13 5678,-244.13 5674.5001,-254.13 5681.5001,-254.13\"/>\n</g>\n<!-- 4464 -->\n<g id=\"node111\" class=\"node\">\n<title>4464</title>\n<path fill=\"#39e581\" stroke=\"#000000\" d=\"M5993.5,-236.5C5993.5,-236.5 5804.5,-236.5 5804.5,-236.5 5798.5,-236.5 5792.5,-230.5 5792.5,-224.5 5792.5,-224.5 5792.5,-195.5 5792.5,-195.5 5792.5,-189.5 5798.5,-183.5 5804.5,-183.5 5804.5,-183.5 5993.5,-183.5 5993.5,-183.5 5999.5,-183.5 6005.5,-189.5 6005.5,-195.5 6005.5,-195.5 6005.5,-224.5 6005.5,-224.5 6005.5,-230.5 5999.5,-236.5 5993.5,-236.5\"/>\n<text text-anchor=\"middle\" x=\"5899\" y=\"-221.3\" font-family=\"Helvetica,sans-Serif\" font-size=\"14.00\" fill=\"#000000\">samples = 0.0%</text>\n<text text-anchor=\"middle\" x=\"5899\" y=\"-206.3\" font-family=\"Helvetica,sans-Serif\" font-size=\"14.00\" fill=\"#000000\">value = [0.0, 1.0, 0.0]</text>\n<text text-anchor=\"middle\" x=\"5899\" y=\"-191.3\" font-family=\"Helvetica,sans-Serif\" font-size=\"14.00\" fill=\"#000000\">class = functional needs repair</text>\n</g>\n<!-- 4416&#45;&gt;4464 -->\n<g id=\"edge110\" class=\"edge\">\n<title>4416&#45;&gt;4464</title>\n<path fill=\"none\" stroke=\"#000000\" d=\"M5750.3637,-279.9465C5777.1643,-267.3344 5807.3764,-253.117 5833.529,-240.8099\"/>\n<polygon fill=\"#000000\" stroke=\"#000000\" points=\"5835.04,-243.9671 5842.5979,-236.5422 5832.0594,-237.6333 5835.04,-243.9671\"/>\n</g>\n<!-- 4418 -->\n<g id=\"node105\" class=\"node\">\n<title>4418</title>\n<path fill=\"#e88e4e\" stroke=\"#000000\" d=\"M5766,-140C5766,-140 5590,-140 5590,-140 5584,-140 5578,-134 5578,-128 5578,-128 5578,-84 5578,-84 5578,-78 5584,-72 5590,-72 5590,-72 5766,-72 5766,-72 5772,-72 5778,-78 5778,-84 5778,-84 5778,-128 5778,-128 5778,-134 5772,-140 5766,-140\"/>\n<text text-anchor=\"middle\" x=\"5678\" y=\"-124.8\" font-family=\"Helvetica,sans-Serif\" font-size=\"14.00\" fill=\"#000000\">gps_height &lt;= 2288.5</text>\n<text text-anchor=\"middle\" x=\"5678\" y=\"-109.8\" font-family=\"Helvetica,sans-Serif\" font-size=\"14.00\" fill=\"#000000\">samples = 0.2%</text>\n<text text-anchor=\"middle\" x=\"5678\" y=\"-94.8\" font-family=\"Helvetica,sans-Serif\" font-size=\"14.00\" fill=\"#000000\">value = [0.901, 0.022, 0.077]</text>\n<text text-anchor=\"middle\" x=\"5678\" y=\"-79.8\" font-family=\"Helvetica,sans-Serif\" font-size=\"14.00\" fill=\"#000000\">class = functional</text>\n</g>\n<!-- 4417&#45;&gt;4418 -->\n<g id=\"edge104\" class=\"edge\">\n<title>4417&#45;&gt;4418</title>\n<path fill=\"none\" stroke=\"#000000\" d=\"M5678,-175.9465C5678,-167.776 5678,-158.9318 5678,-150.3697\"/>\n<polygon fill=\"#000000\" stroke=\"#000000\" points=\"5681.5001,-150.13 5678,-140.13 5674.5001,-150.13 5681.5001,-150.13\"/>\n</g>\n<!-- 4449 -->\n<g id=\"node108\" class=\"node\">\n<title>4449</title>\n<path fill=\"#e78945\" stroke=\"#000000\" d=\"M5984,-140C5984,-140 5808,-140 5808,-140 5802,-140 5796,-134 5796,-128 5796,-128 5796,-84 5796,-84 5796,-78 5802,-72 5808,-72 5808,-72 5984,-72 5984,-72 5990,-72 5996,-78 5996,-84 5996,-84 5996,-128 5996,-128 5996,-134 5990,-140 5984,-140\"/>\n<text text-anchor=\"middle\" x=\"5896\" y=\"-124.8\" font-family=\"Helvetica,sans-Serif\" font-size=\"14.00\" fill=\"#000000\">gps_height &lt;= 2403.5</text>\n<text text-anchor=\"middle\" x=\"5896\" y=\"-109.8\" font-family=\"Helvetica,sans-Serif\" font-size=\"14.00\" fill=\"#000000\">samples = 0.1%</text>\n<text text-anchor=\"middle\" x=\"5896\" y=\"-94.8\" font-family=\"Helvetica,sans-Serif\" font-size=\"14.00\" fill=\"#000000\">value = [0.943, 0.043, 0.014]</text>\n<text text-anchor=\"middle\" x=\"5896\" y=\"-79.8\" font-family=\"Helvetica,sans-Serif\" font-size=\"14.00\" fill=\"#000000\">class = functional</text>\n</g>\n<!-- 4417&#45;&gt;4449 -->\n<g id=\"edge107\" class=\"edge\">\n<title>4417&#45;&gt;4449</title>\n<path fill=\"none\" stroke=\"#000000\" d=\"M5749.3814,-175.9465C5770.4602,-165.8906 5793.6784,-154.814 5815.3003,-144.4989\"/>\n<polygon fill=\"#000000\" stroke=\"#000000\" points=\"5816.9398,-147.5948 5824.4583,-140.13 5813.9257,-141.2769 5816.9398,-147.5948\"/>\n</g>\n<!-- 4419 -->\n<g id=\"node106\" class=\"node\">\n<title>4419</title>\n<path fill=\"#c0c0c0\" stroke=\"#000000\" d=\"M5639,-36C5639,-36 5609,-36 5609,-36 5603,-36 5597,-30 5597,-24 5597,-24 5597,-12 5597,-12 5597,-6 5603,0 5609,0 5609,0 5639,0 5639,0 5645,0 5651,-6 5651,-12 5651,-12 5651,-24 5651,-24 5651,-30 5645,-36 5639,-36\"/>\n<text text-anchor=\"middle\" x=\"5624\" y=\"-14.3\" font-family=\"Helvetica,sans-Serif\" font-size=\"14.00\" fill=\"#000000\">(...)</text>\n</g>\n<!-- 4418&#45;&gt;4419 -->\n<g id=\"edge105\" class=\"edge\">\n<title>4418&#45;&gt;4419</title>\n<path fill=\"none\" stroke=\"#000000\" d=\"M5657.1222,-71.9769C5651.6297,-63.0262 5645.7805,-53.4941 5640.5499,-44.9703\"/>\n<polygon fill=\"#000000\" stroke=\"#000000\" points=\"5643.3766,-42.8846 5635.1632,-36.192 5637.4103,-46.5458 5643.3766,-42.8846\"/>\n</g>\n<!-- 4424 -->\n<g id=\"node107\" class=\"node\">\n<title>4424</title>\n<path fill=\"#c0c0c0\" stroke=\"#000000\" d=\"M5711,-36C5711,-36 5681,-36 5681,-36 5675,-36 5669,-30 5669,-24 5669,-24 5669,-12 5669,-12 5669,-6 5675,0 5681,0 5681,0 5711,0 5711,0 5717,0 5723,-6 5723,-12 5723,-12 5723,-24 5723,-24 5723,-30 5717,-36 5711,-36\"/>\n<text text-anchor=\"middle\" x=\"5696\" y=\"-14.3\" font-family=\"Helvetica,sans-Serif\" font-size=\"14.00\" fill=\"#000000\">(...)</text>\n</g>\n<!-- 4418&#45;&gt;4424 -->\n<g id=\"edge106\" class=\"edge\">\n<title>4418&#45;&gt;4424</title>\n<path fill=\"none\" stroke=\"#000000\" d=\"M5684.9593,-71.9769C5686.7122,-63.4071 5688.5741,-54.3043 5690.2597,-46.0638\"/>\n<polygon fill=\"#000000\" stroke=\"#000000\" points=\"5693.7039,-46.6905 5692.2789,-36.192 5686.8459,-45.2877 5693.7039,-46.6905\"/>\n</g>\n<!-- 4450 -->\n<g id=\"node109\" class=\"node\">\n<title>4450</title>\n<path fill=\"#c0c0c0\" stroke=\"#000000\" d=\"M5875,-36C5875,-36 5845,-36 5845,-36 5839,-36 5833,-30 5833,-24 5833,-24 5833,-12 5833,-12 5833,-6 5839,0 5845,0 5845,0 5875,0 5875,0 5881,0 5887,-6 5887,-12 5887,-12 5887,-24 5887,-24 5887,-30 5881,-36 5875,-36\"/>\n<text text-anchor=\"middle\" x=\"5860\" y=\"-14.3\" font-family=\"Helvetica,sans-Serif\" font-size=\"14.00\" fill=\"#000000\">(...)</text>\n</g>\n<!-- 4449&#45;&gt;4450 -->\n<g id=\"edge108\" class=\"edge\">\n<title>4449&#45;&gt;4450</title>\n<path fill=\"none\" stroke=\"#000000\" d=\"M5882.0815,-71.9769C5878.4977,-63.2167 5874.6862,-53.8995 5871.2564,-45.5157\"/>\n<polygon fill=\"#000000\" stroke=\"#000000\" points=\"5874.468,-44.1222 5867.4422,-36.192 5867.9891,-46.7727 5874.468,-44.1222\"/>\n</g>\n<!-- 4451 -->\n<g id=\"node110\" class=\"node\">\n<title>4451</title>\n<path fill=\"#c0c0c0\" stroke=\"#000000\" d=\"M5947,-36C5947,-36 5917,-36 5917,-36 5911,-36 5905,-30 5905,-24 5905,-24 5905,-12 5905,-12 5905,-6 5911,0 5917,0 5917,0 5947,0 5947,0 5953,0 5959,-6 5959,-12 5959,-12 5959,-24 5959,-24 5959,-30 5953,-36 5947,-36\"/>\n<text text-anchor=\"middle\" x=\"5932\" y=\"-14.3\" font-family=\"Helvetica,sans-Serif\" font-size=\"14.00\" fill=\"#000000\">(...)</text>\n</g>\n<!-- 4449&#45;&gt;4451 -->\n<g id=\"edge109\" class=\"edge\">\n<title>4449&#45;&gt;4451</title>\n<path fill=\"none\" stroke=\"#000000\" d=\"M5909.9185,-71.9769C5913.5023,-63.2167 5917.3138,-53.8995 5920.7436,-45.5157\"/>\n<polygon fill=\"#000000\" stroke=\"#000000\" points=\"5924.0109,-46.7727 5924.5578,-36.192 5917.532,-44.1222 5924.0109,-46.7727\"/>\n</g>\n</g>\n</svg>\n"
          },
          "metadata": {
            "tags": []
          }
        }
      ]
    },
    {
      "cell_type": "markdown",
      "metadata": {
        "id": "KZBVFJx4uRGK",
        "colab_type": "text"
      },
      "source": [
        "Helper function to visualize predicted probabilities"
      ]
    },
    {
      "cell_type": "code",
      "metadata": {
        "id": "HeheWaB4ucg6",
        "colab_type": "code",
        "colab": {}
      },
      "source": [
        "import itertools\n",
        "import seaborn as sns\n",
        "\n",
        "def pred_heatmap(model, X, features, class_index=-1, title='', num=100):\n",
        "    \"\"\"\n",
        "    Visualize predicted probabilities, for classifier fit on 2 numeric features\n",
        "    \n",
        "    Parameters\n",
        "    ----------\n",
        "    model : scikit-learn classifier, already fit\n",
        "    X : pandas dataframe, which was used to fit model\n",
        "    features : list of strings, column names of the 2 numeric features\n",
        "    class_index : integer, index of class label\n",
        "    title : string, title of plot\n",
        "    num : int, number of grid points for each feature\n",
        "    \n",
        "    Returns\n",
        "    -------\n",
        "    y_pred_proba : numpy array, predicted probabilities for class_index\n",
        "    \"\"\"\n",
        "    feature1, feature2 = features\n",
        "    min1, max1 = X[feature1].min(), X[feature1].max()\n",
        "    min2, max2 = X[feature2].min(), X[feature2].max()\n",
        "    x1 = np.linspace(min1, max1, num)\n",
        "    x2 = np.linspace(max2, min2, num)\n",
        "    combos = list(itertools.product(x1, x2))\n",
        "    y_pred_proba = model.predict_proba(combos)[:, class_index]\n",
        "    pred_grid = y_pred_proba.reshape(num, num).T\n",
        "    table = pd.DataFrame(pred_grid, columns=x1, index=x2)\n",
        "    sns.heatmap(table, vmin=0, vmax=1)\n",
        "    plt.xticks([])\n",
        "    plt.yticks([])\n",
        "    plt.xlabel(feature1)\n",
        "    plt.ylabel(feature2)\n",
        "    plt.title(title)\n",
        "    plt.show()\n",
        "    return y_pred_proba"
      ],
      "execution_count": 0,
      "outputs": []
    },
    {
      "cell_type": "code",
      "metadata": {
        "id": "NawBSctIvCad",
        "colab_type": "code",
        "colab": {}
      },
      "source": [
        "%matplotlib inline\n",
        "import matplotlib.pyplot as plt\n",
        "from ipywidgets import interact"
      ],
      "execution_count": 0,
      "outputs": []
    },
    {
      "cell_type": "code",
      "metadata": {
        "id": "3tdDk2L0urOv",
        "colab_type": "code",
        "colab": {
          "base_uri": "https://localhost:8080/",
          "height": 864,
          "referenced_widgets": [
            "02412eb495f444778408f6f625d2323e",
            "9380f8116e694150857229a893d9c8b7",
            "78a618241af54ceeace34f1595f23bf1",
            "169ced4e479d476c9987b482bfe1b9ee",
            "18bd3fca22864d459a29567e5c409ba9",
            "70ecc56b854745eba15ccaaf48a26cbe",
            "d84e690e493449f29825d592e80de627",
            "6225b3a08c964f3caad30f95f91fffc3",
            "99e67338ae6a41d5910497fb226d7179"
          ]
        },
        "outputId": "50832dbb-9e8c-4266-d0ba-ef7c344e5d5d"
      },
      "source": [
        "# Instructions\n",
        "# 1. Choose two features\n",
        "# 2. Run this code cell\n",
        "# 3. Interact with the widget sliders\n",
        "feature1 = 'longitude'\n",
        "feature2 = 'quantity'\n",
        "\n",
        "from sklearn.linear_model import LogisticRegression\n",
        "from sklearn.tree import DecisionTreeClassifier\n",
        "\n",
        "def get_X_y(df, feature1, feature2, target):\n",
        "    features = [feature1, feature2]\n",
        "    X = df[features]\n",
        "    y = df[target]\n",
        "    X = X.fillna(X.median())\n",
        "    X = ce.OrdinalEncoder().fit_transform(X)\n",
        "    return X, y\n",
        "\n",
        "def compare_models(max_depth=1, n_estimators=1):\n",
        "    models = [DecisionTreeClassifier(max_depth=max_depth), \n",
        "              RandomForestClassifier(max_depth=max_depth, n_estimators=n_estimators), \n",
        "              LogisticRegression(solver='lbfgs', multi_class='auto')]\n",
        "    \n",
        "    for model in models:\n",
        "        name = model.__class__.__name__\n",
        "        model.fit(X, y)\n",
        "        pred_heatmap(model, X, [feature1, feature2], class_index=0, title=name)\n",
        "\n",
        "X, y = get_X_y(train, feature1, feature2, target='status_group')\n",
        "interact(compare_models, max_depth=(1,6,1), n_estimators=(10,40,10));"
      ],
      "execution_count": 56,
      "outputs": [
        {
          "output_type": "display_data",
          "data": {
            "application/vnd.jupyter.widget-view+json": {
              "model_id": "02412eb495f444778408f6f625d2323e",
              "version_minor": 0,
              "version_major": 2
            },
            "text/plain": [
              "interactive(children=(IntSlider(value=1, description='max_depth', max=6, min=1), IntSlider(value=10, descripti…"
            ]
          },
          "metadata": {
            "tags": []
          }
        }
      ]
    },
    {
      "cell_type": "code",
      "metadata": {
        "id": "gr2WRQBBrjaS",
        "colab_type": "code",
        "colab": {
          "base_uri": "https://localhost:8080/",
          "height": 864,
          "referenced_widgets": [
            "c75f63f49419451485fe2067d9fa0c96",
            "19ecedaaef484629bdb40a9c4ec18b00",
            "5d74998b16354dbbb6da4702e982880b",
            "ca7606c0c38146b8b2024feeb02234b9",
            "c0c379f9b5d34f5ba307f3fe0d92d3cc",
            "2f15f86a76164fbcae004b13a10646b5",
            "e51323afa4dc4ca99a235614def1c39f",
            "87087bf1718e4d6db35d9d229c4c19ad",
            "5de64fc7445f41548b8df5e17ff76568"
          ]
        },
        "outputId": "7f072b43-c38d-459e-b338-2d6c829e17cf"
      },
      "source": [
        "# Do-it-yourself Bagging Ensemble of Decision Trees (like a Random Forest)\n",
        "\n",
        "# Instructions\n",
        "# 1. Choose two features\n",
        "# 2. Run this code cell\n",
        "# 3. Interact with the widget sliders\n",
        "\n",
        "feature1 = 'longitude'\n",
        "feature2 = 'latitude'\n",
        "\n",
        "def waterpumps_bagging(max_depth=1, n_estimators=1):\n",
        "    predicteds = []\n",
        "    for i in range(n_estimators):\n",
        "        title = f'Tree {i+1}'\n",
        "        bootstrap_sample = train.sample(n=len(train), replace=True)\n",
        "        X, y = get_X_y(bootstrap_sample, feature1, feature2, target='status_group')\n",
        "        tree = DecisionTreeClassifier(max_depth=max_depth)\n",
        "        tree.fit(X, y)\n",
        "        predicted = pred_heatmap(tree, X, [feature1, feature2], class_index=0, title=title)\n",
        "        predicteds.append(predicted)\n",
        "    \n",
        "    ensembled = np.vstack(predicteds).mean(axis=0)\n",
        "    title = f'Ensemble of {n_estimators} trees, with max_depth={max_depth}'\n",
        "    sns.heatmap(ensembled.reshape(100, 100).T, vmin=0, vmax=1)\n",
        "    plt.title(title)\n",
        "    plt.xlabel(feature1)\n",
        "    plt.ylabel(feature2)\n",
        "    plt.xticks([])\n",
        "    plt.yticks([])\n",
        "    plt.show()\n",
        "        \n",
        "interact(waterpumps_bagging, max_depth=(1,6,1), n_estimators=(2,5,1));"
      ],
      "execution_count": 57,
      "outputs": [
        {
          "output_type": "display_data",
          "data": {
            "application/vnd.jupyter.widget-view+json": {
              "model_id": "c75f63f49419451485fe2067d9fa0c96",
              "version_minor": 0,
              "version_major": 2
            },
            "text/plain": [
              "interactive(children=(IntSlider(value=1, description='max_depth', max=6, min=1), IntSlider(value=2, descriptio…"
            ]
          },
          "metadata": {
            "tags": []
          }
        }
      ]
    },
    {
      "cell_type": "markdown",
      "metadata": {
        "id": "fAOh6f17vbkF",
        "colab_type": "text"
      },
      "source": [
        "## From above plottings, we can compare Decision Tree, Random Forest, Logistic Regression. The best analysis  is Random Forest."
      ]
    }
  ]
}