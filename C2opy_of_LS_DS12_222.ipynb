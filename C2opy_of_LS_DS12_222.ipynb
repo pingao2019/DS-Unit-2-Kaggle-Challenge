{
  "nbformat": 4,
  "nbformat_minor": 0,
  "metadata": {
    "kernelspec": {
      "display_name": "Python 3",
      "language": "python",
      "name": "python3"
    },
    "language_info": {
      "codemirror_mode": {
        "name": "ipython",
        "version": 3
      },
      "file_extension": ".py",
      "mimetype": "text/x-python",
      "name": "python",
      "nbconvert_exporter": "python",
      "pygments_lexer": "ipython3",
      "version": "3.7.3"
    },
    "colab": {
      "name": "C2opy of LS_DS12_222.ipynb",
      "provenance": [],
      "collapsed_sections": [
        "1Ql9Qmw3sNJ7",
        "EbH6wivpsRuV",
        "8yg11_gTsUu6",
        "0REZ8HdpsccR",
        "Nd-ZWprasqUM",
        "9lO_R3SksuHs",
        "7V2zHjiwswTg",
        "MvmmvE8fsymh",
        "FoSE9iT6YXQz"
      ],
      "include_colab_link": true
    },
    "widgets": {
      "application/vnd.jupyter.widget-state+json": {
        "eaebbeed7a6f44b498df1224200cef7c": {
          "model_module": "@jupyter-widgets/controls",
          "model_name": "VBoxModel",
          "state": {
            "_view_name": "VBoxView",
            "_dom_classes": [
              "widget-interact"
            ],
            "_model_name": "VBoxModel",
            "_view_module": "@jupyter-widgets/controls",
            "_model_module_version": "1.5.0",
            "_view_count": null,
            "_view_module_version": "1.5.0",
            "box_style": "",
            "layout": "IPY_MODEL_863b6f76414e4364a7a29f7584e8fc7e",
            "_model_module": "@jupyter-widgets/controls",
            "children": [
              "IPY_MODEL_be625c3f871f4744acedba6bff116567",
              "IPY_MODEL_1d869acb698e4004bfa1781420a76355",
              "IPY_MODEL_e55fd52c3d5f4490bcb091fda832b4ff"
            ]
          }
        },
        "863b6f76414e4364a7a29f7584e8fc7e": {
          "model_module": "@jupyter-widgets/base",
          "model_name": "LayoutModel",
          "state": {
            "_view_name": "LayoutView",
            "grid_template_rows": null,
            "right": null,
            "justify_content": null,
            "_view_module": "@jupyter-widgets/base",
            "overflow": null,
            "_model_module_version": "1.2.0",
            "_view_count": null,
            "flex_flow": null,
            "width": null,
            "min_width": null,
            "border": null,
            "align_items": null,
            "bottom": null,
            "_model_module": "@jupyter-widgets/base",
            "top": null,
            "grid_column": null,
            "overflow_y": null,
            "overflow_x": null,
            "grid_auto_flow": null,
            "grid_area": null,
            "grid_template_columns": null,
            "flex": null,
            "_model_name": "LayoutModel",
            "justify_items": null,
            "grid_row": null,
            "max_height": null,
            "align_content": null,
            "visibility": null,
            "align_self": null,
            "height": null,
            "min_height": null,
            "padding": null,
            "grid_auto_rows": null,
            "grid_gap": null,
            "max_width": null,
            "order": null,
            "_view_module_version": "1.2.0",
            "grid_template_areas": null,
            "object_position": null,
            "object_fit": null,
            "grid_auto_columns": null,
            "margin": null,
            "display": null,
            "left": null
          }
        },
        "be625c3f871f4744acedba6bff116567": {
          "model_module": "@jupyter-widgets/controls",
          "model_name": "IntSliderModel",
          "state": {
            "_view_name": "IntSliderView",
            "style": "IPY_MODEL_f0ccdb63e1bf459694db3daf160629e7",
            "_dom_classes": [],
            "description": "max_depth",
            "step": 1,
            "_model_name": "IntSliderModel",
            "orientation": "horizontal",
            "max": 6,
            "_view_module": "@jupyter-widgets/controls",
            "_model_module_version": "1.5.0",
            "value": 1,
            "_view_count": null,
            "disabled": false,
            "_view_module_version": "1.5.0",
            "min": 1,
            "continuous_update": true,
            "readout_format": "d",
            "description_tooltip": null,
            "readout": true,
            "_model_module": "@jupyter-widgets/controls",
            "layout": "IPY_MODEL_b48dc9a4baf14575a18f2d25e1b622cc"
          }
        },
        "1d869acb698e4004bfa1781420a76355": {
          "model_module": "@jupyter-widgets/controls",
          "model_name": "IntSliderModel",
          "state": {
            "_view_name": "IntSliderView",
            "style": "IPY_MODEL_f65c318c148f47a88f32f4d82160e473",
            "_dom_classes": [],
            "description": "n_estimators",
            "step": 10,
            "_model_name": "IntSliderModel",
            "orientation": "horizontal",
            "max": 40,
            "_view_module": "@jupyter-widgets/controls",
            "_model_module_version": "1.5.0",
            "value": 10,
            "_view_count": null,
            "disabled": false,
            "_view_module_version": "1.5.0",
            "min": 10,
            "continuous_update": true,
            "readout_format": "d",
            "description_tooltip": null,
            "readout": true,
            "_model_module": "@jupyter-widgets/controls",
            "layout": "IPY_MODEL_ee3697c6306749798b9ffce138804b88"
          }
        },
        "e55fd52c3d5f4490bcb091fda832b4ff": {
          "model_module": "@jupyter-widgets/output",
          "model_name": "OutputModel",
          "state": {
            "_view_name": "OutputView",
            "msg_id": "",
            "_dom_classes": [],
            "_model_name": "OutputModel",
            "outputs": [
              {
                "output_type": "display_data",
                "metadata": {
                  "tags": []
                },
                "image/png": "iVBORw0KGgoAAAANSUhEUgAAAYIAAAEWCAYAAABrDZDcAAAABHNCSVQICAgIfAhkiAAAAAlwSFlz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\nYBnD+cx4AAAAAElFTkSuQmCC\n",
                "text/plain": "<Figure size 432x288 with 1 Axes>"
              },
              {
                "output_type": "display_data",
                "metadata": {
                  "tags": []
                },
                "image/png": "iVBORw0KGgoAAAANSUhEUgAAAYIAAAEWCAYAAABrDZDcAAAABHNCSVQICAgIfAhkiAAAAAlwSFlz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\nTkSuQmCC\n",
                "text/plain": "<Figure size 432x288 with 1 Axes>"
              }
            ],
            "_view_module": "@jupyter-widgets/output",
            "_model_module_version": "1.0.0",
            "_view_count": null,
            "_view_module_version": "1.0.0",
            "layout": "IPY_MODEL_bcbe111cf154440fae2fce3effdf55d8",
            "_model_module": "@jupyter-widgets/output"
          }
        },
        "f0ccdb63e1bf459694db3daf160629e7": {
          "model_module": "@jupyter-widgets/controls",
          "model_name": "SliderStyleModel",
          "state": {
            "_view_name": "StyleView",
            "handle_color": null,
            "_model_name": "SliderStyleModel",
            "description_width": "",
            "_view_module": "@jupyter-widgets/base",
            "_model_module_version": "1.5.0",
            "_view_count": null,
            "_view_module_version": "1.2.0",
            "_model_module": "@jupyter-widgets/controls"
          }
        },
        "b48dc9a4baf14575a18f2d25e1b622cc": {
          "model_module": "@jupyter-widgets/base",
          "model_name": "LayoutModel",
          "state": {
            "_view_name": "LayoutView",
            "grid_template_rows": null,
            "right": null,
            "justify_content": null,
            "_view_module": "@jupyter-widgets/base",
            "overflow": null,
            "_model_module_version": "1.2.0",
            "_view_count": null,
            "flex_flow": null,
            "width": null,
            "min_width": null,
            "border": null,
            "align_items": null,
            "bottom": null,
            "_model_module": "@jupyter-widgets/base",
            "top": null,
            "grid_column": null,
            "overflow_y": null,
            "overflow_x": null,
            "grid_auto_flow": null,
            "grid_area": null,
            "grid_template_columns": null,
            "flex": null,
            "_model_name": "LayoutModel",
            "justify_items": null,
            "grid_row": null,
            "max_height": null,
            "align_content": null,
            "visibility": null,
            "align_self": null,
            "height": null,
            "min_height": null,
            "padding": null,
            "grid_auto_rows": null,
            "grid_gap": null,
            "max_width": null,
            "order": null,
            "_view_module_version": "1.2.0",
            "grid_template_areas": null,
            "object_position": null,
            "object_fit": null,
            "grid_auto_columns": null,
            "margin": null,
            "display": null,
            "left": null
          }
        },
        "f65c318c148f47a88f32f4d82160e473": {
          "model_module": "@jupyter-widgets/controls",
          "model_name": "SliderStyleModel",
          "state": {
            "_view_name": "StyleView",
            "handle_color": null,
            "_model_name": "SliderStyleModel",
            "description_width": "",
            "_view_module": "@jupyter-widgets/base",
            "_model_module_version": "1.5.0",
            "_view_count": null,
            "_view_module_version": "1.2.0",
            "_model_module": "@jupyter-widgets/controls"
          }
        },
        "ee3697c6306749798b9ffce138804b88": {
          "model_module": "@jupyter-widgets/base",
          "model_name": "LayoutModel",
          "state": {
            "_view_name": "LayoutView",
            "grid_template_rows": null,
            "right": null,
            "justify_content": null,
            "_view_module": "@jupyter-widgets/base",
            "overflow": null,
            "_model_module_version": "1.2.0",
            "_view_count": null,
            "flex_flow": null,
            "width": null,
            "min_width": null,
            "border": null,
            "align_items": null,
            "bottom": null,
            "_model_module": "@jupyter-widgets/base",
            "top": null,
            "grid_column": null,
            "overflow_y": null,
            "overflow_x": null,
            "grid_auto_flow": null,
            "grid_area": null,
            "grid_template_columns": null,
            "flex": null,
            "_model_name": "LayoutModel",
            "justify_items": null,
            "grid_row": null,
            "max_height": null,
            "align_content": null,
            "visibility": null,
            "align_self": null,
            "height": null,
            "min_height": null,
            "padding": null,
            "grid_auto_rows": null,
            "grid_gap": null,
            "max_width": null,
            "order": null,
            "_view_module_version": "1.2.0",
            "grid_template_areas": null,
            "object_position": null,
            "object_fit": null,
            "grid_auto_columns": null,
            "margin": null,
            "display": null,
            "left": null
          }
        },
        "3a5cddce9e7845e18872eab0aa655d62": {
          "model_module": "@jupyter-widgets/controls",
          "model_name": "VBoxModel",
          "state": {
            "_view_name": "VBoxView",
            "_dom_classes": [
              "widget-interact"
            ],
            "_model_name": "VBoxModel",
            "_view_module": "@jupyter-widgets/controls",
            "_model_module_version": "1.5.0",
            "_view_count": null,
            "_view_module_version": "1.5.0",
            "box_style": "",
            "layout": "IPY_MODEL_5d323306b16d41a5ba16ef740cfc9820",
            "_model_module": "@jupyter-widgets/controls",
            "children": [
              "IPY_MODEL_7dbfe134446c41d1a82de1b0f49ab406",
              "IPY_MODEL_c39d14c9f0df4713b4895132e62c97d1",
              "IPY_MODEL_4c4a9bea270249e480fdcbafdb34a101"
            ]
          }
        },
        "5d323306b16d41a5ba16ef740cfc9820": {
          "model_module": "@jupyter-widgets/base",
          "model_name": "LayoutModel",
          "state": {
            "_view_name": "LayoutView",
            "grid_template_rows": null,
            "right": null,
            "justify_content": null,
            "_view_module": "@jupyter-widgets/base",
            "overflow": null,
            "_model_module_version": "1.2.0",
            "_view_count": null,
            "flex_flow": null,
            "width": null,
            "min_width": null,
            "border": null,
            "align_items": null,
            "bottom": null,
            "_model_module": "@jupyter-widgets/base",
            "top": null,
            "grid_column": null,
            "overflow_y": null,
            "overflow_x": null,
            "grid_auto_flow": null,
            "grid_area": null,
            "grid_template_columns": null,
            "flex": null,
            "_model_name": "LayoutModel",
            "justify_items": null,
            "grid_row": null,
            "max_height": null,
            "align_content": null,
            "visibility": null,
            "align_self": null,
            "height": null,
            "min_height": null,
            "padding": null,
            "grid_auto_rows": null,
            "grid_gap": null,
            "max_width": null,
            "order": null,
            "_view_module_version": "1.2.0",
            "grid_template_areas": null,
            "object_position": null,
            "object_fit": null,
            "grid_auto_columns": null,
            "margin": null,
            "display": null,
            "left": null
          }
        },
        "7dbfe134446c41d1a82de1b0f49ab406": {
          "model_module": "@jupyter-widgets/controls",
          "model_name": "IntSliderModel",
          "state": {
            "_view_name": "IntSliderView",
            "style": "IPY_MODEL_a429ce8d9d2d48bdb06a60163e8de495",
            "_dom_classes": [],
            "description": "max_depth",
            "step": 1,
            "_model_name": "IntSliderModel",
            "orientation": "horizontal",
            "max": 6,
            "_view_module": "@jupyter-widgets/controls",
            "_model_module_version": "1.5.0",
            "value": 1,
            "_view_count": null,
            "disabled": false,
            "_view_module_version": "1.5.0",
            "min": 1,
            "continuous_update": true,
            "readout_format": "d",
            "description_tooltip": null,
            "readout": true,
            "_model_module": "@jupyter-widgets/controls",
            "layout": "IPY_MODEL_5247b449c8284385b5e5ebfd974032de"
          }
        },
        "c39d14c9f0df4713b4895132e62c97d1": {
          "model_module": "@jupyter-widgets/controls",
          "model_name": "IntSliderModel",
          "state": {
            "_view_name": "IntSliderView",
            "style": "IPY_MODEL_445909e611014dfda71ffa3c8b2a678f",
            "_dom_classes": [],
            "description": "n_estimators",
            "step": 1,
            "_model_name": "IntSliderModel",
            "orientation": "horizontal",
            "max": 5,
            "_view_module": "@jupyter-widgets/controls",
            "_model_module_version": "1.5.0",
            "value": 2,
            "_view_count": null,
            "disabled": false,
            "_view_module_version": "1.5.0",
            "min": 2,
            "continuous_update": true,
            "readout_format": "d",
            "description_tooltip": null,
            "readout": true,
            "_model_module": "@jupyter-widgets/controls",
            "layout": "IPY_MODEL_1bcd4ee5dbce44a192a22d0709c42b2c"
          }
        },
        "4c4a9bea270249e480fdcbafdb34a101": {
          "model_module": "@jupyter-widgets/output",
          "model_name": "OutputModel",
          "state": {
            "_view_name": "OutputView",
            "msg_id": "",
            "_dom_classes": [],
            "_model_name": "OutputModel",
            "outputs": [
              {
                "output_type": "display_data",
                "metadata": {
                  "tags": []
                },
                "image/png": "iVBORw0KGgoAAAANSUhEUgAAAYIAAAEWCAYAAABrDZDcAAAABHNCSVQICAgIfAhkiAAAAAlwSFlz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\nQmCC\n",
                "text/plain": "<Figure size 432x288 with 1 Axes>"
              },
              {
                "output_type": "display_data",
                "metadata": {
                  "tags": []
                },
                "image/png": "iVBORw0KGgoAAAANSUhEUgAAAYIAAAEWCAYAAABrDZDcAAAABHNCSVQICAgIfAhkiAAAAAlwSFlz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\n",
                "text/plain": "<Figure size 432x288 with 1 Axes>"
              },
              {
                "output_type": "display_data",
                "metadata": {
                  "tags": []
                },
                "image/png": "iVBORw0KGgoAAAANSUhEUgAAAYIAAAEWCAYAAABrDZDcAAAABHNCSVQICAgIfAhkiAAAAAlwSFlz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\n",
                "text/plain": "<Figure size 432x288 with 1 Axes>"
              }
            ],
            "_view_module": "@jupyter-widgets/output",
            "_model_module_version": "1.0.0",
            "_view_count": null,
            "_view_module_version": "1.0.0",
            "layout": "IPY_MODEL_e17bb62524274020aa28812fb8b25604",
            "_model_module": "@jupyter-widgets/output"
          }
        },
        "a429ce8d9d2d48bdb06a60163e8de495": {
          "model_module": "@jupyter-widgets/controls",
          "model_name": "SliderStyleModel",
          "state": {
            "_view_name": "StyleView",
            "handle_color": null,
            "_model_name": "SliderStyleModel",
            "description_width": "",
            "_view_module": "@jupyter-widgets/base",
            "_model_module_version": "1.5.0",
            "_view_count": null,
            "_view_module_version": "1.2.0",
            "_model_module": "@jupyter-widgets/controls"
          }
        },
        "5247b449c8284385b5e5ebfd974032de": {
          "model_module": "@jupyter-widgets/base",
          "model_name": "LayoutModel",
          "state": {
            "_view_name": "LayoutView",
            "grid_template_rows": null,
            "right": null,
            "justify_content": null,
            "_view_module": "@jupyter-widgets/base",
            "overflow": null,
            "_model_module_version": "1.2.0",
            "_view_count": null,
            "flex_flow": null,
            "width": null,
            "min_width": null,
            "border": null,
            "align_items": null,
            "bottom": null,
            "_model_module": "@jupyter-widgets/base",
            "top": null,
            "grid_column": null,
            "overflow_y": null,
            "overflow_x": null,
            "grid_auto_flow": null,
            "grid_area": null,
            "grid_template_columns": null,
            "flex": null,
            "_model_name": "LayoutModel",
            "justify_items": null,
            "grid_row": null,
            "max_height": null,
            "align_content": null,
            "visibility": null,
            "align_self": null,
            "height": null,
            "min_height": null,
            "padding": null,
            "grid_auto_rows": null,
            "grid_gap": null,
            "max_width": null,
            "order": null,
            "_view_module_version": "1.2.0",
            "grid_template_areas": null,
            "object_position": null,
            "object_fit": null,
            "grid_auto_columns": null,
            "margin": null,
            "display": null,
            "left": null
          }
        },
        "445909e611014dfda71ffa3c8b2a678f": {
          "model_module": "@jupyter-widgets/controls",
          "model_name": "SliderStyleModel",
          "state": {
            "_view_name": "StyleView",
            "handle_color": null,
            "_model_name": "SliderStyleModel",
            "description_width": "",
            "_view_module": "@jupyter-widgets/base",
            "_model_module_version": "1.5.0",
            "_view_count": null,
            "_view_module_version": "1.2.0",
            "_model_module": "@jupyter-widgets/controls"
          }
        },
        "1bcd4ee5dbce44a192a22d0709c42b2c": {
          "model_module": "@jupyter-widgets/base",
          "model_name": "LayoutModel",
          "state": {
            "_view_name": "LayoutView",
            "grid_template_rows": null,
            "right": null,
            "justify_content": null,
            "_view_module": "@jupyter-widgets/base",
            "overflow": null,
            "_model_module_version": "1.2.0",
            "_view_count": null,
            "flex_flow": null,
            "width": null,
            "min_width": null,
            "border": null,
            "align_items": null,
            "bottom": null,
            "_model_module": "@jupyter-widgets/base",
            "top": null,
            "grid_column": null,
            "overflow_y": null,
            "overflow_x": null,
            "grid_auto_flow": null,
            "grid_area": null,
            "grid_template_columns": null,
            "flex": null,
            "_model_name": "LayoutModel",
            "justify_items": null,
            "grid_row": null,
            "max_height": null,
            "align_content": null,
            "visibility": null,
            "align_self": null,
            "height": null,
            "min_height": null,
            "padding": null,
            "grid_auto_rows": null,
            "grid_gap": null,
            "max_width": null,
            "order": null,
            "_view_module_version": "1.2.0",
            "grid_template_areas": null,
            "object_position": null,
            "object_fit": null,
            "grid_auto_columns": null,
            "margin": null,
            "display": null,
            "left": null
          }
        },
        "5f453475b20745a2ab5b877dbfea6be1": {
          "model_module": "@jupyter-widgets/controls",
          "model_name": "VBoxModel",
          "state": {
            "_view_name": "VBoxView",
            "_dom_classes": [
              "widget-interact"
            ],
            "_model_name": "VBoxModel",
            "_view_module": "@jupyter-widgets/controls",
            "_model_module_version": "1.5.0",
            "_view_count": null,
            "_view_module_version": "1.5.0",
            "box_style": "",
            "layout": "IPY_MODEL_f68b2ceeb4864de3a1815571b21b1dce",
            "_model_module": "@jupyter-widgets/controls",
            "children": [
              "IPY_MODEL_00dc61e664484a53a48b3b7a3c27858d",
              "IPY_MODEL_dd35d0a14dde4feaad6cb42cdb9ef748",
              "IPY_MODEL_e05efaeab4134b128d5125e325bfb8f0"
            ]
          }
        },
        "f68b2ceeb4864de3a1815571b21b1dce": {
          "model_module": "@jupyter-widgets/base",
          "model_name": "LayoutModel",
          "state": {
            "_view_name": "LayoutView",
            "grid_template_rows": null,
            "right": null,
            "justify_content": null,
            "_view_module": "@jupyter-widgets/base",
            "overflow": null,
            "_model_module_version": "1.2.0",
            "_view_count": null,
            "flex_flow": null,
            "width": null,
            "min_width": null,
            "border": null,
            "align_items": null,
            "bottom": null,
            "_model_module": "@jupyter-widgets/base",
            "top": null,
            "grid_column": null,
            "overflow_y": null,
            "overflow_x": null,
            "grid_auto_flow": null,
            "grid_area": null,
            "grid_template_columns": null,
            "flex": null,
            "_model_name": "LayoutModel",
            "justify_items": null,
            "grid_row": null,
            "max_height": null,
            "align_content": null,
            "visibility": null,
            "align_self": null,
            "height": null,
            "min_height": null,
            "padding": null,
            "grid_auto_rows": null,
            "grid_gap": null,
            "max_width": null,
            "order": null,
            "_view_module_version": "1.2.0",
            "grid_template_areas": null,
            "object_position": null,
            "object_fit": null,
            "grid_auto_columns": null,
            "margin": null,
            "display": null,
            "left": null
          }
        },
        "00dc61e664484a53a48b3b7a3c27858d": {
          "model_module": "@jupyter-widgets/controls",
          "model_name": "IntSliderModel",
          "state": {
            "_view_name": "IntSliderView",
            "style": "IPY_MODEL_99bb2121238142569c713b85b4ff5175",
            "_dom_classes": [],
            "description": "max_depth",
            "step": 1,
            "_model_name": "IntSliderModel",
            "orientation": "horizontal",
            "max": 6,
            "_view_module": "@jupyter-widgets/controls",
            "_model_module_version": "1.5.0",
            "value": 1,
            "_view_count": null,
            "disabled": false,
            "_view_module_version": "1.5.0",
            "min": 1,
            "continuous_update": true,
            "readout_format": "d",
            "description_tooltip": null,
            "readout": true,
            "_model_module": "@jupyter-widgets/controls",
            "layout": "IPY_MODEL_499f922d938d40958eeed798772d9a17"
          }
        },
        "dd35d0a14dde4feaad6cb42cdb9ef748": {
          "model_module": "@jupyter-widgets/controls",
          "model_name": "IntSliderModel",
          "state": {
            "_view_name": "IntSliderView",
            "style": "IPY_MODEL_a6bc9ce20496419e9058264815a94cad",
            "_dom_classes": [],
            "description": "n_estimators",
            "step": 10,
            "_model_name": "IntSliderModel",
            "orientation": "horizontal",
            "max": 40,
            "_view_module": "@jupyter-widgets/controls",
            "_model_module_version": "1.5.0",
            "value": 10,
            "_view_count": null,
            "disabled": false,
            "_view_module_version": "1.5.0",
            "min": 10,
            "continuous_update": true,
            "readout_format": "d",
            "description_tooltip": null,
            "readout": true,
            "_model_module": "@jupyter-widgets/controls",
            "layout": "IPY_MODEL_407f0c3f4755455dac0f483c05f76b03"
          }
        },
        "e05efaeab4134b128d5125e325bfb8f0": {
          "model_module": "@jupyter-widgets/output",
          "model_name": "OutputModel",
          "state": {
            "_view_name": "OutputView",
            "msg_id": "",
            "_dom_classes": [],
            "_model_name": "OutputModel",
            "outputs": [
              {
                "output_type": "display_data",
                "metadata": {
                  "tags": []
                },
                "image/png": "iVBORw0KGgoAAAANSUhEUgAAAVoAAAEFCAYAAACiiS9UAAAABHNCSVQICAgIfAhkiAAAAAlwSFlz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\nrkJggg==\n",
                "text/plain": "<Figure size 432x288 with 2 Axes>"
              },
              {
                "output_type": "display_data",
                "metadata": {
                  "tags": []
                },
                "image/png": "iVBORw0KGgoAAAANSUhEUgAAAVoAAAEFCAYAAACiiS9UAAAABHNCSVQICAgIfAhkiAAAAAlwSFlz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\nrkJggg==\n",
                "text/plain": "<Figure size 432x288 with 2 Axes>"
              },
              {
                "output_type": "display_data",
                "metadata": {
                  "tags": []
                },
                "image/png": "iVBORw0KGgoAAAANSUhEUgAAAVoAAAEFCAYAAACiiS9UAAAABHNCSVQICAgIfAhkiAAAAAlwSFlz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\nAAAAAElFTkSuQmCC\n",
                "text/plain": "<Figure size 432x288 with 2 Axes>"
              }
            ],
            "_view_module": "@jupyter-widgets/output",
            "_model_module_version": "1.0.0",
            "_view_count": null,
            "_view_module_version": "1.0.0",
            "layout": "IPY_MODEL_fb1fa67b785b47f69941e1acacb9cfe0",
            "_model_module": "@jupyter-widgets/output"
          }
        },
        "99bb2121238142569c713b85b4ff5175": {
          "model_module": "@jupyter-widgets/controls",
          "model_name": "SliderStyleModel",
          "state": {
            "_view_name": "StyleView",
            "handle_color": null,
            "_model_name": "SliderStyleModel",
            "description_width": "",
            "_view_module": "@jupyter-widgets/base",
            "_model_module_version": "1.5.0",
            "_view_count": null,
            "_view_module_version": "1.2.0",
            "_model_module": "@jupyter-widgets/controls"
          }
        },
        "499f922d938d40958eeed798772d9a17": {
          "model_module": "@jupyter-widgets/base",
          "model_name": "LayoutModel",
          "state": {
            "_view_name": "LayoutView",
            "grid_template_rows": null,
            "right": null,
            "justify_content": null,
            "_view_module": "@jupyter-widgets/base",
            "overflow": null,
            "_model_module_version": "1.2.0",
            "_view_count": null,
            "flex_flow": null,
            "width": null,
            "min_width": null,
            "border": null,
            "align_items": null,
            "bottom": null,
            "_model_module": "@jupyter-widgets/base",
            "top": null,
            "grid_column": null,
            "overflow_y": null,
            "overflow_x": null,
            "grid_auto_flow": null,
            "grid_area": null,
            "grid_template_columns": null,
            "flex": null,
            "_model_name": "LayoutModel",
            "justify_items": null,
            "grid_row": null,
            "max_height": null,
            "align_content": null,
            "visibility": null,
            "align_self": null,
            "height": null,
            "min_height": null,
            "padding": null,
            "grid_auto_rows": null,
            "grid_gap": null,
            "max_width": null,
            "order": null,
            "_view_module_version": "1.2.0",
            "grid_template_areas": null,
            "object_position": null,
            "object_fit": null,
            "grid_auto_columns": null,
            "margin": null,
            "display": null,
            "left": null
          }
        },
        "a6bc9ce20496419e9058264815a94cad": {
          "model_module": "@jupyter-widgets/controls",
          "model_name": "SliderStyleModel",
          "state": {
            "_view_name": "StyleView",
            "handle_color": null,
            "_model_name": "SliderStyleModel",
            "description_width": "",
            "_view_module": "@jupyter-widgets/base",
            "_model_module_version": "1.5.0",
            "_view_count": null,
            "_view_module_version": "1.2.0",
            "_model_module": "@jupyter-widgets/controls"
          }
        },
        "407f0c3f4755455dac0f483c05f76b03": {
          "model_module": "@jupyter-widgets/base",
          "model_name": "LayoutModel",
          "state": {
            "_view_name": "LayoutView",
            "grid_template_rows": null,
            "right": null,
            "justify_content": null,
            "_view_module": "@jupyter-widgets/base",
            "overflow": null,
            "_model_module_version": "1.2.0",
            "_view_count": null,
            "flex_flow": null,
            "width": null,
            "min_width": null,
            "border": null,
            "align_items": null,
            "bottom": null,
            "_model_module": "@jupyter-widgets/base",
            "top": null,
            "grid_column": null,
            "overflow_y": null,
            "overflow_x": null,
            "grid_auto_flow": null,
            "grid_area": null,
            "grid_template_columns": null,
            "flex": null,
            "_model_name": "LayoutModel",
            "justify_items": null,
            "grid_row": null,
            "max_height": null,
            "align_content": null,
            "visibility": null,
            "align_self": null,
            "height": null,
            "min_height": null,
            "padding": null,
            "grid_auto_rows": null,
            "grid_gap": null,
            "max_width": null,
            "order": null,
            "_view_module_version": "1.2.0",
            "grid_template_areas": null,
            "object_position": null,
            "object_fit": null,
            "grid_auto_columns": null,
            "margin": null,
            "display": null,
            "left": null
          }
        },
        "e9d2b73ad19b4e938b29a5e53b3cfc94": {
          "model_module": "@jupyter-widgets/controls",
          "model_name": "VBoxModel",
          "state": {
            "_view_name": "VBoxView",
            "_dom_classes": [
              "widget-interact"
            ],
            "_model_name": "VBoxModel",
            "_view_module": "@jupyter-widgets/controls",
            "_model_module_version": "1.5.0",
            "_view_count": null,
            "_view_module_version": "1.5.0",
            "box_style": "",
            "layout": "IPY_MODEL_d3e967b42a4b47a9b4eb63ffeee4b8dc",
            "_model_module": "@jupyter-widgets/controls",
            "children": [
              "IPY_MODEL_c45340470d6d4387a0c70d27bcbacabe",
              "IPY_MODEL_2c4068c49e344ea79d79f89a17b17eb0",
              "IPY_MODEL_300bc30d99774331bffaf393d8f90507"
            ]
          }
        },
        "d3e967b42a4b47a9b4eb63ffeee4b8dc": {
          "model_module": "@jupyter-widgets/base",
          "model_name": "LayoutModel",
          "state": {
            "_view_name": "LayoutView",
            "grid_template_rows": null,
            "right": null,
            "justify_content": null,
            "_view_module": "@jupyter-widgets/base",
            "overflow": null,
            "_model_module_version": "1.2.0",
            "_view_count": null,
            "flex_flow": null,
            "width": null,
            "min_width": null,
            "border": null,
            "align_items": null,
            "bottom": null,
            "_model_module": "@jupyter-widgets/base",
            "top": null,
            "grid_column": null,
            "overflow_y": null,
            "overflow_x": null,
            "grid_auto_flow": null,
            "grid_area": null,
            "grid_template_columns": null,
            "flex": null,
            "_model_name": "LayoutModel",
            "justify_items": null,
            "grid_row": null,
            "max_height": null,
            "align_content": null,
            "visibility": null,
            "align_self": null,
            "height": null,
            "min_height": null,
            "padding": null,
            "grid_auto_rows": null,
            "grid_gap": null,
            "max_width": null,
            "order": null,
            "_view_module_version": "1.2.0",
            "grid_template_areas": null,
            "object_position": null,
            "object_fit": null,
            "grid_auto_columns": null,
            "margin": null,
            "display": null,
            "left": null
          }
        },
        "c45340470d6d4387a0c70d27bcbacabe": {
          "model_module": "@jupyter-widgets/controls",
          "model_name": "IntSliderModel",
          "state": {
            "_view_name": "IntSliderView",
            "style": "IPY_MODEL_76593b4003994c56bcf769799c4fb153",
            "_dom_classes": [],
            "description": "max_depth",
            "step": 1,
            "_model_name": "IntSliderModel",
            "orientation": "horizontal",
            "max": 6,
            "_view_module": "@jupyter-widgets/controls",
            "_model_module_version": "1.5.0",
            "value": 1,
            "_view_count": null,
            "disabled": false,
            "_view_module_version": "1.5.0",
            "min": 1,
            "continuous_update": true,
            "readout_format": "d",
            "description_tooltip": null,
            "readout": true,
            "_model_module": "@jupyter-widgets/controls",
            "layout": "IPY_MODEL_a4de32f544e7441b8a3dd452893663a9"
          }
        },
        "2c4068c49e344ea79d79f89a17b17eb0": {
          "model_module": "@jupyter-widgets/controls",
          "model_name": "IntSliderModel",
          "state": {
            "_view_name": "IntSliderView",
            "style": "IPY_MODEL_d4a988b50fa44c2c8ded377a72be440c",
            "_dom_classes": [],
            "description": "n_estimators",
            "step": 1,
            "_model_name": "IntSliderModel",
            "orientation": "horizontal",
            "max": 5,
            "_view_module": "@jupyter-widgets/controls",
            "_model_module_version": "1.5.0",
            "value": 2,
            "_view_count": null,
            "disabled": false,
            "_view_module_version": "1.5.0",
            "min": 2,
            "continuous_update": true,
            "readout_format": "d",
            "description_tooltip": null,
            "readout": true,
            "_model_module": "@jupyter-widgets/controls",
            "layout": "IPY_MODEL_c47a2b28e8754423b6a660e64899c04e"
          }
        },
        "300bc30d99774331bffaf393d8f90507": {
          "model_module": "@jupyter-widgets/output",
          "model_name": "OutputModel",
          "state": {
            "_view_name": "OutputView",
            "msg_id": "",
            "_dom_classes": [],
            "_model_name": "OutputModel",
            "outputs": [
              {
                "output_type": "display_data",
                "metadata": {
                  "tags": []
                },
                "image/png": "iVBORw0KGgoAAAANSUhEUgAAAVoAAAEFCAYAAACiiS9UAAAABHNCSVQICAgIfAhkiAAAAAlwSFlz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\n",
                "text/plain": "<Figure size 432x288 with 2 Axes>"
              },
              {
                "output_type": "display_data",
                "metadata": {
                  "tags": []
                },
                "image/png": "iVBORw0KGgoAAAANSUhEUgAAAVoAAAEFCAYAAACiiS9UAAAABHNCSVQICAgIfAhkiAAAAAlwSFlz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\n0UpSYwZaSWrMQCtJjRloJakxA60kNfZ/p/eS4QmaBqMAAAAASUVORK5CYII=\n",
                "text/plain": "<Figure size 432x288 with 2 Axes>"
              },
              {
                "output_type": "display_data",
                "metadata": {
                  "tags": []
                },
                "image/png": "iVBORw0KGgoAAAANSUhEUgAAAVoAAAEFCAYAAACiiS9UAAAABHNCSVQICAgIfAhkiAAAAAlwSFlz\nAAALEgAACxIB0t1+/AAAADh0RVh0U29mdHdhcmUAbWF0cGxvdGxpYiB2ZXJzaW9uMy4xLjMsIGh0\ndHA6Ly9tYXRwbG90bGliLm9yZy+AADFEAAAYh0lEQVR4nO3dedxcVX3H8c83QWRJwAWXmgSICEJA\nLFEBRZZXARtSIbzqwiIUrBLBYusuWquI2rpbqVQMLS8UkAhYNJXQ1KqBiiAJIJFEo2lYkgAigYRV\n4HmeX/+45zGXcZY7yZzM3IfvO6/7yl3OnHvmzszvOfO7595RRGBmZvmM63cDzMzGOgdaM7PMHGjN\nzDJzoDUzy8yB1swsMwdaM7PMHGi7IOkQSavbbL9A0qcy7PcFkq6R9JCkL/a6/rqRdJWkk9psz/I6\nbC6SzpR0Uaa6T5b0kxx1W2sDFWgl3S7pMUkPl6av9rtdA2A2cB+wXUS8r3GjpA9IujUF4tskfaBV\nRZJ2lhSStsjZ4Jwi4oiI+AY4cLST87WW9GZJP5X0qKSFva5/rBnED9uREfE//W7EgNkJWBatry4R\n8FfAEmAX4L8lrYqIuRuzM0lbRMTQxjXVnibuB/4Z2B34sz63ZeANVI+2ndGei6QvSHog9dyOaNi+\nstSre0tp219L+mV63AJJO5W2haR3SvpNeuwnJe2S/lo/KOlSSVs2tOUjku5LPfC30IKk10v6uaR1\nqb6925R9jaRFktan/1+T1l8AnAR8MPXwD2t8bER8LiJuioihiFgOfA84oMWurkn/r0v1vTodu2sl\nfVnSWuDMCsdtd0k/kHS/pOWS3lzaNlPSsnQ810h6f6vnXXrM1HScxqXl8yTdW9p+oaR3p/mFkt4u\naQ/gXODV6bmsK1X5bElXpjb8TNIuLfY72ut7q6RV6bmeKulVkpakNn21VH4XST+StDa9By6W9KzS\ntvslTU/LL5L0O0mHVHjuV6e2/gDYoWH7/un9s07SLeX60rH4J0k3pPfr9yQ9J23+o9e69Limn6Oq\nIuJ/IuJS4K5uH/u0FBEDMwG3A4e12HYy8CRwCjAeOI3iRRawLfAg8NJU9k+APdP8LGAFsAdFD/6j\nwE9L9QZFYNoO2BN4HPgh8GJge2AZcFIqewgwBHwJeCZwMPBIab8XAJ9K8/sA9wL7pfaelJ7fM5s8\nt+cADwAnpjYel5af21hvhWMo4Gbg1Bbbd07PeYuGYzsEvCvtf+t2xy0d71XAW9O2fShSG9PS9ruB\nA9P8s4HpFdt+J/CKNL8cWAnsUdq2T5pfCLy91PafNNRzAbAW2De172JgbofjcS6wFfA64PfAd4Hn\nA5PS63hwKv8S4PD0+j+PIpj9c6m+U9J7ZhtgAfCFCs/7utJ76iDgIeCitG1Sei4zKTpGh6fl55WO\nxRpgr/S6fKf02FavddPPUdr+r8C6FtOSJm1/O7Cw37Fj0Ke+N6DhRbsdeLjhxT2l9AZZUSq7TXoT\nvTC9wdYBbwC2bqjzKuBtpeVxwKPATmk5gANK228EPlRa/uLoB4kNgXbb0vZLgX9I8xewIdB+Dfhk\nQ1uWj35gG9afCNzQsO464OTGeiscw08At9AkoKftrT58d1Y9bsAxwP82lP868PE0fyfwDoqccjev\n/4XAe9Nruhz4HHAqMDW9vuNSuYV0DrT/VlqeCfyqw/GYVFq3FjimtPwd4N0tHn80cHPDunnALyhS\nOU1fh1LZHZu8p77FhmD5IeDChscsYMMf/4XAZ0rbpgFPUATRVq9108/RRn5mHWgrTIOYOjg6Ip5V\nms4rbbtndCYiHk2zEyLiEYoP/6nA3ekr4+5p+07AV9LXrnUUuSVR9BRG/bY0/1iT5Qml5QfS/kbd\nAbyoyfPYCXjf6H7Tvqe0KPuiVE/ZHQ1t7EjS6RS52r+IiMe7eSxFD7Ws3XHbCdiv4bm9hSJAQvEH\nbyZwR/pK/GqquZrij9lBFD3FhRTfGg6mCOwjXTyfe0rzj/LU17CZSu8BFSNA5qaUyIPARTR81QfO\no+hh/kuF1+FFNH9PjdoJeFPDsX4txbe2UasaHvuMJm0qa/o56tBO2wSDGGg3SkQsiIjDKd6Av6J4\ns0PxJnxHQ/DeOiJ+upG7erakbUvLO9I8T7UK+HTDfreJiEualL2L4gNVtiPFV8JKJP01cAZwaES0\nHIJG0Xupsr7dcVsFXN2wbUJEnAYQEYsiYhbFV+/vUvT6q7gaOJAi2F4N/IQi13xwWu7m+eTyj2mf\nL4uI7YATKP4AASBpAsVJon8HzizlS1u5m+bvqVGrKHq05WO9bUR8plRmSsNjn6RI5XR9bCSdq6eO\n+ilPS7utzwpjItCmXsas9GZ9nCL9MNr7ORf4sKQ9U9ntJb1pE3f5CUlbSjoQeD1wWZMy5wGnStpP\nhW0l/YWkiU3Kzgd2k3S8pC0kHUPxFfD7VRqj4oTcPwKHR8TKDsV/R3FsXtyhXLvj9v3U3hMlPSNN\nr5K0Rzoub5G0fUQ8SZE7/0NPNJ14OqTZDiPiNxS9xxMoAvmDFD3LN9A60P4WmKyGE5YZTaR4f62X\nNAloHEr3FWBxRLwduJLiOLYUEXcAi9nwnnotcGSpyEXAkZL+XNJ4SVupGM89uVTmBEnTJG0DnAVc\nHhHDVH+ty+05Nf3RbDbtOVputC0UOfBxqV3PqLqfp5tBDLT/2fBX9IoKjxlHkdu7i+Ir7sEUSX4i\n4grgs8Dc9FXvVqDrs6wl91CcqLqL4iTLqRHxq8ZCEbGY4oTDV1P5FRT5sT8SEWspAvb7KPKDHwRe\nHxH3VWzTp4DnAotKx63pBzx9Vfw0cG36Krp/i3Itj1tEPERx0uhYiuNwTyr7zPTwE4Hb0+NOpUgr\nIGkKxYmeX7R5LlcDayNiVWlZwE0tyv8IWArcI6nq8doUnwCmA+spAul/jG6QNAuYQXrvUbwnp6vN\nyJTkeIqTpvcDHwe+ObohHYdZwEcoAucqiuBe/uxeSJGXvofihN7fpsdWeq030okUfxS/RvEt5DE2\nfIu0BqNnGs2yk3QCxWiQD/e7LWOFiosFLoqIf+t3W6y1QbxgwcaoiMhyWanZoBvE1IHZmNPmBNOB\n/W6bPZWk8yXdK+nWFtsl6WxJK1Rc1DK9Y51OHZiZbSDpIIoTnt+MiL2abJ9JcXHPTIrc+lciYr92\ndbpHa2ZWEhHXUJyYbGUWRRCOiLgeeJakP2lTPk+O9raXH+5ushmwft3Wm21fa3+/+fbVS4f+9tvq\nXKq9J+9bWTnmbPm8Xd5BcUe8UXMiYk4Xu5vEUy8SWZ3W3d3qAT4ZZmZPKymodhNYN5kDrZnV38jw\n5tzbGp56Nd5kOlzF6RytmdXf8FD1adPNA/4qjT7YH1gfES3TBuAerZmNAd3db6g9SZdQ3G9jBxU/\nXfVxihv1EBHnUlwyP5Pias9HKW4X2pYDrZnV30jvAm1EHNdhewB/002dDrRmVn897NHm4EBrZvW3\neU+Gdc2B1szqzz1aM7O8ojejCbJxoDWz+uvhybAcHGjNrP6cOjAzy8wnw8zMMnOP1swsM58MMzPL\nzCfDzMzyKn5dfXA50JpZ/TlHa2aWmVMHZmaZuUdrZpbZ8JP9bkFbDrRmVn9OHZiZZebUgZlZZu7R\nmpll5kBrZpZX+GSYmVlmztGamWXm1IGZWWbu0ZqZZeYerZlZZu7RmpllNuQbf5uZ5eUerZlZZs7R\nmpll5h6tmVlm7tGamWXmHq2ZWWYedWBmlllEv1vQlgOtmdWfc7RmZpkNeKAd1+8GmJltshipPnUg\naYak5ZJWSDqjyfYdJf1Y0s2Slkia2alO92jNrP6Gh3tSjaTxwDnA4cBqYJGkeRGxrFTso8ClEfE1\nSdOA+cDO7ep1oDWz+utd6mBfYEVErASQNBeYBZQDbQDbpfntgbs6VepAa2b110WglTQbmF1aNSci\n5qT5ScCq0rbVwH4NVZwJ/LekdwHbAod12qcDrZnVXxcXLKSgOqdjwdaOAy6IiC9KejVwoaS9Ilo3\nwoHWzGovRno2jnYNMKW0PDmtK3sbMAMgIq6TtBWwA3Bvq0o96sDM6m9kpPrU3iJgV0lTJW0JHAvM\nayhzJ3AogKQ9gK2A37Wr1D1aM6u/Ho06iIghSacDC4DxwPkRsVTSWcDiiJgHvA84T9J7KE6MnRzR\n/tI0B1ozq78eXrAQEfMphmyV132sNL8MOKCbOh1ozaz+BvzKMAdaM6s/31TGzCwz92jNzDLr3fCu\nLBxozaz+ejTqIBcHWjOrvXDqwMwsM6cOzMwy848zmpll5h6tmVlmQz4ZZmaWl1MHZmaZOXVgZpaX\nh3eZmeXmHq2ZWWYOtGZmmfkSXDOzvHr4m2FZONCaWf050JqZZeZRB2ZmmblHa2aWmQOtmVleMezU\ngZlZXu7Rmpnl5eFdZma5OdCamWU22ClaB1ozq78YGuxI60BrZvU32HHWgdbM6s8nw8zMcnOP1sws\nL/dozcxyc4/W7Olr+2c9xvp1W/e7GWNeDPW7Be050Jpl5CC7eQz4r40zrt8NMDPbZCNdTB1ImiFp\nuaQVks5oUebNkpZJWirpW53qdI/WzGqvVz1aSeOBc4DDgdXAIknzImJZqcyuwIeBAyLiAUnP71Sv\ne7RmVnsxUn3qYF9gRUSsjIgngLnArIYypwDnRMQDABFxb6dKHWjNrPZiWJUnSbMlLS5Ns0tVTQJW\nlZZXp3VluwG7SbpW0vWSZnRqn1MHZlZ73aQOImIOMGcTdrcFsCtwCDAZuEbSyyJiXbsHmJnVWoyo\nV1WtAaaUliendWWrgZ9FxJPAbZJ+TRF4F7Wq1KkDM6u9HuZoFwG7SpoqaUvgWGBeQ5nvUvRmkbQD\nRSphZbtK3aM1s9qL6E2PNiKGJJ0OLADGA+dHxFJJZwGLI2Je2vY6ScuAYeADEbG2Xb0OtGZWe728\nYCEi5gPzG9Z9rDQfwHvTVEml1IGk3ST9UNKtaXlvSR+tuhMzs5xGhlV56oeqOdrzKAboPgkQEUso\nchdmZn0XI6o89UPV1ME2EXGD9JRGDvhtHMzs6aJfAbSqqoH2Pkm7AAEg6Y3A3dlaZWbWhRjs29FW\nDrR/QzHAd3dJa4DbgBOytcrMrAtjokcbESuBwyRtC4yLiIfyNsvMrLpeDe/KpW2gldR0+MJorjYi\nvpShTWZmXRnu02iCqjr1aCem/18KvIoNV0gcCdyQq1FmZt2odY82Ij4BIOkaYPpoykDSmcCV2Vtn\nZlbBmMjRAi8AnigtP5HWmZn13VgZdfBN4AZJV6Tlo4Fv5GmSmVl3xkSPNiI+Lekq4MC06q0RcXO+\nZpmZVTc8Mtg3IqwUaCXtCNwHXFFeFxF35mqYmVlVYyV1cCXpqjBga2AqsBzYM0ejzMy6MVLnUQej\nIuJl5WVJ04F3ZmmRmVmXaj28q5WIuEnSfr1ujJnZxhgTqYOGK8TGAdOBu7K0yMysS2MidcCGK8Sg\nuD3ilcB3et8cM7PujYlRB8CyiLisvELSm4DLWpQ3M9tsBjxzUPkXFj5ccZ2Z2WY3Eqo89UOnu3cd\nAcwEJkk6u7RpO/wLC2Y2IOo+6uAuYDFwFHBjaf1DwHtyNcrMrBs9/BHcLDrdvesW4BZJF0eEe7Bm\nNpCCGvdoJV0aEW8Gbpb0R/nmiNg7W8vMzCoaqnnq4O/S/6/P3RAzs4016D3atqMOImL0l27fGRF3\nlCd8Ca6ZDYiRLqZ+qDq86/Am647oZUPMzDZWoMpTP3TK0Z5G0XN9saQlpU0TgWtzNszMrKpajzoA\nvgVcBfwTcEZp/UMRcX+2VpmZdWF4wHO0nYZ3rQfWA8cBSHo+sBUwQdIE3/jbzAbBgP+STbUcraQj\nJf0GuA24GridoqdrZtZ3I6jy1A9VT4Z9Ctgf+HVETAUOBa7P1iozsy5EF1M/VA20T0bEWmCcpHER\n8WPglRnbZWZW2aAP76p6m8R1kiYA1wAXS7oXeCRfs8zMqhvRYCdpq/ZoZwGPUdxI5r+A/wOOzNUo\nM7NuDHcx9UOlQBsRj0TEcEQMRcQ3IuLslEowM+u7EVWfOpE0Q9JySSskndGm3BskhaSOadROFyw8\nRPP8sYCIiO06ttrMLLNejSaQNB44h+Jq2NXAIknzImJZQ7mJFPeC+VmVejvd62BiRGzXZJroIGtm\ng6KHow72BVZExMqIeAKYS5E6bfRJ4LPA76u0b7B/0czMrIJuUgeSZktaXJpml6qaBKwqLa9O6/5A\n0nRgSkRcWbV9VUcdmJkNrG6GbUXEHGDOxuxH0jjgS8DJ3TzOgdbMam+4d6O71gBTSsuT07pRE4G9\ngIUqhpS9EJgn6aiIWNyqUgdaM6u9Hl6IsAjYVdJUigB7LHD86MZ0/5cdRpclLQTe3y7IgnO0ZjYG\n9OrKsPTbiKcDC4BfApdGxFJJZ0k6amPb5x6tmdVeL38yLCLmA/Mb1n2sRdlDqtTpQGtmtVf3G3+b\nmQ28fl1aW5UDrZnV3qDf+NuB1sxqz6kDM7PMHGjNzDLr1y8nVOVAa2a15xytmVlmHnVgZpbZyIAn\nDxxozaz2fDLMzCyzwe7POtCa2RjgHq2ZWWZDGuw+rQOtmdXeYIdZB1ozGwOcOjAzy8zDu8zMMhvs\nMOtAa2ZjgFMHZmaZDQ94n9aB1sxqzz1aM7PMwj1aM7O83KM1M8vMw7vMzDIb7DDrQGtmY8DQgIda\nB1ozqz2fDDMzy8wnw8zMMnOP1swsM/dozcwyGw73aM3MsvI4WjOzzJyjNTPLzDlaM7PMBj11MK7f\nDTAz21TRxb9OJM2QtFzSCklnNNn+XknLJC2R9ENJO3Wq04HWzGpvOKLy1I6k8cA5wBHANOA4SdMa\nit0MvDIi9gYuBz7XqX0OtGZWeyNE5amDfYEVEbEyIp4A5gKzygUi4scR8WhavB6Y3KlSB1ozq72R\nLiZJsyUtLk2zS1VNAlaVllenda28DbiqU/t8MszMaq+b4V0RMQeYs6n7lHQC8Erg4E5lHWjNrPZ6\nOOpgDTCltDw5rXsKSYcBfw8cHBGPd6rUgdbMai96dwnuImBXSVMpAuyxwPHlApL2Ab4OzIiIe6tU\n6kBrZrXXq58bj4ghSacDC4DxwPkRsVTSWcDiiJgHfB6YAFwmCeDOiDiqXb0OtGZWe728YCEi5gPz\nG9Z9rDR/WLd1OtCaWe31MHWQhQOtmdXeoF+C60BrZrXnu3eZmWXmG3+bmWXm1IGZWWYOtGZmmXnU\ngZlZZu7Rmpll5lEHZmaZDcdg/2qYA62Z1Z5ztGZmmTlHa2aWmXO0ZmaZjTh1YGaWl3u0ZmaZedSB\nmVlmTh2YmWXm1IGZWWbu0ZqZZeYerZlZZsMx3O8mtOVAa2a150twzcwy8yW4ZmaZuUdrZpaZRx2Y\nmWXmUQdmZpn5Elwzs8ycozUzy8w5WjOzzNyjNTPLzONozcwyc4/WzCwzjzowM8vMJ8PMzDIb9NTB\nuH43wMxsU0UX/zqRNEPSckkrJJ3RZPszJX07bf+ZpJ071elAa2a1FxGVp3YkjQfOAY4ApgHHSZrW\nUOxtwAMR8RLgy8BnO7XPgdbMam8kovLUwb7AiohYGRFPAHOBWQ1lZgHfSPOXA4dKUrtKs+Rop97y\ng7Y7NTPrpaEn1lSOOZJmA7NLq+ZExJw0PwlYVdq2GtivoYo/lImIIUnrgecC97Xap0+GmdnTSgqq\nczoW7CGnDszMNlgDTCktT07rmpaRtAWwPbC2XaUOtGZmGywCdpU0VdKWwLHAvIYy84CT0vwbgR9F\nh7NsTh2YmSUp53o6sAAYD5wfEUslnQUsjoh5wL8DF0paAdxPEYzb0qAP9LXNS9LDETGhx3UeBUyL\niM9IOhr4dUQs67KOhcD7I2JxL9tmtjk4dWDZRcS8iPhMWjyaYnyi2dOGA601pcLnJd0q6ReSjknr\nD5G0UNLlkn4l6eLRMYSSZqZ1N0o6W9L30/qTJX1V0muAo4DPS/q5pF1SXa9M5XaQdHua31rSXEm/\nlHQFsHWpba+TdJ2kmyRdJqmnPXCzXnOO1lr5S+BPgZcDOwCLJF2Ttu0D7AncBVwLHCBpMfB14KCI\nuE3SJY0VRsRPJc0Dvh8RlwO0Ged9GvBoROwhaW/gplR+B+CjwGER8YikDwHvBc7qxZM2y8GB1lp5\nLXBJRAwDv5V0NfAq4EHghohYDSDp58DOwMPAyoi4LT3+Ep46KLxbBwFnA0TEEklL0vr9KVIP16Yg\nvSVw3Sbsxyw7B1rbGI+X5ofZtPfREBtSWFtVKC/gBxFx3Cbs02yzco7WWvlf4BhJ4yU9j6KHeUOb\n8suBF5fuZHRMi3IPARNLy7cDr0jzbyytvwY4HkDSXsDeaf31FKmKl6Rt20rarcLzMesbB1pr5Qpg\nCXAL8CPggxFxT6vCEfEY8E7gvyTdSBFQ1zcpOhf4gKSbJe0CfAE4TdLNFLngUV8DJkj6JUX+9ca0\nn98BJwOXpHTCdcDum/JEzXLzOFrrGUkTIuLhNArhHOA3EfHlfrfLrN/co7VeOiWdHFtKcf331/vc\nHrOB4B6tmVlm7tGamWXmQGtmlpkDrZlZZg60ZmaZOdCamWX2/5GQzeEb7VB6AAAAAElFTkSuQmCC\n",
                "text/plain": "<Figure size 432x288 with 2 Axes>"
              }
            ],
            "_view_module": "@jupyter-widgets/output",
            "_model_module_version": "1.0.0",
            "_view_count": null,
            "_view_module_version": "1.0.0",
            "layout": "IPY_MODEL_d3e72af8aca94c8297b267ac65cc0ba2",
            "_model_module": "@jupyter-widgets/output"
          }
        },
        "76593b4003994c56bcf769799c4fb153": {
          "model_module": "@jupyter-widgets/controls",
          "model_name": "SliderStyleModel",
          "state": {
            "_view_name": "StyleView",
            "handle_color": null,
            "_model_name": "SliderStyleModel",
            "description_width": "",
            "_view_module": "@jupyter-widgets/base",
            "_model_module_version": "1.5.0",
            "_view_count": null,
            "_view_module_version": "1.2.0",
            "_model_module": "@jupyter-widgets/controls"
          }
        },
        "a4de32f544e7441b8a3dd452893663a9": {
          "model_module": "@jupyter-widgets/base",
          "model_name": "LayoutModel",
          "state": {
            "_view_name": "LayoutView",
            "grid_template_rows": null,
            "right": null,
            "justify_content": null,
            "_view_module": "@jupyter-widgets/base",
            "overflow": null,
            "_model_module_version": "1.2.0",
            "_view_count": null,
            "flex_flow": null,
            "width": null,
            "min_width": null,
            "border": null,
            "align_items": null,
            "bottom": null,
            "_model_module": "@jupyter-widgets/base",
            "top": null,
            "grid_column": null,
            "overflow_y": null,
            "overflow_x": null,
            "grid_auto_flow": null,
            "grid_area": null,
            "grid_template_columns": null,
            "flex": null,
            "_model_name": "LayoutModel",
            "justify_items": null,
            "grid_row": null,
            "max_height": null,
            "align_content": null,
            "visibility": null,
            "align_self": null,
            "height": null,
            "min_height": null,
            "padding": null,
            "grid_auto_rows": null,
            "grid_gap": null,
            "max_width": null,
            "order": null,
            "_view_module_version": "1.2.0",
            "grid_template_areas": null,
            "object_position": null,
            "object_fit": null,
            "grid_auto_columns": null,
            "margin": null,
            "display": null,
            "left": null
          }
        },
        "d4a988b50fa44c2c8ded377a72be440c": {
          "model_module": "@jupyter-widgets/controls",
          "model_name": "SliderStyleModel",
          "state": {
            "_view_name": "StyleView",
            "handle_color": null,
            "_model_name": "SliderStyleModel",
            "description_width": "",
            "_view_module": "@jupyter-widgets/base",
            "_model_module_version": "1.5.0",
            "_view_count": null,
            "_view_module_version": "1.2.0",
            "_model_module": "@jupyter-widgets/controls"
          }
        },
        "c47a2b28e8754423b6a660e64899c04e": {
          "model_module": "@jupyter-widgets/base",
          "model_name": "LayoutModel",
          "state": {
            "_view_name": "LayoutView",
            "grid_template_rows": null,
            "right": null,
            "justify_content": null,
            "_view_module": "@jupyter-widgets/base",
            "overflow": null,
            "_model_module_version": "1.2.0",
            "_view_count": null,
            "flex_flow": null,
            "width": null,
            "min_width": null,
            "border": null,
            "align_items": null,
            "bottom": null,
            "_model_module": "@jupyter-widgets/base",
            "top": null,
            "grid_column": null,
            "overflow_y": null,
            "overflow_x": null,
            "grid_auto_flow": null,
            "grid_area": null,
            "grid_template_columns": null,
            "flex": null,
            "_model_name": "LayoutModel",
            "justify_items": null,
            "grid_row": null,
            "max_height": null,
            "align_content": null,
            "visibility": null,
            "align_self": null,
            "height": null,
            "min_height": null,
            "padding": null,
            "grid_auto_rows": null,
            "grid_gap": null,
            "max_width": null,
            "order": null,
            "_view_module_version": "1.2.0",
            "grid_template_areas": null,
            "object_position": null,
            "object_fit": null,
            "grid_auto_columns": null,
            "margin": null,
            "display": null,
            "left": null
          }
        }
      }
    }
  },
  "cells": [
    {
      "cell_type": "markdown",
      "metadata": {
        "id": "view-in-github",
        "colab_type": "text"
      },
      "source": [
        "<a href=\"https://colab.research.google.com/github/pingao2019/DS-Unit-2-Kaggle-Challenge/blob/master/C2opy_of_LS_DS12_222.ipynb\" target=\"_parent\"><img src=\"https://colab.research.google.com/assets/colab-badge.svg\" alt=\"Open In Colab\"/></a>"
      ]
    },
    {
      "cell_type": "markdown",
      "metadata": {
        "colab_type": "text",
        "id": "UEHyIgGaaSEJ"
      },
      "source": [
        "Lambda School Data Science\n",
        "\n",
        "*Unit 2, Sprint 2, Module 2*\n",
        "\n",
        "---"
      ]
    },
    {
      "cell_type": "markdown",
      "metadata": {
        "colab_type": "text",
        "id": "mRfPLX4WgLVJ"
      },
      "source": [
        "# Random Forests"
      ]
    },
    {
      "cell_type": "markdown",
      "metadata": {
        "colab_type": "text",
        "id": "jRRNhkxcgLVK"
      },
      "source": [
        "- use scikit-learn for **random forests**\n",
        "- do **ordinal encoding** with high-cardinality categoricals\n",
        "- understand how categorical encodings affect trees differently compared to linear models\n",
        "- understand how tree ensembles reduce overfitting compared to a single decision tree with unlimited depth"
      ]
    },
    {
      "cell_type": "markdown",
      "metadata": {
        "colab_type": "text",
        "id": "-3TH11e1gLVL"
      },
      "source": [
        "Today's lesson has two take-away messages:\n",
        "\n",
        "#### Try Tree Ensembles when you do machine learning with labeled, tabular data\n",
        "- \"Tree Ensembles\" means Random Forest or Gradient Boosting models. \n",
        "- [Tree Ensembles often have the best predictive accuracy](https://arxiv.org/abs/1708.05070) with labeled, tabular data.\n",
        "- Why? Because trees can fit non-linear, non-[monotonic](https://en.wikipedia.org/wiki/Monotonic_function) relationships, and [interactions](https://christophm.github.io/interpretable-ml-book/interaction.html) between features.\n",
        "- A single decision tree, grown to unlimited depth, will [overfit](http://www.r2d3.us/visual-intro-to-machine-learning-part-1/). We solve this problem by ensembling trees, with bagging (Random Forest) or boosting (Gradient Boosting).\n",
        "- Random Forest's advantage: may be less sensitive to hyperparameters. Gradient Boosting's advantage: may get better predictive accuracy.\n",
        "\n",
        "#### One-hot encoding isn’t the only way, and may not be the best way, of categorical encoding for tree ensembles.\n",
        "- For example, tree ensembles can work with arbitrary \"ordinal\" encoding! (Randomly assigning an integer to each category.) Compared to one-hot encoding, the dimensionality will be lower, and the predictive accuracy may be just as good or even better.\n"
      ]
    },
    {
      "cell_type": "markdown",
      "metadata": {
        "colab_type": "text",
        "id": "r5PbOFEuFfGF"
      },
      "source": [
        "### Setup\n",
        "\n",
        "Run the code cell below. You can work locally (follow the [local setup instructions](https://lambdaschool.github.io/ds/unit2/local/)) or on Colab.\n",
        "\n",
        "Libraries\n",
        "\n",
        "- **category_encoders** \n",
        "- **graphviz**\n",
        "- ipywidgets\n",
        "- matplotlib\n",
        "- numpy\n",
        "- pandas\n",
        "- seaborn\n",
        "- scikit-learn"
      ]
    },
    {
      "cell_type": "code",
      "metadata": {
        "colab_type": "code",
        "id": "FStAplyRFoEu",
        "colab": {}
      },
      "source": [
        "%%capture\n",
        "import sys\n",
        "\n",
        "# If you're on Colab:\n",
        "if 'google.colab' in sys.modules:\n",
        "    DATA_PATH = 'https://raw.githubusercontent.com/LambdaSchool/DS-Unit-2-Kaggle-Challenge/master/data/'\n",
        "    !pip install category_encoders==2.*\n",
        "\n",
        "# If you're working locally:\n",
        "else:\n",
        "    DATA_PATH = '../data/'"
      ],
      "execution_count": 0,
      "outputs": []
    },
    {
      "cell_type": "markdown",
      "metadata": {
        "colab_type": "text",
        "id": "ZL-yK8B7gLVW"
      },
      "source": [
        "# Use scikit-learn for random forests"
      ]
    },
    {
      "cell_type": "markdown",
      "metadata": {
        "id": "3tbqQ4Rq9Eoz",
        "colab_type": "text"
      },
      "source": [
        "## Overview\n",
        "\n",
        "Let's fit a Random Forest!\n",
        "\n",
        "![](https://pbs.twimg.com/media/EGSvKA0UUAEzUZi?format=png)\n",
        "\n",
        "[Chris Albon, MachineLearningFlashcards.com](https://twitter.com/chrisalbon/status/1181261589887909889)"
      ]
    },
    {
      "cell_type": "markdown",
      "metadata": {
        "colab_type": "text",
        "id": "gHFxMCPSgLVM"
      },
      "source": [
        "### Solution example\n",
        "\n",
        "First, read & wrangle the data.\n",
        "\n",
        "> Define a function to wrangle train, validate, and test sets in the same way. Clean outliers and engineer features. (For example, [what other columns have zeros and shouldn't?](https://github.com/Quartz/bad-data-guide#zeros-replace-missing-values) What other columns are duplicates, or nearly duplicates? Can you extract the year from date_recorded? Can you engineer new features, such as the number of years from waterpump construction to waterpump inspection?)"
      ]
    },
    {
      "cell_type": "code",
      "metadata": {
        "colab_type": "code",
        "id": "YTLm-rDagLVM",
        "colab": {}
      },
      "source": [
        "import numpy as np\n",
        "import pandas as pd\n",
        "from sklearn.model_selection import train_test_split\n",
        "\n",
        "# Merge train_features.csv & train_labels.csv\n",
        "train = pd.merge(pd.read_csv(DATA_PATH+'waterpumps/train_features.csv'), \n",
        "                 pd.read_csv(DATA_PATH+'waterpumps/train_labels.csv'))\n",
        "\n",
        "# Read test_features.csv & sample_submission.csv\n",
        "test = pd.read_csv(DATA_PATH+'waterpumps/test_features.csv')\n",
        "sample_submission = pd.read_csv(DATA_PATH+'waterpumps/sample_submission.csv')\n",
        "\n",
        "# Split train into train & val\n",
        "train, val = train_test_split(train, train_size=0.80, test_size=0.20, \n",
        "                              stratify=train['status_group'], random_state=42)\n",
        "\n",
        "\n",
        "def wrangle(X):\n",
        "    \"\"\"Wrangle train, validate, and test sets in the same way\"\"\"\n",
        "    \n",
        "    # Prevent SettingWithCopyWarning\n",
        "    X = X.copy()\n",
        "    \n",
        "    # About 3% of the time, latitude has small values near zero,\n",
        "    # outside Tanzania, so we'll treat these values like zero.\n",
        "    X['latitude'] = X['latitude'].replace(-2e-08, 0)\n",
        "    \n",
        "    # When columns have zeros and shouldn't, they are like null values.\n",
        "    # So we will replace the zeros with nulls, and impute missing values later.\n",
        "    # Also create a \"missing indicator\" column, because the fact that\n",
        "    # values are missing may be a predictive signal.\n",
        "    cols_with_zeros = ['longitude', 'latitude', 'construction_year', \n",
        "                       'gps_height', 'population']\n",
        "    for col in cols_with_zeros:\n",
        "        X[col] = X[col].replace(0, np.nan)\n",
        "        X[col+'_MISSING'] = X[col].isnull()\n",
        "            \n",
        "    # Drop duplicate columns\n",
        "    duplicates = ['quantity_group', 'payment_type']\n",
        "    X = X.drop(columns=duplicates)\n",
        "    \n",
        "    # Drop recorded_by (never varies) and id (always varies, random)\n",
        "    unusable_variance = ['recorded_by', 'id']\n",
        "    X = X.drop(columns=unusable_variance)\n",
        "    \n",
        "    # Convert date_recorded to datetime\n",
        "    X['date_recorded'] = pd.to_datetime(X['date_recorded'], infer_datetime_format=True)\n",
        "    \n",
        "    # Extract components from date_recorded, then drop the original column\n",
        "    X['year_recorded'] = X['date_recorded'].dt.year\n",
        "    X['month_recorded'] = X['date_recorded'].dt.month\n",
        "    X['day_recorded'] = X['date_recorded'].dt.day\n",
        "    X = X.drop(columns='date_recorded')\n",
        "    \n",
        "    # Engineer feature: how many years from construction_year to date_recorded\n",
        "    X['years'] = X['year_recorded'] - X['construction_year']\n",
        "    X['years_MISSING'] = X['years'].isnull()\n",
        "    \n",
        "    # return the wrangled dataframe\n",
        "    return X\n",
        "\n",
        "train = wrangle(train)\n",
        "val = wrangle(val)\n",
        "test = wrangle(test)"
      ],
      "execution_count": 0,
      "outputs": []
    },
    {
      "cell_type": "code",
      "metadata": {
        "colab_type": "code",
        "id": "m2HppBvZgLVP",
        "colab": {}
      },
      "source": [
        "# The status_group column is the target\n",
        "target = 'status_group'\n",
        "\n",
        "# Get a dataframe with all train columns except the target\n",
        "train_features = train.drop(columns=[target])\n",
        "\n",
        "# Get a list of the numeric features\n",
        "numeric_features = train_features.select_dtypes(include='number').columns.tolist()\n",
        "\n",
        "# Get a series with the cardinality of the nonnumeric features\n",
        "cardinality = train_features.select_dtypes(exclude='number').nunique()\n",
        "\n",
        "# Get a list of all categorical features with cardinality <= 50\n",
        "categorical_features = cardinality[cardinality <= 50].index.tolist()\n",
        "\n",
        "# Combine the lists \n",
        "features = numeric_features + categorical_features"
      ],
      "execution_count": 0,
      "outputs": []
    },
    {
      "cell_type": "code",
      "metadata": {
        "colab_type": "code",
        "id": "aXmK2brXgLVR",
        "colab": {}
      },
      "source": [
        "# Arrange data into X features matrix and y target vector \n",
        "X_train = train[features]\n",
        "y_train = train[target]\n",
        "X_val = val[features]\n",
        "y_val = val[target]\n",
        "X_test = test[features]"
      ],
      "execution_count": 0,
      "outputs": []
    },
    {
      "cell_type": "code",
      "metadata": {
        "id": "1FR7hmhzX1q7",
        "colab_type": "code",
        "outputId": "5323ce1f-6215-4295-a37a-21bcacd1068c",
        "colab": {
          "base_uri": "https://localhost:8080/",
          "height": 36
        }
      },
      "source": [
        "train.describe(exclude='number').T.unique.sum()"
      ],
      "execution_count": 0,
      "outputs": [
        {
          "output_type": "execute_result",
          "data": {
            "text/plain": [
              "56481"
            ]
          },
          "metadata": {
            "tags": []
          },
          "execution_count": 8
        }
      ]
    },
    {
      "cell_type": "markdown",
      "metadata": {
        "id": "XsT6ahBr9Eo-",
        "colab_type": "text"
      },
      "source": [
        "## Follow Along\n",
        "\n",
        "[Scikit-Learn User Guide: Random Forests](https://scikit-learn.org/stable/modules/ensemble.html#random-forests)"
      ]
    },
    {
      "cell_type": "code",
      "metadata": {
        "colab_type": "code",
        "id": "57yyygsdgLVW",
        "outputId": "552facae-5d47-4746-acff-3efece3d4c98",
        "colab": {
          "base_uri": "https://localhost:8080/",
          "height": 36
        }
      },
      "source": [
        "\n",
        "# WARNING: the %%time command sometimes has quirks/bugs\n",
        "\n",
        "import category_encoders as ce\n",
        "from sklearn.ensemble import RandomForestClassifier\n",
        "from sklearn.impute import SimpleImputer\n",
        "from sklearn.pipeline import make_pipeline\n",
        "\n",
        "pipeline = make_pipeline(\n",
        "    ce.OneHotEncoder(use_cat_names=True), \n",
        "    SimpleImputer(strategy='median'), \n",
        "    RandomForestClassifier(random_state=0, n_jobs=-1)\n",
        ")\n",
        "\n",
        "# Fit on train, score on val\n",
        "pipeline.fit(X_train, y_train)\n",
        "print('Validation Accuracy', pipeline.score(X_val, y_val))"
      ],
      "execution_count": 0,
      "outputs": [
        {
          "output_type": "stream",
          "text": [
            "Validation Accuracy 0.8088383838383838\n"
          ],
          "name": "stdout"
        }
      ]
    },
    {
      "cell_type": "code",
      "metadata": {
        "id": "aNufH5BOVCsj",
        "colab_type": "code",
        "outputId": "09618c94-70fb-465e-e6f7-667bb1dc23ba",
        "colab": {
          "base_uri": "https://localhost:8080/",
          "height": 36
        }
      },
      "source": [
        "print('X_train shape before encoding', X_train.shape)"
      ],
      "execution_count": 0,
      "outputs": [
        {
          "output_type": "stream",
          "text": [
            "X_train shape before encoding (47520, 38)\n"
          ],
          "name": "stdout"
        }
      ]
    },
    {
      "cell_type": "code",
      "metadata": {
        "id": "ay8iLJhtVIlQ",
        "colab_type": "code",
        "outputId": "5a911c74-d531-41ed-8237-77bb4644b34a",
        "colab": {
          "base_uri": "https://localhost:8080/",
          "height": 36
        }
      },
      "source": [
        "encoder = pipeline.named_steps['onehotencoder']\n",
        "encoded = encoder.transform(X_train)\n",
        "print('X_train shape after encoding', encoded.shape)"
      ],
      "execution_count": 0,
      "outputs": [
        {
          "output_type": "stream",
          "text": [
            "X_train shape after encoding (47520, 182)\n"
          ],
          "name": "stdout"
        }
      ]
    },
    {
      "cell_type": "code",
      "metadata": {
        "id": "LRFGlwRaVmLW",
        "colab_type": "code",
        "outputId": "0d3af4f4-7909-441d-a6ae-79fd18501160",
        "colab": {
          "base_uri": "https://localhost:8080/",
          "height": 607
        }
      },
      "source": [
        "%matplotlib inline\n",
        "import matplotlib.pyplot as plt\n",
        "\n",
        "# Get feature importances\n",
        "rf = pipeline.named_steps['randomforestclassifier']\n",
        "importances = pd.Series(rf.feature_importances_, encoded.columns)\n",
        "\n",
        "# Plot top n feature importances\n",
        "n = 20\n",
        "plt.figure(figsize=(10,n/2))\n",
        "plt.title(f'Top {n} features')\n",
        "importances.sort_values()[-n:].plot.barh();"
      ],
      "execution_count": 0,
      "outputs": [
        {
          "output_type": "display_data",
          "data": {
            "image/png": "[encoded data removed]",
            "text/plain": [
              "<Figure size 720x720 with 1 Axes>"
            ]
          },
          "metadata": {
            "tags": []
          }
        }
      ]
    },
    {
      "cell_type": "markdown",
      "metadata": {
        "colab_type": "text",
        "id": "yfyk_aa5gLVY"
      },
      "source": [
        "# Do ordinal encoding with high-cardinality categoricals"
      ]
    },
    {
      "cell_type": "markdown",
      "metadata": {
        "id": "TALhCsW09EpC",
        "colab_type": "text"
      },
      "source": [
        "## Overview\n",
        "\n",
        "http://contrib.scikit-learn.org/categorical-encoding/ordinal.html"
      ]
    },
    {
      "cell_type": "markdown",
      "metadata": {
        "id": "Xk0xQ1lM9EpC",
        "colab_type": "text"
      },
      "source": [
        "## Follow Along"
      ]
    },
    {
      "cell_type": "code",
      "metadata": {
        "colab_type": "code",
        "id": "b8d_WJtcgLVZ",
        "colab": {}
      },
      "source": [
        "# Re-arrange data into X features matrix and y target vector, so\n",
        "# we use *all* features, including the high-cardinality categoricals\n",
        "X_train = train.drop(columns=target)\n",
        "y_train = train[target]\n",
        "X_val = val.drop(columns=target)\n",
        "y_val = val[target]\n",
        "X_test = test"
      ],
      "execution_count": 0,
      "outputs": []
    },
    {
      "cell_type": "code",
      "metadata": {
        "id": "BjxV8i9daBoO",
        "colab_type": "code",
        "outputId": "b46cf08d-b6e1-4b1e-e5d3-cd9f02280323",
        "colab": {
          "base_uri": "https://localhost:8080/",
          "height": 73
        }
      },
      "source": [
        "%%time\n",
        "\n",
        "# This pipeline is ideentical to the example cell above, \n",
        "# except we're replacing one-hot encoder with \"ordinal\" encoder\n",
        "\n",
        "pipeline = make_pipeline(\n",
        "    ce.OrdinalEncoder(), \n",
        "    SimpleImputer(strategy='median'), \n",
        "    RandomForestClassifier(random_state=0, n_jobs=-1)\n",
        ")\n",
        "\n",
        "# Fit on train, score on val\n",
        "pipeline.fit(X_train, y_train)\n",
        "print('Validation Accuracy', pipeline.score(X_val, y_val))"
      ],
      "execution_count": 0,
      "outputs": [
        {
          "output_type": "stream",
          "text": [
            "Validation Accuracy 0.8092592592592592\n",
            "CPU times: user 21.3 s, sys: 149 ms, total: 21.4 s\n",
            "Wall time: 11.8 s\n"
          ],
          "name": "stdout"
        }
      ]
    },
    {
      "cell_type": "code",
      "metadata": {
        "id": "-oTJ_a9_boTQ",
        "colab_type": "code",
        "outputId": "d80dd894-490c-4c2a-f078-7898743235cb",
        "colab": {
          "base_uri": "https://localhost:8080/",
          "height": 36
        }
      },
      "source": [
        "print('X_train shape before encoding', X_train.shape)"
      ],
      "execution_count": 0,
      "outputs": [
        {
          "output_type": "stream",
          "text": [
            "X_train shape before encoding (47520, 45)\n"
          ],
          "name": "stdout"
        }
      ]
    },
    {
      "cell_type": "code",
      "metadata": {
        "id": "1BHSXBFmbtzA",
        "colab_type": "code",
        "outputId": "c788e018-01ba-4822-d265-dde2ac9f54c8",
        "colab": {
          "base_uri": "https://localhost:8080/",
          "height": 36
        }
      },
      "source": [
        "encoder = pipeline.named_steps['ordinalencoder']\n",
        "encoded = encoder.transform(X_train)\n",
        "print('X_train shape after encoding', encoded.shape)"
      ],
      "execution_count": 0,
      "outputs": [
        {
          "output_type": "stream",
          "text": [
            "X_train shape after encoding (47520, 45)\n"
          ],
          "name": "stdout"
        }
      ]
    },
    {
      "cell_type": "markdown",
      "metadata": {
        "colab_type": "text",
        "id": "xs2UPoVdgLVp"
      },
      "source": [
        "# Understand how categorical encodings affect trees differently compared to linear models"
      ]
    },
    {
      "cell_type": "markdown",
      "metadata": {
        "id": "jKbCTRg59EpH",
        "colab_type": "text"
      },
      "source": [
        "## Follow Along"
      ]
    },
    {
      "cell_type": "markdown",
      "metadata": {
        "colab_type": "text",
        "id": "z8V-A92mgLVp"
      },
      "source": [
        "### Categorical exploration, 1 feature at a time\n",
        "\n",
        "Change `feature`, then re-run these cells!"
      ]
    },
    {
      "cell_type": "code",
      "metadata": {
        "colab_type": "code",
        "id": "G35RAzVdgLVq",
        "colab": {}
      },
      "source": [
        "feature = 'extraction_type_class'"
      ],
      "execution_count": 0,
      "outputs": []
    },
    {
      "cell_type": "code",
      "metadata": {
        "colab_type": "code",
        "id": "OuxHWiH8gLVr",
        "outputId": "5a4a0600-09b5-4a4a-cfa0-5341c4072db2",
        "colab": {
          "base_uri": "https://localhost:8080/",
          "height": 167
        }
      },
      "source": [
        "\n",
        "X_train[feature].value_counts()"
      ],
      "execution_count": 0,
      "outputs": [
        {
          "output_type": "execute_result",
          "data": {
            "text/plain": [
              "gravity         21448\n",
              "handpump        13184\n",
              "other            5193\n",
              "submersible      4894\n",
              "motorpump        2355\n",
              "rope pump         353\n",
              "wind-powered       93\n",
              "Name: extraction_type_class, dtype: int64"
            ]
          },
          "metadata": {
            "tags": []
          },
          "execution_count": 18
        }
      ]
    },
    {
      "cell_type": "code",
      "metadata": {
        "colab_type": "code",
        "id": "pVxoC4NngLVt",
        "outputId": "f771fd33-1b7f-4230-9649-41ef866190e0",
        "colab": {
          "base_uri": "https://localhost:8080/",
          "height": 552
        }
      },
      "source": [
        "import seaborn as sns\n",
        "plt.figure(figsize=(16,9))\n",
        "sns.barplot(\n",
        "    x=train[feature], \n",
        "    y=train['status_group']=='functional', \n",
        "    color='grey'\n",
        ");"
      ],
      "execution_count": 0,
      "outputs": [
        {
          "output_type": "display_data",
          "data": {
            "image/png": "[encoded data removed]",
            "text/plain": [
              "<Figure size 1152x648 with 1 Axes>"
            ]
          },
          "metadata": {
            "tags": []
          }
        }
      ]
    },
    {
      "cell_type": "code",
      "metadata": {
        "colab_type": "code",
        "id": "w99mek14gLVv",
        "outputId": "6b8be198-cc45-4e33-edb5-33822265d384",
        "colab": {
          "base_uri": "https://localhost:8080/",
          "height": 410
        }
      },
      "source": [
        "X_train[feature].head(20)"
      ],
      "execution_count": 0,
      "outputs": [
        {
          "output_type": "execute_result",
          "data": {
            "text/plain": [
              "43360        gravity\n",
              "7263         gravity\n",
              "2486        handpump\n",
              "313            other\n",
              "52726      motorpump\n",
              "8558         gravity\n",
              "2559         gravity\n",
              "54735      motorpump\n",
              "25763       handpump\n",
              "44540    submersible\n",
              "28603          other\n",
              "4372     submersible\n",
              "30666        gravity\n",
              "6431     submersible\n",
              "57420          other\n",
              "1373         gravity\n",
              "2026         gravity\n",
              "58977       handpump\n",
              "41101        gravity\n",
              "10019        gravity\n",
              "Name: extraction_type_class, dtype: object"
            ]
          },
          "metadata": {
            "tags": []
          },
          "execution_count": 20
        }
      ]
    },
    {
      "cell_type": "markdown",
      "metadata": {
        "colab_type": "text",
        "id": "ezzK2IdbgLVx"
      },
      "source": [
        "### [One Hot Encoding](http://contrib.scikit-learn.org/categorical-encoding/onehot.html)\n",
        "\n",
        "> Onehot (or dummy) coding for categorical features, produces one feature per category, each binary.\n",
        "\n",
        "Warning: May run slow, or run out of memory, with high cardinality categoricals!"
      ]
    },
    {
      "cell_type": "code",
      "metadata": {
        "colab_type": "code",
        "id": "HDQZtV6GgLVy",
        "outputId": "6627c0cc-4913-417a-ff9d-1f41df1db8ca",
        "colab": {
          "base_uri": "https://localhost:8080/",
          "height": 733
        }
      },
      "source": [
        "encoder = ce.OneHotEncoder(use_cat_names=True)\n",
        "encoded = encoder.fit_transform(X_train[[feature]])\n",
        "print(f'{len(encoded.columns)} columns')\n",
        "encoded.head(20)"
      ],
      "execution_count": 0,
      "outputs": [
        {
          "output_type": "stream",
          "text": [
            "7 columns\n"
          ],
          "name": "stdout"
        },
        {
          "output_type": "execute_result",
          "data": {
            "text/html": [
              "<div>\n",
              "<style scoped>\n",
              "    .dataframe tbody tr th:only-of-type {\n",
              "        vertical-align: middle;\n",
              "    }\n",
              "\n",
              "    .dataframe tbody tr th {\n",
              "        vertical-align: top;\n",
              "    }\n",
              "\n",
              "    .dataframe thead th {\n",
              "        text-align: right;\n",
              "    }\n",
              "</style>\n",
              "<table border=\"1\" class=\"dataframe\">\n",
              "  <thead>\n",
              "    <tr style=\"text-align: right;\">\n",
              "      <th></th>\n",
              "      <th>extraction_type_class_gravity</th>\n",
              "      <th>extraction_type_class_handpump</th>\n",
              "      <th>extraction_type_class_other</th>\n",
              "      <th>extraction_type_class_motorpump</th>\n",
              "      <th>extraction_type_class_submersible</th>\n",
              "      <th>extraction_type_class_rope pump</th>\n",
              "      <th>extraction_type_class_wind-powered</th>\n",
              "    </tr>\n",
              "  </thead>\n",
              "  <tbody>\n",
              "    <tr>\n",
              "      <th>43360</th>\n",
              "      <td>1</td>\n",
              "      <td>0</td>\n",
              "      <td>0</td>\n",
              "      <td>0</td>\n",
              "      <td>0</td>\n",
              "      <td>0</td>\n",
              "      <td>0</td>\n",
              "    </tr>\n",
              "    <tr>\n",
              "      <th>7263</th>\n",
              "      <td>1</td>\n",
              "      <td>0</td>\n",
              "      <td>0</td>\n",
              "      <td>0</td>\n",
              "      <td>0</td>\n",
              "      <td>0</td>\n",
              "      <td>0</td>\n",
              "    </tr>\n",
              "    <tr>\n",
              "      <th>2486</th>\n",
              "      <td>0</td>\n",
              "      <td>1</td>\n",
              "      <td>0</td>\n",
              "      <td>0</td>\n",
              "      <td>0</td>\n",
              "      <td>0</td>\n",
              "      <td>0</td>\n",
              "    </tr>\n",
              "    <tr>\n",
              "      <th>313</th>\n",
              "      <td>0</td>\n",
              "      <td>0</td>\n",
              "      <td>1</td>\n",
              "      <td>0</td>\n",
              "      <td>0</td>\n",
              "      <td>0</td>\n",
              "      <td>0</td>\n",
              "    </tr>\n",
              "    <tr>\n",
              "      <th>52726</th>\n",
              "      <td>0</td>\n",
              "      <td>0</td>\n",
              "      <td>0</td>\n",
              "      <td>1</td>\n",
              "      <td>0</td>\n",
              "      <td>0</td>\n",
              "      <td>0</td>\n",
              "    </tr>\n",
              "    <tr>\n",
              "      <th>8558</th>\n",
              "      <td>1</td>\n",
              "      <td>0</td>\n",
              "      <td>0</td>\n",
              "      <td>0</td>\n",
              "      <td>0</td>\n",
              "      <td>0</td>\n",
              "      <td>0</td>\n",
              "    </tr>\n",
              "    <tr>\n",
              "      <th>2559</th>\n",
              "      <td>1</td>\n",
              "      <td>0</td>\n",
              "      <td>0</td>\n",
              "      <td>0</td>\n",
              "      <td>0</td>\n",
              "      <td>0</td>\n",
              "      <td>0</td>\n",
              "    </tr>\n",
              "    <tr>\n",
              "      <th>54735</th>\n",
              "      <td>0</td>\n",
              "      <td>0</td>\n",
              "      <td>0</td>\n",
              "      <td>1</td>\n",
              "      <td>0</td>\n",
              "      <td>0</td>\n",
              "      <td>0</td>\n",
              "    </tr>\n",
              "    <tr>\n",
              "      <th>25763</th>\n",
              "      <td>0</td>\n",
              "      <td>1</td>\n",
              "      <td>0</td>\n",
              "      <td>0</td>\n",
              "      <td>0</td>\n",
              "      <td>0</td>\n",
              "      <td>0</td>\n",
              "    </tr>\n",
              "    <tr>\n",
              "      <th>44540</th>\n",
              "      <td>0</td>\n",
              "      <td>0</td>\n",
              "      <td>0</td>\n",
              "      <td>0</td>\n",
              "      <td>1</td>\n",
              "      <td>0</td>\n",
              "      <td>0</td>\n",
              "    </tr>\n",
              "    <tr>\n",
              "      <th>28603</th>\n",
              "      <td>0</td>\n",
              "      <td>0</td>\n",
              "      <td>1</td>\n",
              "      <td>0</td>\n",
              "      <td>0</td>\n",
              "      <td>0</td>\n",
              "      <td>0</td>\n",
              "    </tr>\n",
              "    <tr>\n",
              "      <th>4372</th>\n",
              "      <td>0</td>\n",
              "      <td>0</td>\n",
              "      <td>0</td>\n",
              "      <td>0</td>\n",
              "      <td>1</td>\n",
              "      <td>0</td>\n",
              "      <td>0</td>\n",
              "    </tr>\n",
              "    <tr>\n",
              "      <th>30666</th>\n",
              "      <td>1</td>\n",
              "      <td>0</td>\n",
              "      <td>0</td>\n",
              "      <td>0</td>\n",
              "      <td>0</td>\n",
              "      <td>0</td>\n",
              "      <td>0</td>\n",
              "    </tr>\n",
              "    <tr>\n",
              "      <th>6431</th>\n",
              "      <td>0</td>\n",
              "      <td>0</td>\n",
              "      <td>0</td>\n",
              "      <td>0</td>\n",
              "      <td>1</td>\n",
              "      <td>0</td>\n",
              "      <td>0</td>\n",
              "    </tr>\n",
              "    <tr>\n",
              "      <th>57420</th>\n",
              "      <td>0</td>\n",
              "      <td>0</td>\n",
              "      <td>1</td>\n",
              "      <td>0</td>\n",
              "      <td>0</td>\n",
              "      <td>0</td>\n",
              "      <td>0</td>\n",
              "    </tr>\n",
              "    <tr>\n",
              "      <th>1373</th>\n",
              "      <td>1</td>\n",
              "      <td>0</td>\n",
              "      <td>0</td>\n",
              "      <td>0</td>\n",
              "      <td>0</td>\n",
              "      <td>0</td>\n",
              "      <td>0</td>\n",
              "    </tr>\n",
              "    <tr>\n",
              "      <th>2026</th>\n",
              "      <td>1</td>\n",
              "      <td>0</td>\n",
              "      <td>0</td>\n",
              "      <td>0</td>\n",
              "      <td>0</td>\n",
              "      <td>0</td>\n",
              "      <td>0</td>\n",
              "    </tr>\n",
              "    <tr>\n",
              "      <th>58977</th>\n",
              "      <td>0</td>\n",
              "      <td>1</td>\n",
              "      <td>0</td>\n",
              "      <td>0</td>\n",
              "      <td>0</td>\n",
              "      <td>0</td>\n",
              "      <td>0</td>\n",
              "    </tr>\n",
              "    <tr>\n",
              "      <th>41101</th>\n",
              "      <td>1</td>\n",
              "      <td>0</td>\n",
              "      <td>0</td>\n",
              "      <td>0</td>\n",
              "      <td>0</td>\n",
              "      <td>0</td>\n",
              "      <td>0</td>\n",
              "    </tr>\n",
              "    <tr>\n",
              "      <th>10019</th>\n",
              "      <td>1</td>\n",
              "      <td>0</td>\n",
              "      <td>0</td>\n",
              "      <td>0</td>\n",
              "      <td>0</td>\n",
              "      <td>0</td>\n",
              "      <td>0</td>\n",
              "    </tr>\n",
              "  </tbody>\n",
              "</table>\n",
              "</div>"
            ],
            "text/plain": [
              "       extraction_type_class_gravity  ...  extraction_type_class_wind-powered\n",
              "43360                              1  ...                                   0\n",
              "7263                               1  ...                                   0\n",
              "2486                               0  ...                                   0\n",
              "313                                0  ...                                   0\n",
              "52726                              0  ...                                   0\n",
              "8558                               1  ...                                   0\n",
              "2559                               1  ...                                   0\n",
              "54735                              0  ...                                   0\n",
              "25763                              0  ...                                   0\n",
              "44540                              0  ...                                   0\n",
              "28603                              0  ...                                   0\n",
              "4372                               0  ...                                   0\n",
              "30666                              1  ...                                   0\n",
              "6431                               0  ...                                   0\n",
              "57420                              0  ...                                   0\n",
              "1373                               1  ...                                   0\n",
              "2026                               1  ...                                   0\n",
              "58977                              0  ...                                   0\n",
              "41101                              1  ...                                   0\n",
              "10019                              1  ...                                   0\n",
              "\n",
              "[20 rows x 7 columns]"
            ]
          },
          "metadata": {
            "tags": []
          },
          "execution_count": 21
        }
      ]
    },
    {
      "cell_type": "markdown",
      "metadata": {
        "colab_type": "text",
        "id": "1Ql9Qmw3sNJ7"
      },
      "source": [
        "#### One-Hot Encoding, Logistic Regression, Validation Accuracy"
      ]
    },
    {
      "cell_type": "code",
      "metadata": {
        "colab_type": "code",
        "id": "mT4A-oDGpOss",
        "outputId": "6c25d521-80f9-4581-b89a-9fb05bd64378",
        "colab": {
          "base_uri": "https://localhost:8080/",
          "height": 36
        }
      },
      "source": [
        "from sklearn.linear_model import LogisticRegressionCV\n",
        "from sklearn.preprocessing import StandardScaler\n",
        "\n",
        "lr = make_pipeline(\n",
        "    ce.OneHotEncoder(use_cat_names=True), \n",
        "    SimpleImputer(), \n",
        "    StandardScaler(), \n",
        "    LogisticRegressionCV(multi_class='auto', solver='lbfgs', cv=5, n_jobs=-1)\n",
        ")\n",
        "\n",
        "lr.fit(X_train[[feature]], y_train)\n",
        "score = lr.score(X_val[[feature]], y_val)\n",
        "print('Logistic Regression, Validation Accuracy', score)"
      ],
      "execution_count": 0,
      "outputs": [
        {
          "output_type": "stream",
          "text": [
            "Logistic Regression, Validation Accuracy 0.6202861952861953\n"
          ],
          "name": "stdout"
        }
      ]
    },
    {
      "cell_type": "markdown",
      "metadata": {
        "colab_type": "text",
        "id": "EbH6wivpsRuV"
      },
      "source": [
        "#### One-Hot Encoding, Decision Tree, Validation Accuracy"
      ]
    },
    {
      "cell_type": "code",
      "metadata": {
        "colab_type": "code",
        "id": "b6KUluFOqIdK",
        "outputId": "1fcaa0cb-10e4-465f-97ca-626f72b0b1fd",
        "colab": {
          "base_uri": "https://localhost:8080/",
          "height": 36
        }
      },
      "source": [
        "from sklearn.tree import DecisionTreeClassifier\n",
        "\n",
        "dt = make_pipeline(\n",
        "    ce.OneHotEncoder(use_cat_names=True), \n",
        "    SimpleImputer(), \n",
        "    DecisionTreeClassifier(random_state=42)\n",
        ")\n",
        "\n",
        "dt.fit(X_train[[feature]], y_train)\n",
        "score = dt.score(X_val[[feature]], y_val)\n",
        "print('Decision Tree, Validation Accuracy', score)"
      ],
      "execution_count": 0,
      "outputs": [
        {
          "output_type": "stream",
          "text": [
            "Decision Tree, Validation Accuracy 0.6202861952861953\n"
          ],
          "name": "stdout"
        }
      ]
    },
    {
      "cell_type": "markdown",
      "metadata": {
        "colab_type": "text",
        "id": "8yg11_gTsUu6"
      },
      "source": [
        "#### One-Hot Encoding, Logistic Regression, Model Interpretation"
      ]
    },
    {
      "cell_type": "code",
      "metadata": {
        "colab_type": "code",
        "id": "IxHwXGRornNI",
        "outputId": "b333a92e-6a82-4ec4-e95f-84a48202d81f",
        "colab": {
          "base_uri": "https://localhost:8080/",
          "height": 265
        }
      },
      "source": [
        "model = lr.named_steps['logisticregressioncv']\n",
        "encoder = lr.named_steps['onehotencoder']\n",
        "encoded_columns = encoder.transform(X_val[[feature]]).columns\n",
        "coefficients = pd.Series(model.coef_[0], encoded_columns)\n",
        "coefficients.sort_values().plot.barh(color='grey');"
      ],
      "execution_count": 0,
      "outputs": [
        {
          "output_type": "display_data",
          "data": {
            "image/png": "[encoded data removed]",
            "text/plain": [
              "<Figure size 432x288 with 1 Axes>"
            ]
          },
          "metadata": {
            "tags": []
          }
        }
      ]
    },
    {
      "cell_type": "markdown",
      "metadata": {
        "colab_type": "text",
        "id": "0REZ8HdpsccR"
      },
      "source": [
        "#### One-Hot Encoding, Decision Tree, Model Interpretation"
      ]
    },
    {
      "cell_type": "code",
      "metadata": {
        "colab_type": "code",
        "id": "gV-grmYKpDp9",
        "outputId": "ba544541-fdb6-47cb-e545-cbcea0150a93",
        "colab": {
          "base_uri": "https://localhost:8080/",
          "height": 954
        }
      },
      "source": [
        "# Plot tree\n",
        "# https://scikit-learn.org/stable/modules/generated/sklearn.tree.export_graphviz.html\n",
        "import graphviz\n",
        "from sklearn.tree import export_graphviz\n",
        "\n",
        "model = dt.named_steps['decisiontreeclassifier']\n",
        "encoder = dt.named_steps['onehotencoder']\n",
        "encoded_columns = encoder.transform(X_val[[feature]]).columns\n",
        "\n",
        "dot_data = export_graphviz(model, \n",
        "                           out_file=None, \n",
        "                           max_depth=7, \n",
        "                           feature_names=encoded_columns,\n",
        "                           class_names=model.classes_, \n",
        "                           impurity=False, \n",
        "                           filled=True, \n",
        "                           proportion=True, \n",
        "                           rounded=True)   \n",
        "display(graphviz.Source(dot_data))"
      ],
      "execution_count": 0,
      "outputs": [
        {
          "output_type": "display_data",
          "data": {
            "text/plain": [
              "<graphviz.files.Source at 0x7f879ae7c8d0>"
            ],
            "image/svg+xml": "<?xml version=\"1.0\" encoding=\"UTF-8\" standalone=\"no\"?>\n<!DOCTYPE svg PUBLIC \"-//W3C//DTD SVG 1.1//EN\"\n \"http://www.w3.org/Graphics/SVG/1.1/DTD/svg11.dtd\">\n<!-- Generated by graphviz version 2.40.1 (20161225.0304)\n -->\n<!-- Title: Tree Pages: 1 -->\n<svg width=\"1067pt\" height=\"685pt\"\n viewBox=\"0.00 0.00 1067.00 685.00\" xmlns=\"http://www.w3.org/2000/svg\" xmlns:xlink=\"http://www.w3.org/1999/xlink\">\n<g id=\"graph0\" class=\"graph\" transform=\"scale(1 1) rotate(0) translate(4 681)\">\n<title>Tree</title>\n<polygon fill=\"#ffffff\" stroke=\"transparent\" points=\"-4,4 -4,-681 1063,-681 1063,4 -4,4\"/>\n<!-- 0 -->\n<g id=\"node1\" class=\"node\">\n<title>0</title>\n<path fill=\"#f8decc\" stroke=\"#000000\" d=\"M944.5,-677C944.5,-677 725.5,-677 725.5,-677 719.5,-677 713.5,-671 713.5,-665 713.5,-665 713.5,-621 713.5,-621 713.5,-615 719.5,-609 725.5,-609 725.5,-609 944.5,-609 944.5,-609 950.5,-609 956.5,-615 956.5,-621 956.5,-621 956.5,-665 956.5,-665 956.5,-671 950.5,-677 944.5,-677\"/>\n<text text-anchor=\"middle\" x=\"835\" y=\"-661.8\" font-family=\"Helvetica,sans-Serif\" font-size=\"14.00\" fill=\"#000000\">extraction_type_class_other &lt;= 0.5</text>\n<text text-anchor=\"middle\" x=\"835\" y=\"-646.8\" font-family=\"Helvetica,sans-Serif\" font-size=\"14.00\" fill=\"#000000\">samples = 100.0%</text>\n<text text-anchor=\"middle\" x=\"835\" y=\"-631.8\" font-family=\"Helvetica,sans-Serif\" font-size=\"14.00\" fill=\"#000000\">value = [0.543, 0.073, 0.384]</text>\n<text text-anchor=\"middle\" x=\"835\" y=\"-616.8\" font-family=\"Helvetica,sans-Serif\" font-size=\"14.00\" fill=\"#000000\">class = functional</text>\n</g>\n<!-- 1 -->\n<g id=\"node2\" class=\"node\">\n<title>1</title>\n<path fill=\"#f5ceb2\" stroke=\"#000000\" d=\"M837,-573C837,-573 577,-573 577,-573 571,-573 565,-567 565,-561 565,-561 565,-517 565,-517 565,-511 571,-505 577,-505 577,-505 837,-505 837,-505 843,-505 849,-511 849,-517 849,-517 849,-561 849,-561 849,-567 843,-573 837,-573\"/>\n<text text-anchor=\"middle\" x=\"707\" y=\"-557.8\" font-family=\"Helvetica,sans-Serif\" font-size=\"14.00\" fill=\"#000000\">extraction_type_class_motorpump &lt;= 0.5</text>\n<text text-anchor=\"middle\" x=\"707\" y=\"-542.8\" font-family=\"Helvetica,sans-Serif\" font-size=\"14.00\" fill=\"#000000\">samples = 89.1%</text>\n<text text-anchor=\"middle\" x=\"707\" y=\"-527.8\" font-family=\"Helvetica,sans-Serif\" font-size=\"14.00\" fill=\"#000000\">value = [0.59, 0.078, 0.332]</text>\n<text text-anchor=\"middle\" x=\"707\" y=\"-512.8\" font-family=\"Helvetica,sans-Serif\" font-size=\"14.00\" fill=\"#000000\">class = functional</text>\n</g>\n<!-- 0&#45;&gt;1 -->\n<g id=\"edge1\" class=\"edge\">\n<title>0&#45;&gt;1</title>\n<path fill=\"none\" stroke=\"#000000\" d=\"M793.088,-608.9465C781.485,-599.519 768.7779,-589.1946 756.7741,-579.4415\"/>\n<polygon fill=\"#000000\" stroke=\"#000000\" points=\"758.9744,-576.7196 749.0061,-573.13 754.5602,-582.1524 758.9744,-576.7196\"/>\n<text text-anchor=\"middle\" x=\"751.5786\" y=\"-594.2973\" font-family=\"Helvetica,sans-Serif\" font-size=\"14.00\" fill=\"#000000\">True</text>\n</g>\n<!-- 12 -->\n<g id=\"node13\" class=\"node\">\n<title>12</title>\n<path fill=\"#9d66eb\" stroke=\"#000000\" d=\"M1047,-565.5C1047,-565.5 879,-565.5 879,-565.5 873,-565.5 867,-559.5 867,-553.5 867,-553.5 867,-524.5 867,-524.5 867,-518.5 873,-512.5 879,-512.5 879,-512.5 1047,-512.5 1047,-512.5 1053,-512.5 1059,-518.5 1059,-524.5 1059,-524.5 1059,-553.5 1059,-553.5 1059,-559.5 1053,-565.5 1047,-565.5\"/>\n<text text-anchor=\"middle\" x=\"963\" y=\"-550.3\" font-family=\"Helvetica,sans-Serif\" font-size=\"14.00\" fill=\"#000000\">samples = 10.9%</text>\n<text text-anchor=\"middle\" x=\"963\" y=\"-535.3\" font-family=\"Helvetica,sans-Serif\" font-size=\"14.00\" fill=\"#000000\">value = [0.159, 0.031, 0.81]</text>\n<text text-anchor=\"middle\" x=\"963\" y=\"-520.3\" font-family=\"Helvetica,sans-Serif\" font-size=\"14.00\" fill=\"#000000\">class = non functional</text>\n</g>\n<!-- 0&#45;&gt;12 -->\n<g id=\"edge12\" class=\"edge\">\n<title>0&#45;&gt;12</title>\n<path fill=\"none\" stroke=\"#000000\" d=\"M876.912,-608.9465C891.5533,-597.0504 907.9526,-583.726 922.4785,-571.9237\"/>\n<polygon fill=\"#000000\" stroke=\"#000000\" points=\"924.7786,-574.5645 930.3327,-565.5422 920.3645,-569.1317 924.7786,-574.5645\"/>\n<text text-anchor=\"middle\" x=\"927.7602\" y=\"-586.7095\" font-family=\"Helvetica,sans-Serif\" font-size=\"14.00\" fill=\"#000000\">False</text>\n</g>\n<!-- 2 -->\n<g id=\"node3\" class=\"node\">\n<title>2</title>\n<path fill=\"#f4caac\" stroke=\"#000000\" d=\"M708.5,-469C708.5,-469 443.5,-469 443.5,-469 437.5,-469 431.5,-463 431.5,-457 431.5,-457 431.5,-413 431.5,-413 431.5,-407 437.5,-401 443.5,-401 443.5,-401 708.5,-401 708.5,-401 714.5,-401 720.5,-407 720.5,-413 720.5,-413 720.5,-457 720.5,-457 720.5,-463 714.5,-469 708.5,-469\"/>\n<text text-anchor=\"middle\" x=\"576\" y=\"-453.8\" font-family=\"Helvetica,sans-Serif\" font-size=\"14.00\" fill=\"#000000\">extraction_type_class_submersible &lt;= 0.5</text>\n<text text-anchor=\"middle\" x=\"576\" y=\"-438.8\" font-family=\"Helvetica,sans-Serif\" font-size=\"14.00\" fill=\"#000000\">samples = 84.1%</text>\n<text text-anchor=\"middle\" x=\"576\" y=\"-423.8\" font-family=\"Helvetica,sans-Serif\" font-size=\"14.00\" fill=\"#000000\">value = [0.603, 0.08, 0.318]</text>\n<text text-anchor=\"middle\" x=\"576\" y=\"-408.8\" font-family=\"Helvetica,sans-Serif\" font-size=\"14.00\" fill=\"#000000\">class = functional</text>\n</g>\n<!-- 1&#45;&gt;2 -->\n<g id=\"edge2\" class=\"edge\">\n<title>1&#45;&gt;2</title>\n<path fill=\"none\" stroke=\"#000000\" d=\"M664.1057,-504.9465C652.2307,-495.519 639.2259,-485.1946 626.9407,-475.4415\"/>\n<polygon fill=\"#000000\" stroke=\"#000000\" points=\"628.9989,-472.6066 618.9907,-469.13 624.6464,-478.089 628.9989,-472.6066\"/>\n</g>\n<!-- 11 -->\n<g id=\"node12\" class=\"node\">\n<title>11</title>\n<path fill=\"#d8c1f7\" stroke=\"#000000\" d=\"M927,-461.5C927,-461.5 751,-461.5 751,-461.5 745,-461.5 739,-455.5 739,-449.5 739,-449.5 739,-420.5 739,-420.5 739,-414.5 745,-408.5 751,-408.5 751,-408.5 927,-408.5 927,-408.5 933,-408.5 939,-414.5 939,-420.5 939,-420.5 939,-449.5 939,-449.5 939,-455.5 933,-461.5 927,-461.5\"/>\n<text text-anchor=\"middle\" x=\"839\" y=\"-446.3\" font-family=\"Helvetica,sans-Serif\" font-size=\"14.00\" fill=\"#000000\">samples = 5.0%</text>\n<text text-anchor=\"middle\" x=\"839\" y=\"-431.3\" font-family=\"Helvetica,sans-Serif\" font-size=\"14.00\" fill=\"#000000\">value = [0.381, 0.045, 0.574]</text>\n<text text-anchor=\"middle\" x=\"839\" y=\"-416.3\" font-family=\"Helvetica,sans-Serif\" font-size=\"14.00\" fill=\"#000000\">class = non functional</text>\n</g>\n<!-- 1&#45;&gt;11 -->\n<g id=\"edge11\" class=\"edge\">\n<title>1&#45;&gt;11</title>\n<path fill=\"none\" stroke=\"#000000\" d=\"M750.2217,-504.9465C765.3206,-493.0504 782.2324,-479.726 797.2122,-467.9237\"/>\n<polygon fill=\"#000000\" stroke=\"#000000\" points=\"799.623,-470.4802 805.3119,-461.5422 795.2909,-464.9817 799.623,-470.4802\"/>\n</g>\n<!-- 3 -->\n<g id=\"node4\" class=\"node\">\n<title>3</title>\n<path fill=\"#f4c7a8\" stroke=\"#000000\" d=\"M568.5,-365C568.5,-365 339.5,-365 339.5,-365 333.5,-365 327.5,-359 327.5,-353 327.5,-353 327.5,-309 327.5,-309 327.5,-303 333.5,-297 339.5,-297 339.5,-297 568.5,-297 568.5,-297 574.5,-297 580.5,-303 580.5,-309 580.5,-309 580.5,-353 580.5,-353 580.5,-359 574.5,-365 568.5,-365\"/>\n<text text-anchor=\"middle\" x=\"454\" y=\"-349.8\" font-family=\"Helvetica,sans-Serif\" font-size=\"14.00\" fill=\"#000000\">extraction_type_class_gravity &lt;= 0.5</text>\n<text text-anchor=\"middle\" x=\"454\" y=\"-334.8\" font-family=\"Helvetica,sans-Serif\" font-size=\"14.00\" fill=\"#000000\">samples = 73.8%</text>\n<text text-anchor=\"middle\" x=\"454\" y=\"-319.8\" font-family=\"Helvetica,sans-Serif\" font-size=\"14.00\" fill=\"#000000\">value = [0.611, 0.085, 0.304]</text>\n<text text-anchor=\"middle\" x=\"454\" y=\"-304.8\" font-family=\"Helvetica,sans-Serif\" font-size=\"14.00\" fill=\"#000000\">class = functional</text>\n</g>\n<!-- 2&#45;&gt;3 -->\n<g id=\"edge3\" class=\"edge\">\n<title>2&#45;&gt;3</title>\n<path fill=\"none\" stroke=\"#000000\" d=\"M536.0526,-400.9465C525.0988,-391.6088 513.1127,-381.3911 501.768,-371.7203\"/>\n<polygon fill=\"#000000\" stroke=\"#000000\" points=\"503.9179,-368.9538 494.0371,-365.13 499.3767,-374.2809 503.9179,-368.9538\"/>\n</g>\n<!-- 10 -->\n<g id=\"node11\" class=\"node\">\n<title>10</title>\n<path fill=\"#f9e4d5\" stroke=\"#000000\" d=\"M787,-357.5C787,-357.5 611,-357.5 611,-357.5 605,-357.5 599,-351.5 599,-345.5 599,-345.5 599,-316.5 599,-316.5 599,-310.5 605,-304.5 611,-304.5 611,-304.5 787,-304.5 787,-304.5 793,-304.5 799,-310.5 799,-316.5 799,-316.5 799,-345.5 799,-345.5 799,-351.5 793,-357.5 787,-357.5\"/>\n<text text-anchor=\"middle\" x=\"699\" y=\"-342.3\" font-family=\"Helvetica,sans-Serif\" font-size=\"14.00\" fill=\"#000000\">samples = 10.3%</text>\n<text text-anchor=\"middle\" x=\"699\" y=\"-327.3\" font-family=\"Helvetica,sans-Serif\" font-size=\"14.00\" fill=\"#000000\">value = [0.541, 0.042, 0.416]</text>\n<text text-anchor=\"middle\" x=\"699\" y=\"-312.3\" font-family=\"Helvetica,sans-Serif\" font-size=\"14.00\" fill=\"#000000\">class = functional</text>\n</g>\n<!-- 2&#45;&gt;10 -->\n<g id=\"edge10\" class=\"edge\">\n<title>2&#45;&gt;10</title>\n<path fill=\"none\" stroke=\"#000000\" d=\"M616.2748,-400.9465C630.2139,-389.1606 645.8112,-375.9726 659.6732,-364.2519\"/>\n<polygon fill=\"#000000\" stroke=\"#000000\" points=\"662.2324,-366.6715 667.6088,-357.5422 657.7127,-361.3262 662.2324,-366.6715\"/>\n</g>\n<!-- 4 -->\n<g id=\"node5\" class=\"node\">\n<title>4</title>\n<path fill=\"#f3c5a4\" stroke=\"#000000\" d=\"M458.5,-261C458.5,-261 181.5,-261 181.5,-261 175.5,-261 169.5,-255 169.5,-249 169.5,-249 169.5,-205 169.5,-205 169.5,-199 175.5,-193 181.5,-193 181.5,-193 458.5,-193 458.5,-193 464.5,-193 470.5,-199 470.5,-205 470.5,-205 470.5,-249 470.5,-249 470.5,-255 464.5,-261 458.5,-261\"/>\n<text text-anchor=\"middle\" x=\"320\" y=\"-245.8\" font-family=\"Helvetica,sans-Serif\" font-size=\"14.00\" fill=\"#000000\">extraction_type_class_wind&#45;powered &lt;= 0.5</text>\n<text text-anchor=\"middle\" x=\"320\" y=\"-230.8\" font-family=\"Helvetica,sans-Serif\" font-size=\"14.00\" fill=\"#000000\">samples = 28.7%</text>\n<text text-anchor=\"middle\" x=\"320\" y=\"-215.8\" font-family=\"Helvetica,sans-Serif\" font-size=\"14.00\" fill=\"#000000\">value = [0.629, 0.059, 0.311]</text>\n<text text-anchor=\"middle\" x=\"320\" y=\"-200.8\" font-family=\"Helvetica,sans-Serif\" font-size=\"14.00\" fill=\"#000000\">class = functional</text>\n</g>\n<!-- 3&#45;&gt;4 -->\n<g id=\"edge4\" class=\"edge\">\n<title>3&#45;&gt;4</title>\n<path fill=\"none\" stroke=\"#000000\" d=\"M410.1234,-296.9465C397.9765,-287.519 384.6738,-277.1946 372.1073,-267.4415\"/>\n<polygon fill=\"#000000\" stroke=\"#000000\" points=\"374.021,-264.4963 363.9752,-261.13 369.7291,-270.0262 374.021,-264.4963\"/>\n</g>\n<!-- 9 -->\n<g id=\"node10\" class=\"node\">\n<title>9</title>\n<path fill=\"#f4c9aa\" stroke=\"#000000\" d=\"M677,-253.5C677,-253.5 501,-253.5 501,-253.5 495,-253.5 489,-247.5 489,-241.5 489,-241.5 489,-212.5 489,-212.5 489,-206.5 495,-200.5 501,-200.5 501,-200.5 677,-200.5 677,-200.5 683,-200.5 689,-206.5 689,-212.5 689,-212.5 689,-241.5 689,-241.5 689,-247.5 683,-253.5 677,-253.5\"/>\n<text text-anchor=\"middle\" x=\"589\" y=\"-238.3\" font-family=\"Helvetica,sans-Serif\" font-size=\"14.00\" fill=\"#000000\">samples = 45.1%</text>\n<text text-anchor=\"middle\" x=\"589\" y=\"-223.3\" font-family=\"Helvetica,sans-Serif\" font-size=\"14.00\" fill=\"#000000\">value = [0.599, 0.101, 0.299]</text>\n<text text-anchor=\"middle\" x=\"589\" y=\"-208.3\" font-family=\"Helvetica,sans-Serif\" font-size=\"14.00\" fill=\"#000000\">class = functional</text>\n</g>\n<!-- 3&#45;&gt;9 -->\n<g id=\"edge9\" class=\"edge\">\n<title>3&#45;&gt;9</title>\n<path fill=\"none\" stroke=\"#000000\" d=\"M498.204,-296.9465C513.6461,-285.0504 530.9422,-271.726 546.2625,-259.9237\"/>\n<polygon fill=\"#000000\" stroke=\"#000000\" points=\"548.7603,-262.4176 554.5462,-253.5422 544.4883,-256.8723 548.7603,-262.4176\"/>\n</g>\n<!-- 5 -->\n<g id=\"node6\" class=\"node\">\n<title>5</title>\n<path fill=\"#f3c4a3\" stroke=\"#000000\" d=\"M319,-157C319,-157 63,-157 63,-157 57,-157 51,-151 51,-145 51,-145 51,-101 51,-101 51,-95 57,-89 63,-89 63,-89 319,-89 319,-89 325,-89 331,-95 331,-101 331,-101 331,-145 331,-145 331,-151 325,-157 319,-157\"/>\n<text text-anchor=\"middle\" x=\"191\" y=\"-141.8\" font-family=\"Helvetica,sans-Serif\" font-size=\"14.00\" fill=\"#000000\">extraction_type_class_rope pump &lt;= 0.5</text>\n<text text-anchor=\"middle\" x=\"191\" y=\"-126.8\" font-family=\"Helvetica,sans-Serif\" font-size=\"14.00\" fill=\"#000000\">samples = 28.5%</text>\n<text text-anchor=\"middle\" x=\"191\" y=\"-111.8\" font-family=\"Helvetica,sans-Serif\" font-size=\"14.00\" fill=\"#000000\">value = [0.631, 0.059, 0.31]</text>\n<text text-anchor=\"middle\" x=\"191\" y=\"-96.8\" font-family=\"Helvetica,sans-Serif\" font-size=\"14.00\" fill=\"#000000\">class = functional</text>\n</g>\n<!-- 4&#45;&gt;5 -->\n<g id=\"edge5\" class=\"edge\">\n<title>4&#45;&gt;5</title>\n<path fill=\"none\" stroke=\"#000000\" d=\"M277.7606,-192.9465C266.0669,-183.519 253.2606,-173.1946 241.163,-163.4415\"/>\n<polygon fill=\"#000000\" stroke=\"#000000\" points=\"243.3162,-160.6816 233.3343,-157.13 238.9227,-166.1312 243.3162,-160.6816\"/>\n</g>\n<!-- 8 -->\n<g id=\"node9\" class=\"node\">\n<title>8</title>\n<path fill=\"#f8f3fd\" stroke=\"#000000\" d=\"M537,-149.5C537,-149.5 361,-149.5 361,-149.5 355,-149.5 349,-143.5 349,-137.5 349,-137.5 349,-108.5 349,-108.5 349,-102.5 355,-96.5 361,-96.5 361,-96.5 537,-96.5 537,-96.5 543,-96.5 549,-102.5 549,-108.5 549,-108.5 549,-137.5 549,-137.5 549,-143.5 543,-149.5 537,-149.5\"/>\n<text text-anchor=\"middle\" x=\"449\" y=\"-134.3\" font-family=\"Helvetica,sans-Serif\" font-size=\"14.00\" fill=\"#000000\">samples = 0.2%</text>\n<text text-anchor=\"middle\" x=\"449\" y=\"-119.3\" font-family=\"Helvetica,sans-Serif\" font-size=\"14.00\" fill=\"#000000\">value = [0.452, 0.065, 0.484]</text>\n<text text-anchor=\"middle\" x=\"449\" y=\"-104.3\" font-family=\"Helvetica,sans-Serif\" font-size=\"14.00\" fill=\"#000000\">class = non functional</text>\n</g>\n<!-- 4&#45;&gt;8 -->\n<g id=\"edge8\" class=\"edge\">\n<title>4&#45;&gt;8</title>\n<path fill=\"none\" stroke=\"#000000\" d=\"M362.2394,-192.9465C376.9952,-181.0504 393.5225,-167.726 408.162,-155.9237\"/>\n<polygon fill=\"#000000\" stroke=\"#000000\" points=\"410.4891,-158.5433 416.0775,-149.5422 406.0957,-153.0938 410.4891,-158.5433\"/>\n</g>\n<!-- 6 -->\n<g id=\"node7\" class=\"node\">\n<title>6</title>\n<path fill=\"#f3c5a3\" stroke=\"#000000\" d=\"M164,-53C164,-53 12,-53 12,-53 6,-53 0,-47 0,-41 0,-41 0,-12 0,-12 0,-6 6,0 12,0 12,0 164,0 164,0 170,0 176,-6 176,-12 176,-12 176,-41 176,-41 176,-47 170,-53 164,-53\"/>\n<text text-anchor=\"middle\" x=\"88\" y=\"-37.8\" font-family=\"Helvetica,sans-Serif\" font-size=\"14.00\" fill=\"#000000\">samples = 27.7%</text>\n<text text-anchor=\"middle\" x=\"88\" y=\"-22.8\" font-family=\"Helvetica,sans-Serif\" font-size=\"14.00\" fill=\"#000000\">value = [0.63, 0.06, 0.31]</text>\n<text text-anchor=\"middle\" x=\"88\" y=\"-7.8\" font-family=\"Helvetica,sans-Serif\" font-size=\"14.00\" fill=\"#000000\">class = functional</text>\n</g>\n<!-- 5&#45;&gt;6 -->\n<g id=\"edge6\" class=\"edge\">\n<title>5&#45;&gt;6</title>\n<path fill=\"none\" stroke=\"#000000\" d=\"M154.6861,-88.9777C144.7168,-79.6376 133.9138,-69.5163 123.9643,-60.1947\"/>\n<polygon fill=\"#000000\" stroke=\"#000000\" points=\"126.2408,-57.5314 116.5502,-53.2485 121.4548,-62.6397 126.2408,-57.5314\"/>\n</g>\n<!-- 7 -->\n<g id=\"node8\" class=\"node\">\n<title>7</title>\n<path fill=\"#f2bf9b\" stroke=\"#000000\" d=\"M382,-53C382,-53 206,-53 206,-53 200,-53 194,-47 194,-41 194,-41 194,-12 194,-12 194,-6 200,0 206,0 206,0 382,0 382,0 388,0 394,-6 394,-12 394,-12 394,-41 394,-41 394,-47 388,-53 382,-53\"/>\n<text text-anchor=\"middle\" x=\"294\" y=\"-37.8\" font-family=\"Helvetica,sans-Serif\" font-size=\"14.00\" fill=\"#000000\">samples = 0.7%</text>\n<text text-anchor=\"middle\" x=\"294\" y=\"-22.8\" font-family=\"Helvetica,sans-Serif\" font-size=\"14.00\" fill=\"#000000\">value = [0.657, 0.037, 0.306]</text>\n<text text-anchor=\"middle\" x=\"294\" y=\"-7.8\" font-family=\"Helvetica,sans-Serif\" font-size=\"14.00\" fill=\"#000000\">class = functional</text>\n</g>\n<!-- 5&#45;&gt;7 -->\n<g id=\"edge7\" class=\"edge\">\n<title>5&#45;&gt;7</title>\n<path fill=\"none\" stroke=\"#000000\" d=\"M227.3139,-88.9777C237.2832,-79.6376 248.0862,-69.5163 258.0357,-60.1947\"/>\n<polygon fill=\"#000000\" stroke=\"#000000\" points=\"260.5452,-62.6397 265.4498,-53.2485 255.7592,-57.5314 260.5452,-62.6397\"/>\n</g>\n</g>\n</svg>\n"
          },
          "metadata": {
            "tags": []
          }
        }
      ]
    },
    {
      "cell_type": "code",
      "metadata": {
        "id": "31V7L6bVjmEA",
        "colab_type": "code",
        "outputId": "d1417053-e2dc-4a99-e278-9d284910c0c8",
        "colab": {
          "base_uri": "https://localhost:8080/",
          "height": 467
        }
      },
      "source": [
        "pipeline"
      ],
      "execution_count": 0,
      "outputs": [
        {
          "output_type": "execute_result",
          "data": {
            "text/plain": [
              "Pipeline(memory=None,\n",
              "         steps=[('ordinalencoder',\n",
              "                 OrdinalEncoder(cols=['funder', 'installer', 'wpt_name',\n",
              "                                      'basin', 'subvillage', 'region', 'lga',\n",
              "                                      'ward', 'public_meeting',\n",
              "                                      'scheme_management', 'scheme_name',\n",
              "                                      'permit', 'extraction_type',\n",
              "                                      'extraction_type_group',\n",
              "                                      'extraction_type_class', 'management',\n",
              "                                      'management_group', 'payment',\n",
              "                                      'water_quality', 'quality_group',\n",
              "                                      'quantit...\n",
              "                 RandomForestClassifier(bootstrap=True, ccp_alpha=0.0,\n",
              "                                        class_weight=None, criterion='gini',\n",
              "                                        max_depth=None, max_features='auto',\n",
              "                                        max_leaf_nodes=None, max_samples=None,\n",
              "                                        min_impurity_decrease=0.0,\n",
              "                                        min_impurity_split=None,\n",
              "                                        min_samples_leaf=1, min_samples_split=2,\n",
              "                                        min_weight_fraction_leaf=0.0,\n",
              "                                        n_estimators=100, n_jobs=-1,\n",
              "                                        oob_score=False, random_state=0,\n",
              "                                        verbose=0, warm_start=False))],\n",
              "         verbose=False)"
            ]
          },
          "metadata": {
            "tags": []
          },
          "execution_count": 26
        }
      ]
    },
    {
      "cell_type": "markdown",
      "metadata": {
        "colab_type": "text",
        "id": "QUd6gzcZgLVz"
      },
      "source": [
        "### [Ordinal Encoding](http://contrib.scikit-learn.org/categorical-encoding/ordinal.html)\n",
        "\n",
        "> Ordinal encoding uses a single column of integers to represent the classes. An optional mapping dict can be passed in; in this case, we use the knowledge that there is some true order to the classes themselves. Otherwise, the classes are assumed to have no true order and integers are selected at random."
      ]
    },
    {
      "cell_type": "code",
      "metadata": {
        "colab_type": "code",
        "id": "CnBz2RbwgLVz",
        "outputId": "db732229-680f-4d8f-f40a-2ffc65dc3547",
        "colab": {
          "base_uri": "https://localhost:8080/",
          "height": 695
        }
      },
      "source": [
        "encoder = ce.OrdinalEncoder()\n",
        "encoded = encoder.fit_transform(X_train[[feature]])\n",
        "print(f'1 column, {encoded[feature].nunique()} unique values')\n",
        "encoded.head(20)"
      ],
      "execution_count": 0,
      "outputs": [
        {
          "output_type": "stream",
          "text": [
            "1 column, 7 unique values\n"
          ],
          "name": "stdout"
        },
        {
          "output_type": "execute_result",
          "data": {
            "text/html": [
              "<div>\n",
              "<style scoped>\n",
              "    .dataframe tbody tr th:only-of-type {\n",
              "        vertical-align: middle;\n",
              "    }\n",
              "\n",
              "    .dataframe tbody tr th {\n",
              "        vertical-align: top;\n",
              "    }\n",
              "\n",
              "    .dataframe thead th {\n",
              "        text-align: right;\n",
              "    }\n",
              "</style>\n",
              "<table border=\"1\" class=\"dataframe\">\n",
              "  <thead>\n",
              "    <tr style=\"text-align: right;\">\n",
              "      <th></th>\n",
              "      <th>extraction_type_class</th>\n",
              "    </tr>\n",
              "  </thead>\n",
              "  <tbody>\n",
              "    <tr>\n",
              "      <th>43360</th>\n",
              "      <td>1</td>\n",
              "    </tr>\n",
              "    <tr>\n",
              "      <th>7263</th>\n",
              "      <td>1</td>\n",
              "    </tr>\n",
              "    <tr>\n",
              "      <th>2486</th>\n",
              "      <td>2</td>\n",
              "    </tr>\n",
              "    <tr>\n",
              "      <th>313</th>\n",
              "      <td>3</td>\n",
              "    </tr>\n",
              "    <tr>\n",
              "      <th>52726</th>\n",
              "      <td>4</td>\n",
              "    </tr>\n",
              "    <tr>\n",
              "      <th>8558</th>\n",
              "      <td>1</td>\n",
              "    </tr>\n",
              "    <tr>\n",
              "      <th>2559</th>\n",
              "      <td>1</td>\n",
              "    </tr>\n",
              "    <tr>\n",
              "      <th>54735</th>\n",
              "      <td>4</td>\n",
              "    </tr>\n",
              "    <tr>\n",
              "      <th>25763</th>\n",
              "      <td>2</td>\n",
              "    </tr>\n",
              "    <tr>\n",
              "      <th>44540</th>\n",
              "      <td>5</td>\n",
              "    </tr>\n",
              "    <tr>\n",
              "      <th>28603</th>\n",
              "      <td>3</td>\n",
              "    </tr>\n",
              "    <tr>\n",
              "      <th>4372</th>\n",
              "      <td>5</td>\n",
              "    </tr>\n",
              "    <tr>\n",
              "      <th>30666</th>\n",
              "      <td>1</td>\n",
              "    </tr>\n",
              "    <tr>\n",
              "      <th>6431</th>\n",
              "      <td>5</td>\n",
              "    </tr>\n",
              "    <tr>\n",
              "      <th>57420</th>\n",
              "      <td>3</td>\n",
              "    </tr>\n",
              "    <tr>\n",
              "      <th>1373</th>\n",
              "      <td>1</td>\n",
              "    </tr>\n",
              "    <tr>\n",
              "      <th>2026</th>\n",
              "      <td>1</td>\n",
              "    </tr>\n",
              "    <tr>\n",
              "      <th>58977</th>\n",
              "      <td>2</td>\n",
              "    </tr>\n",
              "    <tr>\n",
              "      <th>41101</th>\n",
              "      <td>1</td>\n",
              "    </tr>\n",
              "    <tr>\n",
              "      <th>10019</th>\n",
              "      <td>1</td>\n",
              "    </tr>\n",
              "  </tbody>\n",
              "</table>\n",
              "</div>"
            ],
            "text/plain": [
              "       extraction_type_class\n",
              "43360                      1\n",
              "7263                       1\n",
              "2486                       2\n",
              "313                        3\n",
              "52726                      4\n",
              "8558                       1\n",
              "2559                       1\n",
              "54735                      4\n",
              "25763                      2\n",
              "44540                      5\n",
              "28603                      3\n",
              "4372                       5\n",
              "30666                      1\n",
              "6431                       5\n",
              "57420                      3\n",
              "1373                       1\n",
              "2026                       1\n",
              "58977                      2\n",
              "41101                      1\n",
              "10019                      1"
            ]
          },
          "metadata": {
            "tags": []
          },
          "execution_count": 27
        }
      ]
    },
    {
      "cell_type": "markdown",
      "metadata": {
        "colab_type": "text",
        "id": "Nd-ZWprasqUM"
      },
      "source": [
        "#### Ordinal Encoding, Logistic Regression, Validation Accuracy"
      ]
    },
    {
      "cell_type": "code",
      "metadata": {
        "colab_type": "code",
        "id": "GJ1YpwjvrhfL",
        "outputId": "83c9d2ee-0e31-4a35-8612-8e5c38109a84",
        "colab": {
          "base_uri": "https://localhost:8080/",
          "height": 36
        }
      },
      "source": [
        "lr = make_pipeline(\n",
        "    ce.OrdinalEncoder(), \n",
        "    SimpleImputer(), \n",
        "    StandardScaler(), \n",
        "    LogisticRegressionCV(multi_class='auto', solver='lbfgs', cv=5, n_jobs=-1)\n",
        ")\n",
        "\n",
        "lr.fit(X_train[[feature]], y_train)\n",
        "score = lr.score(X_val[[feature]], y_val)\n",
        "print('Logistic Regression, Validation Accuracy', score)"
      ],
      "execution_count": 0,
      "outputs": [
        {
          "output_type": "stream",
          "text": [
            "Logistic Regression, Validation Accuracy 0.5417508417508418\n"
          ],
          "name": "stdout"
        }
      ]
    },
    {
      "cell_type": "markdown",
      "metadata": {
        "colab_type": "text",
        "id": "9lO_R3SksuHs"
      },
      "source": [
        "#### Ordinal Encoding, Decision Tree, Validation Accuracy"
      ]
    },
    {
      "cell_type": "code",
      "metadata": {
        "colab_type": "code",
        "id": "aOELD_roriVI",
        "outputId": "93a3dfec-5587-4ff8-ad93-0280e2c9bf4a",
        "colab": {
          "base_uri": "https://localhost:8080/",
          "height": 36
        }
      },
      "source": [
        "dt = make_pipeline(\n",
        "    ce.OrdinalEncoder(), \n",
        "    SimpleImputer(), \n",
        "    DecisionTreeClassifier(random_state=42)\n",
        ")\n",
        "\n",
        "dt.fit(X_train[[feature]], y_train)\n",
        "score = dt.score(X_val[[feature]], y_val)\n",
        "print('Decision Tree, Validation Accuracy', score)"
      ],
      "execution_count": 0,
      "outputs": [
        {
          "output_type": "stream",
          "text": [
            "Decision Tree, Validation Accuracy 0.6202861952861953\n"
          ],
          "name": "stdout"
        }
      ]
    },
    {
      "cell_type": "markdown",
      "metadata": {
        "colab_type": "text",
        "id": "7V2zHjiwswTg"
      },
      "source": [
        "#### Ordinal Encoding, Logistic Regression, Model Interpretation"
      ]
    },
    {
      "cell_type": "code",
      "metadata": {
        "colab_type": "code",
        "id": "S9UPYPois8QR",
        "outputId": "062a8e93-bc3b-4640-bdfd-7d293a29e6f4",
        "colab": {
          "base_uri": "https://localhost:8080/",
          "height": 265
        }
      },
      "source": [
        "model = lr.named_steps['logisticregressioncv']\n",
        "encoder = lr.named_steps['ordinalencoder']\n",
        "encoded_columns = encoder.transform(X_val[[feature]]).columns\n",
        "coefficients = pd.Series(model.coef_[0], encoded_columns)\n",
        "coefficients.sort_values().plot.barh(color='grey');"
      ],
      "execution_count": 0,
      "outputs": [
        {
          "output_type": "display_data",
          "data": {
            "image/png": "[encoded data removed]",
            "text/plain": [
              "<Figure size 432x288 with 1 Axes>"
            ]
          },
          "metadata": {
            "tags": []
          }
        }
      ]
    },
    {
      "cell_type": "markdown",
      "metadata": {
        "colab_type": "text",
        "id": "MvmmvE8fsymh"
      },
      "source": [
        "#### Ordinal Encoding, Decision Tree, Model Interpretation"
      ]
    },
    {
      "cell_type": "markdown",
      "metadata": {
        "id": "HHqWosmFp-yh",
        "colab_type": "text"
      },
      "source": [
        ""
      ]
    },
    {
      "cell_type": "code",
      "metadata": {
        "colab_type": "code",
        "id": "jCvUu4Oms88b",
        "outputId": "326757a8-fb8b-4b0b-f877-beedf8d004ea",
        "colab": {
          "base_uri": "https://localhost:8080/",
          "height": 815
        }
      },
      "source": [
        "model = dt.named_steps['decisiontreeclassifier']\n",
        "encoder = dt.named_steps['ordinalencoder']\n",
        "encoded_columns = encoder.transform(X_val[[feature]]).columns\n",
        "\n",
        "dot_data = export_graphviz(model, \n",
        "                           out_file=None, \n",
        "                           max_depth=5, \n",
        "                           feature_names=encoded_columns,\n",
        "                           class_names=model.classes_, \n",
        "                           impurity=False, \n",
        "                           filled=True, \n",
        "                           proportion=True, \n",
        "                           rounded=True)   \n",
        "display(graphviz.Source(dot_data))"
      ],
      "execution_count": 0,
      "outputs": [
        {
          "output_type": "display_data",
          "data": {
            "text/plain": [
              "<graphviz.files.Source at 0x7f87986fe048>"
            ],
            "image/svg+xml": "<?xml version=\"1.0\" encoding=\"UTF-8\" standalone=\"no\"?>\n<!DOCTYPE svg PUBLIC \"-//W3C//DTD SVG 1.1//EN\"\n \"http://www.w3.org/Graphics/SVG/1.1/DTD/svg11.dtd\">\n<!-- Generated by graphviz version 2.40.1 (20161225.0304)\n -->\n<!-- Title: Tree Pages: 1 -->\n<svg width=\"1167pt\" height=\"581pt\"\n viewBox=\"0.00 0.00 1167.00 581.00\" xmlns=\"http://www.w3.org/2000/svg\" xmlns:xlink=\"http://www.w3.org/1999/xlink\">\n<g id=\"graph0\" class=\"graph\" transform=\"scale(1 1) rotate(0) translate(4 577)\">\n<title>Tree</title>\n<polygon fill=\"#ffffff\" stroke=\"transparent\" points=\"-4,4 -4,-577 1163,-577 1163,4 -4,4\"/>\n<!-- 0 -->\n<g id=\"node1\" class=\"node\">\n<title>0</title>\n<path fill=\"#f8decc\" stroke=\"#000000\" d=\"M500,-573C500,-573 322,-573 322,-573 316,-573 310,-567 310,-561 310,-561 310,-517 310,-517 310,-511 316,-505 322,-505 322,-505 500,-505 500,-505 506,-505 512,-511 512,-517 512,-517 512,-561 512,-561 512,-567 506,-573 500,-573\"/>\n<text text-anchor=\"middle\" x=\"411\" y=\"-557.8\" font-family=\"Helvetica,sans-Serif\" font-size=\"14.00\" fill=\"#000000\">extraction_type_class &lt;= 2.5</text>\n<text text-anchor=\"middle\" x=\"411\" y=\"-542.8\" font-family=\"Helvetica,sans-Serif\" font-size=\"14.00\" fill=\"#000000\">samples = 100.0%</text>\n<text text-anchor=\"middle\" x=\"411\" y=\"-527.8\" font-family=\"Helvetica,sans-Serif\" font-size=\"14.00\" fill=\"#000000\">value = [0.543, 0.073, 0.384]</text>\n<text text-anchor=\"middle\" x=\"411\" y=\"-512.8\" font-family=\"Helvetica,sans-Serif\" font-size=\"14.00\" fill=\"#000000\">class = functional</text>\n</g>\n<!-- 1 -->\n<g id=\"node2\" class=\"node\">\n<title>1</title>\n<path fill=\"#f4c7a8\" stroke=\"#000000\" d=\"M390,-469C390,-469 212,-469 212,-469 206,-469 200,-463 200,-457 200,-457 200,-413 200,-413 200,-407 206,-401 212,-401 212,-401 390,-401 390,-401 396,-401 402,-407 402,-413 402,-413 402,-457 402,-457 402,-463 396,-469 390,-469\"/>\n<text text-anchor=\"middle\" x=\"301\" y=\"-453.8\" font-family=\"Helvetica,sans-Serif\" font-size=\"14.00\" fill=\"#000000\">extraction_type_class &lt;= 1.5</text>\n<text text-anchor=\"middle\" x=\"301\" y=\"-438.8\" font-family=\"Helvetica,sans-Serif\" font-size=\"14.00\" fill=\"#000000\">samples = 72.9%</text>\n<text text-anchor=\"middle\" x=\"301\" y=\"-423.8\" font-family=\"Helvetica,sans-Serif\" font-size=\"14.00\" fill=\"#000000\">value = [0.611, 0.085, 0.304]</text>\n<text text-anchor=\"middle\" x=\"301\" y=\"-408.8\" font-family=\"Helvetica,sans-Serif\" font-size=\"14.00\" fill=\"#000000\">class = functional</text>\n</g>\n<!-- 0&#45;&gt;1 -->\n<g id=\"edge1\" class=\"edge\">\n<title>0&#45;&gt;1</title>\n<path fill=\"none\" stroke=\"#000000\" d=\"M374.9819,-504.9465C365.2954,-495.7884 354.7136,-485.7838 344.6603,-476.2788\"/>\n<polygon fill=\"#000000\" stroke=\"#000000\" points=\"346.7701,-473.4569 337.099,-469.13 341.961,-478.5434 346.7701,-473.4569\"/>\n<text text-anchor=\"middle\" x=\"337.7997\" y=\"-490.4202\" font-family=\"Helvetica,sans-Serif\" font-size=\"14.00\" fill=\"#000000\">True</text>\n</g>\n<!-- 4 -->\n<g id=\"node5\" class=\"node\">\n<title>4</title>\n<path fill=\"#d0b4f5\" stroke=\"#000000\" d=\"M610,-469C610,-469 432,-469 432,-469 426,-469 420,-463 420,-457 420,-457 420,-413 420,-413 420,-407 426,-401 432,-401 432,-401 610,-401 610,-401 616,-401 622,-407 622,-413 622,-413 622,-457 622,-457 622,-463 616,-469 610,-469\"/>\n<text text-anchor=\"middle\" x=\"521\" y=\"-453.8\" font-family=\"Helvetica,sans-Serif\" font-size=\"14.00\" fill=\"#000000\">extraction_type_class &lt;= 3.5</text>\n<text text-anchor=\"middle\" x=\"521\" y=\"-438.8\" font-family=\"Helvetica,sans-Serif\" font-size=\"14.00\" fill=\"#000000\">samples = 27.1%</text>\n<text text-anchor=\"middle\" x=\"521\" y=\"-423.8\" font-family=\"Helvetica,sans-Serif\" font-size=\"14.00\" fill=\"#000000\">value = [0.361, 0.038, 0.601]</text>\n<text text-anchor=\"middle\" x=\"521\" y=\"-408.8\" font-family=\"Helvetica,sans-Serif\" font-size=\"14.00\" fill=\"#000000\">class = non functional</text>\n</g>\n<!-- 0&#45;&gt;4 -->\n<g id=\"edge4\" class=\"edge\">\n<title>0&#45;&gt;4</title>\n<path fill=\"none\" stroke=\"#000000\" d=\"M447.0181,-504.9465C456.7046,-495.7884 467.2864,-485.7838 477.3397,-476.2788\"/>\n<polygon fill=\"#000000\" stroke=\"#000000\" points=\"480.039,-478.5434 484.901,-469.13 475.2299,-473.4569 480.039,-478.5434\"/>\n<text text-anchor=\"middle\" x=\"484.2003\" y=\"-490.4202\" font-family=\"Helvetica,sans-Serif\" font-size=\"14.00\" fill=\"#000000\">False</text>\n</g>\n<!-- 2 -->\n<g id=\"node3\" class=\"node\">\n<title>2</title>\n<path fill=\"#f4c9aa\" stroke=\"#000000\" d=\"M188,-357.5C188,-357.5 12,-357.5 12,-357.5 6,-357.5 0,-351.5 0,-345.5 0,-345.5 0,-316.5 0,-316.5 0,-310.5 6,-304.5 12,-304.5 12,-304.5 188,-304.5 188,-304.5 194,-304.5 200,-310.5 200,-316.5 200,-316.5 200,-345.5 200,-345.5 200,-351.5 194,-357.5 188,-357.5\"/>\n<text text-anchor=\"middle\" x=\"100\" y=\"-342.3\" font-family=\"Helvetica,sans-Serif\" font-size=\"14.00\" fill=\"#000000\">samples = 45.1%</text>\n<text text-anchor=\"middle\" x=\"100\" y=\"-327.3\" font-family=\"Helvetica,sans-Serif\" font-size=\"14.00\" fill=\"#000000\">value = [0.599, 0.101, 0.299]</text>\n<text text-anchor=\"middle\" x=\"100\" y=\"-312.3\" font-family=\"Helvetica,sans-Serif\" font-size=\"14.00\" fill=\"#000000\">class = functional</text>\n</g>\n<!-- 1&#45;&gt;2 -->\n<g id=\"edge2\" class=\"edge\">\n<title>1&#45;&gt;2</title>\n<path fill=\"none\" stroke=\"#000000\" d=\"M235.1851,-400.9465C211.1292,-388.4997 184.0513,-374.4892 160.4827,-362.2946\"/>\n<polygon fill=\"#000000\" stroke=\"#000000\" points=\"161.7878,-359.0291 151.2978,-357.5422 158.571,-365.2462 161.7878,-359.0291\"/>\n</g>\n<!-- 3 -->\n<g id=\"node4\" class=\"node\">\n<title>3</title>\n<path fill=\"#f3c5a3\" stroke=\"#000000\" d=\"M382,-357.5C382,-357.5 230,-357.5 230,-357.5 224,-357.5 218,-351.5 218,-345.5 218,-345.5 218,-316.5 218,-316.5 218,-310.5 224,-304.5 230,-304.5 230,-304.5 382,-304.5 382,-304.5 388,-304.5 394,-310.5 394,-316.5 394,-316.5 394,-345.5 394,-345.5 394,-351.5 388,-357.5 382,-357.5\"/>\n<text text-anchor=\"middle\" x=\"306\" y=\"-342.3\" font-family=\"Helvetica,sans-Serif\" font-size=\"14.00\" fill=\"#000000\">samples = 27.7%</text>\n<text text-anchor=\"middle\" x=\"306\" y=\"-327.3\" font-family=\"Helvetica,sans-Serif\" font-size=\"14.00\" fill=\"#000000\">value = [0.63, 0.06, 0.31]</text>\n<text text-anchor=\"middle\" x=\"306\" y=\"-312.3\" font-family=\"Helvetica,sans-Serif\" font-size=\"14.00\" fill=\"#000000\">class = functional</text>\n</g>\n<!-- 1&#45;&gt;3 -->\n<g id=\"edge3\" class=\"edge\">\n<title>1&#45;&gt;3</title>\n<path fill=\"none\" stroke=\"#000000\" d=\"M302.6372,-400.9465C303.1509,-390.2621 303.7199,-378.4254 304.2416,-367.5742\"/>\n<polygon fill=\"#000000\" stroke=\"#000000\" points=\"307.7396,-367.6987 304.7239,-357.5422 300.7477,-367.3625 307.7396,-367.6987\"/>\n</g>\n<!-- 5 -->\n<g id=\"node6\" class=\"node\">\n<title>5</title>\n<path fill=\"#9d66eb\" stroke=\"#000000\" d=\"M601,-357.5C601,-357.5 433,-357.5 433,-357.5 427,-357.5 421,-351.5 421,-345.5 421,-345.5 421,-316.5 421,-316.5 421,-310.5 427,-304.5 433,-304.5 433,-304.5 601,-304.5 601,-304.5 607,-304.5 613,-310.5 613,-316.5 613,-316.5 613,-345.5 613,-345.5 613,-351.5 607,-357.5 601,-357.5\"/>\n<text text-anchor=\"middle\" x=\"517\" y=\"-342.3\" font-family=\"Helvetica,sans-Serif\" font-size=\"14.00\" fill=\"#000000\">samples = 10.9%</text>\n<text text-anchor=\"middle\" x=\"517\" y=\"-327.3\" font-family=\"Helvetica,sans-Serif\" font-size=\"14.00\" fill=\"#000000\">value = [0.159, 0.031, 0.81]</text>\n<text text-anchor=\"middle\" x=\"517\" y=\"-312.3\" font-family=\"Helvetica,sans-Serif\" font-size=\"14.00\" fill=\"#000000\">class = non functional</text>\n</g>\n<!-- 4&#45;&gt;5 -->\n<g id=\"edge5\" class=\"edge\">\n<title>4&#45;&gt;5</title>\n<path fill=\"none\" stroke=\"#000000\" d=\"M519.6903,-400.9465C519.2793,-390.2621 518.8241,-378.4254 518.4067,-367.5742\"/>\n<polygon fill=\"#000000\" stroke=\"#000000\" points=\"521.9027,-367.4002 518.0209,-357.5422 514.9079,-367.6693 521.9027,-367.4002\"/>\n</g>\n<!-- 6 -->\n<g id=\"node7\" class=\"node\">\n<title>6</title>\n<path fill=\"#fdf7f2\" stroke=\"#000000\" d=\"M821,-365C821,-365 643,-365 643,-365 637,-365 631,-359 631,-353 631,-353 631,-309 631,-309 631,-303 637,-297 643,-297 643,-297 821,-297 821,-297 827,-297 833,-303 833,-309 833,-309 833,-353 833,-353 833,-359 827,-365 821,-365\"/>\n<text text-anchor=\"middle\" x=\"732\" y=\"-349.8\" font-family=\"Helvetica,sans-Serif\" font-size=\"14.00\" fill=\"#000000\">extraction_type_class &lt;= 4.5</text>\n<text text-anchor=\"middle\" x=\"732\" y=\"-334.8\" font-family=\"Helvetica,sans-Serif\" font-size=\"14.00\" fill=\"#000000\">samples = 16.2%</text>\n<text text-anchor=\"middle\" x=\"732\" y=\"-319.8\" font-family=\"Helvetica,sans-Serif\" font-size=\"14.00\" fill=\"#000000\">value = [0.497, 0.043, 0.46]</text>\n<text text-anchor=\"middle\" x=\"732\" y=\"-304.8\" font-family=\"Helvetica,sans-Serif\" font-size=\"14.00\" fill=\"#000000\">class = functional</text>\n</g>\n<!-- 4&#45;&gt;6 -->\n<g id=\"edge6\" class=\"edge\">\n<title>4&#45;&gt;6</title>\n<path fill=\"none\" stroke=\"#000000\" d=\"M590.0893,-400.9465C610.4002,-390.9354 632.7633,-379.9129 653.6112,-369.6371\"/>\n<polygon fill=\"#000000\" stroke=\"#000000\" points=\"655.3332,-372.6905 662.7555,-365.13 652.2385,-366.4117 655.3332,-372.6905\"/>\n</g>\n<!-- 7 -->\n<g id=\"node8\" class=\"node\">\n<title>7</title>\n<path fill=\"#d8c1f7\" stroke=\"#000000\" d=\"M710,-253.5C710,-253.5 534,-253.5 534,-253.5 528,-253.5 522,-247.5 522,-241.5 522,-241.5 522,-212.5 522,-212.5 522,-206.5 528,-200.5 534,-200.5 534,-200.5 710,-200.5 710,-200.5 716,-200.5 722,-206.5 722,-212.5 722,-212.5 722,-241.5 722,-241.5 722,-247.5 716,-253.5 710,-253.5\"/>\n<text text-anchor=\"middle\" x=\"622\" y=\"-238.3\" font-family=\"Helvetica,sans-Serif\" font-size=\"14.00\" fill=\"#000000\">samples = 5.0%</text>\n<text text-anchor=\"middle\" x=\"622\" y=\"-223.3\" font-family=\"Helvetica,sans-Serif\" font-size=\"14.00\" fill=\"#000000\">value = [0.381, 0.045, 0.574]</text>\n<text text-anchor=\"middle\" x=\"622\" y=\"-208.3\" font-family=\"Helvetica,sans-Serif\" font-size=\"14.00\" fill=\"#000000\">class = non functional</text>\n</g>\n<!-- 6&#45;&gt;7 -->\n<g id=\"edge7\" class=\"edge\">\n<title>6&#45;&gt;7</title>\n<path fill=\"none\" stroke=\"#000000\" d=\"M695.9819,-296.9465C683.6325,-285.2707 669.8278,-272.219 657.5183,-260.5809\"/>\n<polygon fill=\"#000000\" stroke=\"#000000\" points=\"659.7445,-257.869 650.0734,-253.5422 654.9354,-262.9556 659.7445,-257.869\"/>\n</g>\n<!-- 8 -->\n<g id=\"node9\" class=\"node\">\n<title>8</title>\n<path fill=\"#f9e2d1\" stroke=\"#000000\" d=\"M930,-261C930,-261 752,-261 752,-261 746,-261 740,-255 740,-249 740,-249 740,-205 740,-205 740,-199 746,-193 752,-193 752,-193 930,-193 930,-193 936,-193 942,-199 942,-205 942,-205 942,-249 942,-249 942,-255 936,-261 930,-261\"/>\n<text text-anchor=\"middle\" x=\"841\" y=\"-245.8\" font-family=\"Helvetica,sans-Serif\" font-size=\"14.00\" fill=\"#000000\">extraction_type_class &lt;= 5.5</text>\n<text text-anchor=\"middle\" x=\"841\" y=\"-230.8\" font-family=\"Helvetica,sans-Serif\" font-size=\"14.00\" fill=\"#000000\">samples = 11.2%</text>\n<text text-anchor=\"middle\" x=\"841\" y=\"-215.8\" font-family=\"Helvetica,sans-Serif\" font-size=\"14.00\" fill=\"#000000\">value = [0.548, 0.042, 0.41]</text>\n<text text-anchor=\"middle\" x=\"841\" y=\"-200.8\" font-family=\"Helvetica,sans-Serif\" font-size=\"14.00\" fill=\"#000000\">class = functional</text>\n</g>\n<!-- 6&#45;&gt;8 -->\n<g id=\"edge8\" class=\"edge\">\n<title>6&#45;&gt;8</title>\n<path fill=\"none\" stroke=\"#000000\" d=\"M767.6907,-296.9465C777.2891,-287.7884 787.7747,-277.7838 797.7366,-268.2788\"/>\n<polygon fill=\"#000000\" stroke=\"#000000\" points=\"800.4102,-270.5655 805.2291,-261.13 795.5779,-265.5009 800.4102,-270.5655\"/>\n</g>\n<!-- 9 -->\n<g id=\"node10\" class=\"node\">\n<title>9</title>\n<path fill=\"#f9e4d5\" stroke=\"#000000\" d=\"M819,-149.5C819,-149.5 643,-149.5 643,-149.5 637,-149.5 631,-143.5 631,-137.5 631,-137.5 631,-108.5 631,-108.5 631,-102.5 637,-96.5 643,-96.5 643,-96.5 819,-96.5 819,-96.5 825,-96.5 831,-102.5 831,-108.5 831,-108.5 831,-137.5 831,-137.5 831,-143.5 825,-149.5 819,-149.5\"/>\n<text text-anchor=\"middle\" x=\"731\" y=\"-134.3\" font-family=\"Helvetica,sans-Serif\" font-size=\"14.00\" fill=\"#000000\">samples = 10.3%</text>\n<text text-anchor=\"middle\" x=\"731\" y=\"-119.3\" font-family=\"Helvetica,sans-Serif\" font-size=\"14.00\" fill=\"#000000\">value = [0.541, 0.042, 0.416]</text>\n<text text-anchor=\"middle\" x=\"731\" y=\"-104.3\" font-family=\"Helvetica,sans-Serif\" font-size=\"14.00\" fill=\"#000000\">class = functional</text>\n</g>\n<!-- 8&#45;&gt;9 -->\n<g id=\"edge9\" class=\"edge\">\n<title>8&#45;&gt;9</title>\n<path fill=\"none\" stroke=\"#000000\" d=\"M804.9819,-192.9465C792.6325,-181.2707 778.8278,-168.219 766.5183,-156.5809\"/>\n<polygon fill=\"#000000\" stroke=\"#000000\" points=\"768.7445,-153.869 759.0734,-149.5422 763.9354,-158.9556 768.7445,-153.869\"/>\n</g>\n<!-- 10 -->\n<g id=\"node11\" class=\"node\">\n<title>10</title>\n<path fill=\"#f4cbad\" stroke=\"#000000\" d=\"M1039,-157C1039,-157 861,-157 861,-157 855,-157 849,-151 849,-145 849,-145 849,-101 849,-101 849,-95 855,-89 861,-89 861,-89 1039,-89 1039,-89 1045,-89 1051,-95 1051,-101 1051,-101 1051,-145 1051,-145 1051,-151 1045,-157 1039,-157\"/>\n<text text-anchor=\"middle\" x=\"950\" y=\"-141.8\" font-family=\"Helvetica,sans-Serif\" font-size=\"14.00\" fill=\"#000000\">extraction_type_class &lt;= 6.5</text>\n<text text-anchor=\"middle\" x=\"950\" y=\"-126.8\" font-family=\"Helvetica,sans-Serif\" font-size=\"14.00\" fill=\"#000000\">samples = 0.9%</text>\n<text text-anchor=\"middle\" x=\"950\" y=\"-111.8\" font-family=\"Helvetica,sans-Serif\" font-size=\"14.00\" fill=\"#000000\">value = [0.614, 0.043, 0.343]</text>\n<text text-anchor=\"middle\" x=\"950\" y=\"-96.8\" font-family=\"Helvetica,sans-Serif\" font-size=\"14.00\" fill=\"#000000\">class = functional</text>\n</g>\n<!-- 8&#45;&gt;10 -->\n<g id=\"edge10\" class=\"edge\">\n<title>8&#45;&gt;10</title>\n<path fill=\"none\" stroke=\"#000000\" d=\"M876.6907,-192.9465C886.2891,-183.7884 896.7747,-173.7838 906.7366,-164.2788\"/>\n<polygon fill=\"#000000\" stroke=\"#000000\" points=\"909.4102,-166.5655 914.2291,-157.13 904.5779,-161.5009 909.4102,-166.5655\"/>\n</g>\n<!-- 11 -->\n<g id=\"node12\" class=\"node\">\n<title>11</title>\n<path fill=\"#f2bf9b\" stroke=\"#000000\" d=\"M929,-53C929,-53 753,-53 753,-53 747,-53 741,-47 741,-41 741,-41 741,-12 741,-12 741,-6 747,0 753,0 753,0 929,0 929,0 935,0 941,-6 941,-12 941,-12 941,-41 941,-41 941,-47 935,-53 929,-53\"/>\n<text text-anchor=\"middle\" x=\"841\" y=\"-37.8\" font-family=\"Helvetica,sans-Serif\" font-size=\"14.00\" fill=\"#000000\">samples = 0.7%</text>\n<text text-anchor=\"middle\" x=\"841\" y=\"-22.8\" font-family=\"Helvetica,sans-Serif\" font-size=\"14.00\" fill=\"#000000\">value = [0.657, 0.037, 0.306]</text>\n<text text-anchor=\"middle\" x=\"841\" y=\"-7.8\" font-family=\"Helvetica,sans-Serif\" font-size=\"14.00\" fill=\"#000000\">class = functional</text>\n</g>\n<!-- 10&#45;&gt;11 -->\n<g id=\"edge11\" class=\"edge\">\n<title>10&#45;&gt;11</title>\n<path fill=\"none\" stroke=\"#000000\" d=\"M911.5707,-88.9777C900.9173,-79.546 889.3641,-69.3178 878.7499,-59.9208\"/>\n<polygon fill=\"#000000\" stroke=\"#000000\" points=\"881.0207,-57.2566 871.2133,-53.2485 876.3806,-62.4978 881.0207,-57.2566\"/>\n</g>\n<!-- 12 -->\n<g id=\"node13\" class=\"node\">\n<title>12</title>\n<path fill=\"#f8f3fd\" stroke=\"#000000\" d=\"M1147,-53C1147,-53 971,-53 971,-53 965,-53 959,-47 959,-41 959,-41 959,-12 959,-12 959,-6 965,0 971,0 971,0 1147,0 1147,0 1153,0 1159,-6 1159,-12 1159,-12 1159,-41 1159,-41 1159,-47 1153,-53 1147,-53\"/>\n<text text-anchor=\"middle\" x=\"1059\" y=\"-37.8\" font-family=\"Helvetica,sans-Serif\" font-size=\"14.00\" fill=\"#000000\">samples = 0.2%</text>\n<text text-anchor=\"middle\" x=\"1059\" y=\"-22.8\" font-family=\"Helvetica,sans-Serif\" font-size=\"14.00\" fill=\"#000000\">value = [0.452, 0.065, 0.484]</text>\n<text text-anchor=\"middle\" x=\"1059\" y=\"-7.8\" font-family=\"Helvetica,sans-Serif\" font-size=\"14.00\" fill=\"#000000\">class = non functional</text>\n</g>\n<!-- 10&#45;&gt;12 -->\n<g id=\"edge12\" class=\"edge\">\n<title>10&#45;&gt;12</title>\n<path fill=\"none\" stroke=\"#000000\" d=\"M988.4293,-88.9777C999.0827,-79.546 1010.6359,-69.3178 1021.2501,-59.9208\"/>\n<polygon fill=\"#000000\" stroke=\"#000000\" points=\"1023.6194,-62.4978 1028.7867,-53.2485 1018.9793,-57.2566 1023.6194,-62.4978\"/>\n</g>\n</g>\n</svg>\n"
          },
          "metadata": {
            "tags": []
          }
        }
      ]
    },
    {
      "cell_type": "markdown",
      "metadata": {
        "colab_type": "text",
        "id": "P4EJi2GvgLVa"
      },
      "source": [
        "# Understand how tree ensembles reduce overfitting compared to a single decision tree with unlimited depth"
      ]
    },
    {
      "cell_type": "markdown",
      "metadata": {
        "id": "axvjYtRv9Epu",
        "colab_type": "text"
      },
      "source": [
        "## Overview"
      ]
    },
    {
      "cell_type": "markdown",
      "metadata": {
        "colab_type": "text",
        "id": "0nNABF3HgLVg"
      },
      "source": [
        "### What's \"random\" about random forests?\n",
        "1. Each tree trains on a random bootstrap sample of the data. (In scikit-learn, for `RandomForestRegressor` and `RandomForestClassifier`, the `bootstrap` parameter's default is `True`.) This type of ensembling is called Bagging. (Bootstrap AGGregatING.)\n",
        "2. Each split considers a random subset of the features. (In scikit-learn, when the `max_features` parameter is not `None`.) \n",
        "\n",
        "For extra randomness, you can try [\"extremely randomized trees\"](https://scikit-learn.org/stable/modules/ensemble.html#extremely-randomized-trees)!\n",
        "\n",
        ">In extremely randomized trees (see [ExtraTreesClassifier](https://scikit-learn.org/stable/modules/generated/sklearn.ensemble.ExtraTreesClassifier.html) and [ExtraTreesRegressor](https://scikit-learn.org/stable/modules/generated/sklearn.ensemble.ExtraTreesRegressor.html) classes), randomness goes one step further in the way splits are computed. As in random forests, a random subset of candidate features is used, but instead of looking for the most discriminative thresholds, thresholds are drawn at random for each candidate feature and the best of these randomly-generated thresholds is picked as the splitting rule. This usually allows to reduce the variance of the model a bit more, at the expense of a slightly greater increase in bias"
      ]
    },
    {
      "cell_type": "markdown",
      "metadata": {
        "id": "SABL5fg09Epv",
        "colab_type": "text"
      },
      "source": [
        "## Follow Along"
      ]
    },
    {
      "cell_type": "markdown",
      "metadata": {
        "colab_type": "text",
        "id": "pUYP619CgLVb"
      },
      "source": [
        "### Example: [predicting golf putts](https://statmodeling.stat.columbia.edu/2008/12/04/the_golf_puttin/)\n",
        "(1 feature, non-linear, regression)"
      ]
    },
    {
      "cell_type": "code",
      "metadata": {
        "colab_type": "code",
        "id": "b4640ukxgLVc",
        "colab": {}
      },
      "source": [
        "putts = pd.DataFrame(\n",
        "    columns=['distance', 'tries', 'successes'], \n",
        "    data = [[2, 1443, 1346],\n",
        "            [3, 694, 577],\n",
        "            [4, 455, 337],\n",
        "            [5, 353, 208],\n",
        "            [6, 272, 149],\n",
        "            [7, 256, 136],\n",
        "            [8, 240, 111],\n",
        "            [9, 217, 69],\n",
        "            [10, 200, 67],\n",
        "            [11, 237, 75],\n",
        "            [12, 202, 52],\n",
        "            [13, 192, 46],\n",
        "            [14, 174, 54],\n",
        "            [15, 167, 28],\n",
        "            [16, 201, 27],\n",
        "            [17, 195, 31],\n",
        "            [18, 191, 33],\n",
        "            [19, 147, 20],\n",
        "            [20, 152, 24]]\n",
        ")\n",
        "\n",
        "putts['rate of success'] = putts['successes'] / putts['tries']\n",
        "putts_X = putts[['distance']]\n",
        "putts_y = putts['rate of success']"
      ],
      "execution_count": 0,
      "outputs": []
    },
    {
      "cell_type": "code",
      "metadata": {
        "colab_type": "code",
        "id": "T0IpCcKggLVd",
        "outputId": "872dd203-c98e-485d-97c4-b0f592bf5d4c",
        "colab": {
          "base_uri": "https://localhost:8080/",
          "height": 637,
          "referenced_widgets": [
            "eaebbeed7a6f44b498df1224200cef7c",
            "863b6f76414e4364a7a29f7584e8fc7e",
            "be625c3f871f4744acedba6bff116567",
            "1d869acb698e4004bfa1781420a76355",
            "e55fd52c3d5f4490bcb091fda832b4ff",
            "f0ccdb63e1bf459694db3daf160629e7",
            "b48dc9a4baf14575a18f2d25e1b622cc",
            "f65c318c148f47a88f32f4d82160e473",
            "ee3697c6306749798b9ffce138804b88"
          ]
        }
      },
      "source": [
        "%matplotlib inline\n",
        "import matplotlib.pyplot as plt\n",
        "from ipywidgets import interact\n",
        "from sklearn.ensemble import RandomForestRegressor\n",
        "from sklearn.tree import DecisionTreeRegressor\n",
        "\n",
        "def putt_trees(max_depth=1, n_estimators=1):\n",
        "    models = [DecisionTreeRegressor(max_depth=max_depth), \n",
        "              RandomForestRegressor(max_depth=max_depth, n_estimators=n_estimators)]\n",
        "    \n",
        "    for model in models:\n",
        "        name = model.__class__.__name__\n",
        "        model.fit(putts_X, putts_y)\n",
        "        ax = putts.plot('distance', 'rate of success', kind='scatter', title=name)\n",
        "        ax.step(putts_X, model.predict(putts_X), where='mid')\n",
        "        plt.show()\n",
        "        \n",
        "interact(putt_trees, max_depth=(1,6,1), n_estimators=(10,40,10));"
      ],
      "execution_count": 0,
      "outputs": [
        {
          "output_type": "display_data",
          "data": {
            "application/vnd.jupyter.widget-view+json": {
              "model_id": "eaebbeed7a6f44b498df1224200cef7c",
              "version_minor": 0,
              "version_major": 2
            },
            "text/plain": [
              "interactive(children=(IntSlider(value=1, description='max_depth', max=6, min=1), IntSlider(value=10, descripti…"
            ]
          },
          "metadata": {
            "tags": []
          }
        }
      ]
    },
    {
      "cell_type": "markdown",
      "metadata": {
        "colab_type": "text",
        "id": "_KgZK9_9gLVh"
      },
      "source": [
        "### Bagging demo, with golf putts data\n",
        "https://pandas.pydata.org/pandas-docs/stable/reference/api/pandas.DataFrame.sample.html"
      ]
    },
    {
      "cell_type": "code",
      "metadata": {
        "colab_type": "code",
        "id": "vA9mrSTNgLVi",
        "scrolled": false,
        "outputId": "30cd8a2d-a77f-452a-8508-fbfd45ec2aef",
        "colab": {
          "base_uri": "https://localhost:8080/",
          "height": 915,
          "referenced_widgets": [
            "3a5cddce9e7845e18872eab0aa655d62",
            "5d323306b16d41a5ba16ef740cfc9820",
            "7dbfe134446c41d1a82de1b0f49ab406",
            "c39d14c9f0df4713b4895132e62c97d1",
            "4c4a9bea270249e480fdcbafdb34a101",
            "a429ce8d9d2d48bdb06a60163e8de495",
            "5247b449c8284385b5e5ebfd974032de",
            "445909e611014dfda71ffa3c8b2a678f",
            "1bcd4ee5dbce44a192a22d0709c42b2c"
          ]
        }
      },
      "source": [
        "# Do-it-yourself Bagging Ensemble of Decision Trees (like a Random Forest)\n",
        "def diy_bagging(max_depth=1, n_estimators=1):\n",
        "    y_preds = []\n",
        "    for i in range(n_estimators):\n",
        "        title = f'Tree {i+1}'\n",
        "        bootstrap_sample = putts.sample(n=len(putts), replace=True).sort_values(by='distance')\n",
        "        bootstrap_X = bootstrap_sample[['distance']]\n",
        "        bootstrap_y = bootstrap_sample['rate of success']\n",
        "        tree = DecisionTreeRegressor(max_depth=max_depth)\n",
        "        tree.fit(bootstrap_X, bootstrap_y)\n",
        "        y_pred = tree.predict(bootstrap_X)\n",
        "        y_preds.append(y_pred)\n",
        "        ax = bootstrap_sample.plot('distance', 'rate of success', kind='scatter', title=title)\n",
        "        ax.step(bootstrap_X, y_pred, where='mid')\n",
        "        plt.show()\n",
        "        \n",
        "    ensembled = np.vstack(y_preds).mean(axis=0)\n",
        "    title = f'Ensemble of {n_estimators} trees, with max_depth={max_depth}'\n",
        "    ax = putts.plot('distance', 'rate of success', kind='scatter', title=title)\n",
        "    ax.step(putts_X, ensembled, where='mid')\n",
        "    plt.show()\n",
        "    \n",
        "interact(diy_bagging, max_depth=(1,6,1), n_estimators=(2,5,1));"
      ],
      "execution_count": 0,
      "outputs": [
        {
          "output_type": "display_data",
          "data": {
            "application/vnd.jupyter.widget-view+json": {
              "model_id": "3a5cddce9e7845e18872eab0aa655d62",
              "version_minor": 0,
              "version_major": 2
            },
            "text/plain": [
              "interactive(children=(IntSlider(value=1, description='max_depth', max=6, min=1), IntSlider(value=2, descriptio…"
            ]
          },
          "metadata": {
            "tags": []
          }
        }
      ]
    },
    {
      "cell_type": "markdown",
      "metadata": {
        "colab_type": "text",
        "id": "rq4Z_wQ_gLVj"
      },
      "source": [
        "### Go back to Tanzania Waterpumps ..."
      ]
    },
    {
      "cell_type": "markdown",
      "metadata": {
        "colab_type": "text",
        "id": "FoSE9iT6YXQz"
      },
      "source": [
        "#### Helper function to visualize predicted probabilities\n",
        "\n"
      ]
    },
    {
      "cell_type": "code",
      "metadata": {
        "colab_type": "code",
        "id": "HzIAjGpJgLVj",
        "colab": {}
      },
      "source": [
        "import itertools\n",
        "import seaborn as sns\n",
        "\n",
        "def pred_heatmap(model, X, features, class_index=-1, title='', num=100):\n",
        "    \"\"\"\n",
        "    Visualize predicted probabilities, for classifier fit on 2 numeric features\n",
        "    \n",
        "    Parameters\n",
        "    ----------\n",
        "    model : scikit-learn classifier, already fit\n",
        "    X : pandas dataframe, which was used to fit model\n",
        "    features : list of strings, column names of the 2 numeric features\n",
        "    class_index : integer, index of class label\n",
        "    title : string, title of plot\n",
        "    num : int, number of grid points for each feature\n",
        "    \n",
        "    Returns\n",
        "    -------\n",
        "    y_pred_proba : numpy array, predicted probabilities for class_index\n",
        "    \"\"\"\n",
        "    feature1, feature2 = features\n",
        "    min1, max1 = X[feature1].min(), X[feature1].max()\n",
        "    min2, max2 = X[feature2].min(), X[feature2].max()\n",
        "    x1 = np.linspace(min1, max1, num)\n",
        "    x2 = np.linspace(max2, min2, num)\n",
        "    combos = list(itertools.product(x1, x2))\n",
        "    y_pred_proba = model.predict_proba(combos)[:, class_index]\n",
        "    pred_grid = y_pred_proba.reshape(num, num).T\n",
        "    table = pd.DataFrame(pred_grid, columns=x1, index=x2)\n",
        "    sns.heatmap(table, vmin=0, vmax=1)\n",
        "    plt.xticks([])\n",
        "    plt.yticks([])\n",
        "    plt.xlabel(feature1)\n",
        "    plt.ylabel(feature2)\n",
        "    plt.title(title)\n",
        "    plt.show()\n",
        "    return y_pred_proba\n"
      ],
      "execution_count": 0,
      "outputs": []
    },
    {
      "cell_type": "markdown",
      "metadata": {
        "colab_type": "text",
        "id": "DiRfPqHjgLVl"
      },
      "source": [
        "### Compare Decision Tree, Random Forest, Logistic Regression"
      ]
    },
    {
      "cell_type": "code",
      "metadata": {
        "colab_type": "code",
        "id": "HKkMLXhMgLVl",
        "outputId": "a3139d89-4d82-4631-8348-7164df11e0ab",
        "colab": {
          "base_uri": "https://localhost:8080/",
          "height": 864,
          "referenced_widgets": [
            "5f453475b20745a2ab5b877dbfea6be1",
            "f68b2ceeb4864de3a1815571b21b1dce",
            "00dc61e664484a53a48b3b7a3c27858d",
            "dd35d0a14dde4feaad6cb42cdb9ef748",
            "e05efaeab4134b128d5125e325bfb8f0",
            "99bb2121238142569c713b85b4ff5175",
            "499f922d938d40958eeed798772d9a17",
            "a6bc9ce20496419e9058264815a94cad",
            "407f0c3f4755455dac0f483c05f76b03"
          ]
        }
      },
      "source": [
        "# Instructions\n",
        "# 1. Choose two features\n",
        "# 2. Run this code cell\n",
        "# 3. Interact with the widget sliders\n",
        "feature1 = 'longitude'\n",
        "feature2 = 'quantity'\n",
        "\n",
        "from sklearn.linear_model import LogisticRegression\n",
        "from sklearn.tree import DecisionTreeClassifier\n",
        "\n",
        "def get_X_y(df, feature1, feature2, target):\n",
        "    features = [feature1, feature2]\n",
        "    X = df[features]\n",
        "    y = df[target]\n",
        "    X = X.fillna(X.median())\n",
        "    X = ce.OrdinalEncoder().fit_transform(X)\n",
        "    return X, y\n",
        "\n",
        "def compare_models(max_depth=1, n_estimators=1):\n",
        "    models = [DecisionTreeClassifier(max_depth=max_depth), \n",
        "              RandomForestClassifier(max_depth=max_depth, n_estimators=n_estimators), \n",
        "              LogisticRegression(solver='lbfgs', multi_class='auto')]\n",
        "    \n",
        "    for model in models:\n",
        "        name = model.__class__.__name__\n",
        "        model.fit(X, y)\n",
        "        pred_heatmap(model, X, [feature1, feature2], class_index=0, title=name)\n",
        "\n",
        "X, y = get_X_y(train, feature1, feature2, target='status_group')\n",
        "interact(compare_models, max_depth=(1,6,1), n_estimators=(10,40,10));"
      ],
      "execution_count": 0,
      "outputs": [
        {
          "output_type": "display_data",
          "data": {
            "application/vnd.jupyter.widget-view+json": {
              "model_id": "5f453475b20745a2ab5b877dbfea6be1",
              "version_minor": 0,
              "version_major": 2
            },
            "text/plain": [
              "interactive(children=(IntSlider(value=1, description='max_depth', max=6, min=1), IntSlider(value=10, descripti…"
            ]
          },
          "metadata": {
            "tags": []
          }
        }
      ]
    },
    {
      "cell_type": "markdown",
      "metadata": {
        "colab_type": "text",
        "id": "hOQqjLEDgLVn"
      },
      "source": [
        "### Bagging"
      ]
    },
    {
      "cell_type": "code",
      "metadata": {
        "colab_type": "code",
        "id": "Hm4aPgs2gLVn",
        "outputId": "0e8eadbd-5246-41cf-b2f6-a9cbd6719b5f",
        "colab": {
          "base_uri": "https://localhost:8080/",
          "height": 864,
          "referenced_widgets": [
            "e9d2b73ad19b4e938b29a5e53b3cfc94",
            "d3e967b42a4b47a9b4eb63ffeee4b8dc",
            "c45340470d6d4387a0c70d27bcbacabe",
            "2c4068c49e344ea79d79f89a17b17eb0",
            "300bc30d99774331bffaf393d8f90507",
            "76593b4003994c56bcf769799c4fb153",
            "a4de32f544e7441b8a3dd452893663a9",
            "d4a988b50fa44c2c8ded377a72be440c",
            "c47a2b28e8754423b6a660e64899c04e"
          ]
        }
      },
      "source": [
        "# Do-it-yourself Bagging Ensemble of Decision Trees (like a Random Forest)\n",
        "\n",
        "# Instructions\n",
        "# 1. Choose two features\n",
        "# 2. Run this code cell\n",
        "# 3. Interact with the widget sliders\n",
        "\n",
        "feature1 = 'longitude'\n",
        "feature2 = 'latitude'\n",
        "\n",
        "def waterpumps_bagging(max_depth=1, n_estimators=1):\n",
        "    predicteds = []\n",
        "    for i in range(n_estimators):\n",
        "        title = f'Tree {i+1}'\n",
        "        bootstrap_sample = train.sample(n=len(train), replace=True)\n",
        "        X, y = get_X_y(bootstrap_sample, feature1, feature2, target='status_group')\n",
        "        tree = DecisionTreeClassifier(max_depth=max_depth)\n",
        "        tree.fit(X, y)\n",
        "        predicted = pred_heatmap(tree, X, [feature1, feature2], class_index=0, title=title)\n",
        "        predicteds.append(predicted)\n",
        "    \n",
        "    ensembled = np.vstack(predicteds).mean(axis=0)\n",
        "    title = f'Ensemble of {n_estimators} trees, with max_depth={max_depth}'\n",
        "    sns.heatmap(ensembled.reshape(100, 100).T, vmin=0, vmax=1)\n",
        "    plt.title(title)\n",
        "    plt.xlabel(feature1)\n",
        "    plt.ylabel(feature2)\n",
        "    plt.xticks([])\n",
        "    plt.yticks([])\n",
        "    plt.show()\n",
        "        \n",
        "interact(waterpumps_bagging, max_depth=(1,6,1), n_estimators=(2,5,1));"
      ],
      "execution_count": 0,
      "outputs": [
        {
          "output_type": "display_data",
          "data": {
            "application/vnd.jupyter.widget-view+json": {
              "model_id": "e9d2b73ad19b4e938b29a5e53b3cfc94",
              "version_minor": 0,
              "version_major": 2
            },
            "text/plain": [
              "interactive(children=(IntSlider(value=1, description='max_depth', max=6, min=1), IntSlider(value=2, descriptio…"
            ]
          },
          "metadata": {
            "tags": []
          }
        }
      ]
    },
    {
      "cell_type": "markdown",
      "metadata": {
        "colab_type": "text",
        "id": "wYoSBi15akWP"
      },
      "source": [
        "# Review\n",
        "\n",
        "#### Try Tree Ensembles when you do machine learning with labeled, tabular data\n",
        "- \"Tree Ensembles\" means Random Forest or Gradient Boosting models. \n",
        "- [Tree Ensembles often have the best predictive accuracy](https://arxiv.org/abs/1708.05070) with labeled, tabular data.\n",
        "- Why? Because trees can fit non-linear, non-[monotonic](https://en.wikipedia.org/wiki/Monotonic_function) relationships, and [interactions](https://christophm.github.io/interpretable-ml-book/interaction.html) between features.\n",
        "- A single decision tree, grown to unlimited depth, will [overfit](http://www.r2d3.us/visual-intro-to-machine-learning-part-1/). We solve this problem by ensembling trees, with bagging (Random Forest) or boosting (Gradient Boosting).\n",
        "- Random Forest's advantage: may be less sensitive to hyperparameters. Gradient Boosting's advantage: may get better predictive accuracy.\n",
        "\n",
        "#### One-hot encoding isn’t the only way, and may not be the best way, of categorical encoding for tree ensembles.\n",
        "- For example, tree ensembles can work with arbitrary \"ordinal\" encoding! (Randomly assigning an integer to each category.) Compared to one-hot encoding, the dimensionality will be lower, and the predictive accuracy may be just as good or even better.\n"
      ]
    }
  ]
}